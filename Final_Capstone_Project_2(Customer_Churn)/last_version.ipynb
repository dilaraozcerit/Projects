{
  "cells": [
    {
      "cell_type": "markdown",
      "metadata": {
        "id": "e9d615a0"
      },
      "source": [
        "___\n",
        "\n",
        "<p style=\"text-align: center;\"><img src=\"https://docs.google.com/uc?id=1lY0Uj5R04yMY3-ZppPWxqCr5pvBLYPnV\" class=\"img-fluid\" alt=\"CLRSWY\"></p>\n",
        "\n",
        "___"
      ],
      "id": "e9d615a0"
    },
    {
      "cell_type": "markdown",
      "metadata": {
        "id": "43aae24f"
      },
      "source": [
        "# WELCOME!"
      ],
      "id": "43aae24f"
    },
    {
      "cell_type": "markdown",
      "metadata": {
        "id": "47adb5b0"
      },
      "source": [
        "Welcome to \"***Employee Churn Analysis Project***\". This is the second project of Capstone Project Series, which you will be able to build your own classification models for a variety of business settings. \n",
        "\n",
        "Also you will learn what is Employee Churn?, How it is different from customer churn, Exploratory data analysis and visualization of employee churn dataset using ***matplotlib*** and ***seaborn***, model building and evaluation using python ***scikit-learn*** package. \n",
        "\n",
        "You will be able to implement classification techniques in Python. Using Scikit-Learn allowing you to successfully make predictions with the Random Forest, Gradient Descent Boosting , KNN algorithms.\n",
        "\n",
        "At the end of the project, you will have the opportunity to deploy your model using *Streamlit*.\n",
        "\n",
        "Before diving into the project, please take a look at the determines and project structure.\n",
        "\n",
        "- NOTE: This project assumes that you already know the basics of coding in Python and are familiar with model deployement as well as the theory behind K-Means, Gradient Boosting , KNN, Random Forest, and Confusion Matrices. You can try more models and methods beside these to improve your model metrics.\n",
        "\n"
      ],
      "id": "47adb5b0"
    },
    {
      "cell_type": "markdown",
      "metadata": {
        "id": "e815e6f7"
      },
      "source": [
        "# #Determines\n",
        "In this project you have HR data of a company. A study is requested from you to predict which employee will churn by using this data.\n",
        "\n",
        "The HR dataset has 14,999 samples. In the given dataset, you have two types of employee one who stayed and another who left the company.\n",
        "\n",
        "You can describe 10 attributes in detail as:\n",
        "- ***satisfaction_level:*** It is employee satisfaction point, which ranges from 0-1.\n",
        "- ***last_evaluation:*** It is evaluated performance by the employer, which also ranges from 0-1.\n",
        "- ***number_projects:*** How many of projects assigned to an employee?\n",
        "- ***average_monthly_hours:*** How many hours in averega an employee worked in a month?\n",
        "- **time_spent_company:** time_spent_company means employee experience. The number of years spent by an employee in the company.\n",
        "- ***work_accident:*** Whether an employee has had a work accident or not.\n",
        "- ***promotion_last_5years:*** Whether an employee has had a promotion in the last 5 years or not.\n",
        "- ***Departments:*** Employee's working department/division.\n",
        "- ***Salary:*** Salary level of the employee such as low, medium and high.\n",
        "- ***left:*** Whether the employee has left the company or not.\n",
        "\n",
        "First of all, to observe the structure of the data, outliers, missing values and features that affect the target variable, you must use exploratory data analysis and data visualization techniques. \n",
        "\n",
        "Then, you must perform data pre-processing operations such as ***Scaling*** and ***Label Encoding*** to increase the accuracy score of Gradient Descent Based or Distance-Based algorithms. you are asked to perform ***Cluster Analysis*** based on the information you obtain during exploratory data analysis and data visualization processes. \n",
        "\n",
        "The purpose of clustering analysis is to cluster data with similar characteristics. You are asked to use the ***K-means*** algorithm to make cluster analysis. However, you must provide the K-means algorithm with information about the number of clusters it will make predictions. Also, the data you apply to the K-means algorithm must be scaled. In order to find the optimal number of clusters, you are asked to use the ***Elbow method***. Briefly, try to predict the set to which individuals are related by using K-means and evaluate the estimation results.\n",
        "\n",
        "Once the data is ready to be applied to the model, you must ***split the data into train and test***. Then build a model to predict whether employees will churn or not. Train your models with your train set, test the success of your model with your test set. \n",
        "\n",
        "Try to make your predictions by using the algorithms ***Gradient Boosting Classifier***, ***K Neighbors Classifier***, ***Random Forest Classifier***. You can use the related modules of the ***scikit-learn*** library. You can use scikit-learn ***Confusion Metrics*** module for accuracy calculation. You can use the ***Yellowbrick*** module for model selection and visualization.\n",
        "\n",
        "In the final step, you will deploy your model using Streamlit tool.\n",
        "\n"
      ],
      "id": "e815e6f7"
    },
    {
      "cell_type": "markdown",
      "metadata": {
        "id": "4557a22e"
      },
      "source": [
        "# #Tasks\n",
        "\n",
        "#### 1. Exploratory Data Analysis\n",
        "- Importing Modules\n",
        "- Loading Dataset\n",
        "- Data Insigts\n",
        "\n",
        "#### 2. Data Visualization\n",
        "- Employees Left\n",
        "- Determine Number of Projects\n",
        "- Determine Time Spent in Company\n",
        "- Subplots of Features\n",
        "\n",
        "#### 3. Data Pre-Processing\n",
        "- Scaling\n",
        "- Label Encoding\n",
        "\n",
        "#### 4. Cluster Analysis\n",
        "- Find the optimal number of clusters (k) using the elbow method for for K-means.\n",
        "- Determine the clusters by using K-Means then Evaluate predicted results.\n",
        "\n",
        "#### 5. Model Building\n",
        "- Split Data as Train and Test set\n",
        "- Built Gradient Boosting Classifier, Evaluate Model Performance and Predict Test Data\n",
        "- Built K Neighbors Classifier and Evaluate Model Performance and Predict Test Data\n",
        "- Built Random Forest Classifier and Evaluate Model Performance and Predict Test Data\n",
        "\n",
        "#### 6. Model Deployement\n",
        "\n",
        "- Save and Export the Model as .pkl\n",
        "- Save and Export Variables as .pkl "
      ],
      "id": "4557a22e"
    },
    {
      "cell_type": "markdown",
      "metadata": {
        "id": "e0dabdb7"
      },
      "source": [
        "## 1. Exploratory Data Analysis\n",
        "\n",
        "Exploratory Data Analysis is an initial process of analysis, in which you can summarize characteristics of data such as pattern, trends, outliers, and hypothesis testing using descriptive statistics and visualization."
      ],
      "id": "e0dabdb7"
    },
    {
      "cell_type": "markdown",
      "metadata": {
        "id": "8282b051"
      },
      "source": [
        "### Importing Modules"
      ],
      "id": "8282b051"
    },
    {
      "cell_type": "code",
      "execution_count": 150,
      "metadata": {
        "id": "d80275c1"
      },
      "outputs": [],
      "source": [
        "import pandas as pd\n",
        "import numpy as np\n",
        "import matplotlib.pyplot as plt\n",
        "import seaborn as sns\n",
        "from sklearn.preprocessing import StandardScaler\n",
        "plt.rcParams[\"figure.figsize\"] = (10,8)\n",
        "import warnings\n",
        "warnings.filterwarnings('ignore')\n",
        "warnings.warn(\"this will not show\")\n",
        "pd.set_option('display.float_format', lambda x: '%.3f' % x)"
      ],
      "id": "d80275c1"
    },
    {
      "cell_type": "markdown",
      "metadata": {
        "id": "210d1092"
      },
      "source": [
        "### Loading Dataset\n",
        "\n",
        "Let's first load the required HR dataset using pandas's \"read_csv\" function."
      ],
      "id": "210d1092"
    },
    {
      "cell_type": "code",
      "execution_count": 152,
      "metadata": {
        "id": "0fbaa5d5"
      },
      "outputs": [],
      "source": [
        "df = pd.read_csv(\"HR_Dataset.csv\")"
      ],
      "id": "0fbaa5d5"
    },
    {
      "cell_type": "code",
      "execution_count": 3,
      "metadata": {
        "id": "cf18f47f",
        "colab": {
          "base_uri": "https://localhost:8080/",
          "height": 206
        },
        "outputId": "59cee64b-5e24-4bb7-d2d2-30eb4763b0e3"
      },
      "outputs": [
        {
          "output_type": "execute_result",
          "data": {
            "text/plain": [
              "   satisfaction_level  last_evaluation  number_project  average_montly_hours  \\\n",
              "0                0.38             0.53               2                   157   \n",
              "1                0.80             0.86               5                   262   \n",
              "2                0.11             0.88               7                   272   \n",
              "3                0.72             0.87               5                   223   \n",
              "4                0.37             0.52               2                   159   \n",
              "\n",
              "   time_spend_company  Work_accident  left  promotion_last_5years  \\\n",
              "0                   3              0     1                      0   \n",
              "1                   6              0     1                      0   \n",
              "2                   4              0     1                      0   \n",
              "3                   5              0     1                      0   \n",
              "4                   3              0     1                      0   \n",
              "\n",
              "  Departments   salary  \n",
              "0        sales     low  \n",
              "1        sales  medium  \n",
              "2        sales  medium  \n",
              "3        sales     low  \n",
              "4        sales     low  "
            ],
            "text/html": [
              "\n",
              "  <div id=\"df-018384cf-b255-469f-8e68-42ebd2517d07\">\n",
              "    <div class=\"colab-df-container\">\n",
              "      <div>\n",
              "<style scoped>\n",
              "    .dataframe tbody tr th:only-of-type {\n",
              "        vertical-align: middle;\n",
              "    }\n",
              "\n",
              "    .dataframe tbody tr th {\n",
              "        vertical-align: top;\n",
              "    }\n",
              "\n",
              "    .dataframe thead th {\n",
              "        text-align: right;\n",
              "    }\n",
              "</style>\n",
              "<table border=\"1\" class=\"dataframe\">\n",
              "  <thead>\n",
              "    <tr style=\"text-align: right;\">\n",
              "      <th></th>\n",
              "      <th>satisfaction_level</th>\n",
              "      <th>last_evaluation</th>\n",
              "      <th>number_project</th>\n",
              "      <th>average_montly_hours</th>\n",
              "      <th>time_spend_company</th>\n",
              "      <th>Work_accident</th>\n",
              "      <th>left</th>\n",
              "      <th>promotion_last_5years</th>\n",
              "      <th>Departments</th>\n",
              "      <th>salary</th>\n",
              "    </tr>\n",
              "  </thead>\n",
              "  <tbody>\n",
              "    <tr>\n",
              "      <th>0</th>\n",
              "      <td>0.38</td>\n",
              "      <td>0.53</td>\n",
              "      <td>2</td>\n",
              "      <td>157</td>\n",
              "      <td>3</td>\n",
              "      <td>0</td>\n",
              "      <td>1</td>\n",
              "      <td>0</td>\n",
              "      <td>sales</td>\n",
              "      <td>low</td>\n",
              "    </tr>\n",
              "    <tr>\n",
              "      <th>1</th>\n",
              "      <td>0.80</td>\n",
              "      <td>0.86</td>\n",
              "      <td>5</td>\n",
              "      <td>262</td>\n",
              "      <td>6</td>\n",
              "      <td>0</td>\n",
              "      <td>1</td>\n",
              "      <td>0</td>\n",
              "      <td>sales</td>\n",
              "      <td>medium</td>\n",
              "    </tr>\n",
              "    <tr>\n",
              "      <th>2</th>\n",
              "      <td>0.11</td>\n",
              "      <td>0.88</td>\n",
              "      <td>7</td>\n",
              "      <td>272</td>\n",
              "      <td>4</td>\n",
              "      <td>0</td>\n",
              "      <td>1</td>\n",
              "      <td>0</td>\n",
              "      <td>sales</td>\n",
              "      <td>medium</td>\n",
              "    </tr>\n",
              "    <tr>\n",
              "      <th>3</th>\n",
              "      <td>0.72</td>\n",
              "      <td>0.87</td>\n",
              "      <td>5</td>\n",
              "      <td>223</td>\n",
              "      <td>5</td>\n",
              "      <td>0</td>\n",
              "      <td>1</td>\n",
              "      <td>0</td>\n",
              "      <td>sales</td>\n",
              "      <td>low</td>\n",
              "    </tr>\n",
              "    <tr>\n",
              "      <th>4</th>\n",
              "      <td>0.37</td>\n",
              "      <td>0.52</td>\n",
              "      <td>2</td>\n",
              "      <td>159</td>\n",
              "      <td>3</td>\n",
              "      <td>0</td>\n",
              "      <td>1</td>\n",
              "      <td>0</td>\n",
              "      <td>sales</td>\n",
              "      <td>low</td>\n",
              "    </tr>\n",
              "  </tbody>\n",
              "</table>\n",
              "</div>\n",
              "      <button class=\"colab-df-convert\" onclick=\"convertToInteractive('df-018384cf-b255-469f-8e68-42ebd2517d07')\"\n",
              "              title=\"Convert this dataframe to an interactive table.\"\n",
              "              style=\"display:none;\">\n",
              "        \n",
              "  <svg xmlns=\"http://www.w3.org/2000/svg\" height=\"24px\"viewBox=\"0 0 24 24\"\n",
              "       width=\"24px\">\n",
              "    <path d=\"M0 0h24v24H0V0z\" fill=\"none\"/>\n",
              "    <path d=\"M18.56 5.44l.94 2.06.94-2.06 2.06-.94-2.06-.94-.94-2.06-.94 2.06-2.06.94zm-11 1L8.5 8.5l.94-2.06 2.06-.94-2.06-.94L8.5 2.5l-.94 2.06-2.06.94zm10 10l.94 2.06.94-2.06 2.06-.94-2.06-.94-.94-2.06-.94 2.06-2.06.94z\"/><path d=\"M17.41 7.96l-1.37-1.37c-.4-.4-.92-.59-1.43-.59-.52 0-1.04.2-1.43.59L10.3 9.45l-7.72 7.72c-.78.78-.78 2.05 0 2.83L4 21.41c.39.39.9.59 1.41.59.51 0 1.02-.2 1.41-.59l7.78-7.78 2.81-2.81c.8-.78.8-2.07 0-2.86zM5.41 20L4 18.59l7.72-7.72 1.47 1.35L5.41 20z\"/>\n",
              "  </svg>\n",
              "      </button>\n",
              "      \n",
              "  <style>\n",
              "    .colab-df-container {\n",
              "      display:flex;\n",
              "      flex-wrap:wrap;\n",
              "      gap: 12px;\n",
              "    }\n",
              "\n",
              "    .colab-df-convert {\n",
              "      background-color: #E8F0FE;\n",
              "      border: none;\n",
              "      border-radius: 50%;\n",
              "      cursor: pointer;\n",
              "      display: none;\n",
              "      fill: #1967D2;\n",
              "      height: 32px;\n",
              "      padding: 0 0 0 0;\n",
              "      width: 32px;\n",
              "    }\n",
              "\n",
              "    .colab-df-convert:hover {\n",
              "      background-color: #E2EBFA;\n",
              "      box-shadow: 0px 1px 2px rgba(60, 64, 67, 0.3), 0px 1px 3px 1px rgba(60, 64, 67, 0.15);\n",
              "      fill: #174EA6;\n",
              "    }\n",
              "\n",
              "    [theme=dark] .colab-df-convert {\n",
              "      background-color: #3B4455;\n",
              "      fill: #D2E3FC;\n",
              "    }\n",
              "\n",
              "    [theme=dark] .colab-df-convert:hover {\n",
              "      background-color: #434B5C;\n",
              "      box-shadow: 0px 1px 3px 1px rgba(0, 0, 0, 0.15);\n",
              "      filter: drop-shadow(0px 1px 2px rgba(0, 0, 0, 0.3));\n",
              "      fill: #FFFFFF;\n",
              "    }\n",
              "  </style>\n",
              "\n",
              "      <script>\n",
              "        const buttonEl =\n",
              "          document.querySelector('#df-018384cf-b255-469f-8e68-42ebd2517d07 button.colab-df-convert');\n",
              "        buttonEl.style.display =\n",
              "          google.colab.kernel.accessAllowed ? 'block' : 'none';\n",
              "\n",
              "        async function convertToInteractive(key) {\n",
              "          const element = document.querySelector('#df-018384cf-b255-469f-8e68-42ebd2517d07');\n",
              "          const dataTable =\n",
              "            await google.colab.kernel.invokeFunction('convertToInteractive',\n",
              "                                                     [key], {});\n",
              "          if (!dataTable) return;\n",
              "\n",
              "          const docLinkHtml = 'Like what you see? Visit the ' +\n",
              "            '<a target=\"_blank\" href=https://colab.research.google.com/notebooks/data_table.ipynb>data table notebook</a>'\n",
              "            + ' to learn more about interactive tables.';\n",
              "          element.innerHTML = '';\n",
              "          dataTable['output_type'] = 'display_data';\n",
              "          await google.colab.output.renderOutput(dataTable, element);\n",
              "          const docLink = document.createElement('div');\n",
              "          docLink.innerHTML = docLinkHtml;\n",
              "          element.appendChild(docLink);\n",
              "        }\n",
              "      </script>\n",
              "    </div>\n",
              "  </div>\n",
              "  "
            ]
          },
          "metadata": {},
          "execution_count": 3
        }
      ],
      "source": [
        "df.head()"
      ],
      "id": "cf18f47f"
    },
    {
      "cell_type": "code",
      "execution_count": 4,
      "metadata": {
        "id": "94bf8f3f",
        "colab": {
          "base_uri": "https://localhost:8080/"
        },
        "outputId": "6b8b0df1-3e81-443a-8e64-4ba4cf134e7b"
      },
      "outputs": [
        {
          "output_type": "stream",
          "name": "stdout",
          "text": [
            "<class 'pandas.core.frame.DataFrame'>\n",
            "RangeIndex: 14999 entries, 0 to 14998\n",
            "Data columns (total 10 columns):\n",
            " #   Column                 Non-Null Count  Dtype  \n",
            "---  ------                 --------------  -----  \n",
            " 0   satisfaction_level     14999 non-null  float64\n",
            " 1   last_evaluation        14999 non-null  float64\n",
            " 2   number_project         14999 non-null  int64  \n",
            " 3   average_montly_hours   14999 non-null  int64  \n",
            " 4   time_spend_company     14999 non-null  int64  \n",
            " 5   Work_accident          14999 non-null  int64  \n",
            " 6   left                   14999 non-null  int64  \n",
            " 7   promotion_last_5years  14999 non-null  int64  \n",
            " 8   Departments            14999 non-null  object \n",
            " 9   salary                 14999 non-null  object \n",
            "dtypes: float64(2), int64(6), object(2)\n",
            "memory usage: 1.1+ MB\n"
          ]
        }
      ],
      "source": [
        "df.info()"
      ],
      "id": "94bf8f3f"
    },
    {
      "cell_type": "code",
      "execution_count": 5,
      "metadata": {
        "id": "27ccd950",
        "colab": {
          "base_uri": "https://localhost:8080/"
        },
        "outputId": "248d5845-3f95-465c-dc9c-5079fd5caa30"
      },
      "outputs": [
        {
          "output_type": "execute_result",
          "data": {
            "text/plain": [
              "3008"
            ]
          },
          "metadata": {},
          "execution_count": 5
        }
      ],
      "source": [
        "df.duplicated().sum()"
      ],
      "id": "27ccd950"
    },
    {
      "cell_type": "code",
      "execution_count": 157,
      "metadata": {
        "id": "ad0e9d39"
      },
      "outputs": [],
      "source": [
        "df.drop_duplicates(inplace=True)"
      ],
      "id": "ad0e9d39"
    },
    {
      "cell_type": "markdown",
      "metadata": {
        "id": "638b9203"
      },
      "source": [
        "### Data Insights\n",
        "\n",
        "In the given dataset, you have two types of employee one who stayed and another who left the company. So, you can divide data into two groups and compare their characteristics. Here, you can find the average of both the groups using groupby() and mean() function."
      ],
      "id": "638b9203"
    },
    {
      "cell_type": "code",
      "execution_count": 7,
      "metadata": {
        "id": "77b6b50d",
        "colab": {
          "base_uri": "https://localhost:8080/",
          "height": 423
        },
        "outputId": "c474f6e8-425f-4f5d-a720-599453d53163"
      },
      "outputs": [
        {
          "output_type": "execute_result",
          "data": {
            "text/plain": [
              "       satisfaction_level  last_evaluation  number_project  \\\n",
              "2000                 0.58             0.74               4   \n",
              "2001                 0.82             0.67               2   \n",
              "2002                 0.45             0.69               5   \n",
              "2003                 0.78             0.82               5   \n",
              "2004                 0.49             0.60               3   \n",
              "...                   ...              ...             ...   \n",
              "11995                0.90             0.55               3   \n",
              "11996                0.74             0.95               5   \n",
              "11997                0.85             0.54               3   \n",
              "11998                0.33             0.65               3   \n",
              "11999                0.50             0.73               4   \n",
              "\n",
              "       average_montly_hours  time_spend_company  Work_accident  left  \\\n",
              "2000                    215                   3              0     0   \n",
              "2001                    202                   3              0     0   \n",
              "2002                    193                   3              0     0   \n",
              "2003                    247                   3              0     0   \n",
              "2004                    214                   2              0     0   \n",
              "...                     ...                 ...            ...   ...   \n",
              "11995                   259                  10              1     0   \n",
              "11996                   266                  10              0     0   \n",
              "11997                   185                  10              0     0   \n",
              "11998                   172                  10              0     0   \n",
              "11999                   180                   3              0     0   \n",
              "\n",
              "       promotion_last_5years Departments  salary  \n",
              "2000                       0        sales    low  \n",
              "2001                       0        sales    low  \n",
              "2002                       0        sales    low  \n",
              "2003                       0        sales    low  \n",
              "2004                       0        sales    low  \n",
              "...                      ...          ...    ...  \n",
              "11995                      1   management   high  \n",
              "11996                      1   management   high  \n",
              "11997                      1   management   high  \n",
              "11998                      1    marketing   high  \n",
              "11999                      0           IT    low  \n",
              "\n",
              "[10000 rows x 10 columns]"
            ],
            "text/html": [
              "\n",
              "  <div id=\"df-96daec01-a904-409a-a26e-57146f72b5e6\">\n",
              "    <div class=\"colab-df-container\">\n",
              "      <div>\n",
              "<style scoped>\n",
              "    .dataframe tbody tr th:only-of-type {\n",
              "        vertical-align: middle;\n",
              "    }\n",
              "\n",
              "    .dataframe tbody tr th {\n",
              "        vertical-align: top;\n",
              "    }\n",
              "\n",
              "    .dataframe thead th {\n",
              "        text-align: right;\n",
              "    }\n",
              "</style>\n",
              "<table border=\"1\" class=\"dataframe\">\n",
              "  <thead>\n",
              "    <tr style=\"text-align: right;\">\n",
              "      <th></th>\n",
              "      <th>satisfaction_level</th>\n",
              "      <th>last_evaluation</th>\n",
              "      <th>number_project</th>\n",
              "      <th>average_montly_hours</th>\n",
              "      <th>time_spend_company</th>\n",
              "      <th>Work_accident</th>\n",
              "      <th>left</th>\n",
              "      <th>promotion_last_5years</th>\n",
              "      <th>Departments</th>\n",
              "      <th>salary</th>\n",
              "    </tr>\n",
              "  </thead>\n",
              "  <tbody>\n",
              "    <tr>\n",
              "      <th>2000</th>\n",
              "      <td>0.58</td>\n",
              "      <td>0.74</td>\n",
              "      <td>4</td>\n",
              "      <td>215</td>\n",
              "      <td>3</td>\n",
              "      <td>0</td>\n",
              "      <td>0</td>\n",
              "      <td>0</td>\n",
              "      <td>sales</td>\n",
              "      <td>low</td>\n",
              "    </tr>\n",
              "    <tr>\n",
              "      <th>2001</th>\n",
              "      <td>0.82</td>\n",
              "      <td>0.67</td>\n",
              "      <td>2</td>\n",
              "      <td>202</td>\n",
              "      <td>3</td>\n",
              "      <td>0</td>\n",
              "      <td>0</td>\n",
              "      <td>0</td>\n",
              "      <td>sales</td>\n",
              "      <td>low</td>\n",
              "    </tr>\n",
              "    <tr>\n",
              "      <th>2002</th>\n",
              "      <td>0.45</td>\n",
              "      <td>0.69</td>\n",
              "      <td>5</td>\n",
              "      <td>193</td>\n",
              "      <td>3</td>\n",
              "      <td>0</td>\n",
              "      <td>0</td>\n",
              "      <td>0</td>\n",
              "      <td>sales</td>\n",
              "      <td>low</td>\n",
              "    </tr>\n",
              "    <tr>\n",
              "      <th>2003</th>\n",
              "      <td>0.78</td>\n",
              "      <td>0.82</td>\n",
              "      <td>5</td>\n",
              "      <td>247</td>\n",
              "      <td>3</td>\n",
              "      <td>0</td>\n",
              "      <td>0</td>\n",
              "      <td>0</td>\n",
              "      <td>sales</td>\n",
              "      <td>low</td>\n",
              "    </tr>\n",
              "    <tr>\n",
              "      <th>2004</th>\n",
              "      <td>0.49</td>\n",
              "      <td>0.60</td>\n",
              "      <td>3</td>\n",
              "      <td>214</td>\n",
              "      <td>2</td>\n",
              "      <td>0</td>\n",
              "      <td>0</td>\n",
              "      <td>0</td>\n",
              "      <td>sales</td>\n",
              "      <td>low</td>\n",
              "    </tr>\n",
              "    <tr>\n",
              "      <th>...</th>\n",
              "      <td>...</td>\n",
              "      <td>...</td>\n",
              "      <td>...</td>\n",
              "      <td>...</td>\n",
              "      <td>...</td>\n",
              "      <td>...</td>\n",
              "      <td>...</td>\n",
              "      <td>...</td>\n",
              "      <td>...</td>\n",
              "      <td>...</td>\n",
              "    </tr>\n",
              "    <tr>\n",
              "      <th>11995</th>\n",
              "      <td>0.90</td>\n",
              "      <td>0.55</td>\n",
              "      <td>3</td>\n",
              "      <td>259</td>\n",
              "      <td>10</td>\n",
              "      <td>1</td>\n",
              "      <td>0</td>\n",
              "      <td>1</td>\n",
              "      <td>management</td>\n",
              "      <td>high</td>\n",
              "    </tr>\n",
              "    <tr>\n",
              "      <th>11996</th>\n",
              "      <td>0.74</td>\n",
              "      <td>0.95</td>\n",
              "      <td>5</td>\n",
              "      <td>266</td>\n",
              "      <td>10</td>\n",
              "      <td>0</td>\n",
              "      <td>0</td>\n",
              "      <td>1</td>\n",
              "      <td>management</td>\n",
              "      <td>high</td>\n",
              "    </tr>\n",
              "    <tr>\n",
              "      <th>11997</th>\n",
              "      <td>0.85</td>\n",
              "      <td>0.54</td>\n",
              "      <td>3</td>\n",
              "      <td>185</td>\n",
              "      <td>10</td>\n",
              "      <td>0</td>\n",
              "      <td>0</td>\n",
              "      <td>1</td>\n",
              "      <td>management</td>\n",
              "      <td>high</td>\n",
              "    </tr>\n",
              "    <tr>\n",
              "      <th>11998</th>\n",
              "      <td>0.33</td>\n",
              "      <td>0.65</td>\n",
              "      <td>3</td>\n",
              "      <td>172</td>\n",
              "      <td>10</td>\n",
              "      <td>0</td>\n",
              "      <td>0</td>\n",
              "      <td>1</td>\n",
              "      <td>marketing</td>\n",
              "      <td>high</td>\n",
              "    </tr>\n",
              "    <tr>\n",
              "      <th>11999</th>\n",
              "      <td>0.50</td>\n",
              "      <td>0.73</td>\n",
              "      <td>4</td>\n",
              "      <td>180</td>\n",
              "      <td>3</td>\n",
              "      <td>0</td>\n",
              "      <td>0</td>\n",
              "      <td>0</td>\n",
              "      <td>IT</td>\n",
              "      <td>low</td>\n",
              "    </tr>\n",
              "  </tbody>\n",
              "</table>\n",
              "<p>10000 rows × 10 columns</p>\n",
              "</div>\n",
              "      <button class=\"colab-df-convert\" onclick=\"convertToInteractive('df-96daec01-a904-409a-a26e-57146f72b5e6')\"\n",
              "              title=\"Convert this dataframe to an interactive table.\"\n",
              "              style=\"display:none;\">\n",
              "        \n",
              "  <svg xmlns=\"http://www.w3.org/2000/svg\" height=\"24px\"viewBox=\"0 0 24 24\"\n",
              "       width=\"24px\">\n",
              "    <path d=\"M0 0h24v24H0V0z\" fill=\"none\"/>\n",
              "    <path d=\"M18.56 5.44l.94 2.06.94-2.06 2.06-.94-2.06-.94-.94-2.06-.94 2.06-2.06.94zm-11 1L8.5 8.5l.94-2.06 2.06-.94-2.06-.94L8.5 2.5l-.94 2.06-2.06.94zm10 10l.94 2.06.94-2.06 2.06-.94-2.06-.94-.94-2.06-.94 2.06-2.06.94z\"/><path d=\"M17.41 7.96l-1.37-1.37c-.4-.4-.92-.59-1.43-.59-.52 0-1.04.2-1.43.59L10.3 9.45l-7.72 7.72c-.78.78-.78 2.05 0 2.83L4 21.41c.39.39.9.59 1.41.59.51 0 1.02-.2 1.41-.59l7.78-7.78 2.81-2.81c.8-.78.8-2.07 0-2.86zM5.41 20L4 18.59l7.72-7.72 1.47 1.35L5.41 20z\"/>\n",
              "  </svg>\n",
              "      </button>\n",
              "      \n",
              "  <style>\n",
              "    .colab-df-container {\n",
              "      display:flex;\n",
              "      flex-wrap:wrap;\n",
              "      gap: 12px;\n",
              "    }\n",
              "\n",
              "    .colab-df-convert {\n",
              "      background-color: #E8F0FE;\n",
              "      border: none;\n",
              "      border-radius: 50%;\n",
              "      cursor: pointer;\n",
              "      display: none;\n",
              "      fill: #1967D2;\n",
              "      height: 32px;\n",
              "      padding: 0 0 0 0;\n",
              "      width: 32px;\n",
              "    }\n",
              "\n",
              "    .colab-df-convert:hover {\n",
              "      background-color: #E2EBFA;\n",
              "      box-shadow: 0px 1px 2px rgba(60, 64, 67, 0.3), 0px 1px 3px 1px rgba(60, 64, 67, 0.15);\n",
              "      fill: #174EA6;\n",
              "    }\n",
              "\n",
              "    [theme=dark] .colab-df-convert {\n",
              "      background-color: #3B4455;\n",
              "      fill: #D2E3FC;\n",
              "    }\n",
              "\n",
              "    [theme=dark] .colab-df-convert:hover {\n",
              "      background-color: #434B5C;\n",
              "      box-shadow: 0px 1px 3px 1px rgba(0, 0, 0, 0.15);\n",
              "      filter: drop-shadow(0px 1px 2px rgba(0, 0, 0, 0.3));\n",
              "      fill: #FFFFFF;\n",
              "    }\n",
              "  </style>\n",
              "\n",
              "      <script>\n",
              "        const buttonEl =\n",
              "          document.querySelector('#df-96daec01-a904-409a-a26e-57146f72b5e6 button.colab-df-convert');\n",
              "        buttonEl.style.display =\n",
              "          google.colab.kernel.accessAllowed ? 'block' : 'none';\n",
              "\n",
              "        async function convertToInteractive(key) {\n",
              "          const element = document.querySelector('#df-96daec01-a904-409a-a26e-57146f72b5e6');\n",
              "          const dataTable =\n",
              "            await google.colab.kernel.invokeFunction('convertToInteractive',\n",
              "                                                     [key], {});\n",
              "          if (!dataTable) return;\n",
              "\n",
              "          const docLinkHtml = 'Like what you see? Visit the ' +\n",
              "            '<a target=\"_blank\" href=https://colab.research.google.com/notebooks/data_table.ipynb>data table notebook</a>'\n",
              "            + ' to learn more about interactive tables.';\n",
              "          element.innerHTML = '';\n",
              "          dataTable['output_type'] = 'display_data';\n",
              "          await google.colab.output.renderOutput(dataTable, element);\n",
              "          const docLink = document.createElement('div');\n",
              "          docLink.innerHTML = docLinkHtml;\n",
              "          element.appendChild(docLink);\n",
              "        }\n",
              "      </script>\n",
              "    </div>\n",
              "  </div>\n",
              "  "
            ]
          },
          "metadata": {},
          "execution_count": 7
        }
      ],
      "source": [
        "stayed = df[df.left == 0]\n",
        "stayed"
      ],
      "id": "77b6b50d"
    },
    {
      "cell_type": "code",
      "execution_count": 8,
      "metadata": {
        "id": "c8fc9281",
        "colab": {
          "base_uri": "https://localhost:8080/",
          "height": 300
        },
        "outputId": "3d1d4944-1499-4583-f06f-0ab74ffffdd4"
      },
      "outputs": [
        {
          "output_type": "execute_result",
          "data": {
            "text/plain": [
              "                         count        mean        std    min     25%     50%  \\\n",
              "satisfaction_level     10000.0    0.667365   0.217082   0.12    0.54    0.69   \n",
              "last_evaluation        10000.0    0.715667   0.161919   0.36    0.58    0.71   \n",
              "number_project         10000.0    3.786800   0.981755   2.00    3.00    4.00   \n",
              "average_montly_hours   10000.0  198.942700  45.665507  96.00  162.00  198.00   \n",
              "time_spend_company     10000.0    3.262000   1.367239   2.00    2.00    3.00   \n",
              "Work_accident          10000.0    0.174500   0.379558   0.00    0.00    0.00   \n",
              "left                   10000.0    0.000000   0.000000   0.00    0.00    0.00   \n",
              "promotion_last_5years  10000.0    0.019500   0.138281   0.00    0.00    0.00   \n",
              "\n",
              "                          75%    max  \n",
              "satisfaction_level       0.84    1.0  \n",
              "last_evaluation          0.85    1.0  \n",
              "number_project           4.00    6.0  \n",
              "average_montly_hours   238.00  287.0  \n",
              "time_spend_company       4.00   10.0  \n",
              "Work_accident            0.00    1.0  \n",
              "left                     0.00    0.0  \n",
              "promotion_last_5years    0.00    1.0  "
            ],
            "text/html": [
              "\n",
              "  <div id=\"df-b7300186-bf04-4d11-8a2f-d9523e119026\">\n",
              "    <div class=\"colab-df-container\">\n",
              "      <div>\n",
              "<style scoped>\n",
              "    .dataframe tbody tr th:only-of-type {\n",
              "        vertical-align: middle;\n",
              "    }\n",
              "\n",
              "    .dataframe tbody tr th {\n",
              "        vertical-align: top;\n",
              "    }\n",
              "\n",
              "    .dataframe thead th {\n",
              "        text-align: right;\n",
              "    }\n",
              "</style>\n",
              "<table border=\"1\" class=\"dataframe\">\n",
              "  <thead>\n",
              "    <tr style=\"text-align: right;\">\n",
              "      <th></th>\n",
              "      <th>count</th>\n",
              "      <th>mean</th>\n",
              "      <th>std</th>\n",
              "      <th>min</th>\n",
              "      <th>25%</th>\n",
              "      <th>50%</th>\n",
              "      <th>75%</th>\n",
              "      <th>max</th>\n",
              "    </tr>\n",
              "  </thead>\n",
              "  <tbody>\n",
              "    <tr>\n",
              "      <th>satisfaction_level</th>\n",
              "      <td>10000.0</td>\n",
              "      <td>0.667365</td>\n",
              "      <td>0.217082</td>\n",
              "      <td>0.12</td>\n",
              "      <td>0.54</td>\n",
              "      <td>0.69</td>\n",
              "      <td>0.84</td>\n",
              "      <td>1.0</td>\n",
              "    </tr>\n",
              "    <tr>\n",
              "      <th>last_evaluation</th>\n",
              "      <td>10000.0</td>\n",
              "      <td>0.715667</td>\n",
              "      <td>0.161919</td>\n",
              "      <td>0.36</td>\n",
              "      <td>0.58</td>\n",
              "      <td>0.71</td>\n",
              "      <td>0.85</td>\n",
              "      <td>1.0</td>\n",
              "    </tr>\n",
              "    <tr>\n",
              "      <th>number_project</th>\n",
              "      <td>10000.0</td>\n",
              "      <td>3.786800</td>\n",
              "      <td>0.981755</td>\n",
              "      <td>2.00</td>\n",
              "      <td>3.00</td>\n",
              "      <td>4.00</td>\n",
              "      <td>4.00</td>\n",
              "      <td>6.0</td>\n",
              "    </tr>\n",
              "    <tr>\n",
              "      <th>average_montly_hours</th>\n",
              "      <td>10000.0</td>\n",
              "      <td>198.942700</td>\n",
              "      <td>45.665507</td>\n",
              "      <td>96.00</td>\n",
              "      <td>162.00</td>\n",
              "      <td>198.00</td>\n",
              "      <td>238.00</td>\n",
              "      <td>287.0</td>\n",
              "    </tr>\n",
              "    <tr>\n",
              "      <th>time_spend_company</th>\n",
              "      <td>10000.0</td>\n",
              "      <td>3.262000</td>\n",
              "      <td>1.367239</td>\n",
              "      <td>2.00</td>\n",
              "      <td>2.00</td>\n",
              "      <td>3.00</td>\n",
              "      <td>4.00</td>\n",
              "      <td>10.0</td>\n",
              "    </tr>\n",
              "    <tr>\n",
              "      <th>Work_accident</th>\n",
              "      <td>10000.0</td>\n",
              "      <td>0.174500</td>\n",
              "      <td>0.379558</td>\n",
              "      <td>0.00</td>\n",
              "      <td>0.00</td>\n",
              "      <td>0.00</td>\n",
              "      <td>0.00</td>\n",
              "      <td>1.0</td>\n",
              "    </tr>\n",
              "    <tr>\n",
              "      <th>left</th>\n",
              "      <td>10000.0</td>\n",
              "      <td>0.000000</td>\n",
              "      <td>0.000000</td>\n",
              "      <td>0.00</td>\n",
              "      <td>0.00</td>\n",
              "      <td>0.00</td>\n",
              "      <td>0.00</td>\n",
              "      <td>0.0</td>\n",
              "    </tr>\n",
              "    <tr>\n",
              "      <th>promotion_last_5years</th>\n",
              "      <td>10000.0</td>\n",
              "      <td>0.019500</td>\n",
              "      <td>0.138281</td>\n",
              "      <td>0.00</td>\n",
              "      <td>0.00</td>\n",
              "      <td>0.00</td>\n",
              "      <td>0.00</td>\n",
              "      <td>1.0</td>\n",
              "    </tr>\n",
              "  </tbody>\n",
              "</table>\n",
              "</div>\n",
              "      <button class=\"colab-df-convert\" onclick=\"convertToInteractive('df-b7300186-bf04-4d11-8a2f-d9523e119026')\"\n",
              "              title=\"Convert this dataframe to an interactive table.\"\n",
              "              style=\"display:none;\">\n",
              "        \n",
              "  <svg xmlns=\"http://www.w3.org/2000/svg\" height=\"24px\"viewBox=\"0 0 24 24\"\n",
              "       width=\"24px\">\n",
              "    <path d=\"M0 0h24v24H0V0z\" fill=\"none\"/>\n",
              "    <path d=\"M18.56 5.44l.94 2.06.94-2.06 2.06-.94-2.06-.94-.94-2.06-.94 2.06-2.06.94zm-11 1L8.5 8.5l.94-2.06 2.06-.94-2.06-.94L8.5 2.5l-.94 2.06-2.06.94zm10 10l.94 2.06.94-2.06 2.06-.94-2.06-.94-.94-2.06-.94 2.06-2.06.94z\"/><path d=\"M17.41 7.96l-1.37-1.37c-.4-.4-.92-.59-1.43-.59-.52 0-1.04.2-1.43.59L10.3 9.45l-7.72 7.72c-.78.78-.78 2.05 0 2.83L4 21.41c.39.39.9.59 1.41.59.51 0 1.02-.2 1.41-.59l7.78-7.78 2.81-2.81c.8-.78.8-2.07 0-2.86zM5.41 20L4 18.59l7.72-7.72 1.47 1.35L5.41 20z\"/>\n",
              "  </svg>\n",
              "      </button>\n",
              "      \n",
              "  <style>\n",
              "    .colab-df-container {\n",
              "      display:flex;\n",
              "      flex-wrap:wrap;\n",
              "      gap: 12px;\n",
              "    }\n",
              "\n",
              "    .colab-df-convert {\n",
              "      background-color: #E8F0FE;\n",
              "      border: none;\n",
              "      border-radius: 50%;\n",
              "      cursor: pointer;\n",
              "      display: none;\n",
              "      fill: #1967D2;\n",
              "      height: 32px;\n",
              "      padding: 0 0 0 0;\n",
              "      width: 32px;\n",
              "    }\n",
              "\n",
              "    .colab-df-convert:hover {\n",
              "      background-color: #E2EBFA;\n",
              "      box-shadow: 0px 1px 2px rgba(60, 64, 67, 0.3), 0px 1px 3px 1px rgba(60, 64, 67, 0.15);\n",
              "      fill: #174EA6;\n",
              "    }\n",
              "\n",
              "    [theme=dark] .colab-df-convert {\n",
              "      background-color: #3B4455;\n",
              "      fill: #D2E3FC;\n",
              "    }\n",
              "\n",
              "    [theme=dark] .colab-df-convert:hover {\n",
              "      background-color: #434B5C;\n",
              "      box-shadow: 0px 1px 3px 1px rgba(0, 0, 0, 0.15);\n",
              "      filter: drop-shadow(0px 1px 2px rgba(0, 0, 0, 0.3));\n",
              "      fill: #FFFFFF;\n",
              "    }\n",
              "  </style>\n",
              "\n",
              "      <script>\n",
              "        const buttonEl =\n",
              "          document.querySelector('#df-b7300186-bf04-4d11-8a2f-d9523e119026 button.colab-df-convert');\n",
              "        buttonEl.style.display =\n",
              "          google.colab.kernel.accessAllowed ? 'block' : 'none';\n",
              "\n",
              "        async function convertToInteractive(key) {\n",
              "          const element = document.querySelector('#df-b7300186-bf04-4d11-8a2f-d9523e119026');\n",
              "          const dataTable =\n",
              "            await google.colab.kernel.invokeFunction('convertToInteractive',\n",
              "                                                     [key], {});\n",
              "          if (!dataTable) return;\n",
              "\n",
              "          const docLinkHtml = 'Like what you see? Visit the ' +\n",
              "            '<a target=\"_blank\" href=https://colab.research.google.com/notebooks/data_table.ipynb>data table notebook</a>'\n",
              "            + ' to learn more about interactive tables.';\n",
              "          element.innerHTML = '';\n",
              "          dataTable['output_type'] = 'display_data';\n",
              "          await google.colab.output.renderOutput(dataTable, element);\n",
              "          const docLink = document.createElement('div');\n",
              "          docLink.innerHTML = docLinkHtml;\n",
              "          element.appendChild(docLink);\n",
              "        }\n",
              "      </script>\n",
              "    </div>\n",
              "  </div>\n",
              "  "
            ]
          },
          "metadata": {},
          "execution_count": 8
        }
      ],
      "source": [
        "stayed.describe().T"
      ],
      "id": "c8fc9281"
    },
    {
      "cell_type": "code",
      "execution_count": 9,
      "metadata": {
        "id": "fde9f735",
        "colab": {
          "base_uri": "https://localhost:8080/",
          "height": 423
        },
        "outputId": "5a4f292f-6081-470d-dd91-c312b10f233a"
      },
      "outputs": [
        {
          "output_type": "execute_result",
          "data": {
            "text/plain": [
              "      satisfaction_level  last_evaluation  number_project  \\\n",
              "0                   0.38             0.53               2   \n",
              "1                   0.80             0.86               5   \n",
              "2                   0.11             0.88               7   \n",
              "3                   0.72             0.87               5   \n",
              "4                   0.37             0.52               2   \n",
              "...                  ...              ...             ...   \n",
              "1995                0.37             0.57               2   \n",
              "1996                0.11             0.92               7   \n",
              "1997                0.41             0.53               2   \n",
              "1998                0.84             0.96               4   \n",
              "1999                0.40             0.51               2   \n",
              "\n",
              "      average_montly_hours  time_spend_company  Work_accident  left  \\\n",
              "0                      157                   3              0     1   \n",
              "1                      262                   6              0     1   \n",
              "2                      272                   4              0     1   \n",
              "3                      223                   5              0     1   \n",
              "4                      159                   3              0     1   \n",
              "...                    ...                 ...            ...   ...   \n",
              "1995                   147                   3              0     1   \n",
              "1996                   293                   4              0     1   \n",
              "1997                   157                   3              0     1   \n",
              "1998                   247                   5              0     1   \n",
              "1999                   148                   3              0     1   \n",
              "\n",
              "      promotion_last_5years Departments   salary  \n",
              "0                         0        sales     low  \n",
              "1                         0        sales  medium  \n",
              "2                         0        sales  medium  \n",
              "3                         0        sales     low  \n",
              "4                         0        sales     low  \n",
              "...                     ...          ...     ...  \n",
              "1995                      0        sales     low  \n",
              "1996                      0        sales     low  \n",
              "1997                      0        sales     low  \n",
              "1998                      0        sales     low  \n",
              "1999                      0        sales     low  \n",
              "\n",
              "[1991 rows x 10 columns]"
            ],
            "text/html": [
              "\n",
              "  <div id=\"df-0c2c4d56-9ee3-4e4a-87e2-890247fdc29f\">\n",
              "    <div class=\"colab-df-container\">\n",
              "      <div>\n",
              "<style scoped>\n",
              "    .dataframe tbody tr th:only-of-type {\n",
              "        vertical-align: middle;\n",
              "    }\n",
              "\n",
              "    .dataframe tbody tr th {\n",
              "        vertical-align: top;\n",
              "    }\n",
              "\n",
              "    .dataframe thead th {\n",
              "        text-align: right;\n",
              "    }\n",
              "</style>\n",
              "<table border=\"1\" class=\"dataframe\">\n",
              "  <thead>\n",
              "    <tr style=\"text-align: right;\">\n",
              "      <th></th>\n",
              "      <th>satisfaction_level</th>\n",
              "      <th>last_evaluation</th>\n",
              "      <th>number_project</th>\n",
              "      <th>average_montly_hours</th>\n",
              "      <th>time_spend_company</th>\n",
              "      <th>Work_accident</th>\n",
              "      <th>left</th>\n",
              "      <th>promotion_last_5years</th>\n",
              "      <th>Departments</th>\n",
              "      <th>salary</th>\n",
              "    </tr>\n",
              "  </thead>\n",
              "  <tbody>\n",
              "    <tr>\n",
              "      <th>0</th>\n",
              "      <td>0.38</td>\n",
              "      <td>0.53</td>\n",
              "      <td>2</td>\n",
              "      <td>157</td>\n",
              "      <td>3</td>\n",
              "      <td>0</td>\n",
              "      <td>1</td>\n",
              "      <td>0</td>\n",
              "      <td>sales</td>\n",
              "      <td>low</td>\n",
              "    </tr>\n",
              "    <tr>\n",
              "      <th>1</th>\n",
              "      <td>0.80</td>\n",
              "      <td>0.86</td>\n",
              "      <td>5</td>\n",
              "      <td>262</td>\n",
              "      <td>6</td>\n",
              "      <td>0</td>\n",
              "      <td>1</td>\n",
              "      <td>0</td>\n",
              "      <td>sales</td>\n",
              "      <td>medium</td>\n",
              "    </tr>\n",
              "    <tr>\n",
              "      <th>2</th>\n",
              "      <td>0.11</td>\n",
              "      <td>0.88</td>\n",
              "      <td>7</td>\n",
              "      <td>272</td>\n",
              "      <td>4</td>\n",
              "      <td>0</td>\n",
              "      <td>1</td>\n",
              "      <td>0</td>\n",
              "      <td>sales</td>\n",
              "      <td>medium</td>\n",
              "    </tr>\n",
              "    <tr>\n",
              "      <th>3</th>\n",
              "      <td>0.72</td>\n",
              "      <td>0.87</td>\n",
              "      <td>5</td>\n",
              "      <td>223</td>\n",
              "      <td>5</td>\n",
              "      <td>0</td>\n",
              "      <td>1</td>\n",
              "      <td>0</td>\n",
              "      <td>sales</td>\n",
              "      <td>low</td>\n",
              "    </tr>\n",
              "    <tr>\n",
              "      <th>4</th>\n",
              "      <td>0.37</td>\n",
              "      <td>0.52</td>\n",
              "      <td>2</td>\n",
              "      <td>159</td>\n",
              "      <td>3</td>\n",
              "      <td>0</td>\n",
              "      <td>1</td>\n",
              "      <td>0</td>\n",
              "      <td>sales</td>\n",
              "      <td>low</td>\n",
              "    </tr>\n",
              "    <tr>\n",
              "      <th>...</th>\n",
              "      <td>...</td>\n",
              "      <td>...</td>\n",
              "      <td>...</td>\n",
              "      <td>...</td>\n",
              "      <td>...</td>\n",
              "      <td>...</td>\n",
              "      <td>...</td>\n",
              "      <td>...</td>\n",
              "      <td>...</td>\n",
              "      <td>...</td>\n",
              "    </tr>\n",
              "    <tr>\n",
              "      <th>1995</th>\n",
              "      <td>0.37</td>\n",
              "      <td>0.57</td>\n",
              "      <td>2</td>\n",
              "      <td>147</td>\n",
              "      <td>3</td>\n",
              "      <td>0</td>\n",
              "      <td>1</td>\n",
              "      <td>0</td>\n",
              "      <td>sales</td>\n",
              "      <td>low</td>\n",
              "    </tr>\n",
              "    <tr>\n",
              "      <th>1996</th>\n",
              "      <td>0.11</td>\n",
              "      <td>0.92</td>\n",
              "      <td>7</td>\n",
              "      <td>293</td>\n",
              "      <td>4</td>\n",
              "      <td>0</td>\n",
              "      <td>1</td>\n",
              "      <td>0</td>\n",
              "      <td>sales</td>\n",
              "      <td>low</td>\n",
              "    </tr>\n",
              "    <tr>\n",
              "      <th>1997</th>\n",
              "      <td>0.41</td>\n",
              "      <td>0.53</td>\n",
              "      <td>2</td>\n",
              "      <td>157</td>\n",
              "      <td>3</td>\n",
              "      <td>0</td>\n",
              "      <td>1</td>\n",
              "      <td>0</td>\n",
              "      <td>sales</td>\n",
              "      <td>low</td>\n",
              "    </tr>\n",
              "    <tr>\n",
              "      <th>1998</th>\n",
              "      <td>0.84</td>\n",
              "      <td>0.96</td>\n",
              "      <td>4</td>\n",
              "      <td>247</td>\n",
              "      <td>5</td>\n",
              "      <td>0</td>\n",
              "      <td>1</td>\n",
              "      <td>0</td>\n",
              "      <td>sales</td>\n",
              "      <td>low</td>\n",
              "    </tr>\n",
              "    <tr>\n",
              "      <th>1999</th>\n",
              "      <td>0.40</td>\n",
              "      <td>0.51</td>\n",
              "      <td>2</td>\n",
              "      <td>148</td>\n",
              "      <td>3</td>\n",
              "      <td>0</td>\n",
              "      <td>1</td>\n",
              "      <td>0</td>\n",
              "      <td>sales</td>\n",
              "      <td>low</td>\n",
              "    </tr>\n",
              "  </tbody>\n",
              "</table>\n",
              "<p>1991 rows × 10 columns</p>\n",
              "</div>\n",
              "      <button class=\"colab-df-convert\" onclick=\"convertToInteractive('df-0c2c4d56-9ee3-4e4a-87e2-890247fdc29f')\"\n",
              "              title=\"Convert this dataframe to an interactive table.\"\n",
              "              style=\"display:none;\">\n",
              "        \n",
              "  <svg xmlns=\"http://www.w3.org/2000/svg\" height=\"24px\"viewBox=\"0 0 24 24\"\n",
              "       width=\"24px\">\n",
              "    <path d=\"M0 0h24v24H0V0z\" fill=\"none\"/>\n",
              "    <path d=\"M18.56 5.44l.94 2.06.94-2.06 2.06-.94-2.06-.94-.94-2.06-.94 2.06-2.06.94zm-11 1L8.5 8.5l.94-2.06 2.06-.94-2.06-.94L8.5 2.5l-.94 2.06-2.06.94zm10 10l.94 2.06.94-2.06 2.06-.94-2.06-.94-.94-2.06-.94 2.06-2.06.94z\"/><path d=\"M17.41 7.96l-1.37-1.37c-.4-.4-.92-.59-1.43-.59-.52 0-1.04.2-1.43.59L10.3 9.45l-7.72 7.72c-.78.78-.78 2.05 0 2.83L4 21.41c.39.39.9.59 1.41.59.51 0 1.02-.2 1.41-.59l7.78-7.78 2.81-2.81c.8-.78.8-2.07 0-2.86zM5.41 20L4 18.59l7.72-7.72 1.47 1.35L5.41 20z\"/>\n",
              "  </svg>\n",
              "      </button>\n",
              "      \n",
              "  <style>\n",
              "    .colab-df-container {\n",
              "      display:flex;\n",
              "      flex-wrap:wrap;\n",
              "      gap: 12px;\n",
              "    }\n",
              "\n",
              "    .colab-df-convert {\n",
              "      background-color: #E8F0FE;\n",
              "      border: none;\n",
              "      border-radius: 50%;\n",
              "      cursor: pointer;\n",
              "      display: none;\n",
              "      fill: #1967D2;\n",
              "      height: 32px;\n",
              "      padding: 0 0 0 0;\n",
              "      width: 32px;\n",
              "    }\n",
              "\n",
              "    .colab-df-convert:hover {\n",
              "      background-color: #E2EBFA;\n",
              "      box-shadow: 0px 1px 2px rgba(60, 64, 67, 0.3), 0px 1px 3px 1px rgba(60, 64, 67, 0.15);\n",
              "      fill: #174EA6;\n",
              "    }\n",
              "\n",
              "    [theme=dark] .colab-df-convert {\n",
              "      background-color: #3B4455;\n",
              "      fill: #D2E3FC;\n",
              "    }\n",
              "\n",
              "    [theme=dark] .colab-df-convert:hover {\n",
              "      background-color: #434B5C;\n",
              "      box-shadow: 0px 1px 3px 1px rgba(0, 0, 0, 0.15);\n",
              "      filter: drop-shadow(0px 1px 2px rgba(0, 0, 0, 0.3));\n",
              "      fill: #FFFFFF;\n",
              "    }\n",
              "  </style>\n",
              "\n",
              "      <script>\n",
              "        const buttonEl =\n",
              "          document.querySelector('#df-0c2c4d56-9ee3-4e4a-87e2-890247fdc29f button.colab-df-convert');\n",
              "        buttonEl.style.display =\n",
              "          google.colab.kernel.accessAllowed ? 'block' : 'none';\n",
              "\n",
              "        async function convertToInteractive(key) {\n",
              "          const element = document.querySelector('#df-0c2c4d56-9ee3-4e4a-87e2-890247fdc29f');\n",
              "          const dataTable =\n",
              "            await google.colab.kernel.invokeFunction('convertToInteractive',\n",
              "                                                     [key], {});\n",
              "          if (!dataTable) return;\n",
              "\n",
              "          const docLinkHtml = 'Like what you see? Visit the ' +\n",
              "            '<a target=\"_blank\" href=https://colab.research.google.com/notebooks/data_table.ipynb>data table notebook</a>'\n",
              "            + ' to learn more about interactive tables.';\n",
              "          element.innerHTML = '';\n",
              "          dataTable['output_type'] = 'display_data';\n",
              "          await google.colab.output.renderOutput(dataTable, element);\n",
              "          const docLink = document.createElement('div');\n",
              "          docLink.innerHTML = docLinkHtml;\n",
              "          element.appendChild(docLink);\n",
              "        }\n",
              "      </script>\n",
              "    </div>\n",
              "  </div>\n",
              "  "
            ]
          },
          "metadata": {},
          "execution_count": 9
        }
      ],
      "source": [
        "left = df[df.left == 1]\n",
        "left"
      ],
      "id": "fde9f735"
    },
    {
      "cell_type": "code",
      "execution_count": 10,
      "metadata": {
        "id": "6693c4d7",
        "colab": {
          "base_uri": "https://localhost:8080/",
          "height": 300
        },
        "outputId": "aea553c5-4a2b-48f7-b609-3094e58ca408"
      },
      "outputs": [
        {
          "output_type": "execute_result",
          "data": {
            "text/plain": [
              "                        count        mean        std     min     25%     50%  \\\n",
              "satisfaction_level     1991.0    0.440271   0.265207    0.09    0.11    0.41   \n",
              "last_evaluation        1991.0    0.721783   0.197436    0.45    0.52    0.79   \n",
              "number_project         1991.0    3.883476   1.817139    2.00    2.00    4.00   \n",
              "average_montly_hours   1991.0  208.162230  61.295145  126.00  146.00  226.00   \n",
              "time_spend_company     1991.0    3.881467   0.974041    2.00    3.00    4.00   \n",
              "Work_accident          1991.0    0.052737   0.223565    0.00    0.00    0.00   \n",
              "left                   1991.0    1.000000   0.000000    1.00    1.00    1.00   \n",
              "promotion_last_5years  1991.0    0.004018   0.063277    0.00    0.00    0.00   \n",
              "\n",
              "                          75%     max  \n",
              "satisfaction_level       0.73    0.92  \n",
              "last_evaluation          0.91    1.00  \n",
              "number_project           6.00    7.00  \n",
              "average_montly_hours   262.50  310.00  \n",
              "time_spend_company       5.00    6.00  \n",
              "Work_accident            0.00    1.00  \n",
              "left                     1.00    1.00  \n",
              "promotion_last_5years    0.00    1.00  "
            ],
            "text/html": [
              "\n",
              "  <div id=\"df-68c922c2-cede-4be9-83ef-f7d20fb00e93\">\n",
              "    <div class=\"colab-df-container\">\n",
              "      <div>\n",
              "<style scoped>\n",
              "    .dataframe tbody tr th:only-of-type {\n",
              "        vertical-align: middle;\n",
              "    }\n",
              "\n",
              "    .dataframe tbody tr th {\n",
              "        vertical-align: top;\n",
              "    }\n",
              "\n",
              "    .dataframe thead th {\n",
              "        text-align: right;\n",
              "    }\n",
              "</style>\n",
              "<table border=\"1\" class=\"dataframe\">\n",
              "  <thead>\n",
              "    <tr style=\"text-align: right;\">\n",
              "      <th></th>\n",
              "      <th>count</th>\n",
              "      <th>mean</th>\n",
              "      <th>std</th>\n",
              "      <th>min</th>\n",
              "      <th>25%</th>\n",
              "      <th>50%</th>\n",
              "      <th>75%</th>\n",
              "      <th>max</th>\n",
              "    </tr>\n",
              "  </thead>\n",
              "  <tbody>\n",
              "    <tr>\n",
              "      <th>satisfaction_level</th>\n",
              "      <td>1991.0</td>\n",
              "      <td>0.440271</td>\n",
              "      <td>0.265207</td>\n",
              "      <td>0.09</td>\n",
              "      <td>0.11</td>\n",
              "      <td>0.41</td>\n",
              "      <td>0.73</td>\n",
              "      <td>0.92</td>\n",
              "    </tr>\n",
              "    <tr>\n",
              "      <th>last_evaluation</th>\n",
              "      <td>1991.0</td>\n",
              "      <td>0.721783</td>\n",
              "      <td>0.197436</td>\n",
              "      <td>0.45</td>\n",
              "      <td>0.52</td>\n",
              "      <td>0.79</td>\n",
              "      <td>0.91</td>\n",
              "      <td>1.00</td>\n",
              "    </tr>\n",
              "    <tr>\n",
              "      <th>number_project</th>\n",
              "      <td>1991.0</td>\n",
              "      <td>3.883476</td>\n",
              "      <td>1.817139</td>\n",
              "      <td>2.00</td>\n",
              "      <td>2.00</td>\n",
              "      <td>4.00</td>\n",
              "      <td>6.00</td>\n",
              "      <td>7.00</td>\n",
              "    </tr>\n",
              "    <tr>\n",
              "      <th>average_montly_hours</th>\n",
              "      <td>1991.0</td>\n",
              "      <td>208.162230</td>\n",
              "      <td>61.295145</td>\n",
              "      <td>126.00</td>\n",
              "      <td>146.00</td>\n",
              "      <td>226.00</td>\n",
              "      <td>262.50</td>\n",
              "      <td>310.00</td>\n",
              "    </tr>\n",
              "    <tr>\n",
              "      <th>time_spend_company</th>\n",
              "      <td>1991.0</td>\n",
              "      <td>3.881467</td>\n",
              "      <td>0.974041</td>\n",
              "      <td>2.00</td>\n",
              "      <td>3.00</td>\n",
              "      <td>4.00</td>\n",
              "      <td>5.00</td>\n",
              "      <td>6.00</td>\n",
              "    </tr>\n",
              "    <tr>\n",
              "      <th>Work_accident</th>\n",
              "      <td>1991.0</td>\n",
              "      <td>0.052737</td>\n",
              "      <td>0.223565</td>\n",
              "      <td>0.00</td>\n",
              "      <td>0.00</td>\n",
              "      <td>0.00</td>\n",
              "      <td>0.00</td>\n",
              "      <td>1.00</td>\n",
              "    </tr>\n",
              "    <tr>\n",
              "      <th>left</th>\n",
              "      <td>1991.0</td>\n",
              "      <td>1.000000</td>\n",
              "      <td>0.000000</td>\n",
              "      <td>1.00</td>\n",
              "      <td>1.00</td>\n",
              "      <td>1.00</td>\n",
              "      <td>1.00</td>\n",
              "      <td>1.00</td>\n",
              "    </tr>\n",
              "    <tr>\n",
              "      <th>promotion_last_5years</th>\n",
              "      <td>1991.0</td>\n",
              "      <td>0.004018</td>\n",
              "      <td>0.063277</td>\n",
              "      <td>0.00</td>\n",
              "      <td>0.00</td>\n",
              "      <td>0.00</td>\n",
              "      <td>0.00</td>\n",
              "      <td>1.00</td>\n",
              "    </tr>\n",
              "  </tbody>\n",
              "</table>\n",
              "</div>\n",
              "      <button class=\"colab-df-convert\" onclick=\"convertToInteractive('df-68c922c2-cede-4be9-83ef-f7d20fb00e93')\"\n",
              "              title=\"Convert this dataframe to an interactive table.\"\n",
              "              style=\"display:none;\">\n",
              "        \n",
              "  <svg xmlns=\"http://www.w3.org/2000/svg\" height=\"24px\"viewBox=\"0 0 24 24\"\n",
              "       width=\"24px\">\n",
              "    <path d=\"M0 0h24v24H0V0z\" fill=\"none\"/>\n",
              "    <path d=\"M18.56 5.44l.94 2.06.94-2.06 2.06-.94-2.06-.94-.94-2.06-.94 2.06-2.06.94zm-11 1L8.5 8.5l.94-2.06 2.06-.94-2.06-.94L8.5 2.5l-.94 2.06-2.06.94zm10 10l.94 2.06.94-2.06 2.06-.94-2.06-.94-.94-2.06-.94 2.06-2.06.94z\"/><path d=\"M17.41 7.96l-1.37-1.37c-.4-.4-.92-.59-1.43-.59-.52 0-1.04.2-1.43.59L10.3 9.45l-7.72 7.72c-.78.78-.78 2.05 0 2.83L4 21.41c.39.39.9.59 1.41.59.51 0 1.02-.2 1.41-.59l7.78-7.78 2.81-2.81c.8-.78.8-2.07 0-2.86zM5.41 20L4 18.59l7.72-7.72 1.47 1.35L5.41 20z\"/>\n",
              "  </svg>\n",
              "      </button>\n",
              "      \n",
              "  <style>\n",
              "    .colab-df-container {\n",
              "      display:flex;\n",
              "      flex-wrap:wrap;\n",
              "      gap: 12px;\n",
              "    }\n",
              "\n",
              "    .colab-df-convert {\n",
              "      background-color: #E8F0FE;\n",
              "      border: none;\n",
              "      border-radius: 50%;\n",
              "      cursor: pointer;\n",
              "      display: none;\n",
              "      fill: #1967D2;\n",
              "      height: 32px;\n",
              "      padding: 0 0 0 0;\n",
              "      width: 32px;\n",
              "    }\n",
              "\n",
              "    .colab-df-convert:hover {\n",
              "      background-color: #E2EBFA;\n",
              "      box-shadow: 0px 1px 2px rgba(60, 64, 67, 0.3), 0px 1px 3px 1px rgba(60, 64, 67, 0.15);\n",
              "      fill: #174EA6;\n",
              "    }\n",
              "\n",
              "    [theme=dark] .colab-df-convert {\n",
              "      background-color: #3B4455;\n",
              "      fill: #D2E3FC;\n",
              "    }\n",
              "\n",
              "    [theme=dark] .colab-df-convert:hover {\n",
              "      background-color: #434B5C;\n",
              "      box-shadow: 0px 1px 3px 1px rgba(0, 0, 0, 0.15);\n",
              "      filter: drop-shadow(0px 1px 2px rgba(0, 0, 0, 0.3));\n",
              "      fill: #FFFFFF;\n",
              "    }\n",
              "  </style>\n",
              "\n",
              "      <script>\n",
              "        const buttonEl =\n",
              "          document.querySelector('#df-68c922c2-cede-4be9-83ef-f7d20fb00e93 button.colab-df-convert');\n",
              "        buttonEl.style.display =\n",
              "          google.colab.kernel.accessAllowed ? 'block' : 'none';\n",
              "\n",
              "        async function convertToInteractive(key) {\n",
              "          const element = document.querySelector('#df-68c922c2-cede-4be9-83ef-f7d20fb00e93');\n",
              "          const dataTable =\n",
              "            await google.colab.kernel.invokeFunction('convertToInteractive',\n",
              "                                                     [key], {});\n",
              "          if (!dataTable) return;\n",
              "\n",
              "          const docLinkHtml = 'Like what you see? Visit the ' +\n",
              "            '<a target=\"_blank\" href=https://colab.research.google.com/notebooks/data_table.ipynb>data table notebook</a>'\n",
              "            + ' to learn more about interactive tables.';\n",
              "          element.innerHTML = '';\n",
              "          dataTable['output_type'] = 'display_data';\n",
              "          await google.colab.output.renderOutput(dataTable, element);\n",
              "          const docLink = document.createElement('div');\n",
              "          docLink.innerHTML = docLinkHtml;\n",
              "          element.appendChild(docLink);\n",
              "        }\n",
              "      </script>\n",
              "    </div>\n",
              "  </div>\n",
              "  "
            ]
          },
          "metadata": {},
          "execution_count": 10
        }
      ],
      "source": [
        "left.describe().T"
      ],
      "id": "6693c4d7"
    },
    {
      "cell_type": "markdown",
      "metadata": {
        "id": "8859b58c"
      },
      "source": [
        "## 2. Data Visualization\n",
        "\n",
        "You can search for answers to the following questions using data visualization methods. Based on these responses, you can develop comments about the factors that cause churn.\n",
        "- How does the promotion status affect employee churn?\n",
        "- How does years of experience affect employee churn?\n",
        "- How does workload affect employee churn?\n",
        "- How does the salary level affect employee churn?"
      ],
      "id": "8859b58c"
    },
    {
      "cell_type": "code",
      "execution_count": 158,
      "metadata": {
        "id": "4110ebbf",
        "colab": {
          "base_uri": "https://localhost:8080/",
          "height": 578
        },
        "outputId": "39061b8f-8472-4d96-b017-196cf72fe660"
      },
      "outputs": [
        {
          "output_type": "display_data",
          "data": {
            "text/plain": [
              "<Figure size 720x576 with 2 Axes>"
            ],
            "image/png": "[encoded data removed]"
          },
          "metadata": {}
        }
      ],
      "source": [
        "sns.heatmap(df.corr(), annot=True);"
      ],
      "id": "4110ebbf"
    },
    {
      "cell_type": "markdown",
      "metadata": {
        "id": "8d520527"
      },
      "source": [
        "### Employees Left\n",
        "\n",
        "Let's check how many employees were left?\n",
        "Here, you can plot a bar graph using Matplotlib. The bar graph is suitable for showing discrete variable counts."
      ],
      "id": "8d520527"
    },
    {
      "cell_type": "code",
      "execution_count": 12,
      "metadata": {
        "id": "a3f7fb1a",
        "colab": {
          "base_uri": "https://localhost:8080/"
        },
        "outputId": "aecca84b-24e4-427d-e49f-130de7706541"
      },
      "outputs": [
        {
          "output_type": "stream",
          "name": "stdout",
          "text": [
            "Requirement already satisfied: matplotlib in /usr/local/lib/python3.7/dist-packages (3.5.1)\n",
            "Requirement already satisfied: pyparsing>=2.2.1 in /usr/local/lib/python3.7/dist-packages (from matplotlib) (3.0.8)\n",
            "Requirement already satisfied: pillow>=6.2.0 in /usr/local/lib/python3.7/dist-packages (from matplotlib) (7.1.2)\n",
            "Requirement already satisfied: packaging>=20.0 in /usr/local/lib/python3.7/dist-packages (from matplotlib) (21.3)\n",
            "Requirement already satisfied: cycler>=0.10 in /usr/local/lib/python3.7/dist-packages (from matplotlib) (0.11.0)\n",
            "Requirement already satisfied: fonttools>=4.22.0 in /usr/local/lib/python3.7/dist-packages (from matplotlib) (4.32.0)\n",
            "Requirement already satisfied: python-dateutil>=2.7 in /usr/local/lib/python3.7/dist-packages (from matplotlib) (2.8.2)\n",
            "Requirement already satisfied: numpy>=1.17 in /usr/local/lib/python3.7/dist-packages (from matplotlib) (1.21.5)\n",
            "Requirement already satisfied: kiwisolver>=1.0.1 in /usr/local/lib/python3.7/dist-packages (from matplotlib) (1.4.2)\n",
            "Requirement already satisfied: typing-extensions in /usr/local/lib/python3.7/dist-packages (from kiwisolver>=1.0.1->matplotlib) (4.1.1)\n",
            "Requirement already satisfied: six>=1.5 in /usr/local/lib/python3.7/dist-packages (from python-dateutil>=2.7->matplotlib) (1.15.0)\n"
          ]
        }
      ],
      "source": [
        "pip install --upgrade matplotlib"
      ],
      "id": "a3f7fb1a"
    },
    {
      "cell_type": "code",
      "execution_count": 159,
      "metadata": {
        "id": "374b2514",
        "colab": {
          "base_uri": "https://localhost:8080/",
          "height": 497
        },
        "outputId": "8c4942c4-33a4-45a8-e905-396575e3408d"
      },
      "outputs": [
        {
          "output_type": "display_data",
          "data": {
            "text/plain": [
              "<Figure size 720x576 with 1 Axes>"
            ],
            "image/png": "[encoded data removed]"
          },
          "metadata": {}
        }
      ],
      "source": [
        "ax = sns.countplot(x=df.left, palette=\"Set3\")\n",
        "ax.bar_label(ax.containers[0]);"
      ],
      "id": "374b2514"
    },
    {
      "cell_type": "markdown",
      "metadata": {
        "id": "e322ff54"
      },
      "source": [
        "### Number of Projects\n",
        "\n",
        "Similarly, you can also plot a bar graph to count the number of employees deployed on how many projects?"
      ],
      "id": "e322ff54"
    },
    {
      "cell_type": "code",
      "execution_count": 160,
      "metadata": {
        "id": "ab0f3d20",
        "colab": {
          "base_uri": "https://localhost:8080/",
          "height": 497
        },
        "outputId": "04bed53d-0159-45a4-fb98-206d880d79d4"
      },
      "outputs": [
        {
          "output_type": "display_data",
          "data": {
            "text/plain": [
              "<Figure size 720x576 with 1 Axes>"
            ],
            "image/png": "[encoded data removed]"
          },
          "metadata": {}
        }
      ],
      "source": [
        "ax = sns.countplot(data = df , x=df.left, hue= \"number_project\", palette=\"Set2\")\n",
        "for bars in ax.containers:\n",
        "        ax.bar_label(bars);"
      ],
      "id": "ab0f3d20"
    },
    {
      "cell_type": "code",
      "execution_count": 161,
      "metadata": {
        "id": "bbde7902",
        "colab": {
          "base_uri": "https://localhost:8080/",
          "height": 497
        },
        "outputId": "fac5c7bb-e5d9-4dd9-ded7-a3b3ca9c90be"
      },
      "outputs": [
        {
          "output_type": "display_data",
          "data": {
            "text/plain": [
              "<Figure size 720x576 with 1 Axes>"
            ],
            "image/png": "[encoded data removed]"
          },
          "metadata": {}
        }
      ],
      "source": [
        "ax = sns.countplot(data = df , x=df.number_project, hue= \"left\", palette=\"Set2\")\n",
        "for bars in ax.containers:\n",
        "        ax.bar_label(bars);"
      ],
      "id": "bbde7902"
    },
    {
      "cell_type": "markdown",
      "metadata": {
        "id": "385fa706"
      },
      "source": [
        "### Time Spent in Company\n",
        "\n",
        "Similarly, you can also plot a bar graph to count the number of employees have based on how much experience?\n"
      ],
      "id": "385fa706"
    },
    {
      "cell_type": "code",
      "execution_count": 162,
      "metadata": {
        "id": "94e1fafe",
        "colab": {
          "base_uri": "https://localhost:8080/",
          "height": 497
        },
        "outputId": "9216a44a-b00d-4e59-fc06-1de4da424d13"
      },
      "outputs": [
        {
          "output_type": "display_data",
          "data": {
            "text/plain": [
              "<Figure size 720x576 with 1 Axes>"
            ],
            "image/png": "[encoded data removed]"
          },
          "metadata": {}
        }
      ],
      "source": [
        "ax = sns.countplot(data = df , x=df.left, hue= \"time_spend_company\", palette=\"Set2\")\n",
        "for bars in ax.containers:\n",
        "        ax.bar_label(bars);"
      ],
      "id": "94e1fafe"
    },
    {
      "cell_type": "code",
      "execution_count": 163,
      "metadata": {
        "id": "4ecfe29b",
        "colab": {
          "base_uri": "https://localhost:8080/",
          "height": 497
        },
        "outputId": "82617416-1278-47e4-c4cc-02ad4ace016f"
      },
      "outputs": [
        {
          "output_type": "display_data",
          "data": {
            "text/plain": [
              "<Figure size 720x576 with 1 Axes>"
            ],
            "image/png": "[encoded data removed]"
          },
          "metadata": {}
        }
      ],
      "source": [
        "ax = sns.countplot(data = df , x=df.time_spend_company, hue= \"left\", palette=\"Set2\")\n",
        "for bars in ax.containers:\n",
        "        ax.bar_label(bars);"
      ],
      "id": "4ecfe29b"
    },
    {
      "cell_type": "markdown",
      "metadata": {
        "id": "8cdcaf10"
      },
      "source": [
        "### Subplots of Features\n",
        "\n",
        "You can use the methods of the matplotlib."
      ],
      "id": "8cdcaf10"
    },
    {
      "cell_type": "code",
      "execution_count": 164,
      "metadata": {
        "id": "96a5f7c7",
        "colab": {
          "base_uri": "https://localhost:8080/",
          "height": 1000
        },
        "outputId": "ec924786-c3df-4144-88ed-d2885963cba9"
      },
      "outputs": [
        {
          "output_type": "display_data",
          "data": {
            "text/plain": [
              "<Figure size 1152x1440 with 7 Axes>"
            ],
            "image/png": "[encoded data removed]"
          },
          "metadata": {}
        }
      ],
      "source": [
        "features=['number_project','time_spend_company','Work_accident','left', 'promotion_last_5years','Departments ','salary']\n",
        "fig=plt.subplots(figsize=(16,20))\n",
        "for i, j in enumerate(features):\n",
        "    plt.subplot(4, 2, i+1)\n",
        "    plt.subplots_adjust(hspace = 1.0)\n",
        "    sns.countplot(x=j,data = df,hue='left')\n",
        "    plt.xticks(rotation=45)\n",
        "    plt.title(\"No. of employee\");"
      ],
      "id": "96a5f7c7"
    },
    {
      "cell_type": "markdown",
      "metadata": {
        "id": "d94dda33"
      },
      "source": [
        "## 3. Data Pre-Processing"
      ],
      "id": "d94dda33"
    },
    {
      "cell_type": "markdown",
      "metadata": {
        "id": "8f3d1cc7"
      },
      "source": [
        "#### Scaling\n",
        "\n",
        "Some machine learning algorithms are sensitive to feature scaling while others are virtually invariant to it. Machine learning algorithms like linear regression, logistic regression, neural network, etc. that use gradient descent as an optimization technique require data to be scaled. Also distance algorithms like KNN, K-means, and SVM are most affected by the range of features. This is because behind the scenes they are using distances between data points to determine their similarity.\n",
        "\n",
        "Scaling Types:\n",
        "- Normalization: Normalization is a scaling technique in which values are shifted and rescaled so that they end up ranging between 0 and 1. It is also known as Min-Max scaling.\n",
        "\n",
        "- Standardization: Standardization is another scaling technique where the values are centered around the mean with a unit standard deviation. This means that the mean of the attribute becomes zero and the resultant distribution has a unit standard deviation.\n",
        "\n",
        "    "
      ],
      "id": "8f3d1cc7"
    },
    {
      "cell_type": "markdown",
      "metadata": {
        "id": "d571ffd8"
      },
      "source": [
        "#### Label Encoding\n",
        "\n",
        "Lots of machine learning algorithms require numerical input data, so you need to represent categorical columns in a numerical column. In order to encode this data, you could map each value to a number. e.g. Salary column's value can be represented as low:0, medium:1, and high:2. This process is known as label encoding, and sklearn conveniently will do this for you using LabelEncoder.\n",
        "\n"
      ],
      "id": "d571ffd8"
    },
    {
      "cell_type": "code",
      "execution_count": 19,
      "metadata": {
        "id": "78d19cc8"
      },
      "outputs": [],
      "source": [
        "df_not_dummy = df.copy()  # for deployment"
      ],
      "id": "78d19cc8"
    },
    {
      "cell_type": "code",
      "execution_count": 20,
      "metadata": {
        "id": "9e76cbac"
      },
      "outputs": [],
      "source": [
        "df = pd.get_dummies(df,drop_first=True)"
      ],
      "id": "9e76cbac"
    },
    {
      "cell_type": "code",
      "execution_count": 21,
      "metadata": {
        "id": "950f651a",
        "colab": {
          "base_uri": "https://localhost:8080/",
          "height": 288
        },
        "outputId": "5adb0d4b-d572-4a33-88d3-3cf85f076ae2"
      },
      "outputs": [
        {
          "output_type": "execute_result",
          "data": {
            "text/plain": [
              "   satisfaction_level  last_evaluation  number_project  average_montly_hours  \\\n",
              "0                0.38             0.53               2                   157   \n",
              "1                0.80             0.86               5                   262   \n",
              "2                0.11             0.88               7                   272   \n",
              "3                0.72             0.87               5                   223   \n",
              "4                0.37             0.52               2                   159   \n",
              "\n",
              "   time_spend_company  Work_accident  left  promotion_last_5years  \\\n",
              "0                   3              0     1                      0   \n",
              "1                   6              0     1                      0   \n",
              "2                   4              0     1                      0   \n",
              "3                   5              0     1                      0   \n",
              "4                   3              0     1                      0   \n",
              "\n",
              "   Departments _RandD  Departments _accounting  Departments _hr  \\\n",
              "0                   0                        0                0   \n",
              "1                   0                        0                0   \n",
              "2                   0                        0                0   \n",
              "3                   0                        0                0   \n",
              "4                   0                        0                0   \n",
              "\n",
              "   Departments _management  Departments _marketing  Departments _product_mng  \\\n",
              "0                        0                       0                         0   \n",
              "1                        0                       0                         0   \n",
              "2                        0                       0                         0   \n",
              "3                        0                       0                         0   \n",
              "4                        0                       0                         0   \n",
              "\n",
              "   Departments _sales  Departments _support  Departments _technical  \\\n",
              "0                   1                     0                       0   \n",
              "1                   1                     0                       0   \n",
              "2                   1                     0                       0   \n",
              "3                   1                     0                       0   \n",
              "4                   1                     0                       0   \n",
              "\n",
              "   salary_low  salary_medium  \n",
              "0           1              0  \n",
              "1           0              1  \n",
              "2           0              1  \n",
              "3           1              0  \n",
              "4           1              0  "
            ],
            "text/html": [
              "\n",
              "  <div id=\"df-f3e3ae1e-800f-4f41-b443-64abf2553abf\">\n",
              "    <div class=\"colab-df-container\">\n",
              "      <div>\n",
              "<style scoped>\n",
              "    .dataframe tbody tr th:only-of-type {\n",
              "        vertical-align: middle;\n",
              "    }\n",
              "\n",
              "    .dataframe tbody tr th {\n",
              "        vertical-align: top;\n",
              "    }\n",
              "\n",
              "    .dataframe thead th {\n",
              "        text-align: right;\n",
              "    }\n",
              "</style>\n",
              "<table border=\"1\" class=\"dataframe\">\n",
              "  <thead>\n",
              "    <tr style=\"text-align: right;\">\n",
              "      <th></th>\n",
              "      <th>satisfaction_level</th>\n",
              "      <th>last_evaluation</th>\n",
              "      <th>number_project</th>\n",
              "      <th>average_montly_hours</th>\n",
              "      <th>time_spend_company</th>\n",
              "      <th>Work_accident</th>\n",
              "      <th>left</th>\n",
              "      <th>promotion_last_5years</th>\n",
              "      <th>Departments _RandD</th>\n",
              "      <th>Departments _accounting</th>\n",
              "      <th>Departments _hr</th>\n",
              "      <th>Departments _management</th>\n",
              "      <th>Departments _marketing</th>\n",
              "      <th>Departments _product_mng</th>\n",
              "      <th>Departments _sales</th>\n",
              "      <th>Departments _support</th>\n",
              "      <th>Departments _technical</th>\n",
              "      <th>salary_low</th>\n",
              "      <th>salary_medium</th>\n",
              "    </tr>\n",
              "  </thead>\n",
              "  <tbody>\n",
              "    <tr>\n",
              "      <th>0</th>\n",
              "      <td>0.38</td>\n",
              "      <td>0.53</td>\n",
              "      <td>2</td>\n",
              "      <td>157</td>\n",
              "      <td>3</td>\n",
              "      <td>0</td>\n",
              "      <td>1</td>\n",
              "      <td>0</td>\n",
              "      <td>0</td>\n",
              "      <td>0</td>\n",
              "      <td>0</td>\n",
              "      <td>0</td>\n",
              "      <td>0</td>\n",
              "      <td>0</td>\n",
              "      <td>1</td>\n",
              "      <td>0</td>\n",
              "      <td>0</td>\n",
              "      <td>1</td>\n",
              "      <td>0</td>\n",
              "    </tr>\n",
              "    <tr>\n",
              "      <th>1</th>\n",
              "      <td>0.80</td>\n",
              "      <td>0.86</td>\n",
              "      <td>5</td>\n",
              "      <td>262</td>\n",
              "      <td>6</td>\n",
              "      <td>0</td>\n",
              "      <td>1</td>\n",
              "      <td>0</td>\n",
              "      <td>0</td>\n",
              "      <td>0</td>\n",
              "      <td>0</td>\n",
              "      <td>0</td>\n",
              "      <td>0</td>\n",
              "      <td>0</td>\n",
              "      <td>1</td>\n",
              "      <td>0</td>\n",
              "      <td>0</td>\n",
              "      <td>0</td>\n",
              "      <td>1</td>\n",
              "    </tr>\n",
              "    <tr>\n",
              "      <th>2</th>\n",
              "      <td>0.11</td>\n",
              "      <td>0.88</td>\n",
              "      <td>7</td>\n",
              "      <td>272</td>\n",
              "      <td>4</td>\n",
              "      <td>0</td>\n",
              "      <td>1</td>\n",
              "      <td>0</td>\n",
              "      <td>0</td>\n",
              "      <td>0</td>\n",
              "      <td>0</td>\n",
              "      <td>0</td>\n",
              "      <td>0</td>\n",
              "      <td>0</td>\n",
              "      <td>1</td>\n",
              "      <td>0</td>\n",
              "      <td>0</td>\n",
              "      <td>0</td>\n",
              "      <td>1</td>\n",
              "    </tr>\n",
              "    <tr>\n",
              "      <th>3</th>\n",
              "      <td>0.72</td>\n",
              "      <td>0.87</td>\n",
              "      <td>5</td>\n",
              "      <td>223</td>\n",
              "      <td>5</td>\n",
              "      <td>0</td>\n",
              "      <td>1</td>\n",
              "      <td>0</td>\n",
              "      <td>0</td>\n",
              "      <td>0</td>\n",
              "      <td>0</td>\n",
              "      <td>0</td>\n",
              "      <td>0</td>\n",
              "      <td>0</td>\n",
              "      <td>1</td>\n",
              "      <td>0</td>\n",
              "      <td>0</td>\n",
              "      <td>1</td>\n",
              "      <td>0</td>\n",
              "    </tr>\n",
              "    <tr>\n",
              "      <th>4</th>\n",
              "      <td>0.37</td>\n",
              "      <td>0.52</td>\n",
              "      <td>2</td>\n",
              "      <td>159</td>\n",
              "      <td>3</td>\n",
              "      <td>0</td>\n",
              "      <td>1</td>\n",
              "      <td>0</td>\n",
              "      <td>0</td>\n",
              "      <td>0</td>\n",
              "      <td>0</td>\n",
              "      <td>0</td>\n",
              "      <td>0</td>\n",
              "      <td>0</td>\n",
              "      <td>1</td>\n",
              "      <td>0</td>\n",
              "      <td>0</td>\n",
              "      <td>1</td>\n",
              "      <td>0</td>\n",
              "    </tr>\n",
              "  </tbody>\n",
              "</table>\n",
              "</div>\n",
              "      <button class=\"colab-df-convert\" onclick=\"convertToInteractive('df-f3e3ae1e-800f-4f41-b443-64abf2553abf')\"\n",
              "              title=\"Convert this dataframe to an interactive table.\"\n",
              "              style=\"display:none;\">\n",
              "        \n",
              "  <svg xmlns=\"http://www.w3.org/2000/svg\" height=\"24px\"viewBox=\"0 0 24 24\"\n",
              "       width=\"24px\">\n",
              "    <path d=\"M0 0h24v24H0V0z\" fill=\"none\"/>\n",
              "    <path d=\"M18.56 5.44l.94 2.06.94-2.06 2.06-.94-2.06-.94-.94-2.06-.94 2.06-2.06.94zm-11 1L8.5 8.5l.94-2.06 2.06-.94-2.06-.94L8.5 2.5l-.94 2.06-2.06.94zm10 10l.94 2.06.94-2.06 2.06-.94-2.06-.94-.94-2.06-.94 2.06-2.06.94z\"/><path d=\"M17.41 7.96l-1.37-1.37c-.4-.4-.92-.59-1.43-.59-.52 0-1.04.2-1.43.59L10.3 9.45l-7.72 7.72c-.78.78-.78 2.05 0 2.83L4 21.41c.39.39.9.59 1.41.59.51 0 1.02-.2 1.41-.59l7.78-7.78 2.81-2.81c.8-.78.8-2.07 0-2.86zM5.41 20L4 18.59l7.72-7.72 1.47 1.35L5.41 20z\"/>\n",
              "  </svg>\n",
              "      </button>\n",
              "      \n",
              "  <style>\n",
              "    .colab-df-container {\n",
              "      display:flex;\n",
              "      flex-wrap:wrap;\n",
              "      gap: 12px;\n",
              "    }\n",
              "\n",
              "    .colab-df-convert {\n",
              "      background-color: #E8F0FE;\n",
              "      border: none;\n",
              "      border-radius: 50%;\n",
              "      cursor: pointer;\n",
              "      display: none;\n",
              "      fill: #1967D2;\n",
              "      height: 32px;\n",
              "      padding: 0 0 0 0;\n",
              "      width: 32px;\n",
              "    }\n",
              "\n",
              "    .colab-df-convert:hover {\n",
              "      background-color: #E2EBFA;\n",
              "      box-shadow: 0px 1px 2px rgba(60, 64, 67, 0.3), 0px 1px 3px 1px rgba(60, 64, 67, 0.15);\n",
              "      fill: #174EA6;\n",
              "    }\n",
              "\n",
              "    [theme=dark] .colab-df-convert {\n",
              "      background-color: #3B4455;\n",
              "      fill: #D2E3FC;\n",
              "    }\n",
              "\n",
              "    [theme=dark] .colab-df-convert:hover {\n",
              "      background-color: #434B5C;\n",
              "      box-shadow: 0px 1px 3px 1px rgba(0, 0, 0, 0.15);\n",
              "      filter: drop-shadow(0px 1px 2px rgba(0, 0, 0, 0.3));\n",
              "      fill: #FFFFFF;\n",
              "    }\n",
              "  </style>\n",
              "\n",
              "      <script>\n",
              "        const buttonEl =\n",
              "          document.querySelector('#df-f3e3ae1e-800f-4f41-b443-64abf2553abf button.colab-df-convert');\n",
              "        buttonEl.style.display =\n",
              "          google.colab.kernel.accessAllowed ? 'block' : 'none';\n",
              "\n",
              "        async function convertToInteractive(key) {\n",
              "          const element = document.querySelector('#df-f3e3ae1e-800f-4f41-b443-64abf2553abf');\n",
              "          const dataTable =\n",
              "            await google.colab.kernel.invokeFunction('convertToInteractive',\n",
              "                                                     [key], {});\n",
              "          if (!dataTable) return;\n",
              "\n",
              "          const docLinkHtml = 'Like what you see? Visit the ' +\n",
              "            '<a target=\"_blank\" href=https://colab.research.google.com/notebooks/data_table.ipynb>data table notebook</a>'\n",
              "            + ' to learn more about interactive tables.';\n",
              "          element.innerHTML = '';\n",
              "          dataTable['output_type'] = 'display_data';\n",
              "          await google.colab.output.renderOutput(dataTable, element);\n",
              "          const docLink = document.createElement('div');\n",
              "          docLink.innerHTML = docLinkHtml;\n",
              "          element.appendChild(docLink);\n",
              "        }\n",
              "      </script>\n",
              "    </div>\n",
              "  </div>\n",
              "  "
            ]
          },
          "metadata": {},
          "execution_count": 21
        }
      ],
      "source": [
        "df.head()"
      ],
      "id": "950f651a"
    },
    {
      "cell_type": "markdown",
      "metadata": {
        "id": "c7f82aba"
      },
      "source": [
        "## 4. Cluster Analysis\n",
        "\n",
        "- Cluster analysis or clustering is the task of grouping a set of objects in such a way that objects in the same group (called a cluster) are more similar (in some sense) to each other than to those in other groups (clusters). It is a main task of exploratory data mining, and a common technique for statistical data analysis, used in many fields, including pattern recognition, image analysis, information retrieval, bioinformatics, data compression, computer graphics and machine learning.\n",
        "\n",
        "    [Cluster Analysis](https://en.wikipedia.org/wiki/Cluster_analysis)\n",
        "\n",
        "    [Cluster Analysis2](https://realpython.com/k-means-clustering-python/)"
      ],
      "id": "c7f82aba"
    },
    {
      "cell_type": "code",
      "execution_count": 22,
      "metadata": {
        "id": "54de3576"
      },
      "outputs": [],
      "source": [
        "X = df.drop(\"left\", axis =1) # we didn't scale the data bc our scores are better without scaling."
      ],
      "id": "54de3576"
    },
    {
      "cell_type": "code",
      "execution_count": 23,
      "metadata": {
        "id": "43bd28ed",
        "colab": {
          "base_uri": "https://localhost:8080/",
          "height": 288
        },
        "outputId": "b69cf180-03c6-4422-f90f-b514707b2146"
      },
      "outputs": [
        {
          "output_type": "execute_result",
          "data": {
            "text/plain": [
              "   satisfaction_level  last_evaluation  number_project  average_montly_hours  \\\n",
              "0                0.38             0.53               2                   157   \n",
              "1                0.80             0.86               5                   262   \n",
              "2                0.11             0.88               7                   272   \n",
              "3                0.72             0.87               5                   223   \n",
              "4                0.37             0.52               2                   159   \n",
              "\n",
              "   time_spend_company  Work_accident  promotion_last_5years  \\\n",
              "0                   3              0                      0   \n",
              "1                   6              0                      0   \n",
              "2                   4              0                      0   \n",
              "3                   5              0                      0   \n",
              "4                   3              0                      0   \n",
              "\n",
              "   Departments _RandD  Departments _accounting  Departments _hr  \\\n",
              "0                   0                        0                0   \n",
              "1                   0                        0                0   \n",
              "2                   0                        0                0   \n",
              "3                   0                        0                0   \n",
              "4                   0                        0                0   \n",
              "\n",
              "   Departments _management  Departments _marketing  Departments _product_mng  \\\n",
              "0                        0                       0                         0   \n",
              "1                        0                       0                         0   \n",
              "2                        0                       0                         0   \n",
              "3                        0                       0                         0   \n",
              "4                        0                       0                         0   \n",
              "\n",
              "   Departments _sales  Departments _support  Departments _technical  \\\n",
              "0                   1                     0                       0   \n",
              "1                   1                     0                       0   \n",
              "2                   1                     0                       0   \n",
              "3                   1                     0                       0   \n",
              "4                   1                     0                       0   \n",
              "\n",
              "   salary_low  salary_medium  \n",
              "0           1              0  \n",
              "1           0              1  \n",
              "2           0              1  \n",
              "3           1              0  \n",
              "4           1              0  "
            ],
            "text/html": [
              "\n",
              "  <div id=\"df-af4c754e-3f47-4a32-814d-a6fcbc4c8a69\">\n",
              "    <div class=\"colab-df-container\">\n",
              "      <div>\n",
              "<style scoped>\n",
              "    .dataframe tbody tr th:only-of-type {\n",
              "        vertical-align: middle;\n",
              "    }\n",
              "\n",
              "    .dataframe tbody tr th {\n",
              "        vertical-align: top;\n",
              "    }\n",
              "\n",
              "    .dataframe thead th {\n",
              "        text-align: right;\n",
              "    }\n",
              "</style>\n",
              "<table border=\"1\" class=\"dataframe\">\n",
              "  <thead>\n",
              "    <tr style=\"text-align: right;\">\n",
              "      <th></th>\n",
              "      <th>satisfaction_level</th>\n",
              "      <th>last_evaluation</th>\n",
              "      <th>number_project</th>\n",
              "      <th>average_montly_hours</th>\n",
              "      <th>time_spend_company</th>\n",
              "      <th>Work_accident</th>\n",
              "      <th>promotion_last_5years</th>\n",
              "      <th>Departments _RandD</th>\n",
              "      <th>Departments _accounting</th>\n",
              "      <th>Departments _hr</th>\n",
              "      <th>Departments _management</th>\n",
              "      <th>Departments _marketing</th>\n",
              "      <th>Departments _product_mng</th>\n",
              "      <th>Departments _sales</th>\n",
              "      <th>Departments _support</th>\n",
              "      <th>Departments _technical</th>\n",
              "      <th>salary_low</th>\n",
              "      <th>salary_medium</th>\n",
              "    </tr>\n",
              "  </thead>\n",
              "  <tbody>\n",
              "    <tr>\n",
              "      <th>0</th>\n",
              "      <td>0.38</td>\n",
              "      <td>0.53</td>\n",
              "      <td>2</td>\n",
              "      <td>157</td>\n",
              "      <td>3</td>\n",
              "      <td>0</td>\n",
              "      <td>0</td>\n",
              "      <td>0</td>\n",
              "      <td>0</td>\n",
              "      <td>0</td>\n",
              "      <td>0</td>\n",
              "      <td>0</td>\n",
              "      <td>0</td>\n",
              "      <td>1</td>\n",
              "      <td>0</td>\n",
              "      <td>0</td>\n",
              "      <td>1</td>\n",
              "      <td>0</td>\n",
              "    </tr>\n",
              "    <tr>\n",
              "      <th>1</th>\n",
              "      <td>0.80</td>\n",
              "      <td>0.86</td>\n",
              "      <td>5</td>\n",
              "      <td>262</td>\n",
              "      <td>6</td>\n",
              "      <td>0</td>\n",
              "      <td>0</td>\n",
              "      <td>0</td>\n",
              "      <td>0</td>\n",
              "      <td>0</td>\n",
              "      <td>0</td>\n",
              "      <td>0</td>\n",
              "      <td>0</td>\n",
              "      <td>1</td>\n",
              "      <td>0</td>\n",
              "      <td>0</td>\n",
              "      <td>0</td>\n",
              "      <td>1</td>\n",
              "    </tr>\n",
              "    <tr>\n",
              "      <th>2</th>\n",
              "      <td>0.11</td>\n",
              "      <td>0.88</td>\n",
              "      <td>7</td>\n",
              "      <td>272</td>\n",
              "      <td>4</td>\n",
              "      <td>0</td>\n",
              "      <td>0</td>\n",
              "      <td>0</td>\n",
              "      <td>0</td>\n",
              "      <td>0</td>\n",
              "      <td>0</td>\n",
              "      <td>0</td>\n",
              "      <td>0</td>\n",
              "      <td>1</td>\n",
              "      <td>0</td>\n",
              "      <td>0</td>\n",
              "      <td>0</td>\n",
              "      <td>1</td>\n",
              "    </tr>\n",
              "    <tr>\n",
              "      <th>3</th>\n",
              "      <td>0.72</td>\n",
              "      <td>0.87</td>\n",
              "      <td>5</td>\n",
              "      <td>223</td>\n",
              "      <td>5</td>\n",
              "      <td>0</td>\n",
              "      <td>0</td>\n",
              "      <td>0</td>\n",
              "      <td>0</td>\n",
              "      <td>0</td>\n",
              "      <td>0</td>\n",
              "      <td>0</td>\n",
              "      <td>0</td>\n",
              "      <td>1</td>\n",
              "      <td>0</td>\n",
              "      <td>0</td>\n",
              "      <td>1</td>\n",
              "      <td>0</td>\n",
              "    </tr>\n",
              "    <tr>\n",
              "      <th>4</th>\n",
              "      <td>0.37</td>\n",
              "      <td>0.52</td>\n",
              "      <td>2</td>\n",
              "      <td>159</td>\n",
              "      <td>3</td>\n",
              "      <td>0</td>\n",
              "      <td>0</td>\n",
              "      <td>0</td>\n",
              "      <td>0</td>\n",
              "      <td>0</td>\n",
              "      <td>0</td>\n",
              "      <td>0</td>\n",
              "      <td>0</td>\n",
              "      <td>1</td>\n",
              "      <td>0</td>\n",
              "      <td>0</td>\n",
              "      <td>1</td>\n",
              "      <td>0</td>\n",
              "    </tr>\n",
              "  </tbody>\n",
              "</table>\n",
              "</div>\n",
              "      <button class=\"colab-df-convert\" onclick=\"convertToInteractive('df-af4c754e-3f47-4a32-814d-a6fcbc4c8a69')\"\n",
              "              title=\"Convert this dataframe to an interactive table.\"\n",
              "              style=\"display:none;\">\n",
              "        \n",
              "  <svg xmlns=\"http://www.w3.org/2000/svg\" height=\"24px\"viewBox=\"0 0 24 24\"\n",
              "       width=\"24px\">\n",
              "    <path d=\"M0 0h24v24H0V0z\" fill=\"none\"/>\n",
              "    <path d=\"M18.56 5.44l.94 2.06.94-2.06 2.06-.94-2.06-.94-.94-2.06-.94 2.06-2.06.94zm-11 1L8.5 8.5l.94-2.06 2.06-.94-2.06-.94L8.5 2.5l-.94 2.06-2.06.94zm10 10l.94 2.06.94-2.06 2.06-.94-2.06-.94-.94-2.06-.94 2.06-2.06.94z\"/><path d=\"M17.41 7.96l-1.37-1.37c-.4-.4-.92-.59-1.43-.59-.52 0-1.04.2-1.43.59L10.3 9.45l-7.72 7.72c-.78.78-.78 2.05 0 2.83L4 21.41c.39.39.9.59 1.41.59.51 0 1.02-.2 1.41-.59l7.78-7.78 2.81-2.81c.8-.78.8-2.07 0-2.86zM5.41 20L4 18.59l7.72-7.72 1.47 1.35L5.41 20z\"/>\n",
              "  </svg>\n",
              "      </button>\n",
              "      \n",
              "  <style>\n",
              "    .colab-df-container {\n",
              "      display:flex;\n",
              "      flex-wrap:wrap;\n",
              "      gap: 12px;\n",
              "    }\n",
              "\n",
              "    .colab-df-convert {\n",
              "      background-color: #E8F0FE;\n",
              "      border: none;\n",
              "      border-radius: 50%;\n",
              "      cursor: pointer;\n",
              "      display: none;\n",
              "      fill: #1967D2;\n",
              "      height: 32px;\n",
              "      padding: 0 0 0 0;\n",
              "      width: 32px;\n",
              "    }\n",
              "\n",
              "    .colab-df-convert:hover {\n",
              "      background-color: #E2EBFA;\n",
              "      box-shadow: 0px 1px 2px rgba(60, 64, 67, 0.3), 0px 1px 3px 1px rgba(60, 64, 67, 0.15);\n",
              "      fill: #174EA6;\n",
              "    }\n",
              "\n",
              "    [theme=dark] .colab-df-convert {\n",
              "      background-color: #3B4455;\n",
              "      fill: #D2E3FC;\n",
              "    }\n",
              "\n",
              "    [theme=dark] .colab-df-convert:hover {\n",
              "      background-color: #434B5C;\n",
              "      box-shadow: 0px 1px 3px 1px rgba(0, 0, 0, 0.15);\n",
              "      filter: drop-shadow(0px 1px 2px rgba(0, 0, 0, 0.3));\n",
              "      fill: #FFFFFF;\n",
              "    }\n",
              "  </style>\n",
              "\n",
              "      <script>\n",
              "        const buttonEl =\n",
              "          document.querySelector('#df-af4c754e-3f47-4a32-814d-a6fcbc4c8a69 button.colab-df-convert');\n",
              "        buttonEl.style.display =\n",
              "          google.colab.kernel.accessAllowed ? 'block' : 'none';\n",
              "\n",
              "        async function convertToInteractive(key) {\n",
              "          const element = document.querySelector('#df-af4c754e-3f47-4a32-814d-a6fcbc4c8a69');\n",
              "          const dataTable =\n",
              "            await google.colab.kernel.invokeFunction('convertToInteractive',\n",
              "                                                     [key], {});\n",
              "          if (!dataTable) return;\n",
              "\n",
              "          const docLinkHtml = 'Like what you see? Visit the ' +\n",
              "            '<a target=\"_blank\" href=https://colab.research.google.com/notebooks/data_table.ipynb>data table notebook</a>'\n",
              "            + ' to learn more about interactive tables.';\n",
              "          element.innerHTML = '';\n",
              "          dataTable['output_type'] = 'display_data';\n",
              "          await google.colab.output.renderOutput(dataTable, element);\n",
              "          const docLink = document.createElement('div');\n",
              "          docLink.innerHTML = docLinkHtml;\n",
              "          element.appendChild(docLink);\n",
              "        }\n",
              "      </script>\n",
              "    </div>\n",
              "  </div>\n",
              "  "
            ]
          },
          "metadata": {},
          "execution_count": 23
        }
      ],
      "source": [
        "X.head()"
      ],
      "id": "43bd28ed"
    },
    {
      "cell_type": "code",
      "execution_count": 24,
      "metadata": {
        "id": "fb2ef1c6"
      },
      "outputs": [],
      "source": [
        "from sklearn.cluster import KMeans\n",
        "K_means_model = KMeans(n_clusters=5, random_state=42)     # n_clusters=8 --> Default"
      ],
      "id": "fb2ef1c6"
    },
    {
      "cell_type": "code",
      "execution_count": 25,
      "metadata": {
        "id": "6a2cab9c",
        "colab": {
          "base_uri": "https://localhost:8080/"
        },
        "outputId": "e5f002f8-85af-45bc-9019-3cdc55f6296b"
      },
      "outputs": [
        {
          "output_type": "execute_result",
          "data": {
            "text/plain": [
              "array([0, 4, 4, ..., 2, 0, 0], dtype=int32)"
            ]
          },
          "metadata": {},
          "execution_count": 25
        }
      ],
      "source": [
        "K_means_model.fit_predict(X)"
      ],
      "id": "6a2cab9c"
    },
    {
      "cell_type": "code",
      "execution_count": 26,
      "metadata": {
        "id": "1ea9d8bf",
        "colab": {
          "base_uri": "https://localhost:8080/"
        },
        "outputId": "22bdba76-ee4a-4927-b4af-ae0cc6e3e82b"
      },
      "outputs": [
        {
          "output_type": "execute_result",
          "data": {
            "text/plain": [
              "KMeans(n_clusters=5, random_state=42)"
            ]
          },
          "metadata": {},
          "execution_count": 26
        }
      ],
      "source": [
        "K_means_model.fit(X)"
      ],
      "id": "1ea9d8bf"
    },
    {
      "cell_type": "code",
      "execution_count": 27,
      "metadata": {
        "id": "d05dbb0a"
      },
      "outputs": [],
      "source": [
        "df[\"Classes\"] = K_means_model.labels_"
      ],
      "id": "d05dbb0a"
    },
    {
      "cell_type": "code",
      "execution_count": 28,
      "metadata": {
        "id": "cdae3053",
        "colab": {
          "base_uri": "https://localhost:8080/"
        },
        "outputId": "d1f7bd1a-5f9b-4493-d336-d75325155d5e"
      },
      "outputs": [
        {
          "output_type": "execute_result",
          "data": {
            "text/plain": [
              "0    2715\n",
              "1    2495\n",
              "2    2389\n",
              "4    2263\n",
              "3    2129\n",
              "Name: Classes, dtype: int64"
            ]
          },
          "metadata": {},
          "execution_count": 28
        }
      ],
      "source": [
        "df.Classes.value_counts()"
      ],
      "id": "cdae3053"
    },
    {
      "cell_type": "code",
      "execution_count": 29,
      "metadata": {
        "id": "8e7bd1bf",
        "colab": {
          "base_uri": "https://localhost:8080/",
          "height": 288
        },
        "outputId": "8c8a7e2a-c9e2-45cb-b0e3-3d0b7bea14f4"
      },
      "outputs": [
        {
          "output_type": "execute_result",
          "data": {
            "text/plain": [
              "   satisfaction_level  last_evaluation  number_project  average_montly_hours  \\\n",
              "0                0.38             0.53               2                   157   \n",
              "1                0.80             0.86               5                   262   \n",
              "2                0.11             0.88               7                   272   \n",
              "3                0.72             0.87               5                   223   \n",
              "4                0.37             0.52               2                   159   \n",
              "\n",
              "   time_spend_company  Work_accident  left  promotion_last_5years  \\\n",
              "0                   3              0     1                      0   \n",
              "1                   6              0     1                      0   \n",
              "2                   4              0     1                      0   \n",
              "3                   5              0     1                      0   \n",
              "4                   3              0     1                      0   \n",
              "\n",
              "   Departments _RandD  Departments _accounting  Departments _hr  \\\n",
              "0                   0                        0                0   \n",
              "1                   0                        0                0   \n",
              "2                   0                        0                0   \n",
              "3                   0                        0                0   \n",
              "4                   0                        0                0   \n",
              "\n",
              "   Departments _management  Departments _marketing  Departments _product_mng  \\\n",
              "0                        0                       0                         0   \n",
              "1                        0                       0                         0   \n",
              "2                        0                       0                         0   \n",
              "3                        0                       0                         0   \n",
              "4                        0                       0                         0   \n",
              "\n",
              "   Departments _sales  Departments _support  Departments _technical  \\\n",
              "0                   1                     0                       0   \n",
              "1                   1                     0                       0   \n",
              "2                   1                     0                       0   \n",
              "3                   1                     0                       0   \n",
              "4                   1                     0                       0   \n",
              "\n",
              "   salary_low  salary_medium  Classes  \n",
              "0           1              0        0  \n",
              "1           0              1        4  \n",
              "2           0              1        4  \n",
              "3           1              0        1  \n",
              "4           1              0        0  "
            ],
            "text/html": [
              "\n",
              "  <div id=\"df-1624527b-adeb-4d1e-a169-27a77e5c2583\">\n",
              "    <div class=\"colab-df-container\">\n",
              "      <div>\n",
              "<style scoped>\n",
              "    .dataframe tbody tr th:only-of-type {\n",
              "        vertical-align: middle;\n",
              "    }\n",
              "\n",
              "    .dataframe tbody tr th {\n",
              "        vertical-align: top;\n",
              "    }\n",
              "\n",
              "    .dataframe thead th {\n",
              "        text-align: right;\n",
              "    }\n",
              "</style>\n",
              "<table border=\"1\" class=\"dataframe\">\n",
              "  <thead>\n",
              "    <tr style=\"text-align: right;\">\n",
              "      <th></th>\n",
              "      <th>satisfaction_level</th>\n",
              "      <th>last_evaluation</th>\n",
              "      <th>number_project</th>\n",
              "      <th>average_montly_hours</th>\n",
              "      <th>time_spend_company</th>\n",
              "      <th>Work_accident</th>\n",
              "      <th>left</th>\n",
              "      <th>promotion_last_5years</th>\n",
              "      <th>Departments _RandD</th>\n",
              "      <th>Departments _accounting</th>\n",
              "      <th>Departments _hr</th>\n",
              "      <th>Departments _management</th>\n",
              "      <th>Departments _marketing</th>\n",
              "      <th>Departments _product_mng</th>\n",
              "      <th>Departments _sales</th>\n",
              "      <th>Departments _support</th>\n",
              "      <th>Departments _technical</th>\n",
              "      <th>salary_low</th>\n",
              "      <th>salary_medium</th>\n",
              "      <th>Classes</th>\n",
              "    </tr>\n",
              "  </thead>\n",
              "  <tbody>\n",
              "    <tr>\n",
              "      <th>0</th>\n",
              "      <td>0.38</td>\n",
              "      <td>0.53</td>\n",
              "      <td>2</td>\n",
              "      <td>157</td>\n",
              "      <td>3</td>\n",
              "      <td>0</td>\n",
              "      <td>1</td>\n",
              "      <td>0</td>\n",
              "      <td>0</td>\n",
              "      <td>0</td>\n",
              "      <td>0</td>\n",
              "      <td>0</td>\n",
              "      <td>0</td>\n",
              "      <td>0</td>\n",
              "      <td>1</td>\n",
              "      <td>0</td>\n",
              "      <td>0</td>\n",
              "      <td>1</td>\n",
              "      <td>0</td>\n",
              "      <td>0</td>\n",
              "    </tr>\n",
              "    <tr>\n",
              "      <th>1</th>\n",
              "      <td>0.80</td>\n",
              "      <td>0.86</td>\n",
              "      <td>5</td>\n",
              "      <td>262</td>\n",
              "      <td>6</td>\n",
              "      <td>0</td>\n",
              "      <td>1</td>\n",
              "      <td>0</td>\n",
              "      <td>0</td>\n",
              "      <td>0</td>\n",
              "      <td>0</td>\n",
              "      <td>0</td>\n",
              "      <td>0</td>\n",
              "      <td>0</td>\n",
              "      <td>1</td>\n",
              "      <td>0</td>\n",
              "      <td>0</td>\n",
              "      <td>0</td>\n",
              "      <td>1</td>\n",
              "      <td>4</td>\n",
              "    </tr>\n",
              "    <tr>\n",
              "      <th>2</th>\n",
              "      <td>0.11</td>\n",
              "      <td>0.88</td>\n",
              "      <td>7</td>\n",
              "      <td>272</td>\n",
              "      <td>4</td>\n",
              "      <td>0</td>\n",
              "      <td>1</td>\n",
              "      <td>0</td>\n",
              "      <td>0</td>\n",
              "      <td>0</td>\n",
              "      <td>0</td>\n",
              "      <td>0</td>\n",
              "      <td>0</td>\n",
              "      <td>0</td>\n",
              "      <td>1</td>\n",
              "      <td>0</td>\n",
              "      <td>0</td>\n",
              "      <td>0</td>\n",
              "      <td>1</td>\n",
              "      <td>4</td>\n",
              "    </tr>\n",
              "    <tr>\n",
              "      <th>3</th>\n",
              "      <td>0.72</td>\n",
              "      <td>0.87</td>\n",
              "      <td>5</td>\n",
              "      <td>223</td>\n",
              "      <td>5</td>\n",
              "      <td>0</td>\n",
              "      <td>1</td>\n",
              "      <td>0</td>\n",
              "      <td>0</td>\n",
              "      <td>0</td>\n",
              "      <td>0</td>\n",
              "      <td>0</td>\n",
              "      <td>0</td>\n",
              "      <td>0</td>\n",
              "      <td>1</td>\n",
              "      <td>0</td>\n",
              "      <td>0</td>\n",
              "      <td>1</td>\n",
              "      <td>0</td>\n",
              "      <td>1</td>\n",
              "    </tr>\n",
              "    <tr>\n",
              "      <th>4</th>\n",
              "      <td>0.37</td>\n",
              "      <td>0.52</td>\n",
              "      <td>2</td>\n",
              "      <td>159</td>\n",
              "      <td>3</td>\n",
              "      <td>0</td>\n",
              "      <td>1</td>\n",
              "      <td>0</td>\n",
              "      <td>0</td>\n",
              "      <td>0</td>\n",
              "      <td>0</td>\n",
              "      <td>0</td>\n",
              "      <td>0</td>\n",
              "      <td>0</td>\n",
              "      <td>1</td>\n",
              "      <td>0</td>\n",
              "      <td>0</td>\n",
              "      <td>1</td>\n",
              "      <td>0</td>\n",
              "      <td>0</td>\n",
              "    </tr>\n",
              "  </tbody>\n",
              "</table>\n",
              "</div>\n",
              "      <button class=\"colab-df-convert\" onclick=\"convertToInteractive('df-1624527b-adeb-4d1e-a169-27a77e5c2583')\"\n",
              "              title=\"Convert this dataframe to an interactive table.\"\n",
              "              style=\"display:none;\">\n",
              "        \n",
              "  <svg xmlns=\"http://www.w3.org/2000/svg\" height=\"24px\"viewBox=\"0 0 24 24\"\n",
              "       width=\"24px\">\n",
              "    <path d=\"M0 0h24v24H0V0z\" fill=\"none\"/>\n",
              "    <path d=\"M18.56 5.44l.94 2.06.94-2.06 2.06-.94-2.06-.94-.94-2.06-.94 2.06-2.06.94zm-11 1L8.5 8.5l.94-2.06 2.06-.94-2.06-.94L8.5 2.5l-.94 2.06-2.06.94zm10 10l.94 2.06.94-2.06 2.06-.94-2.06-.94-.94-2.06-.94 2.06-2.06.94z\"/><path d=\"M17.41 7.96l-1.37-1.37c-.4-.4-.92-.59-1.43-.59-.52 0-1.04.2-1.43.59L10.3 9.45l-7.72 7.72c-.78.78-.78 2.05 0 2.83L4 21.41c.39.39.9.59 1.41.59.51 0 1.02-.2 1.41-.59l7.78-7.78 2.81-2.81c.8-.78.8-2.07 0-2.86zM5.41 20L4 18.59l7.72-7.72 1.47 1.35L5.41 20z\"/>\n",
              "  </svg>\n",
              "      </button>\n",
              "      \n",
              "  <style>\n",
              "    .colab-df-container {\n",
              "      display:flex;\n",
              "      flex-wrap:wrap;\n",
              "      gap: 12px;\n",
              "    }\n",
              "\n",
              "    .colab-df-convert {\n",
              "      background-color: #E8F0FE;\n",
              "      border: none;\n",
              "      border-radius: 50%;\n",
              "      cursor: pointer;\n",
              "      display: none;\n",
              "      fill: #1967D2;\n",
              "      height: 32px;\n",
              "      padding: 0 0 0 0;\n",
              "      width: 32px;\n",
              "    }\n",
              "\n",
              "    .colab-df-convert:hover {\n",
              "      background-color: #E2EBFA;\n",
              "      box-shadow: 0px 1px 2px rgba(60, 64, 67, 0.3), 0px 1px 3px 1px rgba(60, 64, 67, 0.15);\n",
              "      fill: #174EA6;\n",
              "    }\n",
              "\n",
              "    [theme=dark] .colab-df-convert {\n",
              "      background-color: #3B4455;\n",
              "      fill: #D2E3FC;\n",
              "    }\n",
              "\n",
              "    [theme=dark] .colab-df-convert:hover {\n",
              "      background-color: #434B5C;\n",
              "      box-shadow: 0px 1px 3px 1px rgba(0, 0, 0, 0.15);\n",
              "      filter: drop-shadow(0px 1px 2px rgba(0, 0, 0, 0.3));\n",
              "      fill: #FFFFFF;\n",
              "    }\n",
              "  </style>\n",
              "\n",
              "      <script>\n",
              "        const buttonEl =\n",
              "          document.querySelector('#df-1624527b-adeb-4d1e-a169-27a77e5c2583 button.colab-df-convert');\n",
              "        buttonEl.style.display =\n",
              "          google.colab.kernel.accessAllowed ? 'block' : 'none';\n",
              "\n",
              "        async function convertToInteractive(key) {\n",
              "          const element = document.querySelector('#df-1624527b-adeb-4d1e-a169-27a77e5c2583');\n",
              "          const dataTable =\n",
              "            await google.colab.kernel.invokeFunction('convertToInteractive',\n",
              "                                                     [key], {});\n",
              "          if (!dataTable) return;\n",
              "\n",
              "          const docLinkHtml = 'Like what you see? Visit the ' +\n",
              "            '<a target=\"_blank\" href=https://colab.research.google.com/notebooks/data_table.ipynb>data table notebook</a>'\n",
              "            + ' to learn more about interactive tables.';\n",
              "          element.innerHTML = '';\n",
              "          dataTable['output_type'] = 'display_data';\n",
              "          await google.colab.output.renderOutput(dataTable, element);\n",
              "          const docLink = document.createElement('div');\n",
              "          docLink.innerHTML = docLinkHtml;\n",
              "          element.appendChild(docLink);\n",
              "        }\n",
              "      </script>\n",
              "    </div>\n",
              "  </div>\n",
              "  "
            ]
          },
          "metadata": {},
          "execution_count": 29
        }
      ],
      "source": [
        "df.head()"
      ],
      "id": "8e7bd1bf"
    },
    {
      "cell_type": "markdown",
      "metadata": {
        "id": "9d17532d"
      },
      "source": [
        "#### The Elbow Method\n",
        "\n",
        "- \"Elbow Method\" can be used to find the optimum number of clusters in cluster analysis. The elbow method is used to determine the optimal number of clusters in k-means clustering. The elbow method plots the value of the cost function produced by different values of k. If k increases, average distortion will decrease, each cluster will have fewer constituent instances, and the instances will be closer to their respective centroids. However, the improvements in average distortion will decline as k increases. The value of k at which improvement in distortion declines the most is called the elbow, at which we should stop dividing the data into further clusters.\n",
        "\n",
        "    [The Elbow Method](https://en.wikipedia.org/wiki/Elbow_method_(clustering)\n",
        "\n",
        "    [The Elbow Method2](https://medium.com/@mudgalvivek2911/machine-learning-clustering-elbow-method-4e8c2b404a5d)\n",
        "\n",
        "    [KMeans](https://towardsdatascience.com/understanding-k-means-clustering-in-machine-learning-6a6e67336aa1)\n",
        "\n",
        "Let's find out the groups of employees who left. You can observe that the most important factor for any employee to stay or leave is satisfaction and performance in the company. So let's bunch them in the group of people using cluster analysis."
      ],
      "id": "9d17532d"
    },
    {
      "cell_type": "markdown",
      "metadata": {
        "id": "859a8dc6"
      },
      "source": [
        "#### 1. Hopkins Test"
      ],
      "id": "859a8dc6"
    },
    {
      "cell_type": "code",
      "execution_count": 30,
      "metadata": {
        "id": "551421b0",
        "colab": {
          "base_uri": "https://localhost:8080/"
        },
        "outputId": "0559d357-dae4-4909-c181-b2b630648364"
      },
      "outputs": [
        {
          "output_type": "stream",
          "name": "stdout",
          "text": [
            "Collecting pyclustertend\n",
            "  Downloading pyclustertend-1.4.9-py3-none-any.whl (9.8 kB)\n",
            "Installing collected packages: pyclustertend\n",
            "Successfully installed pyclustertend-1.4.9\n"
          ]
        }
      ],
      "source": [
        "pip install pyclustertend"
      ],
      "id": "551421b0"
    },
    {
      "cell_type": "code",
      "execution_count": 31,
      "metadata": {
        "id": "eb8114f4"
      },
      "outputs": [],
      "source": [
        "from pyclustertend import hopkins"
      ],
      "id": "eb8114f4"
    },
    {
      "cell_type": "code",
      "execution_count": 32,
      "metadata": {
        "id": "8a634245",
        "colab": {
          "base_uri": "https://localhost:8080/"
        },
        "outputId": "efaaa940-60b1-40b1-c13f-1a59fd9fc8b8"
      },
      "outputs": [
        {
          "output_type": "execute_result",
          "data": {
            "text/plain": [
              "0.29512887085521305"
            ]
          },
          "metadata": {},
          "execution_count": 32
        }
      ],
      "source": [
        "hopkins(X, X.shape[0])"
      ],
      "id": "8a634245"
    },
    {
      "cell_type": "markdown",
      "metadata": {
        "id": "dad3f334"
      },
      "source": [
        "#### 2. Determine optimal number of clusters"
      ],
      "id": "dad3f334"
    },
    {
      "cell_type": "code",
      "execution_count": 33,
      "metadata": {
        "id": "48670d92"
      },
      "outputs": [],
      "source": [
        "ssd = []\n",
        "\n",
        "K = range(2,10)\n",
        "\n",
        "for k in K:\n",
        "    model = KMeans(n_clusters =k, random_state=42)\n",
        "    model.fit(X)\n",
        "    ssd.append(model.inertia_)"
      ],
      "id": "48670d92"
    },
    {
      "cell_type": "code",
      "execution_count": 165,
      "metadata": {
        "id": "2e24080b",
        "colab": {
          "base_uri": "https://localhost:8080/",
          "height": 512
        },
        "outputId": "6be1915f-49e4-469f-92ae-d0d5f530d29d"
      },
      "outputs": [
        {
          "output_type": "display_data",
          "data": {
            "text/plain": [
              "<Figure size 720x576 with 1 Axes>"
            ],
            "image/png": "[encoded data removed]"
          },
          "metadata": {}
        }
      ],
      "source": [
        "plt.plot(K, ssd, \"bo-\")\n",
        "plt.xlabel(\"Different k values\")\n",
        "plt.ylabel(\"inertia-error\") \n",
        "plt.title(\"elbow method\");"
      ],
      "id": "2e24080b"
    },
    {
      "cell_type": "code",
      "execution_count": 166,
      "metadata": {
        "id": "07f30714",
        "colab": {
          "base_uri": "https://localhost:8080/",
          "height": 300
        },
        "outputId": "170e919a-aac0-43cb-e884-17b9135fb226"
      },
      "outputs": [
        {
          "output_type": "execute_result",
          "data": {
            "text/plain": [
              "            0\n",
              "1         NaN\n",
              "2 3598261.139\n",
              "3 1271249.519\n",
              "4  661530.423\n",
              "5  400821.384\n",
              "6  261804.387\n",
              "7  191659.266\n",
              "8  159186.266"
            ],
            "text/html": [
              "\n",
              "  <div id=\"df-b01e2af6-656d-495e-9fc1-3310a450794c\">\n",
              "    <div class=\"colab-df-container\">\n",
              "      <div>\n",
              "<style scoped>\n",
              "    .dataframe tbody tr th:only-of-type {\n",
              "        vertical-align: middle;\n",
              "    }\n",
              "\n",
              "    .dataframe tbody tr th {\n",
              "        vertical-align: top;\n",
              "    }\n",
              "\n",
              "    .dataframe thead th {\n",
              "        text-align: right;\n",
              "    }\n",
              "</style>\n",
              "<table border=\"1\" class=\"dataframe\">\n",
              "  <thead>\n",
              "    <tr style=\"text-align: right;\">\n",
              "      <th></th>\n",
              "      <th>0</th>\n",
              "    </tr>\n",
              "  </thead>\n",
              "  <tbody>\n",
              "    <tr>\n",
              "      <th>1</th>\n",
              "      <td>NaN</td>\n",
              "    </tr>\n",
              "    <tr>\n",
              "      <th>2</th>\n",
              "      <td>3598261.139</td>\n",
              "    </tr>\n",
              "    <tr>\n",
              "      <th>3</th>\n",
              "      <td>1271249.519</td>\n",
              "    </tr>\n",
              "    <tr>\n",
              "      <th>4</th>\n",
              "      <td>661530.423</td>\n",
              "    </tr>\n",
              "    <tr>\n",
              "      <th>5</th>\n",
              "      <td>400821.384</td>\n",
              "    </tr>\n",
              "    <tr>\n",
              "      <th>6</th>\n",
              "      <td>261804.387</td>\n",
              "    </tr>\n",
              "    <tr>\n",
              "      <th>7</th>\n",
              "      <td>191659.266</td>\n",
              "    </tr>\n",
              "    <tr>\n",
              "      <th>8</th>\n",
              "      <td>159186.266</td>\n",
              "    </tr>\n",
              "  </tbody>\n",
              "</table>\n",
              "</div>\n",
              "      <button class=\"colab-df-convert\" onclick=\"convertToInteractive('df-b01e2af6-656d-495e-9fc1-3310a450794c')\"\n",
              "              title=\"Convert this dataframe to an interactive table.\"\n",
              "              style=\"display:none;\">\n",
              "        \n",
              "  <svg xmlns=\"http://www.w3.org/2000/svg\" height=\"24px\"viewBox=\"0 0 24 24\"\n",
              "       width=\"24px\">\n",
              "    <path d=\"M0 0h24v24H0V0z\" fill=\"none\"/>\n",
              "    <path d=\"M18.56 5.44l.94 2.06.94-2.06 2.06-.94-2.06-.94-.94-2.06-.94 2.06-2.06.94zm-11 1L8.5 8.5l.94-2.06 2.06-.94-2.06-.94L8.5 2.5l-.94 2.06-2.06.94zm10 10l.94 2.06.94-2.06 2.06-.94-2.06-.94-.94-2.06-.94 2.06-2.06.94z\"/><path d=\"M17.41 7.96l-1.37-1.37c-.4-.4-.92-.59-1.43-.59-.52 0-1.04.2-1.43.59L10.3 9.45l-7.72 7.72c-.78.78-.78 2.05 0 2.83L4 21.41c.39.39.9.59 1.41.59.51 0 1.02-.2 1.41-.59l7.78-7.78 2.81-2.81c.8-.78.8-2.07 0-2.86zM5.41 20L4 18.59l7.72-7.72 1.47 1.35L5.41 20z\"/>\n",
              "  </svg>\n",
              "      </button>\n",
              "      \n",
              "  <style>\n",
              "    .colab-df-container {\n",
              "      display:flex;\n",
              "      flex-wrap:wrap;\n",
              "      gap: 12px;\n",
              "    }\n",
              "\n",
              "    .colab-df-convert {\n",
              "      background-color: #E8F0FE;\n",
              "      border: none;\n",
              "      border-radius: 50%;\n",
              "      cursor: pointer;\n",
              "      display: none;\n",
              "      fill: #1967D2;\n",
              "      height: 32px;\n",
              "      padding: 0 0 0 0;\n",
              "      width: 32px;\n",
              "    }\n",
              "\n",
              "    .colab-df-convert:hover {\n",
              "      background-color: #E2EBFA;\n",
              "      box-shadow: 0px 1px 2px rgba(60, 64, 67, 0.3), 0px 1px 3px 1px rgba(60, 64, 67, 0.15);\n",
              "      fill: #174EA6;\n",
              "    }\n",
              "\n",
              "    [theme=dark] .colab-df-convert {\n",
              "      background-color: #3B4455;\n",
              "      fill: #D2E3FC;\n",
              "    }\n",
              "\n",
              "    [theme=dark] .colab-df-convert:hover {\n",
              "      background-color: #434B5C;\n",
              "      box-shadow: 0px 1px 3px 1px rgba(0, 0, 0, 0.15);\n",
              "      filter: drop-shadow(0px 1px 2px rgba(0, 0, 0, 0.3));\n",
              "      fill: #FFFFFF;\n",
              "    }\n",
              "  </style>\n",
              "\n",
              "      <script>\n",
              "        const buttonEl =\n",
              "          document.querySelector('#df-b01e2af6-656d-495e-9fc1-3310a450794c button.colab-df-convert');\n",
              "        buttonEl.style.display =\n",
              "          google.colab.kernel.accessAllowed ? 'block' : 'none';\n",
              "\n",
              "        async function convertToInteractive(key) {\n",
              "          const element = document.querySelector('#df-b01e2af6-656d-495e-9fc1-3310a450794c');\n",
              "          const dataTable =\n",
              "            await google.colab.kernel.invokeFunction('convertToInteractive',\n",
              "                                                     [key], {});\n",
              "          if (!dataTable) return;\n",
              "\n",
              "          const docLinkHtml = 'Like what you see? Visit the ' +\n",
              "            '<a target=\"_blank\" href=https://colab.research.google.com/notebooks/data_table.ipynb>data table notebook</a>'\n",
              "            + ' to learn more about interactive tables.';\n",
              "          element.innerHTML = '';\n",
              "          dataTable['output_type'] = 'display_data';\n",
              "          await google.colab.output.renderOutput(dataTable, element);\n",
              "          const docLink = document.createElement('div');\n",
              "          docLink.innerHTML = docLinkHtml;\n",
              "          element.appendChild(docLink);\n",
              "        }\n",
              "      </script>\n",
              "    </div>\n",
              "  </div>\n",
              "  "
            ]
          },
          "metadata": {},
          "execution_count": 166
        }
      ],
      "source": [
        "df_diff =pd.DataFrame(-pd.Series(ssd).diff()).rename(index = lambda x : x+1)\n",
        "df_diff"
      ],
      "id": "07f30714"
    },
    {
      "cell_type": "code",
      "execution_count": 167,
      "metadata": {
        "id": "301edeb5",
        "colab": {
          "base_uri": "https://localhost:8080/",
          "height": 489
        },
        "outputId": "fee6d7d4-4763-4499-9975-c81a0f39f0c2"
      },
      "outputs": [
        {
          "output_type": "display_data",
          "data": {
            "text/plain": [
              "<Figure size 720x576 with 1 Axes>"
            ],
            "image/png": "[encoded data removed]"
          },
          "metadata": {}
        }
      ],
      "source": [
        "df_diff.plot(kind='bar');"
      ],
      "id": "301edeb5"
    },
    {
      "cell_type": "markdown",
      "metadata": {
        "id": "b528cc61"
      },
      "source": [
        "#### 3. YellowBrick"
      ],
      "id": "b528cc61"
    },
    {
      "cell_type": "code",
      "execution_count": 37,
      "metadata": {
        "id": "5ad12b3d"
      },
      "outputs": [],
      "source": [
        "#pip install yellowbrick"
      ],
      "id": "5ad12b3d"
    },
    {
      "cell_type": "code",
      "execution_count": 38,
      "metadata": {
        "id": "ea9efaf5",
        "colab": {
          "base_uri": "https://localhost:8080/",
          "height": 376
        },
        "outputId": "2726c038-22df-4568-fdfc-1f3ee963c542"
      },
      "outputs": [
        {
          "output_type": "display_data",
          "data": {
            "text/plain": [
              "<Figure size 576x396 with 2 Axes>"
            ],
            "image/png": "[encoded data removed]"
          },
          "metadata": {}
        }
      ],
      "source": [
        "from yellowbrick.cluster import KElbowVisualizer\n",
        "\n",
        "model_ = KMeans(random_state=42)\n",
        "visualizer = KElbowVisualizer(model_, k=(2,9))\n",
        "\n",
        "visualizer.fit(X)        # Fit the data to the visualizer\n",
        "visualizer.show();"
      ],
      "id": "ea9efaf5"
    },
    {
      "cell_type": "markdown",
      "metadata": {
        "id": "a1f0e52a"
      },
      "source": [
        "#### 4. Silhouette Score"
      ],
      "id": "a1f0e52a"
    },
    {
      "cell_type": "code",
      "execution_count": 39,
      "metadata": {
        "id": "de901b52"
      },
      "outputs": [],
      "source": [
        "from sklearn.metrics import silhouette_score"
      ],
      "id": "de901b52"
    },
    {
      "cell_type": "code",
      "execution_count": 40,
      "metadata": {
        "id": "a8bf8ec7",
        "colab": {
          "base_uri": "https://localhost:8080/"
        },
        "outputId": "1702b95b-eb86-4f8e-fe15-21f501164df0"
      },
      "outputs": [
        {
          "output_type": "execute_result",
          "data": {
            "text/plain": [
              "0.5046218513080499"
            ]
          },
          "metadata": {},
          "execution_count": 40
        }
      ],
      "source": [
        "silhouette_score(X, K_means_model.labels_)"
      ],
      "id": "a8bf8ec7"
    },
    {
      "cell_type": "code",
      "execution_count": 41,
      "metadata": {
        "id": "68475be8",
        "colab": {
          "base_uri": "https://localhost:8080/"
        },
        "outputId": "afd83a79-f96c-40a9-8095-521e315d04dc"
      },
      "outputs": [
        {
          "output_type": "stream",
          "name": "stdout",
          "text": [
            "For n_clusters=2, the silhouette score is 0.6340158929875183\n",
            "For n_clusters=3, the silhouette score is 0.5772529479011433\n",
            "For n_clusters=4, the silhouette score is 0.5352775669597345\n",
            "For n_clusters=5, the silhouette score is 0.5046218513080499\n",
            "For n_clusters=6, the silhouette score is 0.49382994953815856\n",
            "For n_clusters=7, the silhouette score is 0.4995915650010169\n",
            "For n_clusters=8, the silhouette score is 0.4911837332337048\n"
          ]
        }
      ],
      "source": [
        "range_n_clusters = range(2,9)\n",
        "for num_clusters in range_n_clusters:\n",
        "    # intialise kmeans\n",
        "    kmeans = KMeans(n_clusters=num_clusters, random_state=42)\n",
        "    kmeans.fit(X)\n",
        "    cluster_labels = kmeans.labels_\n",
        "    # silhouette score\n",
        "    silhouette_avg = silhouette_score(X, cluster_labels)\n",
        "    print(f\"For n_clusters={num_clusters}, the silhouette score is {silhouette_avg}\")"
      ],
      "id": "68475be8"
    },
    {
      "cell_type": "code",
      "execution_count": 42,
      "metadata": {
        "id": "b7a47d69",
        "colab": {
          "base_uri": "https://localhost:8080/",
          "height": 376
        },
        "outputId": "c467adde-b1c6-4e11-eb8d-ca6735343032"
      },
      "outputs": [
        {
          "output_type": "display_data",
          "data": {
            "text/plain": [
              "<Figure size 576x396 with 1 Axes>"
            ],
            "image/png": "[encoded data removed]"
          },
          "metadata": {}
        }
      ],
      "source": [
        "from sklearn.cluster import KMeans\n",
        "\n",
        "from yellowbrick.cluster import SilhouetteVisualizer\n",
        "\n",
        "model3 = KMeans(n_clusters=3, random_state=42)\n",
        "visualizer = SilhouetteVisualizer(model3)\n",
        "\n",
        "visualizer.fit(X)    # Fit the data to the visualizer\n",
        "visualizer.poof();"
      ],
      "id": "b7a47d69"
    },
    {
      "cell_type": "markdown",
      "metadata": {
        "id": "04576a02"
      },
      "source": [
        "## 5. Model Building"
      ],
      "id": "04576a02"
    },
    {
      "cell_type": "markdown",
      "metadata": {
        "id": "13d5c787"
      },
      "source": [
        "### Split Data as Train and Test Set"
      ],
      "id": "13d5c787"
    },
    {
      "cell_type": "markdown",
      "metadata": {
        "id": "e5ff0306"
      },
      "source": [
        "Here, Dataset is broken into two parts in ratio of 70:30. It means 70% data will used for model training and 30% for model testing."
      ],
      "id": "e5ff0306"
    },
    {
      "cell_type": "code",
      "execution_count": 43,
      "metadata": {
        "id": "7e5428a2"
      },
      "outputs": [],
      "source": [
        "from sklearn.model_selection import train_test_split"
      ],
      "id": "7e5428a2"
    },
    {
      "cell_type": "code",
      "execution_count": 44,
      "metadata": {
        "id": "63f4d32f"
      },
      "outputs": [],
      "source": [
        "X = df.drop(\"left\", axis = 1)\n",
        "y = df[\"left\"]"
      ],
      "id": "63f4d32f"
    },
    {
      "cell_type": "code",
      "execution_count": 45,
      "metadata": {
        "id": "95f3e2d2"
      },
      "outputs": [],
      "source": [
        "X_train, X_test, y_train, y_test = train_test_split(X, y, test_size=0.3, stratify=y, random_state=101)"
      ],
      "id": "95f3e2d2"
    },
    {
      "cell_type": "markdown",
      "metadata": {
        "id": "70ca761c"
      },
      "source": [
        "### #Gradient Boosting Classifier"
      ],
      "id": "70ca761c"
    },
    {
      "cell_type": "code",
      "execution_count": 46,
      "metadata": {
        "id": "31869167"
      },
      "outputs": [],
      "source": [
        "from sklearn.metrics import confusion_matrix, classification_report"
      ],
      "id": "31869167"
    },
    {
      "cell_type": "code",
      "execution_count": 47,
      "metadata": {
        "id": "4544b997"
      },
      "outputs": [],
      "source": [
        "def eval_metric(model, X_train, y_train, X_test, y_test):\n",
        "    y_train_pred = model.predict(X_train)\n",
        "    y_pred = model.predict(X_test)\n",
        "    \n",
        "    print(\"Test_Set\")\n",
        "    print(confusion_matrix(y_test, y_pred))\n",
        "    print(classification_report(y_test, y_pred))\n",
        "    print()\n",
        "    print(\"Train_Set\")\n",
        "    print(confusion_matrix(y_train, y_train_pred))\n",
        "    print(classification_report(y_train, y_train_pred))"
      ],
      "id": "4544b997"
    },
    {
      "cell_type": "markdown",
      "metadata": {
        "id": "bc47ca80"
      },
      "source": [
        "#### Model Building"
      ],
      "id": "bc47ca80"
    },
    {
      "cell_type": "code",
      "execution_count": 48,
      "metadata": {
        "id": "f7ef74f4"
      },
      "outputs": [],
      "source": [
        "from sklearn.ensemble import GradientBoostingClassifier"
      ],
      "id": "f7ef74f4"
    },
    {
      "cell_type": "code",
      "execution_count": 49,
      "metadata": {
        "id": "69172dc9"
      },
      "outputs": [],
      "source": [
        "grad_model = GradientBoostingClassifier(random_state=42)"
      ],
      "id": "69172dc9"
    },
    {
      "cell_type": "code",
      "execution_count": 50,
      "metadata": {
        "id": "25ca48a0",
        "colab": {
          "base_uri": "https://localhost:8080/"
        },
        "outputId": "f8cea331-a0b6-4cb6-d372-bb37cc54bc2c"
      },
      "outputs": [
        {
          "output_type": "execute_result",
          "data": {
            "text/plain": [
              "GradientBoostingClassifier(random_state=42)"
            ]
          },
          "metadata": {},
          "execution_count": 50
        }
      ],
      "source": [
        "grad_model.fit(X_train, y_train)"
      ],
      "id": "25ca48a0"
    },
    {
      "cell_type": "markdown",
      "metadata": {
        "id": "63cbce6d"
      },
      "source": [
        "#### Evaluating Model Performance"
      ],
      "id": "63cbce6d"
    },
    {
      "cell_type": "markdown",
      "metadata": {
        "id": "012c7e82"
      },
      "source": [
        "- Confusion Matrix : You can use scikit-learn metrics module for accuracy calculation. A Confusion matrix is an N x N matrix used for evaluating the performance of a classification model, where N is the number of target classes. The matrix compares the actual target values with those predicted by the machine learning model. This gives us a holistic view of how well our classification model is performing and what kinds of errors it is making.\n",
        "\n",
        "    [Confusion Matrix](https://www.analyticsvidhya.com/blog/2020/04/confusion-matrix-machine-learning/)"
      ],
      "id": "012c7e82"
    },
    {
      "cell_type": "markdown",
      "metadata": {
        "id": "0f1ba534"
      },
      "source": [
        "- Yellowbrick: Yellowbrick is a suite of visualization and diagnostic tools that will enable quicker model selection. It’s a Python package that combines scikit-learn and matplotlib. Some of the more popular visualization tools include model selection, feature visualization, classification and regression visualization\n",
        "\n",
        "    [Yellowbrick](https://www.analyticsvidhya.com/blog/2018/05/yellowbrick-a-set-of-visualization-tools-to-accelerate-your-model-selection-process/)"
      ],
      "id": "0f1ba534"
    },
    {
      "cell_type": "code",
      "execution_count": 51,
      "metadata": {
        "id": "9c119578",
        "colab": {
          "base_uri": "https://localhost:8080/"
        },
        "outputId": "f1ca9b3c-1cca-4f30-82fa-5c44998f6c26"
      },
      "outputs": [
        {
          "output_type": "stream",
          "name": "stdout",
          "text": [
            "Test_Set\n",
            "[[2975   26]\n",
            " [  46  551]]\n",
            "              precision    recall  f1-score   support\n",
            "\n",
            "           0       0.98      0.99      0.99      3001\n",
            "           1       0.95      0.92      0.94       597\n",
            "\n",
            "    accuracy                           0.98      3598\n",
            "   macro avg       0.97      0.96      0.96      3598\n",
            "weighted avg       0.98      0.98      0.98      3598\n",
            "\n",
            "\n",
            "Train_Set\n",
            "[[6960   39]\n",
            " [ 100 1294]]\n",
            "              precision    recall  f1-score   support\n",
            "\n",
            "           0       0.99      0.99      0.99      6999\n",
            "           1       0.97      0.93      0.95      1394\n",
            "\n",
            "    accuracy                           0.98      8393\n",
            "   macro avg       0.98      0.96      0.97      8393\n",
            "weighted avg       0.98      0.98      0.98      8393\n",
            "\n"
          ]
        }
      ],
      "source": [
        "eval_metric(grad_model, X_train, y_train, X_test, y_test)"
      ],
      "id": "9c119578"
    },
    {
      "cell_type": "markdown",
      "metadata": {
        "id": "4b4fe551"
      },
      "source": [
        "### Cross Validate for Gradient Boosting"
      ],
      "id": "4b4fe551"
    },
    {
      "cell_type": "code",
      "execution_count": 52,
      "metadata": {
        "id": "c8433b37"
      },
      "outputs": [],
      "source": [
        "from sklearn.model_selection import cross_val_score, cross_validate"
      ],
      "id": "c8433b37"
    },
    {
      "cell_type": "code",
      "execution_count": 53,
      "metadata": {
        "id": "8b32dae2",
        "colab": {
          "base_uri": "https://localhost:8080/"
        },
        "outputId": "932b324f-cf6f-4ab7-f417-0691f595408f"
      },
      "outputs": [
        {
          "output_type": "execute_result",
          "data": {
            "text/plain": [
              "test_accuracy     0.981651\n",
              "test_precision    0.965461\n",
              "test_recall       0.922492\n",
              "test_f1           0.943372\n",
              "test_roc_auc      0.984820\n",
              "dtype: float64"
            ]
          },
          "metadata": {},
          "execution_count": 53
        }
      ],
      "source": [
        "model = GradientBoostingClassifier(random_state=42)\n",
        "\n",
        "scores = cross_validate(grad_model, X_train, y_train, scoring = ['accuracy', 'precision','recall',\n",
        "                                                                   'f1', 'roc_auc'], cv = 10)\n",
        "df_scores = pd.DataFrame(scores, index = range(1, 11))\n",
        "df_scores.mean()[2:]"
      ],
      "id": "8b32dae2"
    },
    {
      "cell_type": "code",
      "execution_count": 54,
      "metadata": {
        "id": "1a528f0d"
      },
      "outputs": [],
      "source": [
        "from sklearn.metrics import precision_recall_curve, plot_precision_recall_curve, plot_roc_curve, roc_auc_score"
      ],
      "id": "1a528f0d"
    },
    {
      "cell_type": "code",
      "execution_count": 55,
      "metadata": {
        "id": "90fb6ed0",
        "colab": {
          "base_uri": "https://localhost:8080/",
          "height": 361
        },
        "outputId": "208bd3f7-50c6-403a-dfac-cfcfe5079c8e"
      },
      "outputs": [
        {
          "output_type": "display_data",
          "data": {
            "text/plain": [
              "<Figure size 576x396 with 1 Axes>"
            ],
            "image/png": "[encoded data removed]"
          },
          "metadata": {}
        }
      ],
      "source": [
        "plot_precision_recall_curve(grad_model, X_test, y_test);"
      ],
      "id": "90fb6ed0"
    },
    {
      "cell_type": "markdown",
      "metadata": {
        "id": "a6d20021"
      },
      "source": [
        "### GridSearch for GradientBoosting"
      ],
      "id": "a6d20021"
    },
    {
      "cell_type": "code",
      "execution_count": 56,
      "metadata": {
        "id": "1c4c311b"
      },
      "outputs": [],
      "source": [
        "from sklearn.model_selection import GridSearchCV"
      ],
      "id": "1c4c311b"
    },
    {
      "cell_type": "code",
      "execution_count": 57,
      "metadata": {
        "id": "d1409b09"
      },
      "outputs": [],
      "source": [
        "param_grid = {\"n_estimators\":[100, 200, 300],\n",
        "             \"subsample\":[0.5, 1], \"max_features\" : [None, 2, 3, 4]} #\"learning_rate\": [0.001, 0.01, 0.1], 'max_depth':[3,4,5,6]"
      ],
      "id": "d1409b09"
    },
    {
      "cell_type": "code",
      "execution_count": 58,
      "metadata": {
        "id": "8c9bcef5"
      },
      "outputs": [],
      "source": [
        "gb_model = GradientBoostingClassifier(random_state=42)"
      ],
      "id": "8c9bcef5"
    },
    {
      "cell_type": "code",
      "execution_count": 59,
      "metadata": {
        "id": "84157f11"
      },
      "outputs": [],
      "source": [
        "grid_gb = GridSearchCV(gb_model, param_grid, scoring = \"f1\", n_jobs = -1).fit(X_train, y_train)"
      ],
      "id": "84157f11"
    },
    {
      "cell_type": "code",
      "execution_count": 60,
      "metadata": {
        "colab": {
          "base_uri": "https://localhost:8080/"
        },
        "id": "e0f70276",
        "outputId": "c2a0e895-30e0-4887-8a9a-92bb49cc97c6"
      },
      "outputs": [
        {
          "output_type": "execute_result",
          "data": {
            "text/plain": [
              "{'max_features': None, 'n_estimators': 300, 'subsample': 1}"
            ]
          },
          "metadata": {},
          "execution_count": 60
        }
      ],
      "source": [
        "grid_gb.best_params_"
      ],
      "id": "e0f70276"
    },
    {
      "cell_type": "code",
      "execution_count": 61,
      "metadata": {
        "colab": {
          "base_uri": "https://localhost:8080/"
        },
        "id": "af6b2585",
        "outputId": "987d188a-4844-4c67-89c7-147734e2d8cf"
      },
      "outputs": [
        {
          "output_type": "execute_result",
          "data": {
            "text/plain": [
              "0.9463863607376763"
            ]
          },
          "metadata": {},
          "execution_count": 61
        }
      ],
      "source": [
        "grid_gb.best_score_"
      ],
      "id": "af6b2585"
    },
    {
      "cell_type": "code",
      "execution_count": 62,
      "metadata": {
        "colab": {
          "base_uri": "https://localhost:8080/"
        },
        "id": "449a2d10",
        "outputId": "357d1abe-3837-471b-f82c-5f8c91512428"
      },
      "outputs": [
        {
          "output_type": "stream",
          "name": "stdout",
          "text": [
            "Test_Set\n",
            "[[2976   25]\n",
            " [  45  552]]\n",
            "              precision    recall  f1-score   support\n",
            "\n",
            "           0       0.99      0.99      0.99      3001\n",
            "           1       0.96      0.92      0.94       597\n",
            "\n",
            "    accuracy                           0.98      3598\n",
            "   macro avg       0.97      0.96      0.96      3598\n",
            "weighted avg       0.98      0.98      0.98      3598\n",
            "\n",
            "\n",
            "Train_Set\n",
            "[[6978   21]\n",
            " [  85 1309]]\n",
            "              precision    recall  f1-score   support\n",
            "\n",
            "           0       0.99      1.00      0.99      6999\n",
            "           1       0.98      0.94      0.96      1394\n",
            "\n",
            "    accuracy                           0.99      8393\n",
            "   macro avg       0.99      0.97      0.98      8393\n",
            "weighted avg       0.99      0.99      0.99      8393\n",
            "\n"
          ]
        }
      ],
      "source": [
        "eval_metric(grid_gb, X_train, y_train, X_test, y_test)"
      ],
      "id": "449a2d10"
    },
    {
      "cell_type": "markdown",
      "metadata": {
        "id": "dc5ef688"
      },
      "source": [
        "#### Prediction"
      ],
      "id": "dc5ef688"
    },
    {
      "cell_type": "code",
      "execution_count": 63,
      "metadata": {
        "id": "7f1e7107"
      },
      "outputs": [],
      "source": [
        "y_pred = grad_model.predict(X_test)   # or grid.predict(X_test) ??"
      ],
      "id": "7f1e7107"
    },
    {
      "cell_type": "code",
      "execution_count": 64,
      "metadata": {
        "id": "4b213f5e"
      },
      "outputs": [],
      "source": [
        "y_pred_proba = grad_model.predict_proba(X_test)"
      ],
      "id": "4b213f5e"
    },
    {
      "cell_type": "code",
      "execution_count": 65,
      "metadata": {
        "id": "cf02350b"
      },
      "outputs": [],
      "source": [
        "my_dict = {\"Actual\": y_test, \"Pred\":y_pred, \"Proba_1\":y_pred_proba[:,1], \"Proba_0\":y_pred_proba[:,0]}"
      ],
      "id": "cf02350b"
    },
    {
      "cell_type": "code",
      "execution_count": 66,
      "metadata": {
        "colab": {
          "base_uri": "https://localhost:8080/",
          "height": 363
        },
        "id": "22ee6eee",
        "outputId": "2fd518e8-ec2a-44db-b35f-bb3ea93d2ce3"
      },
      "outputs": [
        {
          "output_type": "execute_result",
          "data": {
            "text/plain": [
              "      Actual  Pred   Proba_1   Proba_0\n",
              "6029       0     0  0.016046  0.983954\n",
              "6355       0     0  0.006644  0.993356\n",
              "9515       0     0  0.011346  0.988654\n",
              "6514       0     0  0.009137  0.990863\n",
              "6956       0     0  0.007247  0.992753\n",
              "8889       0     0  0.041378  0.958622\n",
              "6501       0     0  0.052934  0.947066\n",
              "8858       0     0  0.008226  0.991774\n",
              "9439       0     0  0.011613  0.988387\n",
              "416        1     1  0.848895  0.151105"
            ],
            "text/html": [
              "\n",
              "  <div id=\"df-d0a7e131-6ff7-4b7b-a5fe-f9060665b0c3\">\n",
              "    <div class=\"colab-df-container\">\n",
              "      <div>\n",
              "<style scoped>\n",
              "    .dataframe tbody tr th:only-of-type {\n",
              "        vertical-align: middle;\n",
              "    }\n",
              "\n",
              "    .dataframe tbody tr th {\n",
              "        vertical-align: top;\n",
              "    }\n",
              "\n",
              "    .dataframe thead th {\n",
              "        text-align: right;\n",
              "    }\n",
              "</style>\n",
              "<table border=\"1\" class=\"dataframe\">\n",
              "  <thead>\n",
              "    <tr style=\"text-align: right;\">\n",
              "      <th></th>\n",
              "      <th>Actual</th>\n",
              "      <th>Pred</th>\n",
              "      <th>Proba_1</th>\n",
              "      <th>Proba_0</th>\n",
              "    </tr>\n",
              "  </thead>\n",
              "  <tbody>\n",
              "    <tr>\n",
              "      <th>6029</th>\n",
              "      <td>0</td>\n",
              "      <td>0</td>\n",
              "      <td>0.016046</td>\n",
              "      <td>0.983954</td>\n",
              "    </tr>\n",
              "    <tr>\n",
              "      <th>6355</th>\n",
              "      <td>0</td>\n",
              "      <td>0</td>\n",
              "      <td>0.006644</td>\n",
              "      <td>0.993356</td>\n",
              "    </tr>\n",
              "    <tr>\n",
              "      <th>9515</th>\n",
              "      <td>0</td>\n",
              "      <td>0</td>\n",
              "      <td>0.011346</td>\n",
              "      <td>0.988654</td>\n",
              "    </tr>\n",
              "    <tr>\n",
              "      <th>6514</th>\n",
              "      <td>0</td>\n",
              "      <td>0</td>\n",
              "      <td>0.009137</td>\n",
              "      <td>0.990863</td>\n",
              "    </tr>\n",
              "    <tr>\n",
              "      <th>6956</th>\n",
              "      <td>0</td>\n",
              "      <td>0</td>\n",
              "      <td>0.007247</td>\n",
              "      <td>0.992753</td>\n",
              "    </tr>\n",
              "    <tr>\n",
              "      <th>8889</th>\n",
              "      <td>0</td>\n",
              "      <td>0</td>\n",
              "      <td>0.041378</td>\n",
              "      <td>0.958622</td>\n",
              "    </tr>\n",
              "    <tr>\n",
              "      <th>6501</th>\n",
              "      <td>0</td>\n",
              "      <td>0</td>\n",
              "      <td>0.052934</td>\n",
              "      <td>0.947066</td>\n",
              "    </tr>\n",
              "    <tr>\n",
              "      <th>8858</th>\n",
              "      <td>0</td>\n",
              "      <td>0</td>\n",
              "      <td>0.008226</td>\n",
              "      <td>0.991774</td>\n",
              "    </tr>\n",
              "    <tr>\n",
              "      <th>9439</th>\n",
              "      <td>0</td>\n",
              "      <td>0</td>\n",
              "      <td>0.011613</td>\n",
              "      <td>0.988387</td>\n",
              "    </tr>\n",
              "    <tr>\n",
              "      <th>416</th>\n",
              "      <td>1</td>\n",
              "      <td>1</td>\n",
              "      <td>0.848895</td>\n",
              "      <td>0.151105</td>\n",
              "    </tr>\n",
              "  </tbody>\n",
              "</table>\n",
              "</div>\n",
              "      <button class=\"colab-df-convert\" onclick=\"convertToInteractive('df-d0a7e131-6ff7-4b7b-a5fe-f9060665b0c3')\"\n",
              "              title=\"Convert this dataframe to an interactive table.\"\n",
              "              style=\"display:none;\">\n",
              "        \n",
              "  <svg xmlns=\"http://www.w3.org/2000/svg\" height=\"24px\"viewBox=\"0 0 24 24\"\n",
              "       width=\"24px\">\n",
              "    <path d=\"M0 0h24v24H0V0z\" fill=\"none\"/>\n",
              "    <path d=\"M18.56 5.44l.94 2.06.94-2.06 2.06-.94-2.06-.94-.94-2.06-.94 2.06-2.06.94zm-11 1L8.5 8.5l.94-2.06 2.06-.94-2.06-.94L8.5 2.5l-.94 2.06-2.06.94zm10 10l.94 2.06.94-2.06 2.06-.94-2.06-.94-.94-2.06-.94 2.06-2.06.94z\"/><path d=\"M17.41 7.96l-1.37-1.37c-.4-.4-.92-.59-1.43-.59-.52 0-1.04.2-1.43.59L10.3 9.45l-7.72 7.72c-.78.78-.78 2.05 0 2.83L4 21.41c.39.39.9.59 1.41.59.51 0 1.02-.2 1.41-.59l7.78-7.78 2.81-2.81c.8-.78.8-2.07 0-2.86zM5.41 20L4 18.59l7.72-7.72 1.47 1.35L5.41 20z\"/>\n",
              "  </svg>\n",
              "      </button>\n",
              "      \n",
              "  <style>\n",
              "    .colab-df-container {\n",
              "      display:flex;\n",
              "      flex-wrap:wrap;\n",
              "      gap: 12px;\n",
              "    }\n",
              "\n",
              "    .colab-df-convert {\n",
              "      background-color: #E8F0FE;\n",
              "      border: none;\n",
              "      border-radius: 50%;\n",
              "      cursor: pointer;\n",
              "      display: none;\n",
              "      fill: #1967D2;\n",
              "      height: 32px;\n",
              "      padding: 0 0 0 0;\n",
              "      width: 32px;\n",
              "    }\n",
              "\n",
              "    .colab-df-convert:hover {\n",
              "      background-color: #E2EBFA;\n",
              "      box-shadow: 0px 1px 2px rgba(60, 64, 67, 0.3), 0px 1px 3px 1px rgba(60, 64, 67, 0.15);\n",
              "      fill: #174EA6;\n",
              "    }\n",
              "\n",
              "    [theme=dark] .colab-df-convert {\n",
              "      background-color: #3B4455;\n",
              "      fill: #D2E3FC;\n",
              "    }\n",
              "\n",
              "    [theme=dark] .colab-df-convert:hover {\n",
              "      background-color: #434B5C;\n",
              "      box-shadow: 0px 1px 3px 1px rgba(0, 0, 0, 0.15);\n",
              "      filter: drop-shadow(0px 1px 2px rgba(0, 0, 0, 0.3));\n",
              "      fill: #FFFFFF;\n",
              "    }\n",
              "  </style>\n",
              "\n",
              "      <script>\n",
              "        const buttonEl =\n",
              "          document.querySelector('#df-d0a7e131-6ff7-4b7b-a5fe-f9060665b0c3 button.colab-df-convert');\n",
              "        buttonEl.style.display =\n",
              "          google.colab.kernel.accessAllowed ? 'block' : 'none';\n",
              "\n",
              "        async function convertToInteractive(key) {\n",
              "          const element = document.querySelector('#df-d0a7e131-6ff7-4b7b-a5fe-f9060665b0c3');\n",
              "          const dataTable =\n",
              "            await google.colab.kernel.invokeFunction('convertToInteractive',\n",
              "                                                     [key], {});\n",
              "          if (!dataTable) return;\n",
              "\n",
              "          const docLinkHtml = 'Like what you see? Visit the ' +\n",
              "            '<a target=\"_blank\" href=https://colab.research.google.com/notebooks/data_table.ipynb>data table notebook</a>'\n",
              "            + ' to learn more about interactive tables.';\n",
              "          element.innerHTML = '';\n",
              "          dataTable['output_type'] = 'display_data';\n",
              "          await google.colab.output.renderOutput(dataTable, element);\n",
              "          const docLink = document.createElement('div');\n",
              "          docLink.innerHTML = docLinkHtml;\n",
              "          element.appendChild(docLink);\n",
              "        }\n",
              "      </script>\n",
              "    </div>\n",
              "  </div>\n",
              "  "
            ]
          },
          "metadata": {},
          "execution_count": 66
        }
      ],
      "source": [
        "pd.DataFrame.from_dict(my_dict).sample(10)"
      ],
      "id": "22ee6eee"
    },
    {
      "cell_type": "code",
      "execution_count": 67,
      "metadata": {
        "id": "4bbf0c4e"
      },
      "outputs": [],
      "source": [
        "from sklearn.metrics import confusion_matrix, classification_report, accuracy_score, recall_score, precision_score, f1_score, roc_auc_score"
      ],
      "id": "4bbf0c4e"
    },
    {
      "cell_type": "code",
      "execution_count": 68,
      "metadata": {
        "id": "65d2e829"
      },
      "outputs": [],
      "source": [
        "grad_f1 = f1_score(y_test, y_pred)\n",
        "grad_recall = recall_score(y_test, y_pred)\n",
        "grad_auc = roc_auc_score(y_test, y_pred)"
      ],
      "id": "65d2e829"
    },
    {
      "cell_type": "markdown",
      "metadata": {
        "id": "6a15c27c"
      },
      "source": [
        "### Feature Importance"
      ],
      "id": "6a15c27c"
    },
    {
      "cell_type": "code",
      "execution_count": 69,
      "metadata": {
        "colab": {
          "base_uri": "https://localhost:8080/",
          "height": 645
        },
        "id": "c0c8c105",
        "outputId": "d7b30c71-0aca-4652-eb3f-a2284c1da088"
      },
      "outputs": [
        {
          "output_type": "execute_result",
          "data": {
            "text/plain": [
              "                          grad_importance\n",
              "satisfaction_level               0.525286\n",
              "time_spend_company               0.138343\n",
              "number_project                   0.137138\n",
              "last_evaluation                  0.122045\n",
              "average_montly_hours             0.074236\n",
              "Classes                          0.001284\n",
              "salary_low                       0.000894\n",
              "Work_accident                    0.000497\n",
              "Departments _product_mng         0.000083\n",
              "Departments _management          0.000072\n",
              "Departments _support             0.000060\n",
              "Departments _RandD               0.000033\n",
              "salary_medium                    0.000028\n",
              "promotion_last_5years            0.000000\n",
              "Departments _accounting          0.000000\n",
              "Departments _marketing           0.000000\n",
              "Departments _sales               0.000000\n",
              "Departments _technical           0.000000\n",
              "Departments _hr                  0.000000"
            ],
            "text/html": [
              "\n",
              "  <div id=\"df-9b664e47-8b17-4e5b-95de-99672bca124a\">\n",
              "    <div class=\"colab-df-container\">\n",
              "      <div>\n",
              "<style scoped>\n",
              "    .dataframe tbody tr th:only-of-type {\n",
              "        vertical-align: middle;\n",
              "    }\n",
              "\n",
              "    .dataframe tbody tr th {\n",
              "        vertical-align: top;\n",
              "    }\n",
              "\n",
              "    .dataframe thead th {\n",
              "        text-align: right;\n",
              "    }\n",
              "</style>\n",
              "<table border=\"1\" class=\"dataframe\">\n",
              "  <thead>\n",
              "    <tr style=\"text-align: right;\">\n",
              "      <th></th>\n",
              "      <th>grad_importance</th>\n",
              "    </tr>\n",
              "  </thead>\n",
              "  <tbody>\n",
              "    <tr>\n",
              "      <th>satisfaction_level</th>\n",
              "      <td>0.525286</td>\n",
              "    </tr>\n",
              "    <tr>\n",
              "      <th>time_spend_company</th>\n",
              "      <td>0.138343</td>\n",
              "    </tr>\n",
              "    <tr>\n",
              "      <th>number_project</th>\n",
              "      <td>0.137138</td>\n",
              "    </tr>\n",
              "    <tr>\n",
              "      <th>last_evaluation</th>\n",
              "      <td>0.122045</td>\n",
              "    </tr>\n",
              "    <tr>\n",
              "      <th>average_montly_hours</th>\n",
              "      <td>0.074236</td>\n",
              "    </tr>\n",
              "    <tr>\n",
              "      <th>Classes</th>\n",
              "      <td>0.001284</td>\n",
              "    </tr>\n",
              "    <tr>\n",
              "      <th>salary_low</th>\n",
              "      <td>0.000894</td>\n",
              "    </tr>\n",
              "    <tr>\n",
              "      <th>Work_accident</th>\n",
              "      <td>0.000497</td>\n",
              "    </tr>\n",
              "    <tr>\n",
              "      <th>Departments _product_mng</th>\n",
              "      <td>0.000083</td>\n",
              "    </tr>\n",
              "    <tr>\n",
              "      <th>Departments _management</th>\n",
              "      <td>0.000072</td>\n",
              "    </tr>\n",
              "    <tr>\n",
              "      <th>Departments _support</th>\n",
              "      <td>0.000060</td>\n",
              "    </tr>\n",
              "    <tr>\n",
              "      <th>Departments _RandD</th>\n",
              "      <td>0.000033</td>\n",
              "    </tr>\n",
              "    <tr>\n",
              "      <th>salary_medium</th>\n",
              "      <td>0.000028</td>\n",
              "    </tr>\n",
              "    <tr>\n",
              "      <th>promotion_last_5years</th>\n",
              "      <td>0.000000</td>\n",
              "    </tr>\n",
              "    <tr>\n",
              "      <th>Departments _accounting</th>\n",
              "      <td>0.000000</td>\n",
              "    </tr>\n",
              "    <tr>\n",
              "      <th>Departments _marketing</th>\n",
              "      <td>0.000000</td>\n",
              "    </tr>\n",
              "    <tr>\n",
              "      <th>Departments _sales</th>\n",
              "      <td>0.000000</td>\n",
              "    </tr>\n",
              "    <tr>\n",
              "      <th>Departments _technical</th>\n",
              "      <td>0.000000</td>\n",
              "    </tr>\n",
              "    <tr>\n",
              "      <th>Departments _hr</th>\n",
              "      <td>0.000000</td>\n",
              "    </tr>\n",
              "  </tbody>\n",
              "</table>\n",
              "</div>\n",
              "      <button class=\"colab-df-convert\" onclick=\"convertToInteractive('df-9b664e47-8b17-4e5b-95de-99672bca124a')\"\n",
              "              title=\"Convert this dataframe to an interactive table.\"\n",
              "              style=\"display:none;\">\n",
              "        \n",
              "  <svg xmlns=\"http://www.w3.org/2000/svg\" height=\"24px\"viewBox=\"0 0 24 24\"\n",
              "       width=\"24px\">\n",
              "    <path d=\"M0 0h24v24H0V0z\" fill=\"none\"/>\n",
              "    <path d=\"M18.56 5.44l.94 2.06.94-2.06 2.06-.94-2.06-.94-.94-2.06-.94 2.06-2.06.94zm-11 1L8.5 8.5l.94-2.06 2.06-.94-2.06-.94L8.5 2.5l-.94 2.06-2.06.94zm10 10l.94 2.06.94-2.06 2.06-.94-2.06-.94-.94-2.06-.94 2.06-2.06.94z\"/><path d=\"M17.41 7.96l-1.37-1.37c-.4-.4-.92-.59-1.43-.59-.52 0-1.04.2-1.43.59L10.3 9.45l-7.72 7.72c-.78.78-.78 2.05 0 2.83L4 21.41c.39.39.9.59 1.41.59.51 0 1.02-.2 1.41-.59l7.78-7.78 2.81-2.81c.8-.78.8-2.07 0-2.86zM5.41 20L4 18.59l7.72-7.72 1.47 1.35L5.41 20z\"/>\n",
              "  </svg>\n",
              "      </button>\n",
              "      \n",
              "  <style>\n",
              "    .colab-df-container {\n",
              "      display:flex;\n",
              "      flex-wrap:wrap;\n",
              "      gap: 12px;\n",
              "    }\n",
              "\n",
              "    .colab-df-convert {\n",
              "      background-color: #E8F0FE;\n",
              "      border: none;\n",
              "      border-radius: 50%;\n",
              "      cursor: pointer;\n",
              "      display: none;\n",
              "      fill: #1967D2;\n",
              "      height: 32px;\n",
              "      padding: 0 0 0 0;\n",
              "      width: 32px;\n",
              "    }\n",
              "\n",
              "    .colab-df-convert:hover {\n",
              "      background-color: #E2EBFA;\n",
              "      box-shadow: 0px 1px 2px rgba(60, 64, 67, 0.3), 0px 1px 3px 1px rgba(60, 64, 67, 0.15);\n",
              "      fill: #174EA6;\n",
              "    }\n",
              "\n",
              "    [theme=dark] .colab-df-convert {\n",
              "      background-color: #3B4455;\n",
              "      fill: #D2E3FC;\n",
              "    }\n",
              "\n",
              "    [theme=dark] .colab-df-convert:hover {\n",
              "      background-color: #434B5C;\n",
              "      box-shadow: 0px 1px 3px 1px rgba(0, 0, 0, 0.15);\n",
              "      filter: drop-shadow(0px 1px 2px rgba(0, 0, 0, 0.3));\n",
              "      fill: #FFFFFF;\n",
              "    }\n",
              "  </style>\n",
              "\n",
              "      <script>\n",
              "        const buttonEl =\n",
              "          document.querySelector('#df-9b664e47-8b17-4e5b-95de-99672bca124a button.colab-df-convert');\n",
              "        buttonEl.style.display =\n",
              "          google.colab.kernel.accessAllowed ? 'block' : 'none';\n",
              "\n",
              "        async function convertToInteractive(key) {\n",
              "          const element = document.querySelector('#df-9b664e47-8b17-4e5b-95de-99672bca124a');\n",
              "          const dataTable =\n",
              "            await google.colab.kernel.invokeFunction('convertToInteractive',\n",
              "                                                     [key], {});\n",
              "          if (!dataTable) return;\n",
              "\n",
              "          const docLinkHtml = 'Like what you see? Visit the ' +\n",
              "            '<a target=\"_blank\" href=https://colab.research.google.com/notebooks/data_table.ipynb>data table notebook</a>'\n",
              "            + ' to learn more about interactive tables.';\n",
              "          element.innerHTML = '';\n",
              "          dataTable['output_type'] = 'display_data';\n",
              "          await google.colab.output.renderOutput(dataTable, element);\n",
              "          const docLink = document.createElement('div');\n",
              "          docLink.innerHTML = docLinkHtml;\n",
              "          element.appendChild(docLink);\n",
              "        }\n",
              "      </script>\n",
              "    </div>\n",
              "  </div>\n",
              "  "
            ]
          },
          "metadata": {},
          "execution_count": 69
        }
      ],
      "source": [
        "grad_model = GradientBoostingClassifier(random_state=42)\n",
        "grad_model.fit(X_train, y_train)\n",
        "\n",
        "grad_model.feature_importances_\n",
        "\n",
        "feats = pd.DataFrame(index=X.columns, data=grad_model.feature_importances_, columns=['grad_importance'])\n",
        "grad_imp_feats = feats.sort_values(\"grad_importance\", ascending=False)\n",
        "grad_imp_feats"
      ],
      "id": "c0c8c105"
    },
    {
      "cell_type": "code",
      "execution_count": 70,
      "metadata": {
        "colab": {
          "base_uri": "https://localhost:8080/",
          "height": 488
        },
        "id": "b7ac92a6",
        "outputId": "3a912182-6737-41e9-f018-7286eb10001d"
      },
      "outputs": [
        {
          "output_type": "display_data",
          "data": {
            "text/plain": [
              "<Figure size 864x432 with 1 Axes>"
            ],
            "image/png": "[encoded data removed]"
          },
          "metadata": {}
        }
      ],
      "source": [
        "plt.figure(figsize=(12,6))\n",
        "sns.barplot(data=grad_imp_feats, x=grad_imp_feats.index, y='grad_importance')\n",
        "plt.xticks(rotation=90);"
      ],
      "id": "b7ac92a6"
    },
    {
      "cell_type": "markdown",
      "metadata": {
        "id": "f501c7d3"
      },
      "source": [
        "### #XGBoost Model"
      ],
      "id": "f501c7d3"
    },
    {
      "cell_type": "code",
      "execution_count": 71,
      "metadata": {
        "id": "ed15a41a"
      },
      "outputs": [],
      "source": [
        "from xgboost import XGBClassifier"
      ],
      "id": "ed15a41a"
    },
    {
      "cell_type": "code",
      "execution_count": 72,
      "metadata": {
        "id": "8e32e144"
      },
      "outputs": [],
      "source": [
        "xgb_model = XGBClassifier(random_state=42)"
      ],
      "id": "8e32e144"
    },
    {
      "cell_type": "code",
      "execution_count": 73,
      "metadata": {
        "colab": {
          "base_uri": "https://localhost:8080/"
        },
        "id": "0dfebf0d",
        "outputId": "e0eda7a1-8e85-492b-9082-c6325808a1dc"
      },
      "outputs": [
        {
          "output_type": "execute_result",
          "data": {
            "text/plain": [
              "XGBClassifier(random_state=42)"
            ]
          },
          "metadata": {},
          "execution_count": 73
        }
      ],
      "source": [
        "xgb_model.fit(X_train, y_train)"
      ],
      "id": "0dfebf0d"
    },
    {
      "cell_type": "markdown",
      "metadata": {
        "id": "b0fd8009"
      },
      "source": [
        "#### Evaluating Model Performance"
      ],
      "id": "b0fd8009"
    },
    {
      "cell_type": "code",
      "execution_count": 74,
      "metadata": {
        "colab": {
          "base_uri": "https://localhost:8080/"
        },
        "id": "5843c54f",
        "outputId": "712c6020-2104-4195-c7b6-64118c37584d"
      },
      "outputs": [
        {
          "output_type": "stream",
          "name": "stdout",
          "text": [
            "Test_Set\n",
            "[[2979   22]\n",
            " [  53  544]]\n",
            "              precision    recall  f1-score   support\n",
            "\n",
            "           0       0.98      0.99      0.99      3001\n",
            "           1       0.96      0.91      0.94       597\n",
            "\n",
            "    accuracy                           0.98      3598\n",
            "   macro avg       0.97      0.95      0.96      3598\n",
            "weighted avg       0.98      0.98      0.98      3598\n",
            "\n",
            "\n",
            "Train_Set\n",
            "[[6964   35]\n",
            " [ 105 1289]]\n",
            "              precision    recall  f1-score   support\n",
            "\n",
            "           0       0.99      0.99      0.99      6999\n",
            "           1       0.97      0.92      0.95      1394\n",
            "\n",
            "    accuracy                           0.98      8393\n",
            "   macro avg       0.98      0.96      0.97      8393\n",
            "weighted avg       0.98      0.98      0.98      8393\n",
            "\n"
          ]
        }
      ],
      "source": [
        "eval_metric(xgb_model, X_train, y_train, X_test, y_test)"
      ],
      "id": "5843c54f"
    },
    {
      "cell_type": "markdown",
      "metadata": {
        "id": "e00b8fba"
      },
      "source": [
        "#### Cross Validate for XGBoost"
      ],
      "id": "e00b8fba"
    },
    {
      "cell_type": "code",
      "execution_count": 75,
      "metadata": {
        "colab": {
          "base_uri": "https://localhost:8080/"
        },
        "id": "7d92be7b",
        "outputId": "33cc4437-a3fd-44b5-bca0-d850f906645a"
      },
      "outputs": [
        {
          "output_type": "execute_result",
          "data": {
            "text/plain": [
              "test_accuracy     0.981174\n",
              "test_precision    0.967546\n",
              "test_recall       0.917472\n",
              "test_f1           0.941694\n",
              "test_roc_auc      0.984060\n",
              "dtype: float64"
            ]
          },
          "metadata": {},
          "execution_count": 75
        }
      ],
      "source": [
        "model = XGBClassifier(random_state=42)\n",
        "\n",
        "scores = cross_validate(xgb_model, X_train, y_train, scoring = ['accuracy', 'precision','recall',\n",
        "                                                                   'f1', 'roc_auc'], cv = 10)\n",
        "df_scores = pd.DataFrame(scores, index = range(1, 11))\n",
        "df_scores.mean()[2:]"
      ],
      "id": "7d92be7b"
    },
    {
      "cell_type": "code",
      "execution_count": 76,
      "metadata": {
        "colab": {
          "base_uri": "https://localhost:8080/",
          "height": 361
        },
        "id": "379b95e7",
        "outputId": "2b162123-65ac-4c43-c028-6a7534194ea9"
      },
      "outputs": [
        {
          "output_type": "display_data",
          "data": {
            "text/plain": [
              "<Figure size 576x396 with 1 Axes>"
            ],
            "image/png": "[encoded data removed]"
          },
          "metadata": {}
        }
      ],
      "source": [
        "plot_precision_recall_curve(xgb_model, X_test, y_test);"
      ],
      "id": "379b95e7"
    },
    {
      "cell_type": "markdown",
      "metadata": {
        "id": "1ab62b07"
      },
      "source": [
        "#### GridSearch for XGboost"
      ],
      "id": "1ab62b07"
    },
    {
      "cell_type": "code",
      "execution_count": 77,
      "metadata": {
        "id": "67f8f075"
      },
      "outputs": [],
      "source": [
        "param_grid = {\"n_estimators\":[50, 100, 200],'max_depth':[3,4,5], \"learning_rate\": [0.1, 0.2],\n",
        "             \"subsample\":[0.5, 0.8, 1]}"
      ],
      "id": "67f8f075"
    },
    {
      "cell_type": "code",
      "execution_count": 78,
      "metadata": {
        "id": "c9c9da0b"
      },
      "outputs": [],
      "source": [
        "model = XGBClassifier(random_state=42)"
      ],
      "id": "c9c9da0b"
    },
    {
      "cell_type": "code",
      "execution_count": 79,
      "metadata": {
        "id": "0a86a6cb"
      },
      "outputs": [],
      "source": [
        "xgb_grid = GridSearchCV(model, param_grid, scoring = \"f1\", n_jobs = -1).fit(X_train, y_train)"
      ],
      "id": "0a86a6cb"
    },
    {
      "cell_type": "code",
      "execution_count": 80,
      "metadata": {
        "id": "27a4f3a8",
        "colab": {
          "base_uri": "https://localhost:8080/"
        },
        "outputId": "229f887b-8b29-4d35-841c-f0fb539d238b"
      },
      "outputs": [
        {
          "output_type": "execute_result",
          "data": {
            "text/plain": [
              "{'learning_rate': 0.1, 'max_depth': 5, 'n_estimators': 100, 'subsample': 0.8}"
            ]
          },
          "metadata": {},
          "execution_count": 80
        }
      ],
      "source": [
        "xgb_grid.best_params_"
      ],
      "id": "27a4f3a8"
    },
    {
      "cell_type": "code",
      "execution_count": 81,
      "metadata": {
        "id": "2cf1aee2",
        "colab": {
          "base_uri": "https://localhost:8080/"
        },
        "outputId": "d4e28c5a-1fd2-42c9-aa6b-51d68b45d9cf"
      },
      "outputs": [
        {
          "output_type": "execute_result",
          "data": {
            "text/plain": [
              "0.9489315492363894"
            ]
          },
          "metadata": {},
          "execution_count": 81
        }
      ],
      "source": [
        "xgb_grid.best_score_"
      ],
      "id": "2cf1aee2"
    },
    {
      "cell_type": "code",
      "execution_count": 82,
      "metadata": {
        "id": "8069fd1f",
        "colab": {
          "base_uri": "https://localhost:8080/"
        },
        "outputId": "e57c915d-ca62-431c-97ab-d62396e52da0"
      },
      "outputs": [
        {
          "output_type": "stream",
          "name": "stdout",
          "text": [
            "Test_Set\n",
            "[[2982   19]\n",
            " [  51  546]]\n",
            "              precision    recall  f1-score   support\n",
            "\n",
            "           0       0.98      0.99      0.99      3001\n",
            "           1       0.97      0.91      0.94       597\n",
            "\n",
            "    accuracy                           0.98      3598\n",
            "   macro avg       0.97      0.95      0.96      3598\n",
            "weighted avg       0.98      0.98      0.98      3598\n",
            "\n",
            "\n",
            "Train_Set\n",
            "[[6977   22]\n",
            " [  93 1301]]\n",
            "              precision    recall  f1-score   support\n",
            "\n",
            "           0       0.99      1.00      0.99      6999\n",
            "           1       0.98      0.93      0.96      1394\n",
            "\n",
            "    accuracy                           0.99      8393\n",
            "   macro avg       0.99      0.97      0.97      8393\n",
            "weighted avg       0.99      0.99      0.99      8393\n",
            "\n"
          ]
        }
      ],
      "source": [
        "eval_metric(xgb_grid, X_train, y_train, X_test, y_test)"
      ],
      "id": "8069fd1f"
    },
    {
      "cell_type": "markdown",
      "metadata": {
        "id": "06ccc2d0"
      },
      "source": [
        "#### Prediction"
      ],
      "id": "06ccc2d0"
    },
    {
      "cell_type": "code",
      "execution_count": 83,
      "metadata": {
        "id": "f0ebcb63",
        "colab": {
          "base_uri": "https://localhost:8080/"
        },
        "outputId": "f832b9ae-addc-4ea1-a53e-6836104a371c"
      },
      "outputs": [
        {
          "output_type": "execute_result",
          "data": {
            "text/plain": [
              "array([0, 0, 1, ..., 1, 0, 0])"
            ]
          },
          "metadata": {},
          "execution_count": 83
        }
      ],
      "source": [
        "y_pred = xgb_model.predict(X_test)\n",
        "y_pred"
      ],
      "id": "f0ebcb63"
    },
    {
      "cell_type": "code",
      "execution_count": 84,
      "metadata": {
        "id": "6b37090e"
      },
      "outputs": [],
      "source": [
        "y_pred_proba = xgb_model.predict_proba(X_test)"
      ],
      "id": "6b37090e"
    },
    {
      "cell_type": "code",
      "execution_count": 85,
      "metadata": {
        "id": "098464aa"
      },
      "outputs": [],
      "source": [
        "my_dict = {\"Actual\": y_test, \"Pred\":y_pred, \"Proba_1\":y_pred_proba[:,1], \"Proba_0\":y_pred_proba[:,0]}"
      ],
      "id": "098464aa"
    },
    {
      "cell_type": "code",
      "execution_count": 86,
      "metadata": {
        "id": "51228e68",
        "colab": {
          "base_uri": "https://localhost:8080/",
          "height": 363
        },
        "outputId": "c467c68b-30d5-4e9b-8555-13c4f2dea833"
      },
      "outputs": [
        {
          "output_type": "execute_result",
          "data": {
            "text/plain": [
              "       Actual  Pred   Proba_1   Proba_0\n",
              "7578        0     0  0.007983  0.992017\n",
              "308         1     1  0.927584  0.072416\n",
              "10765       0     0  0.026536  0.973464\n",
              "8336        0     0  0.008058  0.991942\n",
              "1544        1     1  0.773297  0.226703\n",
              "9705        0     0  0.008380  0.991620\n",
              "719         1     1  0.958716  0.041284\n",
              "5897        0     0  0.025029  0.974971\n",
              "4555        0     0  0.002193  0.997807\n",
              "3264        0     0  0.007426  0.992574"
            ],
            "text/html": [
              "\n",
              "  <div id=\"df-c6a8a268-22b1-4ab4-ab23-f7cdc9601824\">\n",
              "    <div class=\"colab-df-container\">\n",
              "      <div>\n",
              "<style scoped>\n",
              "    .dataframe tbody tr th:only-of-type {\n",
              "        vertical-align: middle;\n",
              "    }\n",
              "\n",
              "    .dataframe tbody tr th {\n",
              "        vertical-align: top;\n",
              "    }\n",
              "\n",
              "    .dataframe thead th {\n",
              "        text-align: right;\n",
              "    }\n",
              "</style>\n",
              "<table border=\"1\" class=\"dataframe\">\n",
              "  <thead>\n",
              "    <tr style=\"text-align: right;\">\n",
              "      <th></th>\n",
              "      <th>Actual</th>\n",
              "      <th>Pred</th>\n",
              "      <th>Proba_1</th>\n",
              "      <th>Proba_0</th>\n",
              "    </tr>\n",
              "  </thead>\n",
              "  <tbody>\n",
              "    <tr>\n",
              "      <th>7578</th>\n",
              "      <td>0</td>\n",
              "      <td>0</td>\n",
              "      <td>0.007983</td>\n",
              "      <td>0.992017</td>\n",
              "    </tr>\n",
              "    <tr>\n",
              "      <th>308</th>\n",
              "      <td>1</td>\n",
              "      <td>1</td>\n",
              "      <td>0.927584</td>\n",
              "      <td>0.072416</td>\n",
              "    </tr>\n",
              "    <tr>\n",
              "      <th>10765</th>\n",
              "      <td>0</td>\n",
              "      <td>0</td>\n",
              "      <td>0.026536</td>\n",
              "      <td>0.973464</td>\n",
              "    </tr>\n",
              "    <tr>\n",
              "      <th>8336</th>\n",
              "      <td>0</td>\n",
              "      <td>0</td>\n",
              "      <td>0.008058</td>\n",
              "      <td>0.991942</td>\n",
              "    </tr>\n",
              "    <tr>\n",
              "      <th>1544</th>\n",
              "      <td>1</td>\n",
              "      <td>1</td>\n",
              "      <td>0.773297</td>\n",
              "      <td>0.226703</td>\n",
              "    </tr>\n",
              "    <tr>\n",
              "      <th>9705</th>\n",
              "      <td>0</td>\n",
              "      <td>0</td>\n",
              "      <td>0.008380</td>\n",
              "      <td>0.991620</td>\n",
              "    </tr>\n",
              "    <tr>\n",
              "      <th>719</th>\n",
              "      <td>1</td>\n",
              "      <td>1</td>\n",
              "      <td>0.958716</td>\n",
              "      <td>0.041284</td>\n",
              "    </tr>\n",
              "    <tr>\n",
              "      <th>5897</th>\n",
              "      <td>0</td>\n",
              "      <td>0</td>\n",
              "      <td>0.025029</td>\n",
              "      <td>0.974971</td>\n",
              "    </tr>\n",
              "    <tr>\n",
              "      <th>4555</th>\n",
              "      <td>0</td>\n",
              "      <td>0</td>\n",
              "      <td>0.002193</td>\n",
              "      <td>0.997807</td>\n",
              "    </tr>\n",
              "    <tr>\n",
              "      <th>3264</th>\n",
              "      <td>0</td>\n",
              "      <td>0</td>\n",
              "      <td>0.007426</td>\n",
              "      <td>0.992574</td>\n",
              "    </tr>\n",
              "  </tbody>\n",
              "</table>\n",
              "</div>\n",
              "      <button class=\"colab-df-convert\" onclick=\"convertToInteractive('df-c6a8a268-22b1-4ab4-ab23-f7cdc9601824')\"\n",
              "              title=\"Convert this dataframe to an interactive table.\"\n",
              "              style=\"display:none;\">\n",
              "        \n",
              "  <svg xmlns=\"http://www.w3.org/2000/svg\" height=\"24px\"viewBox=\"0 0 24 24\"\n",
              "       width=\"24px\">\n",
              "    <path d=\"M0 0h24v24H0V0z\" fill=\"none\"/>\n",
              "    <path d=\"M18.56 5.44l.94 2.06.94-2.06 2.06-.94-2.06-.94-.94-2.06-.94 2.06-2.06.94zm-11 1L8.5 8.5l.94-2.06 2.06-.94-2.06-.94L8.5 2.5l-.94 2.06-2.06.94zm10 10l.94 2.06.94-2.06 2.06-.94-2.06-.94-.94-2.06-.94 2.06-2.06.94z\"/><path d=\"M17.41 7.96l-1.37-1.37c-.4-.4-.92-.59-1.43-.59-.52 0-1.04.2-1.43.59L10.3 9.45l-7.72 7.72c-.78.78-.78 2.05 0 2.83L4 21.41c.39.39.9.59 1.41.59.51 0 1.02-.2 1.41-.59l7.78-7.78 2.81-2.81c.8-.78.8-2.07 0-2.86zM5.41 20L4 18.59l7.72-7.72 1.47 1.35L5.41 20z\"/>\n",
              "  </svg>\n",
              "      </button>\n",
              "      \n",
              "  <style>\n",
              "    .colab-df-container {\n",
              "      display:flex;\n",
              "      flex-wrap:wrap;\n",
              "      gap: 12px;\n",
              "    }\n",
              "\n",
              "    .colab-df-convert {\n",
              "      background-color: #E8F0FE;\n",
              "      border: none;\n",
              "      border-radius: 50%;\n",
              "      cursor: pointer;\n",
              "      display: none;\n",
              "      fill: #1967D2;\n",
              "      height: 32px;\n",
              "      padding: 0 0 0 0;\n",
              "      width: 32px;\n",
              "    }\n",
              "\n",
              "    .colab-df-convert:hover {\n",
              "      background-color: #E2EBFA;\n",
              "      box-shadow: 0px 1px 2px rgba(60, 64, 67, 0.3), 0px 1px 3px 1px rgba(60, 64, 67, 0.15);\n",
              "      fill: #174EA6;\n",
              "    }\n",
              "\n",
              "    [theme=dark] .colab-df-convert {\n",
              "      background-color: #3B4455;\n",
              "      fill: #D2E3FC;\n",
              "    }\n",
              "\n",
              "    [theme=dark] .colab-df-convert:hover {\n",
              "      background-color: #434B5C;\n",
              "      box-shadow: 0px 1px 3px 1px rgba(0, 0, 0, 0.15);\n",
              "      filter: drop-shadow(0px 1px 2px rgba(0, 0, 0, 0.3));\n",
              "      fill: #FFFFFF;\n",
              "    }\n",
              "  </style>\n",
              "\n",
              "      <script>\n",
              "        const buttonEl =\n",
              "          document.querySelector('#df-c6a8a268-22b1-4ab4-ab23-f7cdc9601824 button.colab-df-convert');\n",
              "        buttonEl.style.display =\n",
              "          google.colab.kernel.accessAllowed ? 'block' : 'none';\n",
              "\n",
              "        async function convertToInteractive(key) {\n",
              "          const element = document.querySelector('#df-c6a8a268-22b1-4ab4-ab23-f7cdc9601824');\n",
              "          const dataTable =\n",
              "            await google.colab.kernel.invokeFunction('convertToInteractive',\n",
              "                                                     [key], {});\n",
              "          if (!dataTable) return;\n",
              "\n",
              "          const docLinkHtml = 'Like what you see? Visit the ' +\n",
              "            '<a target=\"_blank\" href=https://colab.research.google.com/notebooks/data_table.ipynb>data table notebook</a>'\n",
              "            + ' to learn more about interactive tables.';\n",
              "          element.innerHTML = '';\n",
              "          dataTable['output_type'] = 'display_data';\n",
              "          await google.colab.output.renderOutput(dataTable, element);\n",
              "          const docLink = document.createElement('div');\n",
              "          docLink.innerHTML = docLinkHtml;\n",
              "          element.appendChild(docLink);\n",
              "        }\n",
              "      </script>\n",
              "    </div>\n",
              "  </div>\n",
              "  "
            ]
          },
          "metadata": {},
          "execution_count": 86
        }
      ],
      "source": [
        "pd.DataFrame.from_dict(my_dict).sample(10)"
      ],
      "id": "51228e68"
    },
    {
      "cell_type": "code",
      "execution_count": 87,
      "metadata": {
        "id": "283191a4"
      },
      "outputs": [],
      "source": [
        "xgb_f1 = f1_score(y_test, y_pred)\n",
        "xgb_recall = recall_score(y_test, y_pred)\n",
        "xgb_auc = roc_auc_score(y_test, y_pred)"
      ],
      "id": "283191a4"
    },
    {
      "cell_type": "markdown",
      "metadata": {
        "id": "3344adbf"
      },
      "source": [
        "#### Feature Importance"
      ],
      "id": "3344adbf"
    },
    {
      "cell_type": "code",
      "execution_count": 88,
      "metadata": {
        "id": "fe7e522d",
        "colab": {
          "base_uri": "https://localhost:8080/",
          "height": 645
        },
        "outputId": "b6ad203f-d460-440d-8223-fd6e94b3749a"
      },
      "outputs": [
        {
          "output_type": "execute_result",
          "data": {
            "text/plain": [
              "                          xgb_importance\n",
              "satisfaction_level              0.294564\n",
              "time_spend_company              0.192839\n",
              "number_project                  0.151092\n",
              "last_evaluation                 0.132336\n",
              "Classes                         0.087937\n",
              "average_montly_hours            0.074061\n",
              "Work_accident                   0.034459\n",
              "salary_low                      0.030303\n",
              "Departments _technical          0.001617\n",
              "Departments _sales              0.000792\n",
              "promotion_last_5years           0.000000\n",
              "Departments _RandD              0.000000\n",
              "Departments _accounting         0.000000\n",
              "Departments _management         0.000000\n",
              "Departments _marketing          0.000000\n",
              "Departments _product_mng        0.000000\n",
              "Departments _support            0.000000\n",
              "salary_medium                   0.000000\n",
              "Departments _hr                 0.000000"
            ],
            "text/html": [
              "\n",
              "  <div id=\"df-9115e1ae-27c8-485e-81f6-115ac65ab111\">\n",
              "    <div class=\"colab-df-container\">\n",
              "      <div>\n",
              "<style scoped>\n",
              "    .dataframe tbody tr th:only-of-type {\n",
              "        vertical-align: middle;\n",
              "    }\n",
              "\n",
              "    .dataframe tbody tr th {\n",
              "        vertical-align: top;\n",
              "    }\n",
              "\n",
              "    .dataframe thead th {\n",
              "        text-align: right;\n",
              "    }\n",
              "</style>\n",
              "<table border=\"1\" class=\"dataframe\">\n",
              "  <thead>\n",
              "    <tr style=\"text-align: right;\">\n",
              "      <th></th>\n",
              "      <th>xgb_importance</th>\n",
              "    </tr>\n",
              "  </thead>\n",
              "  <tbody>\n",
              "    <tr>\n",
              "      <th>satisfaction_level</th>\n",
              "      <td>0.294564</td>\n",
              "    </tr>\n",
              "    <tr>\n",
              "      <th>time_spend_company</th>\n",
              "      <td>0.192839</td>\n",
              "    </tr>\n",
              "    <tr>\n",
              "      <th>number_project</th>\n",
              "      <td>0.151092</td>\n",
              "    </tr>\n",
              "    <tr>\n",
              "      <th>last_evaluation</th>\n",
              "      <td>0.132336</td>\n",
              "    </tr>\n",
              "    <tr>\n",
              "      <th>Classes</th>\n",
              "      <td>0.087937</td>\n",
              "    </tr>\n",
              "    <tr>\n",
              "      <th>average_montly_hours</th>\n",
              "      <td>0.074061</td>\n",
              "    </tr>\n",
              "    <tr>\n",
              "      <th>Work_accident</th>\n",
              "      <td>0.034459</td>\n",
              "    </tr>\n",
              "    <tr>\n",
              "      <th>salary_low</th>\n",
              "      <td>0.030303</td>\n",
              "    </tr>\n",
              "    <tr>\n",
              "      <th>Departments _technical</th>\n",
              "      <td>0.001617</td>\n",
              "    </tr>\n",
              "    <tr>\n",
              "      <th>Departments _sales</th>\n",
              "      <td>0.000792</td>\n",
              "    </tr>\n",
              "    <tr>\n",
              "      <th>promotion_last_5years</th>\n",
              "      <td>0.000000</td>\n",
              "    </tr>\n",
              "    <tr>\n",
              "      <th>Departments _RandD</th>\n",
              "      <td>0.000000</td>\n",
              "    </tr>\n",
              "    <tr>\n",
              "      <th>Departments _accounting</th>\n",
              "      <td>0.000000</td>\n",
              "    </tr>\n",
              "    <tr>\n",
              "      <th>Departments _management</th>\n",
              "      <td>0.000000</td>\n",
              "    </tr>\n",
              "    <tr>\n",
              "      <th>Departments _marketing</th>\n",
              "      <td>0.000000</td>\n",
              "    </tr>\n",
              "    <tr>\n",
              "      <th>Departments _product_mng</th>\n",
              "      <td>0.000000</td>\n",
              "    </tr>\n",
              "    <tr>\n",
              "      <th>Departments _support</th>\n",
              "      <td>0.000000</td>\n",
              "    </tr>\n",
              "    <tr>\n",
              "      <th>salary_medium</th>\n",
              "      <td>0.000000</td>\n",
              "    </tr>\n",
              "    <tr>\n",
              "      <th>Departments _hr</th>\n",
              "      <td>0.000000</td>\n",
              "    </tr>\n",
              "  </tbody>\n",
              "</table>\n",
              "</div>\n",
              "      <button class=\"colab-df-convert\" onclick=\"convertToInteractive('df-9115e1ae-27c8-485e-81f6-115ac65ab111')\"\n",
              "              title=\"Convert this dataframe to an interactive table.\"\n",
              "              style=\"display:none;\">\n",
              "        \n",
              "  <svg xmlns=\"http://www.w3.org/2000/svg\" height=\"24px\"viewBox=\"0 0 24 24\"\n",
              "       width=\"24px\">\n",
              "    <path d=\"M0 0h24v24H0V0z\" fill=\"none\"/>\n",
              "    <path d=\"M18.56 5.44l.94 2.06.94-2.06 2.06-.94-2.06-.94-.94-2.06-.94 2.06-2.06.94zm-11 1L8.5 8.5l.94-2.06 2.06-.94-2.06-.94L8.5 2.5l-.94 2.06-2.06.94zm10 10l.94 2.06.94-2.06 2.06-.94-2.06-.94-.94-2.06-.94 2.06-2.06.94z\"/><path d=\"M17.41 7.96l-1.37-1.37c-.4-.4-.92-.59-1.43-.59-.52 0-1.04.2-1.43.59L10.3 9.45l-7.72 7.72c-.78.78-.78 2.05 0 2.83L4 21.41c.39.39.9.59 1.41.59.51 0 1.02-.2 1.41-.59l7.78-7.78 2.81-2.81c.8-.78.8-2.07 0-2.86zM5.41 20L4 18.59l7.72-7.72 1.47 1.35L5.41 20z\"/>\n",
              "  </svg>\n",
              "      </button>\n",
              "      \n",
              "  <style>\n",
              "    .colab-df-container {\n",
              "      display:flex;\n",
              "      flex-wrap:wrap;\n",
              "      gap: 12px;\n",
              "    }\n",
              "\n",
              "    .colab-df-convert {\n",
              "      background-color: #E8F0FE;\n",
              "      border: none;\n",
              "      border-radius: 50%;\n",
              "      cursor: pointer;\n",
              "      display: none;\n",
              "      fill: #1967D2;\n",
              "      height: 32px;\n",
              "      padding: 0 0 0 0;\n",
              "      width: 32px;\n",
              "    }\n",
              "\n",
              "    .colab-df-convert:hover {\n",
              "      background-color: #E2EBFA;\n",
              "      box-shadow: 0px 1px 2px rgba(60, 64, 67, 0.3), 0px 1px 3px 1px rgba(60, 64, 67, 0.15);\n",
              "      fill: #174EA6;\n",
              "    }\n",
              "\n",
              "    [theme=dark] .colab-df-convert {\n",
              "      background-color: #3B4455;\n",
              "      fill: #D2E3FC;\n",
              "    }\n",
              "\n",
              "    [theme=dark] .colab-df-convert:hover {\n",
              "      background-color: #434B5C;\n",
              "      box-shadow: 0px 1px 3px 1px rgba(0, 0, 0, 0.15);\n",
              "      filter: drop-shadow(0px 1px 2px rgba(0, 0, 0, 0.3));\n",
              "      fill: #FFFFFF;\n",
              "    }\n",
              "  </style>\n",
              "\n",
              "      <script>\n",
              "        const buttonEl =\n",
              "          document.querySelector('#df-9115e1ae-27c8-485e-81f6-115ac65ab111 button.colab-df-convert');\n",
              "        buttonEl.style.display =\n",
              "          google.colab.kernel.accessAllowed ? 'block' : 'none';\n",
              "\n",
              "        async function convertToInteractive(key) {\n",
              "          const element = document.querySelector('#df-9115e1ae-27c8-485e-81f6-115ac65ab111');\n",
              "          const dataTable =\n",
              "            await google.colab.kernel.invokeFunction('convertToInteractive',\n",
              "                                                     [key], {});\n",
              "          if (!dataTable) return;\n",
              "\n",
              "          const docLinkHtml = 'Like what you see? Visit the ' +\n",
              "            '<a target=\"_blank\" href=https://colab.research.google.com/notebooks/data_table.ipynb>data table notebook</a>'\n",
              "            + ' to learn more about interactive tables.';\n",
              "          element.innerHTML = '';\n",
              "          dataTable['output_type'] = 'display_data';\n",
              "          await google.colab.output.renderOutput(dataTable, element);\n",
              "          const docLink = document.createElement('div');\n",
              "          docLink.innerHTML = docLinkHtml;\n",
              "          element.appendChild(docLink);\n",
              "        }\n",
              "      </script>\n",
              "    </div>\n",
              "  </div>\n",
              "  "
            ]
          },
          "metadata": {},
          "execution_count": 88
        }
      ],
      "source": [
        "xgb_model = XGBClassifier(random_state=42)\n",
        "xgb_model.fit(X_train, y_train)\n",
        "\n",
        "xgb_model.feature_importances_\n",
        "\n",
        "feats = pd.DataFrame(index=X.columns, data=xgb_model.feature_importances_, columns=['xgb_importance'])\n",
        "xgb_imp_feats = feats.sort_values(\"xgb_importance\", ascending=False)\n",
        "xgb_imp_feats"
      ],
      "id": "fe7e522d"
    },
    {
      "cell_type": "code",
      "execution_count": 89,
      "metadata": {
        "id": "54e1b559",
        "colab": {
          "base_uri": "https://localhost:8080/",
          "height": 488
        },
        "outputId": "45c69915-3cec-4341-faf7-0aa75bceee09"
      },
      "outputs": [
        {
          "output_type": "display_data",
          "data": {
            "text/plain": [
              "<Figure size 864x432 with 1 Axes>"
            ],
            "image/png": "[encoded data removed]"
          },
          "metadata": {}
        }
      ],
      "source": [
        "plt.figure(figsize=(12,6))\n",
        "sns.barplot(data=xgb_imp_feats, x=xgb_imp_feats.index, y='xgb_importance')\n",
        "plt.xticks(rotation=90);"
      ],
      "id": "54e1b559"
    },
    {
      "cell_type": "markdown",
      "metadata": {
        "id": "b690c40e"
      },
      "source": [
        "### Random Forest Classifier"
      ],
      "id": "b690c40e"
    },
    {
      "cell_type": "markdown",
      "metadata": {
        "id": "1b127d86"
      },
      "source": [
        "#### Model Building"
      ],
      "id": "1b127d86"
    },
    {
      "cell_type": "code",
      "execution_count": 90,
      "metadata": {
        "id": "b9fbc668"
      },
      "outputs": [],
      "source": [
        "from sklearn.ensemble import RandomForestClassifier"
      ],
      "id": "b9fbc668"
    },
    {
      "cell_type": "code",
      "execution_count": 91,
      "metadata": {
        "id": "3024e85c"
      },
      "outputs": [],
      "source": [
        "rf_model = RandomForestClassifier(random_state=42)"
      ],
      "id": "3024e85c"
    },
    {
      "cell_type": "code",
      "execution_count": 92,
      "metadata": {
        "id": "b55bb7f9",
        "colab": {
          "base_uri": "https://localhost:8080/"
        },
        "outputId": "eea927f4-9189-449f-81dd-6bcf5e7e4e63"
      },
      "outputs": [
        {
          "output_type": "execute_result",
          "data": {
            "text/plain": [
              "RandomForestClassifier(random_state=42)"
            ]
          },
          "metadata": {},
          "execution_count": 92
        }
      ],
      "source": [
        "rf_model.fit(X_train,y_train)"
      ],
      "id": "b55bb7f9"
    },
    {
      "cell_type": "markdown",
      "metadata": {
        "id": "0066f236"
      },
      "source": [
        "#### Evaluating Model Performance"
      ],
      "id": "0066f236"
    },
    {
      "cell_type": "code",
      "execution_count": 93,
      "metadata": {
        "id": "17a9ba50",
        "colab": {
          "base_uri": "https://localhost:8080/"
        },
        "outputId": "d220fdad-8d77-487b-c47f-79b952ca251e"
      },
      "outputs": [
        {
          "output_type": "stream",
          "name": "stdout",
          "text": [
            "Test_Set\n",
            "[[2995    6]\n",
            " [  59  538]]\n",
            "              precision    recall  f1-score   support\n",
            "\n",
            "           0       0.98      1.00      0.99      3001\n",
            "           1       0.99      0.90      0.94       597\n",
            "\n",
            "    accuracy                           0.98      3598\n",
            "   macro avg       0.98      0.95      0.97      3598\n",
            "weighted avg       0.98      0.98      0.98      3598\n",
            "\n",
            "\n",
            "Train_Set\n",
            "[[6999    0]\n",
            " [   0 1394]]\n",
            "              precision    recall  f1-score   support\n",
            "\n",
            "           0       1.00      1.00      1.00      6999\n",
            "           1       1.00      1.00      1.00      1394\n",
            "\n",
            "    accuracy                           1.00      8393\n",
            "   macro avg       1.00      1.00      1.00      8393\n",
            "weighted avg       1.00      1.00      1.00      8393\n",
            "\n"
          ]
        }
      ],
      "source": [
        "eval_metric(rf_model, X_train, y_train, X_test, y_test)"
      ],
      "id": "17a9ba50"
    },
    {
      "cell_type": "markdown",
      "metadata": {
        "id": "923369d7"
      },
      "source": [
        "#### Cross Validate for Random Forest"
      ],
      "id": "923369d7"
    },
    {
      "cell_type": "code",
      "execution_count": 94,
      "metadata": {
        "id": "aa286380",
        "colab": {
          "base_uri": "https://localhost:8080/"
        },
        "outputId": "4d1406d7-b1c8-49fd-acaa-692b04acd73c"
      },
      "outputs": [
        {
          "output_type": "execute_result",
          "data": {
            "text/plain": [
              "test_accuracy     0.982247\n",
              "test_precision    0.984544\n",
              "test_recall       0.907431\n",
              "test_f1           0.944245\n",
              "test_roc_auc      0.980186\n",
              "dtype: float64"
            ]
          },
          "metadata": {},
          "execution_count": 94
        }
      ],
      "source": [
        "model = RandomForestClassifier(random_state=42)\n",
        "\n",
        "scores = cross_validate(model, X_train, y_train, scoring = ['accuracy', 'precision','recall',\n",
        "                                                                   'f1', 'roc_auc'], cv = 10)\n",
        "df_scores = pd.DataFrame(scores, index = range(1, 11))\n",
        "df_scores.mean()[2:]"
      ],
      "id": "aa286380"
    },
    {
      "cell_type": "code",
      "execution_count": 95,
      "metadata": {
        "id": "55ce8122",
        "colab": {
          "base_uri": "https://localhost:8080/",
          "height": 361
        },
        "outputId": "b03170b9-d351-4fb1-ac1b-5802c8a68a13"
      },
      "outputs": [
        {
          "output_type": "display_data",
          "data": {
            "text/plain": [
              "<Figure size 576x396 with 1 Axes>"
            ],
            "image/png": "[encoded data removed]"
          },
          "metadata": {}
        }
      ],
      "source": [
        "plot_precision_recall_curve(rf_model, X_test, y_test);"
      ],
      "id": "55ce8122"
    },
    {
      "cell_type": "markdown",
      "metadata": {
        "id": "e29108d1"
      },
      "source": [
        "#### GridSearch for Random Forest"
      ],
      "id": "e29108d1"
    },
    {
      "cell_type": "code",
      "execution_count": 96,
      "metadata": {
        "id": "8e52c8a8"
      },
      "outputs": [],
      "source": [
        "param_grid = {'n_estimators':[50, 64, 100, 128, 300],   # Araştırmalara göre 64 ve 128 sayıları mutlaka denenmeli \n",
        "             'max_features':[2, 3, 4, \"auto\"],\n",
        "             'max_depth':[3, 5, 7, 9],\n",
        "             'min_samples_split':[2, 5, 8]}"
      ],
      "id": "8e52c8a8"
    },
    {
      "cell_type": "code",
      "execution_count": 97,
      "metadata": {
        "id": "91ac9c0d"
      },
      "outputs": [],
      "source": [
        "model = RandomForestClassifier(class_weight = \"balanced\", random_state=42)\n",
        "rf_grid = GridSearchCV(model, param_grid, scoring = \"recall\", n_jobs = -1).fit(X_train, y_train)"
      ],
      "id": "91ac9c0d"
    },
    {
      "cell_type": "code",
      "execution_count": 98,
      "metadata": {
        "id": "c0dc67c1",
        "colab": {
          "base_uri": "https://localhost:8080/"
        },
        "outputId": "e3c9112a-3ad2-4980-c0c8-4838449d3006"
      },
      "outputs": [
        {
          "output_type": "execute_result",
          "data": {
            "text/plain": [
              "{'max_depth': 5,\n",
              " 'max_features': 4,\n",
              " 'min_samples_split': 8,\n",
              " 'n_estimators': 128}"
            ]
          },
          "metadata": {},
          "execution_count": 98
        }
      ],
      "source": [
        "rf_grid.best_params_"
      ],
      "id": "c0dc67c1"
    },
    {
      "cell_type": "code",
      "execution_count": 99,
      "metadata": {
        "id": "2b4c03a3",
        "colab": {
          "base_uri": "https://localhost:8080/"
        },
        "outputId": "c8ddae39-5e04-4daf-ef00-b92d533a1e38"
      },
      "outputs": [
        {
          "output_type": "execute_result",
          "data": {
            "text/plain": [
              "0.9268198344550168"
            ]
          },
          "metadata": {},
          "execution_count": 99
        }
      ],
      "source": [
        "rf_grid.best_score_"
      ],
      "id": "2b4c03a3"
    },
    {
      "cell_type": "code",
      "execution_count": 100,
      "metadata": {
        "id": "46d2c444",
        "colab": {
          "base_uri": "https://localhost:8080/"
        },
        "outputId": "ebed29da-3df9-4a5b-ce64-a6c438aa2b8e"
      },
      "outputs": [
        {
          "output_type": "stream",
          "name": "stdout",
          "text": [
            "Test_Set\n",
            "[[2910   91]\n",
            " [  53  544]]\n",
            "              precision    recall  f1-score   support\n",
            "\n",
            "           0       0.98      0.97      0.98      3001\n",
            "           1       0.86      0.91      0.88       597\n",
            "\n",
            "    accuracy                           0.96      3598\n",
            "   macro avg       0.92      0.94      0.93      3598\n",
            "weighted avg       0.96      0.96      0.96      3598\n",
            "\n",
            "\n",
            "Train_Set\n",
            "[[6799  200]\n",
            " [  96 1298]]\n",
            "              precision    recall  f1-score   support\n",
            "\n",
            "           0       0.99      0.97      0.98      6999\n",
            "           1       0.87      0.93      0.90      1394\n",
            "\n",
            "    accuracy                           0.96      8393\n",
            "   macro avg       0.93      0.95      0.94      8393\n",
            "weighted avg       0.97      0.96      0.97      8393\n",
            "\n"
          ]
        }
      ],
      "source": [
        "eval_metric(rf_grid, X_train, y_train, X_test, y_test)"
      ],
      "id": "46d2c444"
    },
    {
      "cell_type": "markdown",
      "metadata": {
        "id": "576dfae2"
      },
      "source": [
        "#### Prediction"
      ],
      "id": "576dfae2"
    },
    {
      "cell_type": "code",
      "execution_count": 101,
      "metadata": {
        "id": "2a0bb4bd"
      },
      "outputs": [],
      "source": [
        "y_pred = rf_model.predict(X_test)"
      ],
      "id": "2a0bb4bd"
    },
    {
      "cell_type": "code",
      "execution_count": 102,
      "metadata": {
        "id": "076f463e"
      },
      "outputs": [],
      "source": [
        "y_pred_proba = rf_model.predict_proba(X_test)"
      ],
      "id": "076f463e"
    },
    {
      "cell_type": "code",
      "execution_count": 103,
      "metadata": {
        "id": "d086e815"
      },
      "outputs": [],
      "source": [
        "my_dict = {\"Actual\": y_test, \"Pred\":y_pred, \"Proba_1\":y_pred_proba[:,1], \"Proba_0\":y_pred_proba[:,0]}"
      ],
      "id": "d086e815"
    },
    {
      "cell_type": "code",
      "execution_count": 104,
      "metadata": {
        "id": "43eace4d",
        "colab": {
          "base_uri": "https://localhost:8080/",
          "height": 363
        },
        "outputId": "9e53c627-edb9-4ae3-d611-ca354244bc2f"
      },
      "outputs": [
        {
          "output_type": "execute_result",
          "data": {
            "text/plain": [
              "       Actual  Pred  Proba_1  Proba_0\n",
              "3014        0     0     0.00     1.00\n",
              "4023        0     0     0.07     0.93\n",
              "3530        0     0     0.00     1.00\n",
              "2757        0     0     0.00     1.00\n",
              "5454        0     0     0.04     0.96\n",
              "1023        1     1     0.99     0.01\n",
              "8101        0     0     0.00     1.00\n",
              "11796       0     0     0.00     1.00\n",
              "2444        0     0     0.00     1.00\n",
              "6903        0     0     0.01     0.99"
            ],
            "text/html": [
              "\n",
              "  <div id=\"df-af92f8c4-ade3-4802-9066-32ec6bd9c2ed\">\n",
              "    <div class=\"colab-df-container\">\n",
              "      <div>\n",
              "<style scoped>\n",
              "    .dataframe tbody tr th:only-of-type {\n",
              "        vertical-align: middle;\n",
              "    }\n",
              "\n",
              "    .dataframe tbody tr th {\n",
              "        vertical-align: top;\n",
              "    }\n",
              "\n",
              "    .dataframe thead th {\n",
              "        text-align: right;\n",
              "    }\n",
              "</style>\n",
              "<table border=\"1\" class=\"dataframe\">\n",
              "  <thead>\n",
              "    <tr style=\"text-align: right;\">\n",
              "      <th></th>\n",
              "      <th>Actual</th>\n",
              "      <th>Pred</th>\n",
              "      <th>Proba_1</th>\n",
              "      <th>Proba_0</th>\n",
              "    </tr>\n",
              "  </thead>\n",
              "  <tbody>\n",
              "    <tr>\n",
              "      <th>3014</th>\n",
              "      <td>0</td>\n",
              "      <td>0</td>\n",
              "      <td>0.00</td>\n",
              "      <td>1.00</td>\n",
              "    </tr>\n",
              "    <tr>\n",
              "      <th>4023</th>\n",
              "      <td>0</td>\n",
              "      <td>0</td>\n",
              "      <td>0.07</td>\n",
              "      <td>0.93</td>\n",
              "    </tr>\n",
              "    <tr>\n",
              "      <th>3530</th>\n",
              "      <td>0</td>\n",
              "      <td>0</td>\n",
              "      <td>0.00</td>\n",
              "      <td>1.00</td>\n",
              "    </tr>\n",
              "    <tr>\n",
              "      <th>2757</th>\n",
              "      <td>0</td>\n",
              "      <td>0</td>\n",
              "      <td>0.00</td>\n",
              "      <td>1.00</td>\n",
              "    </tr>\n",
              "    <tr>\n",
              "      <th>5454</th>\n",
              "      <td>0</td>\n",
              "      <td>0</td>\n",
              "      <td>0.04</td>\n",
              "      <td>0.96</td>\n",
              "    </tr>\n",
              "    <tr>\n",
              "      <th>1023</th>\n",
              "      <td>1</td>\n",
              "      <td>1</td>\n",
              "      <td>0.99</td>\n",
              "      <td>0.01</td>\n",
              "    </tr>\n",
              "    <tr>\n",
              "      <th>8101</th>\n",
              "      <td>0</td>\n",
              "      <td>0</td>\n",
              "      <td>0.00</td>\n",
              "      <td>1.00</td>\n",
              "    </tr>\n",
              "    <tr>\n",
              "      <th>11796</th>\n",
              "      <td>0</td>\n",
              "      <td>0</td>\n",
              "      <td>0.00</td>\n",
              "      <td>1.00</td>\n",
              "    </tr>\n",
              "    <tr>\n",
              "      <th>2444</th>\n",
              "      <td>0</td>\n",
              "      <td>0</td>\n",
              "      <td>0.00</td>\n",
              "      <td>1.00</td>\n",
              "    </tr>\n",
              "    <tr>\n",
              "      <th>6903</th>\n",
              "      <td>0</td>\n",
              "      <td>0</td>\n",
              "      <td>0.01</td>\n",
              "      <td>0.99</td>\n",
              "    </tr>\n",
              "  </tbody>\n",
              "</table>\n",
              "</div>\n",
              "      <button class=\"colab-df-convert\" onclick=\"convertToInteractive('df-af92f8c4-ade3-4802-9066-32ec6bd9c2ed')\"\n",
              "              title=\"Convert this dataframe to an interactive table.\"\n",
              "              style=\"display:none;\">\n",
              "        \n",
              "  <svg xmlns=\"http://www.w3.org/2000/svg\" height=\"24px\"viewBox=\"0 0 24 24\"\n",
              "       width=\"24px\">\n",
              "    <path d=\"M0 0h24v24H0V0z\" fill=\"none\"/>\n",
              "    <path d=\"M18.56 5.44l.94 2.06.94-2.06 2.06-.94-2.06-.94-.94-2.06-.94 2.06-2.06.94zm-11 1L8.5 8.5l.94-2.06 2.06-.94-2.06-.94L8.5 2.5l-.94 2.06-2.06.94zm10 10l.94 2.06.94-2.06 2.06-.94-2.06-.94-.94-2.06-.94 2.06-2.06.94z\"/><path d=\"M17.41 7.96l-1.37-1.37c-.4-.4-.92-.59-1.43-.59-.52 0-1.04.2-1.43.59L10.3 9.45l-7.72 7.72c-.78.78-.78 2.05 0 2.83L4 21.41c.39.39.9.59 1.41.59.51 0 1.02-.2 1.41-.59l7.78-7.78 2.81-2.81c.8-.78.8-2.07 0-2.86zM5.41 20L4 18.59l7.72-7.72 1.47 1.35L5.41 20z\"/>\n",
              "  </svg>\n",
              "      </button>\n",
              "      \n",
              "  <style>\n",
              "    .colab-df-container {\n",
              "      display:flex;\n",
              "      flex-wrap:wrap;\n",
              "      gap: 12px;\n",
              "    }\n",
              "\n",
              "    .colab-df-convert {\n",
              "      background-color: #E8F0FE;\n",
              "      border: none;\n",
              "      border-radius: 50%;\n",
              "      cursor: pointer;\n",
              "      display: none;\n",
              "      fill: #1967D2;\n",
              "      height: 32px;\n",
              "      padding: 0 0 0 0;\n",
              "      width: 32px;\n",
              "    }\n",
              "\n",
              "    .colab-df-convert:hover {\n",
              "      background-color: #E2EBFA;\n",
              "      box-shadow: 0px 1px 2px rgba(60, 64, 67, 0.3), 0px 1px 3px 1px rgba(60, 64, 67, 0.15);\n",
              "      fill: #174EA6;\n",
              "    }\n",
              "\n",
              "    [theme=dark] .colab-df-convert {\n",
              "      background-color: #3B4455;\n",
              "      fill: #D2E3FC;\n",
              "    }\n",
              "\n",
              "    [theme=dark] .colab-df-convert:hover {\n",
              "      background-color: #434B5C;\n",
              "      box-shadow: 0px 1px 3px 1px rgba(0, 0, 0, 0.15);\n",
              "      filter: drop-shadow(0px 1px 2px rgba(0, 0, 0, 0.3));\n",
              "      fill: #FFFFFF;\n",
              "    }\n",
              "  </style>\n",
              "\n",
              "      <script>\n",
              "        const buttonEl =\n",
              "          document.querySelector('#df-af92f8c4-ade3-4802-9066-32ec6bd9c2ed button.colab-df-convert');\n",
              "        buttonEl.style.display =\n",
              "          google.colab.kernel.accessAllowed ? 'block' : 'none';\n",
              "\n",
              "        async function convertToInteractive(key) {\n",
              "          const element = document.querySelector('#df-af92f8c4-ade3-4802-9066-32ec6bd9c2ed');\n",
              "          const dataTable =\n",
              "            await google.colab.kernel.invokeFunction('convertToInteractive',\n",
              "                                                     [key], {});\n",
              "          if (!dataTable) return;\n",
              "\n",
              "          const docLinkHtml = 'Like what you see? Visit the ' +\n",
              "            '<a target=\"_blank\" href=https://colab.research.google.com/notebooks/data_table.ipynb>data table notebook</a>'\n",
              "            + ' to learn more about interactive tables.';\n",
              "          element.innerHTML = '';\n",
              "          dataTable['output_type'] = 'display_data';\n",
              "          await google.colab.output.renderOutput(dataTable, element);\n",
              "          const docLink = document.createElement('div');\n",
              "          docLink.innerHTML = docLinkHtml;\n",
              "          element.appendChild(docLink);\n",
              "        }\n",
              "      </script>\n",
              "    </div>\n",
              "  </div>\n",
              "  "
            ]
          },
          "metadata": {},
          "execution_count": 104
        }
      ],
      "source": [
        "pd.DataFrame.from_dict(my_dict).sample(10)"
      ],
      "id": "43eace4d"
    },
    {
      "cell_type": "code",
      "execution_count": 105,
      "metadata": {
        "id": "81f0b8cf"
      },
      "outputs": [],
      "source": [
        "rf_f1 = f1_score(y_test, y_pred)\n",
        "rf_recall = recall_score(y_test, y_pred)\n",
        "rf_auc = roc_auc_score(y_test, y_pred)"
      ],
      "id": "81f0b8cf"
    },
    {
      "cell_type": "markdown",
      "metadata": {
        "id": "b7edb3f5"
      },
      "source": [
        "#### Feature Importance for RF"
      ],
      "id": "b7edb3f5"
    },
    {
      "cell_type": "code",
      "execution_count": 106,
      "metadata": {
        "id": "b07b940b",
        "colab": {
          "base_uri": "https://localhost:8080/",
          "height": 645
        },
        "outputId": "9f184a4f-5088-4b32-df96-9daba75d2f53"
      },
      "outputs": [
        {
          "output_type": "execute_result",
          "data": {
            "text/plain": [
              "                          rf_importance\n",
              "satisfaction_level             0.312808\n",
              "number_project                 0.175468\n",
              "time_spend_company             0.153685\n",
              "average_montly_hours           0.152160\n",
              "last_evaluation                0.124032\n",
              "Classes                        0.038606\n",
              "Work_accident                  0.008694\n",
              "salary_low                     0.006857\n",
              "salary_medium                  0.004648\n",
              "Departments _technical         0.003741\n",
              "Departments _sales             0.003681\n",
              "Departments _support           0.003462\n",
              "Departments _RandD             0.002304\n",
              "Departments _accounting        0.001891\n",
              "Departments _management        0.001884\n",
              "Departments _hr                0.001675\n",
              "Departments _marketing         0.001565\n",
              "Departments _product_mng       0.001457\n",
              "promotion_last_5years          0.001382"
            ],
            "text/html": [
              "\n",
              "  <div id=\"df-02dea2fe-1dd7-45c5-a936-b0aae638848d\">\n",
              "    <div class=\"colab-df-container\">\n",
              "      <div>\n",
              "<style scoped>\n",
              "    .dataframe tbody tr th:only-of-type {\n",
              "        vertical-align: middle;\n",
              "    }\n",
              "\n",
              "    .dataframe tbody tr th {\n",
              "        vertical-align: top;\n",
              "    }\n",
              "\n",
              "    .dataframe thead th {\n",
              "        text-align: right;\n",
              "    }\n",
              "</style>\n",
              "<table border=\"1\" class=\"dataframe\">\n",
              "  <thead>\n",
              "    <tr style=\"text-align: right;\">\n",
              "      <th></th>\n",
              "      <th>rf_importance</th>\n",
              "    </tr>\n",
              "  </thead>\n",
              "  <tbody>\n",
              "    <tr>\n",
              "      <th>satisfaction_level</th>\n",
              "      <td>0.312808</td>\n",
              "    </tr>\n",
              "    <tr>\n",
              "      <th>number_project</th>\n",
              "      <td>0.175468</td>\n",
              "    </tr>\n",
              "    <tr>\n",
              "      <th>time_spend_company</th>\n",
              "      <td>0.153685</td>\n",
              "    </tr>\n",
              "    <tr>\n",
              "      <th>average_montly_hours</th>\n",
              "      <td>0.152160</td>\n",
              "    </tr>\n",
              "    <tr>\n",
              "      <th>last_evaluation</th>\n",
              "      <td>0.124032</td>\n",
              "    </tr>\n",
              "    <tr>\n",
              "      <th>Classes</th>\n",
              "      <td>0.038606</td>\n",
              "    </tr>\n",
              "    <tr>\n",
              "      <th>Work_accident</th>\n",
              "      <td>0.008694</td>\n",
              "    </tr>\n",
              "    <tr>\n",
              "      <th>salary_low</th>\n",
              "      <td>0.006857</td>\n",
              "    </tr>\n",
              "    <tr>\n",
              "      <th>salary_medium</th>\n",
              "      <td>0.004648</td>\n",
              "    </tr>\n",
              "    <tr>\n",
              "      <th>Departments _technical</th>\n",
              "      <td>0.003741</td>\n",
              "    </tr>\n",
              "    <tr>\n",
              "      <th>Departments _sales</th>\n",
              "      <td>0.003681</td>\n",
              "    </tr>\n",
              "    <tr>\n",
              "      <th>Departments _support</th>\n",
              "      <td>0.003462</td>\n",
              "    </tr>\n",
              "    <tr>\n",
              "      <th>Departments _RandD</th>\n",
              "      <td>0.002304</td>\n",
              "    </tr>\n",
              "    <tr>\n",
              "      <th>Departments _accounting</th>\n",
              "      <td>0.001891</td>\n",
              "    </tr>\n",
              "    <tr>\n",
              "      <th>Departments _management</th>\n",
              "      <td>0.001884</td>\n",
              "    </tr>\n",
              "    <tr>\n",
              "      <th>Departments _hr</th>\n",
              "      <td>0.001675</td>\n",
              "    </tr>\n",
              "    <tr>\n",
              "      <th>Departments _marketing</th>\n",
              "      <td>0.001565</td>\n",
              "    </tr>\n",
              "    <tr>\n",
              "      <th>Departments _product_mng</th>\n",
              "      <td>0.001457</td>\n",
              "    </tr>\n",
              "    <tr>\n",
              "      <th>promotion_last_5years</th>\n",
              "      <td>0.001382</td>\n",
              "    </tr>\n",
              "  </tbody>\n",
              "</table>\n",
              "</div>\n",
              "      <button class=\"colab-df-convert\" onclick=\"convertToInteractive('df-02dea2fe-1dd7-45c5-a936-b0aae638848d')\"\n",
              "              title=\"Convert this dataframe to an interactive table.\"\n",
              "              style=\"display:none;\">\n",
              "        \n",
              "  <svg xmlns=\"http://www.w3.org/2000/svg\" height=\"24px\"viewBox=\"0 0 24 24\"\n",
              "       width=\"24px\">\n",
              "    <path d=\"M0 0h24v24H0V0z\" fill=\"none\"/>\n",
              "    <path d=\"M18.56 5.44l.94 2.06.94-2.06 2.06-.94-2.06-.94-.94-2.06-.94 2.06-2.06.94zm-11 1L8.5 8.5l.94-2.06 2.06-.94-2.06-.94L8.5 2.5l-.94 2.06-2.06.94zm10 10l.94 2.06.94-2.06 2.06-.94-2.06-.94-.94-2.06-.94 2.06-2.06.94z\"/><path d=\"M17.41 7.96l-1.37-1.37c-.4-.4-.92-.59-1.43-.59-.52 0-1.04.2-1.43.59L10.3 9.45l-7.72 7.72c-.78.78-.78 2.05 0 2.83L4 21.41c.39.39.9.59 1.41.59.51 0 1.02-.2 1.41-.59l7.78-7.78 2.81-2.81c.8-.78.8-2.07 0-2.86zM5.41 20L4 18.59l7.72-7.72 1.47 1.35L5.41 20z\"/>\n",
              "  </svg>\n",
              "      </button>\n",
              "      \n",
              "  <style>\n",
              "    .colab-df-container {\n",
              "      display:flex;\n",
              "      flex-wrap:wrap;\n",
              "      gap: 12px;\n",
              "    }\n",
              "\n",
              "    .colab-df-convert {\n",
              "      background-color: #E8F0FE;\n",
              "      border: none;\n",
              "      border-radius: 50%;\n",
              "      cursor: pointer;\n",
              "      display: none;\n",
              "      fill: #1967D2;\n",
              "      height: 32px;\n",
              "      padding: 0 0 0 0;\n",
              "      width: 32px;\n",
              "    }\n",
              "\n",
              "    .colab-df-convert:hover {\n",
              "      background-color: #E2EBFA;\n",
              "      box-shadow: 0px 1px 2px rgba(60, 64, 67, 0.3), 0px 1px 3px 1px rgba(60, 64, 67, 0.15);\n",
              "      fill: #174EA6;\n",
              "    }\n",
              "\n",
              "    [theme=dark] .colab-df-convert {\n",
              "      background-color: #3B4455;\n",
              "      fill: #D2E3FC;\n",
              "    }\n",
              "\n",
              "    [theme=dark] .colab-df-convert:hover {\n",
              "      background-color: #434B5C;\n",
              "      box-shadow: 0px 1px 3px 1px rgba(0, 0, 0, 0.15);\n",
              "      filter: drop-shadow(0px 1px 2px rgba(0, 0, 0, 0.3));\n",
              "      fill: #FFFFFF;\n",
              "    }\n",
              "  </style>\n",
              "\n",
              "      <script>\n",
              "        const buttonEl =\n",
              "          document.querySelector('#df-02dea2fe-1dd7-45c5-a936-b0aae638848d button.colab-df-convert');\n",
              "        buttonEl.style.display =\n",
              "          google.colab.kernel.accessAllowed ? 'block' : 'none';\n",
              "\n",
              "        async function convertToInteractive(key) {\n",
              "          const element = document.querySelector('#df-02dea2fe-1dd7-45c5-a936-b0aae638848d');\n",
              "          const dataTable =\n",
              "            await google.colab.kernel.invokeFunction('convertToInteractive',\n",
              "                                                     [key], {});\n",
              "          if (!dataTable) return;\n",
              "\n",
              "          const docLinkHtml = 'Like what you see? Visit the ' +\n",
              "            '<a target=\"_blank\" href=https://colab.research.google.com/notebooks/data_table.ipynb>data table notebook</a>'\n",
              "            + ' to learn more about interactive tables.';\n",
              "          element.innerHTML = '';\n",
              "          dataTable['output_type'] = 'display_data';\n",
              "          await google.colab.output.renderOutput(dataTable, element);\n",
              "          const docLink = document.createElement('div');\n",
              "          docLink.innerHTML = docLinkHtml;\n",
              "          element.appendChild(docLink);\n",
              "        }\n",
              "      </script>\n",
              "    </div>\n",
              "  </div>\n",
              "  "
            ]
          },
          "metadata": {},
          "execution_count": 106
        }
      ],
      "source": [
        "rf_model = RandomForestClassifier(random_state=42)\n",
        "rf_model.fit(X_train, y_train)\n",
        "\n",
        "rf_model.feature_importances_\n",
        "\n",
        "feats = pd.DataFrame(index=X.columns, data=rf_model.feature_importances_, columns=['rf_importance'])\n",
        "rf_imp_feats = feats.sort_values(\"rf_importance\", ascending=False)\n",
        "rf_imp_feats"
      ],
      "id": "b07b940b"
    },
    {
      "cell_type": "code",
      "execution_count": 107,
      "metadata": {
        "id": "2cce8b9a",
        "colab": {
          "base_uri": "https://localhost:8080/",
          "height": 488
        },
        "outputId": "1749556d-9e5f-4c72-8b81-9f4865c11bd6"
      },
      "outputs": [
        {
          "output_type": "display_data",
          "data": {
            "text/plain": [
              "<Figure size 864x432 with 1 Axes>"
            ],
            "image/png": "[encoded data removed]"
          },
          "metadata": {}
        }
      ],
      "source": [
        "plt.figure(figsize=(12,6))\n",
        "sns.barplot(data=rf_imp_feats, x=rf_imp_feats.index, y='rf_importance')\n",
        "plt.xticks(rotation=90);"
      ],
      "id": "2cce8b9a"
    },
    {
      "cell_type": "markdown",
      "metadata": {
        "id": "20f54439"
      },
      "source": [
        "### KNeighbors Classifier"
      ],
      "id": "20f54439"
    },
    {
      "cell_type": "markdown",
      "metadata": {
        "id": "587587c2"
      },
      "source": [
        "#### Model Building"
      ],
      "id": "587587c2"
    },
    {
      "cell_type": "code",
      "execution_count": 108,
      "metadata": {
        "id": "1bda70ce"
      },
      "outputs": [],
      "source": [
        "X_train, X_test, y_train, y_test = train_test_split(X, y, test_size=0.3, stratify=y, random_state=101)"
      ],
      "id": "1bda70ce"
    },
    {
      "cell_type": "code",
      "execution_count": 109,
      "metadata": {
        "id": "d4cf503f"
      },
      "outputs": [],
      "source": [
        "from sklearn.preprocessing import StandardScaler, MinMaxScaler"
      ],
      "id": "d4cf503f"
    },
    {
      "cell_type": "code",
      "execution_count": 110,
      "metadata": {
        "id": "666d357c"
      },
      "outputs": [],
      "source": [
        "scaler = StandardScaler()\n",
        "X_train_scaled = scaler.fit_transform(X_train)\n",
        "X_test_scaled = scaler.transform(X_test)"
      ],
      "id": "666d357c"
    },
    {
      "cell_type": "code",
      "execution_count": 111,
      "metadata": {
        "id": "a661f2f7"
      },
      "outputs": [],
      "source": [
        "from sklearn.neighbors import KNeighborsClassifier"
      ],
      "id": "a661f2f7"
    },
    {
      "cell_type": "code",
      "execution_count": 112,
      "metadata": {
        "id": "817b309b"
      },
      "outputs": [],
      "source": [
        "knn_model = KNeighborsClassifier(n_neighbors=5)  # n_neighbors=5 --> Default"
      ],
      "id": "817b309b"
    },
    {
      "cell_type": "code",
      "execution_count": 113,
      "metadata": {
        "id": "993ce596",
        "colab": {
          "base_uri": "https://localhost:8080/"
        },
        "outputId": "37c3eddc-f961-495e-c4e9-8db2fbd5995c"
      },
      "outputs": [
        {
          "output_type": "execute_result",
          "data": {
            "text/plain": [
              "KNeighborsClassifier()"
            ]
          },
          "metadata": {},
          "execution_count": 113
        }
      ],
      "source": [
        "knn_model.fit(X_train_scaled,y_train)"
      ],
      "id": "993ce596"
    },
    {
      "cell_type": "markdown",
      "metadata": {
        "id": "acb2d9f0"
      },
      "source": [
        "#### Evaluating Model Performance"
      ],
      "id": "acb2d9f0"
    },
    {
      "cell_type": "code",
      "execution_count": 114,
      "metadata": {
        "id": "5d659db4",
        "colab": {
          "base_uri": "https://localhost:8080/"
        },
        "outputId": "6f162b8e-0bb2-44bd-daef-9f7463ffcd4e"
      },
      "outputs": [
        {
          "output_type": "stream",
          "name": "stdout",
          "text": [
            "Test_Set\n",
            "[[2876  125]\n",
            " [ 104  493]]\n",
            "              precision    recall  f1-score   support\n",
            "\n",
            "           0       0.97      0.96      0.96      3001\n",
            "           1       0.80      0.83      0.81       597\n",
            "\n",
            "    accuracy                           0.94      3598\n",
            "   macro avg       0.88      0.89      0.89      3598\n",
            "weighted avg       0.94      0.94      0.94      3598\n",
            "\n",
            "\n",
            "Train_Set\n",
            "[[6821  178]\n",
            " [ 177 1217]]\n",
            "              precision    recall  f1-score   support\n",
            "\n",
            "           0       0.97      0.97      0.97      6999\n",
            "           1       0.87      0.87      0.87      1394\n",
            "\n",
            "    accuracy                           0.96      8393\n",
            "   macro avg       0.92      0.92      0.92      8393\n",
            "weighted avg       0.96      0.96      0.96      8393\n",
            "\n"
          ]
        }
      ],
      "source": [
        "eval_metric(knn_model, X_train_scaled, y_train, X_test_scaled, y_test)"
      ],
      "id": "5d659db4"
    },
    {
      "cell_type": "markdown",
      "metadata": {
        "id": "88635885"
      },
      "source": [
        "#### Cross Validate for KNN"
      ],
      "id": "88635885"
    },
    {
      "cell_type": "code",
      "execution_count": 115,
      "metadata": {
        "id": "acb3920f",
        "colab": {
          "base_uri": "https://localhost:8080/"
        },
        "outputId": "17ae8129-38ae-407b-88d5-bbba8baeb08a"
      },
      "outputs": [
        {
          "output_type": "execute_result",
          "data": {
            "text/plain": [
              "test_accuracy     0.938638\n",
              "test_precision    0.808842\n",
              "test_recall       0.827055\n",
              "test_f1           0.817347\n",
              "dtype: float64"
            ]
          },
          "metadata": {},
          "execution_count": 115
        }
      ],
      "source": [
        "model = KNeighborsClassifier()   # Her yeni islemde modeli sifirlamayi unutma!\n",
        "\n",
        "scores = cross_validate(knn_model, X_train_scaled, y_train, scoring = ['accuracy', 'precision','recall',\n",
        "                                                                   'f1'], cv = 10)\n",
        "df_scores = pd.DataFrame(scores, index = range(1, 11))\n",
        "df_scores.mean()[2:]"
      ],
      "id": "acb3920f"
    },
    {
      "cell_type": "code",
      "execution_count": 116,
      "metadata": {
        "id": "98d4ca58",
        "colab": {
          "base_uri": "https://localhost:8080/",
          "height": 361
        },
        "outputId": "ca07d000-6de4-4d0f-9f4c-0b36af6d6e92"
      },
      "outputs": [
        {
          "output_type": "display_data",
          "data": {
            "text/plain": [
              "<Figure size 576x396 with 1 Axes>"
            ],
            "image/png": "[encoded data removed]"
          },
          "metadata": {}
        }
      ],
      "source": [
        "plot_roc_curve(knn_model, X_test_scaled, y_test);"
      ],
      "id": "98d4ca58"
    },
    {
      "cell_type": "markdown",
      "metadata": {
        "id": "7b36eac4"
      },
      "source": [
        "#### GridSearch for KNN"
      ],
      "id": "7b36eac4"
    },
    {
      "cell_type": "code",
      "execution_count": 117,
      "metadata": {
        "id": "7da4e013"
      },
      "outputs": [],
      "source": [
        "knn_grid = KNeighborsClassifier()"
      ],
      "id": "7da4e013"
    },
    {
      "cell_type": "code",
      "execution_count": 118,
      "metadata": {
        "id": "6ddce522"
      },
      "outputs": [],
      "source": [
        "k_values= range(1,30)"
      ],
      "id": "6ddce522"
    },
    {
      "cell_type": "code",
      "execution_count": 119,
      "metadata": {
        "id": "0e4d1be1"
      },
      "outputs": [],
      "source": [
        "param_grid = {\"n_neighbors\":k_values, \"p\": [1,2], \"weights\": ['uniform', \"distance\"]}"
      ],
      "id": "0e4d1be1"
    },
    {
      "cell_type": "code",
      "execution_count": 120,
      "metadata": {
        "id": "067003da"
      },
      "outputs": [],
      "source": [
        "knn_grid_model = GridSearchCV(knn_grid, param_grid, cv=10, scoring= 'accuracy') "
      ],
      "id": "067003da"
    },
    {
      "cell_type": "code",
      "execution_count": 121,
      "metadata": {
        "id": "7ea6968b",
        "colab": {
          "base_uri": "https://localhost:8080/"
        },
        "outputId": "c4f2bade-b836-4fdd-f170-c1dc42489e86"
      },
      "outputs": [
        {
          "output_type": "execute_result",
          "data": {
            "text/plain": [
              "GridSearchCV(cv=10, estimator=KNeighborsClassifier(),\n",
              "             param_grid={'n_neighbors': range(1, 30), 'p': [1, 2],\n",
              "                         'weights': ['uniform', 'distance']},\n",
              "             scoring='accuracy')"
            ]
          },
          "metadata": {},
          "execution_count": 121
        }
      ],
      "source": [
        "knn_grid_model.fit(X_train_scaled, y_train)"
      ],
      "id": "7ea6968b"
    },
    {
      "cell_type": "code",
      "execution_count": 122,
      "metadata": {
        "id": "e78dabc5",
        "colab": {
          "base_uri": "https://localhost:8080/"
        },
        "outputId": "9625a1fc-ce70-4957-8406-ef3bb258734b"
      },
      "outputs": [
        {
          "output_type": "execute_result",
          "data": {
            "text/plain": [
              "{'n_neighbors': 2, 'p': 1, 'weights': 'uniform'}"
            ]
          },
          "metadata": {},
          "execution_count": 122
        }
      ],
      "source": [
        "knn_grid_model.best_params_"
      ],
      "id": "e78dabc5"
    },
    {
      "cell_type": "code",
      "execution_count": 123,
      "metadata": {
        "id": "6a6aac03",
        "colab": {
          "base_uri": "https://localhost:8080/"
        },
        "outputId": "51d547a8-6972-4d91-c8d1-cb0b81a9aa9a"
      },
      "outputs": [
        {
          "output_type": "execute_result",
          "data": {
            "text/plain": [
              "0.9560331176570747"
            ]
          },
          "metadata": {},
          "execution_count": 123
        }
      ],
      "source": [
        "knn_grid_model.best_score_"
      ],
      "id": "6a6aac03"
    },
    {
      "cell_type": "markdown",
      "metadata": {
        "id": "a8a3cee4"
      },
      "source": [
        "KNN grid model sonuçları daha iyi, onu seçtik :"
      ],
      "id": "a8a3cee4"
    },
    {
      "cell_type": "code",
      "execution_count": 124,
      "metadata": {
        "id": "b6799b0c",
        "colab": {
          "base_uri": "https://localhost:8080/"
        },
        "outputId": "92e40040-c2cb-4d25-f107-aa699019c327"
      },
      "outputs": [
        {
          "output_type": "stream",
          "name": "stdout",
          "text": [
            "Test_Set\n",
            "[[2936   65]\n",
            " [ 108  489]]\n",
            "              precision    recall  f1-score   support\n",
            "\n",
            "           0       0.96      0.98      0.97      3001\n",
            "           1       0.88      0.82      0.85       597\n",
            "\n",
            "    accuracy                           0.95      3598\n",
            "   macro avg       0.92      0.90      0.91      3598\n",
            "weighted avg       0.95      0.95      0.95      3598\n",
            "\n",
            "\n",
            "Train_Set\n",
            "[[6999    0]\n",
            " [ 167 1227]]\n",
            "              precision    recall  f1-score   support\n",
            "\n",
            "           0       0.98      1.00      0.99      6999\n",
            "           1       1.00      0.88      0.94      1394\n",
            "\n",
            "    accuracy                           0.98      8393\n",
            "   macro avg       0.99      0.94      0.96      8393\n",
            "weighted avg       0.98      0.98      0.98      8393\n",
            "\n"
          ]
        }
      ],
      "source": [
        "eval_metric(knn_grid_model, X_train_scaled, y_train, X_test_scaled, y_test)"
      ],
      "id": "b6799b0c"
    },
    {
      "cell_type": "markdown",
      "metadata": {
        "id": "926cfe8f"
      },
      "source": [
        "#### Prediction"
      ],
      "id": "926cfe8f"
    },
    {
      "cell_type": "code",
      "execution_count": 125,
      "metadata": {
        "id": "6d88ae42"
      },
      "outputs": [],
      "source": [
        "y_pred = knn_grid_model.predict(X_test_scaled)"
      ],
      "id": "6d88ae42"
    },
    {
      "cell_type": "code",
      "execution_count": 126,
      "metadata": {
        "id": "875e5f08"
      },
      "outputs": [],
      "source": [
        "y_pred_proba = knn_grid_model.predict_proba(X_test_scaled)"
      ],
      "id": "875e5f08"
    },
    {
      "cell_type": "code",
      "execution_count": 127,
      "metadata": {
        "id": "cfc01b27"
      },
      "outputs": [],
      "source": [
        "my_dict = {\"Actual\": y_test, \"Pred\":y_pred, \"Proba_1\":y_pred_proba[:,1], \"Proba_0\":y_pred_proba[:,0]}"
      ],
      "id": "cfc01b27"
    },
    {
      "cell_type": "code",
      "execution_count": 128,
      "metadata": {
        "id": "6bce691b",
        "colab": {
          "base_uri": "https://localhost:8080/",
          "height": 363
        },
        "outputId": "1b353234-b44d-490c-8c85-8eabbaf8b29d"
      },
      "outputs": [
        {
          "output_type": "execute_result",
          "data": {
            "text/plain": [
              "      Actual  Pred  Proba_1  Proba_0\n",
              "2643       0     0      0.0      1.0\n",
              "6642       0     0      0.0      1.0\n",
              "1825       1     1      1.0      0.0\n",
              "5193       0     0      0.0      1.0\n",
              "9175       0     1      1.0      0.0\n",
              "8658       0     0      0.0      1.0\n",
              "4330       0     0      0.0      1.0\n",
              "7961       0     0      0.0      1.0\n",
              "4883       0     0      0.0      1.0\n",
              "1185       1     1      1.0      0.0"
            ],
            "text/html": [
              "\n",
              "  <div id=\"df-f49b078f-b7cc-465f-8e30-834487607d02\">\n",
              "    <div class=\"colab-df-container\">\n",
              "      <div>\n",
              "<style scoped>\n",
              "    .dataframe tbody tr th:only-of-type {\n",
              "        vertical-align: middle;\n",
              "    }\n",
              "\n",
              "    .dataframe tbody tr th {\n",
              "        vertical-align: top;\n",
              "    }\n",
              "\n",
              "    .dataframe thead th {\n",
              "        text-align: right;\n",
              "    }\n",
              "</style>\n",
              "<table border=\"1\" class=\"dataframe\">\n",
              "  <thead>\n",
              "    <tr style=\"text-align: right;\">\n",
              "      <th></th>\n",
              "      <th>Actual</th>\n",
              "      <th>Pred</th>\n",
              "      <th>Proba_1</th>\n",
              "      <th>Proba_0</th>\n",
              "    </tr>\n",
              "  </thead>\n",
              "  <tbody>\n",
              "    <tr>\n",
              "      <th>2643</th>\n",
              "      <td>0</td>\n",
              "      <td>0</td>\n",
              "      <td>0.0</td>\n",
              "      <td>1.0</td>\n",
              "    </tr>\n",
              "    <tr>\n",
              "      <th>6642</th>\n",
              "      <td>0</td>\n",
              "      <td>0</td>\n",
              "      <td>0.0</td>\n",
              "      <td>1.0</td>\n",
              "    </tr>\n",
              "    <tr>\n",
              "      <th>1825</th>\n",
              "      <td>1</td>\n",
              "      <td>1</td>\n",
              "      <td>1.0</td>\n",
              "      <td>0.0</td>\n",
              "    </tr>\n",
              "    <tr>\n",
              "      <th>5193</th>\n",
              "      <td>0</td>\n",
              "      <td>0</td>\n",
              "      <td>0.0</td>\n",
              "      <td>1.0</td>\n",
              "    </tr>\n",
              "    <tr>\n",
              "      <th>9175</th>\n",
              "      <td>0</td>\n",
              "      <td>1</td>\n",
              "      <td>1.0</td>\n",
              "      <td>0.0</td>\n",
              "    </tr>\n",
              "    <tr>\n",
              "      <th>8658</th>\n",
              "      <td>0</td>\n",
              "      <td>0</td>\n",
              "      <td>0.0</td>\n",
              "      <td>1.0</td>\n",
              "    </tr>\n",
              "    <tr>\n",
              "      <th>4330</th>\n",
              "      <td>0</td>\n",
              "      <td>0</td>\n",
              "      <td>0.0</td>\n",
              "      <td>1.0</td>\n",
              "    </tr>\n",
              "    <tr>\n",
              "      <th>7961</th>\n",
              "      <td>0</td>\n",
              "      <td>0</td>\n",
              "      <td>0.0</td>\n",
              "      <td>1.0</td>\n",
              "    </tr>\n",
              "    <tr>\n",
              "      <th>4883</th>\n",
              "      <td>0</td>\n",
              "      <td>0</td>\n",
              "      <td>0.0</td>\n",
              "      <td>1.0</td>\n",
              "    </tr>\n",
              "    <tr>\n",
              "      <th>1185</th>\n",
              "      <td>1</td>\n",
              "      <td>1</td>\n",
              "      <td>1.0</td>\n",
              "      <td>0.0</td>\n",
              "    </tr>\n",
              "  </tbody>\n",
              "</table>\n",
              "</div>\n",
              "      <button class=\"colab-df-convert\" onclick=\"convertToInteractive('df-f49b078f-b7cc-465f-8e30-834487607d02')\"\n",
              "              title=\"Convert this dataframe to an interactive table.\"\n",
              "              style=\"display:none;\">\n",
              "        \n",
              "  <svg xmlns=\"http://www.w3.org/2000/svg\" height=\"24px\"viewBox=\"0 0 24 24\"\n",
              "       width=\"24px\">\n",
              "    <path d=\"M0 0h24v24H0V0z\" fill=\"none\"/>\n",
              "    <path d=\"M18.56 5.44l.94 2.06.94-2.06 2.06-.94-2.06-.94-.94-2.06-.94 2.06-2.06.94zm-11 1L8.5 8.5l.94-2.06 2.06-.94-2.06-.94L8.5 2.5l-.94 2.06-2.06.94zm10 10l.94 2.06.94-2.06 2.06-.94-2.06-.94-.94-2.06-.94 2.06-2.06.94z\"/><path d=\"M17.41 7.96l-1.37-1.37c-.4-.4-.92-.59-1.43-.59-.52 0-1.04.2-1.43.59L10.3 9.45l-7.72 7.72c-.78.78-.78 2.05 0 2.83L4 21.41c.39.39.9.59 1.41.59.51 0 1.02-.2 1.41-.59l7.78-7.78 2.81-2.81c.8-.78.8-2.07 0-2.86zM5.41 20L4 18.59l7.72-7.72 1.47 1.35L5.41 20z\"/>\n",
              "  </svg>\n",
              "      </button>\n",
              "      \n",
              "  <style>\n",
              "    .colab-df-container {\n",
              "      display:flex;\n",
              "      flex-wrap:wrap;\n",
              "      gap: 12px;\n",
              "    }\n",
              "\n",
              "    .colab-df-convert {\n",
              "      background-color: #E8F0FE;\n",
              "      border: none;\n",
              "      border-radius: 50%;\n",
              "      cursor: pointer;\n",
              "      display: none;\n",
              "      fill: #1967D2;\n",
              "      height: 32px;\n",
              "      padding: 0 0 0 0;\n",
              "      width: 32px;\n",
              "    }\n",
              "\n",
              "    .colab-df-convert:hover {\n",
              "      background-color: #E2EBFA;\n",
              "      box-shadow: 0px 1px 2px rgba(60, 64, 67, 0.3), 0px 1px 3px 1px rgba(60, 64, 67, 0.15);\n",
              "      fill: #174EA6;\n",
              "    }\n",
              "\n",
              "    [theme=dark] .colab-df-convert {\n",
              "      background-color: #3B4455;\n",
              "      fill: #D2E3FC;\n",
              "    }\n",
              "\n",
              "    [theme=dark] .colab-df-convert:hover {\n",
              "      background-color: #434B5C;\n",
              "      box-shadow: 0px 1px 3px 1px rgba(0, 0, 0, 0.15);\n",
              "      filter: drop-shadow(0px 1px 2px rgba(0, 0, 0, 0.3));\n",
              "      fill: #FFFFFF;\n",
              "    }\n",
              "  </style>\n",
              "\n",
              "      <script>\n",
              "        const buttonEl =\n",
              "          document.querySelector('#df-f49b078f-b7cc-465f-8e30-834487607d02 button.colab-df-convert');\n",
              "        buttonEl.style.display =\n",
              "          google.colab.kernel.accessAllowed ? 'block' : 'none';\n",
              "\n",
              "        async function convertToInteractive(key) {\n",
              "          const element = document.querySelector('#df-f49b078f-b7cc-465f-8e30-834487607d02');\n",
              "          const dataTable =\n",
              "            await google.colab.kernel.invokeFunction('convertToInteractive',\n",
              "                                                     [key], {});\n",
              "          if (!dataTable) return;\n",
              "\n",
              "          const docLinkHtml = 'Like what you see? Visit the ' +\n",
              "            '<a target=\"_blank\" href=https://colab.research.google.com/notebooks/data_table.ipynb>data table notebook</a>'\n",
              "            + ' to learn more about interactive tables.';\n",
              "          element.innerHTML = '';\n",
              "          dataTable['output_type'] = 'display_data';\n",
              "          await google.colab.output.renderOutput(dataTable, element);\n",
              "          const docLink = document.createElement('div');\n",
              "          docLink.innerHTML = docLinkHtml;\n",
              "          element.appendChild(docLink);\n",
              "        }\n",
              "      </script>\n",
              "    </div>\n",
              "  </div>\n",
              "  "
            ]
          },
          "metadata": {},
          "execution_count": 128
        }
      ],
      "source": [
        "pd.DataFrame.from_dict(my_dict).sample(10)"
      ],
      "id": "6bce691b"
    },
    {
      "cell_type": "code",
      "execution_count": 129,
      "metadata": {
        "id": "47c4474b"
      },
      "outputs": [],
      "source": [
        "knn_f1 = f1_score(y_test, y_pred)\n",
        "knn_recall = recall_score(y_test, y_pred)\n",
        "knn_auc = roc_auc_score(y_test, y_pred)"
      ],
      "id": "47c4474b"
    },
    {
      "cell_type": "markdown",
      "metadata": {
        "id": "845e94ab"
      },
      "source": [
        "### Comparing Models"
      ],
      "id": "845e94ab"
    },
    {
      "cell_type": "code",
      "execution_count": 130,
      "metadata": {
        "id": "82902f62",
        "colab": {
          "base_uri": "https://localhost:8080/",
          "height": 606
        },
        "outputId": "9488b156-a702-4a16-f099-644454e4cbb9"
      },
      "outputs": [
        {
          "output_type": "display_data",
          "data": {
            "text/plain": [
              "<Figure size 1008x720 with 3 Axes>"
            ],
            "image/png": "[encoded data removed]"
          },
          "metadata": {}
        }
      ],
      "source": [
        "compare = pd.DataFrame({\"Model\": [\"KNN\", \"Random Forest\",\n",
        "                                 \"GradientBoost\", \"XGBoost\"],\n",
        "                        \"F1\": [knn_f1, rf_f1, grad_f1, xgb_f1],\n",
        "                        \"Recall\": [knn_recall, rf_recall, grad_recall, xgb_recall],\n",
        "                        \"ROC_AUC\": [knn_auc, rf_auc, grad_auc, xgb_auc]})\n",
        "\n",
        "def labels(ax):\n",
        "    for p in ax.patches:\n",
        "        width = p.get_width()                        # get bar length\n",
        "        ax.text(width,                               # set the text at 1 unit right of the bar\n",
        "                p.get_y() + p.get_height() / 2,      # get Y coordinate + X coordinate / 2\n",
        "                '{:1.3f}'.format(width),             # set variable to display, 2 decimals\n",
        "                ha = 'left',                         # horizontal alignment\n",
        "                va = 'center')                       # vertical alignment\n",
        "    \n",
        "plt.figure(figsize=(14,10))\n",
        "plt.subplot(311)\n",
        "compare = compare.sort_values(by=\"F1\", ascending=False)\n",
        "ax=sns.barplot(x=\"F1\", y=\"Model\", data=compare, palette=\"Blues_d\")\n",
        "labels(ax)\n",
        "\n",
        "plt.subplot(312)\n",
        "compare = compare.sort_values(by=\"Recall\", ascending=False)\n",
        "ax=sns.barplot(x=\"Recall\", y=\"Model\", data=compare, palette=\"Blues_d\")\n",
        "labels(ax)\n",
        "\n",
        "plt.subplot(313)\n",
        "compare = compare.sort_values(by=\"ROC_AUC\", ascending=False)\n",
        "ax=sns.barplot(x=\"ROC_AUC\", y=\"Model\", data=compare, palette=\"Blues_d\")\n",
        "labels(ax)\n",
        "plt.show()"
      ],
      "id": "82902f62"
    },
    {
      "cell_type": "markdown",
      "metadata": {
        "id": "bca42c4d"
      },
      "source": [
        "## 6. Model Deployement\n",
        "\n",
        "You cooked the food in the kitchen and moved on to the serving stage. The question is how do you showcase your work to others? Model Deployement helps you showcase your work to the world and make better decisions with it. But, deploying a model can get a little tricky at times. Before deploying the model, many things such as data storage, preprocessing, model building and monitoring need to be studied. Streamlit is a popular open source framework used by data scientists for model distribution.\n",
        "\n",
        "Deployment of machine learning models, means making your models available to your other business systems. By deploying models, other systems can send data to them and get their predictions, which are in turn populated back into the company systems. Through machine learning model deployment, can begin to take full advantage of the model you built.\n",
        "\n",
        "Data science is concerned with how to build machine learning models, which algorithm is more predictive, how to design features, and what variables to use to make the models more accurate. However, how these models are actually used is often neglected. And yet this is the most important step in the machine learning pipline. Only when a model is fully integrated with the business systems, real values ​​can be extract from its predictions.\n",
        "\n",
        "After doing the following operations in this notebook, jump to new .py file and create your web app with Streamlit."
      ],
      "id": "bca42c4d"
    },
    {
      "cell_type": "markdown",
      "metadata": {
        "id": "8113c300"
      },
      "source": [
        "### Save and Export the Model as .pkl"
      ],
      "id": "8113c300"
    },
    {
      "cell_type": "code",
      "execution_count": 131,
      "metadata": {
        "id": "aeb80cee"
      },
      "outputs": [],
      "source": [
        "import pickle "
      ],
      "id": "aeb80cee"
    },
    {
      "cell_type": "code",
      "execution_count": 132,
      "metadata": {
        "id": "148e4fbb"
      },
      "outputs": [],
      "source": [
        "pickle_out = open(\"KNeighborsClassifier.pkl\", \"wb\")\n",
        "pickle.dump(knn_grid_model, pickle_out)\n",
        "pickle_out.close()"
      ],
      "id": "148e4fbb"
    },
    {
      "cell_type": "code",
      "execution_count": 133,
      "metadata": {
        "id": "23fb5ebe"
      },
      "outputs": [],
      "source": [
        "pickle_out = open(\"RandomForestClassifier.pkl\", \"wb\")\n",
        "pickle.dump(rf_model, pickle_out)\n",
        "pickle_out.close()"
      ],
      "id": "23fb5ebe"
    },
    {
      "cell_type": "code",
      "execution_count": 134,
      "metadata": {
        "id": "058c7a9a"
      },
      "outputs": [],
      "source": [
        "pickle_out = open(\"XGBClassifier.pkl\", \"wb\")\n",
        "pickle.dump(xgb_model, pickle_out)\n",
        "pickle_out.close()"
      ],
      "id": "058c7a9a"
    },
    {
      "cell_type": "code",
      "execution_count": 135,
      "metadata": {
        "id": "67e3d06c"
      },
      "outputs": [],
      "source": [
        "pickle_out = open(\"GradientBoostingClassifier.pkl\", \"wb\")\n",
        "pickle.dump(grad_model, pickle_out)\n",
        "pickle_out.close()"
      ],
      "id": "67e3d06c"
    },
    {
      "cell_type": "code",
      "execution_count": 136,
      "metadata": {
        "id": "5085066d"
      },
      "outputs": [],
      "source": [
        "scaler=StandardScaler() \n",
        "X_train_scaled=scaler.fit(X_train)\n",
        "pickle.dump(X_train_scaled, open(\"my_scaler_knn.pkl\", 'wb'))"
      ],
      "id": "5085066d"
    },
    {
      "cell_type": "markdown",
      "metadata": {
        "id": "01ce88d3"
      },
      "source": [
        "### Save and Export Variables as .pkl"
      ],
      "id": "01ce88d3"
    },
    {
      "cell_type": "code",
      "execution_count": 137,
      "metadata": {
        "id": "5ce3dd59"
      },
      "outputs": [],
      "source": [
        "columns=X.columns\n",
        "pickle.dump(columns, open(\"my_columns.pkl\", 'wb'))   # with get_dummy"
      ],
      "id": "5ce3dd59"
    },
    {
      "cell_type": "code",
      "execution_count": 138,
      "metadata": {
        "id": "4ff5cf49",
        "colab": {
          "base_uri": "https://localhost:8080/"
        },
        "outputId": "5f31a192-e26c-4e15-a673-c4ec9adbd98e"
      },
      "outputs": [
        {
          "output_type": "execute_result",
          "data": {
            "text/plain": [
              "Index(['satisfaction_level', 'last_evaluation', 'number_project',\n",
              "       'average_montly_hours', 'time_spend_company', 'Work_accident',\n",
              "       'promotion_last_5years', 'Departments ', 'salary'],\n",
              "      dtype='object')"
            ]
          },
          "metadata": {},
          "execution_count": 138
        }
      ],
      "source": [
        "df_not_dummy.drop('left', axis = 1).columns"
      ],
      "id": "4ff5cf49"
    },
    {
      "cell_type": "code",
      "execution_count": 139,
      "metadata": {
        "id": "187d2cc4"
      },
      "outputs": [],
      "source": [
        "columns_not_dummy=df_not_dummy.drop('left', axis = 1).columns\n",
        "pickle.dump(columns_not_dummy, open(\"not_dummy_columns.pkl\", 'wb'))   # without get_dummy"
      ],
      "id": "187d2cc4"
    },
    {
      "cell_type": "markdown",
      "metadata": {
        "id": "d48faa03"
      },
      "source": [
        "___\n",
        "\n",
        "<p style=\"text-align: center;\"><img src=\"https://docs.google.com/uc?id=1lY0Uj5R04yMY3-ZppPWxqCr5pvBLYPnV\" class=\"img-fluid\" alt=\"CLRSWY\"></p>\n",
        "\n",
        "___"
      ],
      "id": "d48faa03"
    }
  ],
  "metadata": {
    "accelerator": "GPU",
    "colab": {
      "name": "last-version.ipynb",
      "provenance": []
    },
    "kernelspec": {
      "display_name": "Python 3",
      "language": "python",
      "name": "python3"
    },
    "language_info": {
      "codemirror_mode": {
        "name": "ipython",
        "version": 3
      },
      "file_extension": ".py",
      "mimetype": "text/x-python",
      "name": "python",
      "nbconvert_exporter": "python",
      "pygments_lexer": "ipython3",
      "version": "3.8.8"
    },
    "papermill": {
      "default_parameters": {},
      "duration": 1358.908723,
      "end_time": "2022-04-14T12:50:23.504464",
      "environment_variables": {},
      "exception": null,
      "input_path": "__notebook__.ipynb",
      "output_path": "__notebook__.ipynb",
      "parameters": {},
      "start_time": "2022-04-14T12:27:44.595741",
      "version": "2.3.4"
    }
  },
  "nbformat": 4,
  "nbformat_minor": 5
}