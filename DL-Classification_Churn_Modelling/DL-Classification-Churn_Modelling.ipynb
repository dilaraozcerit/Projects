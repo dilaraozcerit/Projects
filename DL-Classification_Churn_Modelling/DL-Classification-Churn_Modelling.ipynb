{
 "cells": [
  {
   "cell_type": "markdown",
   "metadata": {},
   "source": [
    "<p style=\"text-align: center;\"><img src=\"https://docs.google.com/uc?id=1lY0Uj5R04yMY3-ZppPWxqCr5pvBLYPnV\" class=\"img-fluid\" alt=\"CLRSWY\"></p>\n",
    "\n",
    "___"
   ]
  },
  {
   "cell_type": "markdown",
   "metadata": {},
   "source": [
    "# Keras Classification"
   ]
  },
  {
   "cell_type": "markdown",
   "metadata": {},
   "source": [
    "<span class=\"girk\">We have a dataset in which there are details of a bank's customers and the target variable is a binary variable reflecting the fact whether the customer left the bank (closed his account) or he continues to be a customer.</span>"
   ]
  },
  {
   "cell_type": "markdown",
   "metadata": {},
   "source": [
    "---\n",
    "---"
   ]
  },
  {
   "cell_type": "markdown",
   "metadata": {
    "cell_style": "center"
   },
   "source": [
    "## Import  libraries & data"
   ]
  },
  {
   "cell_type": "code",
   "execution_count": 1,
   "metadata": {
    "cell_style": "center",
    "executionInfo": {
     "elapsed": 991,
     "status": "ok",
     "timestamp": 1610201325502,
     "user": {
      "displayName": "Richard C",
      "photoUrl": "",
      "userId": "08040814671867660929"
     },
     "user_tz": -180
    },
    "id": "6VD4eWBQcze2"
   },
   "outputs": [],
   "source": [
    "import numpy as np\n",
    "import pandas as pd\n",
    "import seaborn as sns\n",
    "import matplotlib.pyplot as plt\n",
    "\n",
    "%matplotlib inline\n",
    "# %matplotlib notebook\n",
    "plt.rcParams[\"figure.figsize\"] = (12, 6)\n",
    "# plt.rcParams['figure.dpi'] = 100\n",
    "sns.set_style(\"whitegrid\")\n",
    "import warnings\n",
    "\n",
    "warnings.filterwarnings(\"ignore\")\n",
    "warnings.warn(\"this will not show\")\n",
    "pd.set_option('display.float_format', lambda x: '%.3f' % x)"
   ]
  },
  {
   "cell_type": "code",
   "execution_count": 2,
   "metadata": {
    "cell_style": "center",
    "executionInfo": {
     "elapsed": 829,
     "status": "ok",
     "timestamp": 1610204616389,
     "user": {
      "displayName": "Richard C",
      "photoUrl": "",
      "userId": "08040814671867660929"
     },
     "user_tz": -180
    },
    "id": "YzzxpfNaoFyZ"
   },
   "outputs": [],
   "source": [
    "import tensorflow as tf\n",
    "from tensorflow.keras.models import Sequential\n",
    "from tensorflow.keras.layers import Dense, Activation\n",
    "from tensorflow.keras.callbacks import EarlyStopping\n",
    "from sklearn.metrics import classification_report, confusion_matrix\n",
    "from sklearn.metrics import roc_auc_score, roc_curve, precision_recall_curve, average_precision_score\n",
    "from sklearn.model_selection import cross_val_score, cross_validate\n",
    "from sklearn.model_selection import GridSearchCV"
   ]
  },
  {
   "cell_type": "code",
   "execution_count": 3,
   "metadata": {},
   "outputs": [
    {
     "data": {
      "text/html": [
       "<div>\n",
       "<style scoped>\n",
       "    .dataframe tbody tr th:only-of-type {\n",
       "        vertical-align: middle;\n",
       "    }\n",
       "\n",
       "    .dataframe tbody tr th {\n",
       "        vertical-align: top;\n",
       "    }\n",
       "\n",
       "    .dataframe thead th {\n",
       "        text-align: right;\n",
       "    }\n",
       "</style>\n",
       "<table border=\"1\" class=\"dataframe\">\n",
       "  <thead>\n",
       "    <tr style=\"text-align: right;\">\n",
       "      <th></th>\n",
       "      <th>CustomerId</th>\n",
       "      <th>Surname</th>\n",
       "      <th>CreditScore</th>\n",
       "      <th>Geography</th>\n",
       "      <th>Gender</th>\n",
       "      <th>Age</th>\n",
       "      <th>Tenure</th>\n",
       "      <th>Balance</th>\n",
       "      <th>NumOfProducts</th>\n",
       "      <th>HasCrCard</th>\n",
       "      <th>IsActiveMember</th>\n",
       "      <th>EstimatedSalary</th>\n",
       "      <th>Exited</th>\n",
       "    </tr>\n",
       "    <tr>\n",
       "      <th>RowNumber</th>\n",
       "      <th></th>\n",
       "      <th></th>\n",
       "      <th></th>\n",
       "      <th></th>\n",
       "      <th></th>\n",
       "      <th></th>\n",
       "      <th></th>\n",
       "      <th></th>\n",
       "      <th></th>\n",
       "      <th></th>\n",
       "      <th></th>\n",
       "      <th></th>\n",
       "      <th></th>\n",
       "    </tr>\n",
       "  </thead>\n",
       "  <tbody>\n",
       "    <tr>\n",
       "      <th>1</th>\n",
       "      <td>15634602</td>\n",
       "      <td>Hargrave</td>\n",
       "      <td>619</td>\n",
       "      <td>France</td>\n",
       "      <td>Female</td>\n",
       "      <td>42</td>\n",
       "      <td>2</td>\n",
       "      <td>0.000</td>\n",
       "      <td>1</td>\n",
       "      <td>1</td>\n",
       "      <td>1</td>\n",
       "      <td>101348.880</td>\n",
       "      <td>1</td>\n",
       "    </tr>\n",
       "    <tr>\n",
       "      <th>2</th>\n",
       "      <td>15647311</td>\n",
       "      <td>Hill</td>\n",
       "      <td>608</td>\n",
       "      <td>Spain</td>\n",
       "      <td>Female</td>\n",
       "      <td>41</td>\n",
       "      <td>1</td>\n",
       "      <td>83807.860</td>\n",
       "      <td>1</td>\n",
       "      <td>0</td>\n",
       "      <td>1</td>\n",
       "      <td>112542.580</td>\n",
       "      <td>0</td>\n",
       "    </tr>\n",
       "    <tr>\n",
       "      <th>3</th>\n",
       "      <td>15619304</td>\n",
       "      <td>Onio</td>\n",
       "      <td>502</td>\n",
       "      <td>France</td>\n",
       "      <td>Female</td>\n",
       "      <td>42</td>\n",
       "      <td>8</td>\n",
       "      <td>159660.800</td>\n",
       "      <td>3</td>\n",
       "      <td>1</td>\n",
       "      <td>0</td>\n",
       "      <td>113931.570</td>\n",
       "      <td>1</td>\n",
       "    </tr>\n",
       "    <tr>\n",
       "      <th>4</th>\n",
       "      <td>15701354</td>\n",
       "      <td>Boni</td>\n",
       "      <td>699</td>\n",
       "      <td>France</td>\n",
       "      <td>Female</td>\n",
       "      <td>39</td>\n",
       "      <td>1</td>\n",
       "      <td>0.000</td>\n",
       "      <td>2</td>\n",
       "      <td>0</td>\n",
       "      <td>0</td>\n",
       "      <td>93826.630</td>\n",
       "      <td>0</td>\n",
       "    </tr>\n",
       "    <tr>\n",
       "      <th>5</th>\n",
       "      <td>15737888</td>\n",
       "      <td>Mitchell</td>\n",
       "      <td>850</td>\n",
       "      <td>Spain</td>\n",
       "      <td>Female</td>\n",
       "      <td>43</td>\n",
       "      <td>2</td>\n",
       "      <td>125510.820</td>\n",
       "      <td>1</td>\n",
       "      <td>1</td>\n",
       "      <td>1</td>\n",
       "      <td>79084.100</td>\n",
       "      <td>0</td>\n",
       "    </tr>\n",
       "  </tbody>\n",
       "</table>\n",
       "</div>"
      ],
      "text/plain": [
       "           CustomerId   Surname  CreditScore Geography  Gender  Age  Tenure  \\\n",
       "RowNumber                                                                     \n",
       "1            15634602  Hargrave          619    France  Female   42       2   \n",
       "2            15647311      Hill          608     Spain  Female   41       1   \n",
       "3            15619304      Onio          502    France  Female   42       8   \n",
       "4            15701354      Boni          699    France  Female   39       1   \n",
       "5            15737888  Mitchell          850     Spain  Female   43       2   \n",
       "\n",
       "             Balance  NumOfProducts  HasCrCard  IsActiveMember  \\\n",
       "RowNumber                                                        \n",
       "1              0.000              1          1               1   \n",
       "2          83807.860              1          0               1   \n",
       "3         159660.800              3          1               0   \n",
       "4              0.000              2          0               0   \n",
       "5         125510.820              1          1               1   \n",
       "\n",
       "           EstimatedSalary  Exited  \n",
       "RowNumber                           \n",
       "1               101348.880       1  \n",
       "2               112542.580       0  \n",
       "3               113931.570       1  \n",
       "4                93826.630       0  \n",
       "5                79084.100       0  "
      ]
     },
     "execution_count": 3,
     "metadata": {},
     "output_type": "execute_result"
    }
   ],
   "source": [
    "df = pd.read_csv(\"Churn_Modelling.csv\", index_col='RowNumber')\n",
    "df.head()\n",
    "#Tenure:Number of years for which the customer has been with the bank\n",
    "#NumOfProducts :Number of bank products the customer is utilising\n",
    "#Binary flag 1 if the customer closed account with bank and 0 if the customer is retained"
   ]
  },
  {
   "cell_type": "markdown",
   "metadata": {
    "heading_collapsed": true
   },
   "source": [
    "## Exploratory Data Analysis and Visualization"
   ]
  },
  {
   "cell_type": "code",
   "execution_count": 4,
   "metadata": {
    "cell_style": "split",
    "colab": {
     "base_uri": "https://localhost:8080/"
    },
    "executionInfo": {
     "elapsed": 854,
     "status": "ok",
     "timestamp": 1610201704635,
     "user": {
      "displayName": "Richard C",
      "photoUrl": "",
      "userId": "08040814671867660929"
     },
     "user_tz": -180
    },
    "hidden": true,
    "id": "9ROCQa9wf2uE",
    "outputId": "40e94921-6a7c-48c6-8c09-2623b6b60fa3",
    "scrolled": false
   },
   "outputs": [
    {
     "name": "stdout",
     "output_type": "stream",
     "text": [
      "<class 'pandas.core.frame.DataFrame'>\n",
      "Int64Index: 10000 entries, 1 to 10000\n",
      "Data columns (total 13 columns):\n",
      " #   Column           Non-Null Count  Dtype  \n",
      "---  ------           --------------  -----  \n",
      " 0   CustomerId       10000 non-null  int64  \n",
      " 1   Surname          10000 non-null  object \n",
      " 2   CreditScore      10000 non-null  int64  \n",
      " 3   Geography        10000 non-null  object \n",
      " 4   Gender           10000 non-null  object \n",
      " 5   Age              10000 non-null  int64  \n",
      " 6   Tenure           10000 non-null  int64  \n",
      " 7   Balance          10000 non-null  float64\n",
      " 8   NumOfProducts    10000 non-null  int64  \n",
      " 9   HasCrCard        10000 non-null  int64  \n",
      " 10  IsActiveMember   10000 non-null  int64  \n",
      " 11  EstimatedSalary  10000 non-null  float64\n",
      " 12  Exited           10000 non-null  int64  \n",
      "dtypes: float64(2), int64(8), object(3)\n",
      "memory usage: 1.1+ MB\n"
     ]
    }
   ],
   "source": [
    "df.info()"
   ]
  },
  {
   "cell_type": "code",
   "execution_count": 5,
   "metadata": {
    "cell_style": "split",
    "colab": {
     "base_uri": "https://localhost:8080/"
    },
    "executionInfo": {
     "elapsed": 798,
     "status": "ok",
     "timestamp": 1610201657421,
     "user": {
      "displayName": "Richard C",
      "photoUrl": "",
      "userId": "08040814671867660929"
     },
     "user_tz": -180
    },
    "hidden": true,
    "id": "vPyMUnVWfM0o",
    "outputId": "7a294ad3-49d9-4cea-b6a2-9824e2c0ba4a"
   },
   "outputs": [
    {
     "data": {
      "text/plain": [
       "(10000, 13)"
      ]
     },
     "execution_count": 5,
     "metadata": {},
     "output_type": "execute_result"
    }
   ],
   "source": [
    "df.shape"
   ]
  },
  {
   "cell_type": "code",
   "execution_count": 6,
   "metadata": {
    "cell_style": "split",
    "hidden": true
   },
   "outputs": [
    {
     "data": {
      "text/plain": [
       "False"
      ]
     },
     "execution_count": 6,
     "metadata": {},
     "output_type": "execute_result"
    }
   ],
   "source": [
    "df.isnull().sum().any()"
   ]
  },
  {
   "cell_type": "code",
   "execution_count": 7,
   "metadata": {
    "cell_style": "split",
    "hidden": true,
    "scrolled": true
   },
   "outputs": [
    {
     "data": {
      "text/plain": [
       "0"
      ]
     },
     "execution_count": 7,
     "metadata": {},
     "output_type": "execute_result"
    }
   ],
   "source": [
    "df.duplicated().sum()"
   ]
  },
  {
   "cell_type": "code",
   "execution_count": 8,
   "metadata": {
    "cell_style": "center",
    "colab": {
     "base_uri": "https://localhost:8080/",
     "height": 1000
    },
    "executionInfo": {
     "elapsed": 967,
     "status": "ok",
     "timestamp": 1610201729941,
     "user": {
      "displayName": "Richard C",
      "photoUrl": "",
      "userId": "08040814671867660929"
     },
     "user_tz": -180
    },
    "hidden": true,
    "id": "mdUkgZD-gCUx",
    "outputId": "cd4f6662-e8c3-4a6f-93d5-26fed83d8a82",
    "scrolled": false
   },
   "outputs": [
    {
     "data": {
      "text/html": [
       "<div>\n",
       "<style scoped>\n",
       "    .dataframe tbody tr th:only-of-type {\n",
       "        vertical-align: middle;\n",
       "    }\n",
       "\n",
       "    .dataframe tbody tr th {\n",
       "        vertical-align: top;\n",
       "    }\n",
       "\n",
       "    .dataframe thead th {\n",
       "        text-align: right;\n",
       "    }\n",
       "</style>\n",
       "<table border=\"1\" class=\"dataframe\">\n",
       "  <thead>\n",
       "    <tr style=\"text-align: right;\">\n",
       "      <th></th>\n",
       "      <th>count</th>\n",
       "      <th>mean</th>\n",
       "      <th>std</th>\n",
       "      <th>min</th>\n",
       "      <th>25%</th>\n",
       "      <th>50%</th>\n",
       "      <th>75%</th>\n",
       "      <th>max</th>\n",
       "    </tr>\n",
       "  </thead>\n",
       "  <tbody>\n",
       "    <tr>\n",
       "      <th>CustomerId</th>\n",
       "      <td>10000.000</td>\n",
       "      <td>15690940.569</td>\n",
       "      <td>71936.186</td>\n",
       "      <td>15565701.000</td>\n",
       "      <td>15628528.250</td>\n",
       "      <td>15690738.000</td>\n",
       "      <td>15753233.750</td>\n",
       "      <td>15815690.000</td>\n",
       "    </tr>\n",
       "    <tr>\n",
       "      <th>CreditScore</th>\n",
       "      <td>10000.000</td>\n",
       "      <td>650.529</td>\n",
       "      <td>96.653</td>\n",
       "      <td>350.000</td>\n",
       "      <td>584.000</td>\n",
       "      <td>652.000</td>\n",
       "      <td>718.000</td>\n",
       "      <td>850.000</td>\n",
       "    </tr>\n",
       "    <tr>\n",
       "      <th>Age</th>\n",
       "      <td>10000.000</td>\n",
       "      <td>38.922</td>\n",
       "      <td>10.488</td>\n",
       "      <td>18.000</td>\n",
       "      <td>32.000</td>\n",
       "      <td>37.000</td>\n",
       "      <td>44.000</td>\n",
       "      <td>92.000</td>\n",
       "    </tr>\n",
       "    <tr>\n",
       "      <th>Tenure</th>\n",
       "      <td>10000.000</td>\n",
       "      <td>5.013</td>\n",
       "      <td>2.892</td>\n",
       "      <td>0.000</td>\n",
       "      <td>3.000</td>\n",
       "      <td>5.000</td>\n",
       "      <td>7.000</td>\n",
       "      <td>10.000</td>\n",
       "    </tr>\n",
       "    <tr>\n",
       "      <th>Balance</th>\n",
       "      <td>10000.000</td>\n",
       "      <td>76485.889</td>\n",
       "      <td>62397.405</td>\n",
       "      <td>0.000</td>\n",
       "      <td>0.000</td>\n",
       "      <td>97198.540</td>\n",
       "      <td>127644.240</td>\n",
       "      <td>250898.090</td>\n",
       "    </tr>\n",
       "    <tr>\n",
       "      <th>NumOfProducts</th>\n",
       "      <td>10000.000</td>\n",
       "      <td>1.530</td>\n",
       "      <td>0.582</td>\n",
       "      <td>1.000</td>\n",
       "      <td>1.000</td>\n",
       "      <td>1.000</td>\n",
       "      <td>2.000</td>\n",
       "      <td>4.000</td>\n",
       "    </tr>\n",
       "    <tr>\n",
       "      <th>HasCrCard</th>\n",
       "      <td>10000.000</td>\n",
       "      <td>0.706</td>\n",
       "      <td>0.456</td>\n",
       "      <td>0.000</td>\n",
       "      <td>0.000</td>\n",
       "      <td>1.000</td>\n",
       "      <td>1.000</td>\n",
       "      <td>1.000</td>\n",
       "    </tr>\n",
       "    <tr>\n",
       "      <th>IsActiveMember</th>\n",
       "      <td>10000.000</td>\n",
       "      <td>0.515</td>\n",
       "      <td>0.500</td>\n",
       "      <td>0.000</td>\n",
       "      <td>0.000</td>\n",
       "      <td>1.000</td>\n",
       "      <td>1.000</td>\n",
       "      <td>1.000</td>\n",
       "    </tr>\n",
       "    <tr>\n",
       "      <th>EstimatedSalary</th>\n",
       "      <td>10000.000</td>\n",
       "      <td>100090.240</td>\n",
       "      <td>57510.493</td>\n",
       "      <td>11.580</td>\n",
       "      <td>51002.110</td>\n",
       "      <td>100193.915</td>\n",
       "      <td>149388.247</td>\n",
       "      <td>199992.480</td>\n",
       "    </tr>\n",
       "    <tr>\n",
       "      <th>Exited</th>\n",
       "      <td>10000.000</td>\n",
       "      <td>0.204</td>\n",
       "      <td>0.403</td>\n",
       "      <td>0.000</td>\n",
       "      <td>0.000</td>\n",
       "      <td>0.000</td>\n",
       "      <td>0.000</td>\n",
       "      <td>1.000</td>\n",
       "    </tr>\n",
       "  </tbody>\n",
       "</table>\n",
       "</div>"
      ],
      "text/plain": [
       "                    count         mean       std          min          25%  \\\n",
       "CustomerId      10000.000 15690940.569 71936.186 15565701.000 15628528.250   \n",
       "CreditScore     10000.000      650.529    96.653      350.000      584.000   \n",
       "Age             10000.000       38.922    10.488       18.000       32.000   \n",
       "Tenure          10000.000        5.013     2.892        0.000        3.000   \n",
       "Balance         10000.000    76485.889 62397.405        0.000        0.000   \n",
       "NumOfProducts   10000.000        1.530     0.582        1.000        1.000   \n",
       "HasCrCard       10000.000        0.706     0.456        0.000        0.000   \n",
       "IsActiveMember  10000.000        0.515     0.500        0.000        0.000   \n",
       "EstimatedSalary 10000.000   100090.240 57510.493       11.580    51002.110   \n",
       "Exited          10000.000        0.204     0.403        0.000        0.000   \n",
       "\n",
       "                         50%          75%          max  \n",
       "CustomerId      15690738.000 15753233.750 15815690.000  \n",
       "CreditScore          652.000      718.000      850.000  \n",
       "Age                   37.000       44.000       92.000  \n",
       "Tenure                 5.000        7.000       10.000  \n",
       "Balance            97198.540   127644.240   250898.090  \n",
       "NumOfProducts          1.000        2.000        4.000  \n",
       "HasCrCard              1.000        1.000        1.000  \n",
       "IsActiveMember         1.000        1.000        1.000  \n",
       "EstimatedSalary   100193.915   149388.247   199992.480  \n",
       "Exited                 0.000        0.000        1.000  "
      ]
     },
     "execution_count": 8,
     "metadata": {},
     "output_type": "execute_result"
    }
   ],
   "source": [
    "df.describe().T\n",
    "\n"
   ]
  },
  {
   "cell_type": "code",
   "execution_count": 9,
   "metadata": {
    "hidden": true
   },
   "outputs": [],
   "source": [
    "df.drop(['CustomerId', 'Surname'], axis=1, inplace=True)"
   ]
  },
  {
   "cell_type": "code",
   "execution_count": 10,
   "metadata": {
    "cell_style": "split",
    "colab": {
     "base_uri": "https://localhost:8080/",
     "height": 297
    },
    "executionInfo": {
     "elapsed": 1052,
     "status": "ok",
     "timestamp": 1610201940310,
     "user": {
      "displayName": "Richard C",
      "photoUrl": "",
      "userId": "08040814671867660929"
     },
     "user_tz": -180
    },
    "hidden": true,
    "id": "_7vHUi5Hgldj",
    "outputId": "0018aaa8-d479-40c3-f973-161c63e7a77b"
   },
   "outputs": [
    {
     "name": "stdout",
     "output_type": "stream",
     "text": [
      "0    7963\n",
      "1    2037\n",
      "Name: Exited, dtype: int64\n"
     ]
    },
    {
     "data": {
      "image/png": "[encoded data removed]",
      "text/plain": [
       "<Figure size 864x432 with 1 Axes>"
      ]
     },
     "metadata": {},
     "output_type": "display_data"
    }
   ],
   "source": [
    "print(df.Exited.value_counts())\n",
    "sns.countplot(df[\"Exited\"]);"
   ]
  },
  {
   "cell_type": "code",
   "execution_count": 11,
   "metadata": {
    "cell_style": "split",
    "hidden": true
   },
   "outputs": [
    {
     "data": {
      "image/png": "[encoded data removed]",
      "text/plain": [
       "<Figure size 1080x864 with 9 Axes>"
      ]
     },
     "metadata": {},
     "output_type": "display_data"
    }
   ],
   "source": [
    "df.hist(figsize=(15, 12), bins=15);\n"
   ]
  },
  {
   "cell_type": "code",
   "execution_count": 12,
   "metadata": {
    "hidden": true,
    "scrolled": false
   },
   "outputs": [
    {
     "data": {
      "image/png": "[encoded data removed]",
      "text/plain": [
       "<Figure size 1152x864 with 4 Axes>"
      ]
     },
     "metadata": {},
     "output_type": "display_data"
    }
   ],
   "source": [
    "cat_list = [\"Gender\", \"HasCrCard\", \"IsActiveMember\", \"Geography\"]\n",
    "index = 0\n",
    "plt.figure(figsize=(16, 12))\n",
    "for i in cat_list:\n",
    "    index += 1\n",
    "    plt.subplot(2, 2, index)\n",
    "    sns.countplot(data=df, x=i, hue=\"Exited\")"
   ]
  },
  {
   "cell_type": "code",
   "execution_count": 13,
   "metadata": {
    "cell_style": "split",
    "hidden": true
   },
   "outputs": [
    {
     "data": {
      "image/png": "[encoded data removed]",
      "text/plain": [
       "<Figure size 1440x504 with 1 Axes>"
      ]
     },
     "metadata": {},
     "output_type": "display_data"
    }
   ],
   "source": [
    "plt.figure(figsize=(20, 7))\n",
    "sns.countplot(df.Age, hue=df.Exited);"
   ]
  },
  {
   "cell_type": "code",
   "execution_count": 14,
   "metadata": {
    "cell_style": "center",
    "colab": {
     "base_uri": "https://localhost:8080/",
     "height": 981
    },
    "executionInfo": {
     "elapsed": 5978,
     "status": "ok",
     "timestamp": 1610202268770,
     "user": {
      "displayName": "Richard C",
      "photoUrl": "",
      "userId": "08040814671867660929"
     },
     "user_tz": -180
    },
    "hidden": true,
    "id": "fNDK3HprhSU3",
    "outputId": "98fe8eba-dc36-4cc7-96ad-ff61182d12a2",
    "scrolled": false
   },
   "outputs": [
    {
     "data": {
      "text/plain": [
       "<AxesSubplot:>"
      ]
     },
     "execution_count": 14,
     "metadata": {},
     "output_type": "execute_result"
    },
    {
     "data": {
      "image/png": "[encoded data removed]",
      "text/plain": [
       "<Figure size 1152x864 with 2 Axes>"
      ]
     },
     "metadata": {},
     "output_type": "display_data"
    }
   ],
   "source": [
    "plt.figure(figsize=(16, 12))\n",
    "sns.heatmap(df.corr(), annot=True, cmap='viridis')"
   ]
  },
  {
   "cell_type": "code",
   "execution_count": 15,
   "metadata": {
    "cell_style": "center",
    "colab": {
     "base_uri": "https://localhost:8080/",
     "height": 391
    },
    "executionInfo": {
     "elapsed": 1405,
     "status": "ok",
     "timestamp": 1610203065835,
     "user": {
      "displayName": "Richard C",
      "photoUrl": "",
      "userId": "08040814671867660929"
     },
     "user_tz": -180
    },
    "hidden": true,
    "id": "IasR3c8ajeC0",
    "outputId": "4742bedb-e6bc-4967-f1cd-c36f7610f33e"
   },
   "outputs": [
    {
     "data": {
      "text/plain": [
       "<AxesSubplot:>"
      ]
     },
     "execution_count": 15,
     "metadata": {},
     "output_type": "execute_result"
    },
    {
     "data": {
      "image/png": "[encoded data removed]",
      "text/plain": [
       "<Figure size 864x432 with 1 Axes>"
      ]
     },
     "metadata": {},
     "output_type": "display_data"
    }
   ],
   "source": [
    "df.corr()['Exited'][:-1].sort_values().plot.barh()"
   ]
  },
  {
   "cell_type": "code",
   "execution_count": 16,
   "metadata": {
    "hidden": true
   },
   "outputs": [
    {
     "data": {
      "text/html": [
       "<div>\n",
       "<style scoped>\n",
       "    .dataframe tbody tr th:only-of-type {\n",
       "        vertical-align: middle;\n",
       "    }\n",
       "\n",
       "    .dataframe tbody tr th {\n",
       "        vertical-align: top;\n",
       "    }\n",
       "\n",
       "    .dataframe thead th {\n",
       "        text-align: right;\n",
       "    }\n",
       "</style>\n",
       "<table border=\"1\" class=\"dataframe\">\n",
       "  <thead>\n",
       "    <tr style=\"text-align: right;\">\n",
       "      <th></th>\n",
       "      <th>CreditScore</th>\n",
       "      <th>Age</th>\n",
       "      <th>Tenure</th>\n",
       "      <th>Balance</th>\n",
       "      <th>NumOfProducts</th>\n",
       "      <th>HasCrCard</th>\n",
       "      <th>IsActiveMember</th>\n",
       "      <th>EstimatedSalary</th>\n",
       "      <th>Exited</th>\n",
       "      <th>Geography_Germany</th>\n",
       "      <th>Geography_Spain</th>\n",
       "      <th>Gender_Male</th>\n",
       "    </tr>\n",
       "    <tr>\n",
       "      <th>RowNumber</th>\n",
       "      <th></th>\n",
       "      <th></th>\n",
       "      <th></th>\n",
       "      <th></th>\n",
       "      <th></th>\n",
       "      <th></th>\n",
       "      <th></th>\n",
       "      <th></th>\n",
       "      <th></th>\n",
       "      <th></th>\n",
       "      <th></th>\n",
       "      <th></th>\n",
       "    </tr>\n",
       "  </thead>\n",
       "  <tbody>\n",
       "    <tr>\n",
       "      <th>1</th>\n",
       "      <td>619</td>\n",
       "      <td>42</td>\n",
       "      <td>2</td>\n",
       "      <td>0.000</td>\n",
       "      <td>1</td>\n",
       "      <td>1</td>\n",
       "      <td>1</td>\n",
       "      <td>101348.880</td>\n",
       "      <td>1</td>\n",
       "      <td>0</td>\n",
       "      <td>0</td>\n",
       "      <td>0</td>\n",
       "    </tr>\n",
       "    <tr>\n",
       "      <th>2</th>\n",
       "      <td>608</td>\n",
       "      <td>41</td>\n",
       "      <td>1</td>\n",
       "      <td>83807.860</td>\n",
       "      <td>1</td>\n",
       "      <td>0</td>\n",
       "      <td>1</td>\n",
       "      <td>112542.580</td>\n",
       "      <td>0</td>\n",
       "      <td>0</td>\n",
       "      <td>1</td>\n",
       "      <td>0</td>\n",
       "    </tr>\n",
       "    <tr>\n",
       "      <th>3</th>\n",
       "      <td>502</td>\n",
       "      <td>42</td>\n",
       "      <td>8</td>\n",
       "      <td>159660.800</td>\n",
       "      <td>3</td>\n",
       "      <td>1</td>\n",
       "      <td>0</td>\n",
       "      <td>113931.570</td>\n",
       "      <td>1</td>\n",
       "      <td>0</td>\n",
       "      <td>0</td>\n",
       "      <td>0</td>\n",
       "    </tr>\n",
       "    <tr>\n",
       "      <th>4</th>\n",
       "      <td>699</td>\n",
       "      <td>39</td>\n",
       "      <td>1</td>\n",
       "      <td>0.000</td>\n",
       "      <td>2</td>\n",
       "      <td>0</td>\n",
       "      <td>0</td>\n",
       "      <td>93826.630</td>\n",
       "      <td>0</td>\n",
       "      <td>0</td>\n",
       "      <td>0</td>\n",
       "      <td>0</td>\n",
       "    </tr>\n",
       "    <tr>\n",
       "      <th>5</th>\n",
       "      <td>850</td>\n",
       "      <td>43</td>\n",
       "      <td>2</td>\n",
       "      <td>125510.820</td>\n",
       "      <td>1</td>\n",
       "      <td>1</td>\n",
       "      <td>1</td>\n",
       "      <td>79084.100</td>\n",
       "      <td>0</td>\n",
       "      <td>0</td>\n",
       "      <td>1</td>\n",
       "      <td>0</td>\n",
       "    </tr>\n",
       "  </tbody>\n",
       "</table>\n",
       "</div>"
      ],
      "text/plain": [
       "           CreditScore  Age  Tenure    Balance  NumOfProducts  HasCrCard  \\\n",
       "RowNumber                                                                  \n",
       "1                  619   42       2      0.000              1          1   \n",
       "2                  608   41       1  83807.860              1          0   \n",
       "3                  502   42       8 159660.800              3          1   \n",
       "4                  699   39       1      0.000              2          0   \n",
       "5                  850   43       2 125510.820              1          1   \n",
       "\n",
       "           IsActiveMember  EstimatedSalary  Exited  Geography_Germany  \\\n",
       "RowNumber                                                               \n",
       "1                       1       101348.880       1                  0   \n",
       "2                       1       112542.580       0                  0   \n",
       "3                       0       113931.570       1                  0   \n",
       "4                       0        93826.630       0                  0   \n",
       "5                       1        79084.100       0                  0   \n",
       "\n",
       "           Geography_Spain  Gender_Male  \n",
       "RowNumber                                \n",
       "1                        0            0  \n",
       "2                        1            0  \n",
       "3                        0            0  \n",
       "4                        0            0  \n",
       "5                        1            0  "
      ]
     },
     "execution_count": 16,
     "metadata": {},
     "output_type": "execute_result"
    }
   ],
   "source": [
    "df = pd.get_dummies(df, drop_first=True)\n",
    "df.head()"
   ]
  },
  {
   "cell_type": "markdown",
   "metadata": {
    "heading_collapsed": true
   },
   "source": [
    "## Preprocessing of Data"
   ]
  },
  {
   "cell_type": "code",
   "execution_count": 17,
   "metadata": {
    "executionInfo": {
     "elapsed": 764,
     "status": "ok",
     "timestamp": 1610203310512,
     "user": {
      "displayName": "Richard C",
      "photoUrl": "",
      "userId": "08040814671867660929"
     },
     "user_tz": -180
    },
    "hidden": true,
    "id": "DjY-ZSPWka7D"
   },
   "outputs": [],
   "source": [
    "from sklearn.model_selection import train_test_split\n",
    "from sklearn.preprocessing import MinMaxScaler"
   ]
  },
  {
   "cell_type": "code",
   "execution_count": 18,
   "metadata": {
    "cell_style": "center",
    "executionInfo": {
     "elapsed": 1126,
     "status": "ok",
     "timestamp": 1610203246314,
     "user": {
      "displayName": "Richard C",
      "photoUrl": "",
      "userId": "08040814671867660929"
     },
     "user_tz": -180
    },
    "hidden": true,
    "id": "kjyTH753lq7M"
   },
   "outputs": [],
   "source": [
    "X = df.drop('Exited', axis=1)\n",
    "y = df['Exited'].values\n",
    "seed = 42\n",
    "X_train, X_test, y_train, y_test = train_test_split(X,\n",
    "                                                    y,\n",
    "                                                    stratify=y,\n",
    "                                                    test_size=0.1,\n",
    "                                                    random_state=seed)\n"
   ]
  },
  {
   "cell_type": "code",
   "execution_count": 19,
   "metadata": {
    "cell_style": "split",
    "hidden": true
   },
   "outputs": [],
   "source": [
    "scaler = MinMaxScaler()\n"
   ]
  },
  {
   "cell_type": "code",
   "execution_count": 20,
   "metadata": {
    "cell_style": "split",
    "executionInfo": {
     "elapsed": 696,
     "status": "ok",
     "timestamp": 1610203508023,
     "user": {
      "displayName": "Richard C",
      "photoUrl": "",
      "userId": "08040814671867660929"
     },
     "user_tz": -180
    },
    "hidden": true,
    "id": "Fgy3D9SBmWcq"
   },
   "outputs": [],
   "source": [
    "X_train = scaler.fit_transform(X_train)\n",
    "X_test = scaler.transform(X_test)"
   ]
  },
  {
   "cell_type": "markdown",
   "metadata": {
    "id": "Ha9hDt_AoGaE"
   },
   "source": [
    "## Modelling & Model Performance"
   ]
  },
  {
   "cell_type": "markdown",
   "metadata": {
    "heading_collapsed": true
   },
   "source": [
    "### without class_weigth"
   ]
  },
  {
   "cell_type": "code",
   "execution_count": 21,
   "metadata": {},
   "outputs": [
    {
     "data": {
      "text/plain": [
       "(9000, 11)"
      ]
     },
     "execution_count": 21,
     "metadata": {},
     "output_type": "execute_result"
    }
   ],
   "source": [
    "X_train.shape"
   ]
  },
  {
   "cell_type": "code",
   "execution_count": 22,
   "metadata": {
    "cell_style": "split",
    "hidden": true
   },
   "outputs": [],
   "source": [
    "model = Sequential()\n",
    "\n",
    "tf.random.set_seed(seed)\n",
    "\n",
    "model.add(Dense(16, activation=\"relu\"))\n",
    "model.add(Dense(8, activation=\"relu\"))\n",
    "model.add(Dense(1, activation=\"sigmoid\"))\n",
    "\n",
    "opt = Adam(lr=0.001)\n",
    "model.compile(optimizer=opt, \n",
    "              loss=\"binary_crossentropy\",\n",
    "              metrics=[\"Recall\"])\n",
    "# Recall — the percentage of positive cases you caught\n",
    "# Recall, false negative’in gözardı edilemez olduğu durumlarda önemli bir metrik. recall = TP / TP +FN\n",
    "# Recall’a bakma sebebimiz tamamiyle paydadaki false negative’ler, yani hesabına devam ettiği tahmin edilen ve hesabını kapatan insanlar. \n",
    "\n"
   ]
  },
  {
   "cell_type": "code",
   "execution_count": 23,
   "metadata": {
    "cell_style": "split",
    "hidden": true
   },
   "outputs": [],
   "source": [
    "early_stop = EarlyStopping(monitor=\"val_loss\",\n",
    "                           mode=\"auto\",\n",
    "                           verbose=1,\n",
    "                           patience=15)\n",
    "#The patience is often set somewhere between 10 and 100 (10 or 20 is more common), \n",
    "#but it really depends on your dataset and network."
   ]
  },
  {
   "cell_type": "code",
   "execution_count": 24,
   "metadata": {
    "cell_style": "center",
    "hidden": true
   },
   "outputs": [
    {
     "name": "stdout",
     "output_type": "stream",
     "text": [
      "Epoch 1/200\n",
      "64/64 [==============================] - 1s 5ms/step - loss: 0.5353 - recall: 0.0000e+00 - val_loss: 0.4928 - val_recall: 0.0000e+00\n",
      "Epoch 2/200\n",
      "64/64 [==============================] - 0s 917us/step - loss: 0.4956 - recall: 0.0000e+00 - val_loss: 0.4804 - val_recall: 0.0000e+00\n",
      "Epoch 3/200\n",
      "64/64 [==============================] - 0s 1ms/step - loss: 0.4864 - recall: 0.0000e+00 - val_loss: 0.4709 - val_recall: 0.0000e+00\n",
      "Epoch 4/200\n",
      "64/64 [==============================] - 0s 1ms/step - loss: 0.4787 - recall: 0.0000e+00 - val_loss: 0.4604 - val_recall: 0.0055\n",
      "Epoch 5/200\n",
      "64/64 [==============================] - 0s 1ms/step - loss: 0.4710 - recall: 0.0303 - val_loss: 0.4492 - val_recall: 0.0884\n",
      "Epoch 6/200\n",
      "64/64 [==============================] - 0s 1ms/step - loss: 0.4643 - recall: 0.0587 - val_loss: 0.4437 - val_recall: 0.0663\n",
      "Epoch 7/200\n",
      "64/64 [==============================] - 0s 1ms/step - loss: 0.4598 - recall: 0.0841 - val_loss: 0.4369 - val_recall: 0.1215\n",
      "Epoch 8/200\n",
      "64/64 [==============================] - 0s 1ms/step - loss: 0.4551 - recall: 0.0817 - val_loss: 0.4317 - val_recall: 0.1436\n",
      "Epoch 9/200\n",
      "64/64 [==============================] - 0s 976us/step - loss: 0.4509 - recall: 0.0999 - val_loss: 0.4264 - val_recall: 0.1768\n",
      "Epoch 10/200\n",
      "64/64 [==============================] - 0s 1ms/step - loss: 0.4467 - recall: 0.1265 - val_loss: 0.4204 - val_recall: 0.1878\n",
      "Epoch 11/200\n",
      "64/64 [==============================] - 0s 989us/step - loss: 0.4427 - recall: 0.1380 - val_loss: 0.4159 - val_recall: 0.1878\n",
      "Epoch 12/200\n",
      "64/64 [==============================] - 0s 1ms/step - loss: 0.4390 - recall: 0.1628 - val_loss: 0.4122 - val_recall: 0.1989\n",
      "Epoch 13/200\n",
      "64/64 [==============================] - 0s 1ms/step - loss: 0.4363 - recall: 0.1671 - val_loss: 0.4115 - val_recall: 0.2652\n",
      "Epoch 14/200\n",
      "64/64 [==============================] - 0s 1ms/step - loss: 0.4342 - recall: 0.1768 - val_loss: 0.4060 - val_recall: 0.2044\n",
      "Epoch 15/200\n",
      "64/64 [==============================] - 0s 1ms/step - loss: 0.4311 - recall: 0.1889 - val_loss: 0.4027 - val_recall: 0.2265\n",
      "Epoch 16/200\n",
      "64/64 [==============================] - 0s 1ms/step - loss: 0.4289 - recall: 0.1955 - val_loss: 0.4007 - val_recall: 0.2762\n",
      "Epoch 17/200\n",
      "64/64 [==============================] - 0s 1ms/step - loss: 0.4263 - recall: 0.2149 - val_loss: 0.3969 - val_recall: 0.2431\n",
      "Epoch 18/200\n",
      "64/64 [==============================] - 0s 1ms/step - loss: 0.4232 - recall: 0.2119 - val_loss: 0.3927 - val_recall: 0.2762\n",
      "Epoch 19/200\n",
      "64/64 [==============================] - 0s 1ms/step - loss: 0.4203 - recall: 0.2276 - val_loss: 0.3906 - val_recall: 0.3315\n",
      "Epoch 20/200\n",
      "64/64 [==============================] - 0s 1ms/step - loss: 0.4169 - recall: 0.2561 - val_loss: 0.3842 - val_recall: 0.3039\n",
      "Epoch 21/200\n",
      "64/64 [==============================] - 0s 1ms/step - loss: 0.4123 - recall: 0.2621 - val_loss: 0.3800 - val_recall: 0.3702\n",
      "Epoch 22/200\n",
      "64/64 [==============================] - 0s 986us/step - loss: 0.4084 - recall: 0.2621 - val_loss: 0.3748 - val_recall: 0.3260\n",
      "Epoch 23/200\n",
      "64/64 [==============================] - 0s 1ms/step - loss: 0.4045 - recall: 0.2833 - val_loss: 0.3691 - val_recall: 0.3702\n",
      "Epoch 24/200\n",
      "64/64 [==============================] - 0s 1ms/step - loss: 0.4003 - recall: 0.2954 - val_loss: 0.3633 - val_recall: 0.3536\n",
      "Epoch 25/200\n",
      "64/64 [==============================] - 0s 994us/step - loss: 0.3954 - recall: 0.3136 - val_loss: 0.3597 - val_recall: 0.3591\n",
      "Epoch 26/200\n",
      "64/64 [==============================] - 0s 1ms/step - loss: 0.3926 - recall: 0.3069 - val_loss: 0.3544 - val_recall: 0.3370\n",
      "Epoch 27/200\n",
      "64/64 [==============================] - 0s 1ms/step - loss: 0.3886 - recall: 0.3232 - val_loss: 0.3512 - val_recall: 0.4254\n",
      "Epoch 28/200\n",
      "64/64 [==============================] - 0s 1ms/step - loss: 0.3864 - recall: 0.3402 - val_loss: 0.3466 - val_recall: 0.4199\n",
      "Epoch 29/200\n",
      "64/64 [==============================] - 0s 1ms/step - loss: 0.3822 - recall: 0.3347 - val_loss: 0.3426 - val_recall: 0.4530\n",
      "Epoch 30/200\n",
      "64/64 [==============================] - 0s 1ms/step - loss: 0.3793 - recall: 0.3547 - val_loss: 0.3439 - val_recall: 0.5028\n",
      "Epoch 31/200\n",
      "64/64 [==============================] - 0s 1ms/step - loss: 0.3772 - recall: 0.3699 - val_loss: 0.3356 - val_recall: 0.4586\n",
      "Epoch 32/200\n",
      "64/64 [==============================] - 0s 1ms/step - loss: 0.3741 - recall: 0.3705 - val_loss: 0.3317 - val_recall: 0.4254\n",
      "Epoch 33/200\n",
      "64/64 [==============================] - 0s 1ms/step - loss: 0.3712 - recall: 0.3801 - val_loss: 0.3292 - val_recall: 0.4530\n",
      "Epoch 34/200\n",
      "64/64 [==============================] - 0s 1ms/step - loss: 0.3697 - recall: 0.3753 - val_loss: 0.3266 - val_recall: 0.4751\n",
      "Epoch 35/200\n",
      "64/64 [==============================] - 0s 1ms/step - loss: 0.3682 - recall: 0.3892 - val_loss: 0.3249 - val_recall: 0.5083\n",
      "Epoch 36/200\n",
      "64/64 [==============================] - 0s 1ms/step - loss: 0.3662 - recall: 0.3874 - val_loss: 0.3213 - val_recall: 0.4641\n",
      "Epoch 37/200\n",
      "64/64 [==============================] - 0s 1ms/step - loss: 0.3660 - recall: 0.3910 - val_loss: 0.3203 - val_recall: 0.4917\n",
      "Epoch 38/200\n",
      "64/64 [==============================] - 0s 1ms/step - loss: 0.3637 - recall: 0.4019 - val_loss: 0.3186 - val_recall: 0.5028\n",
      "Epoch 39/200\n",
      "64/64 [==============================] - 0s 1ms/step - loss: 0.3621 - recall: 0.4019 - val_loss: 0.3161 - val_recall: 0.4807\n",
      "Epoch 40/200\n",
      "64/64 [==============================] - 0s 1ms/step - loss: 0.3614 - recall: 0.4080 - val_loss: 0.3162 - val_recall: 0.4917\n",
      "Epoch 41/200\n",
      "64/64 [==============================] - 0s 1ms/step - loss: 0.3601 - recall: 0.4056 - val_loss: 0.3149 - val_recall: 0.5193\n",
      "Epoch 42/200\n",
      "64/64 [==============================] - 0s 1ms/step - loss: 0.3600 - recall: 0.4146 - val_loss: 0.3138 - val_recall: 0.4641\n",
      "Epoch 43/200\n",
      "64/64 [==============================] - 0s 1ms/step - loss: 0.3586 - recall: 0.4092 - val_loss: 0.3126 - val_recall: 0.5193\n",
      "Epoch 44/200\n",
      "64/64 [==============================] - 0s 1ms/step - loss: 0.3579 - recall: 0.4177 - val_loss: 0.3121 - val_recall: 0.5028\n",
      "Epoch 45/200\n",
      "64/64 [==============================] - 0s 1ms/step - loss: 0.3571 - recall: 0.4219 - val_loss: 0.3122 - val_recall: 0.5304\n",
      "Epoch 46/200\n",
      "64/64 [==============================] - 0s 1ms/step - loss: 0.3563 - recall: 0.4171 - val_loss: 0.3114 - val_recall: 0.5304\n",
      "Epoch 47/200\n",
      "64/64 [==============================] - 0s 1ms/step - loss: 0.3560 - recall: 0.4249 - val_loss: 0.3089 - val_recall: 0.5249\n",
      "Epoch 48/200\n",
      "64/64 [==============================] - 0s 1ms/step - loss: 0.3556 - recall: 0.4219 - val_loss: 0.3093 - val_recall: 0.5359\n",
      "Epoch 49/200\n",
      "64/64 [==============================] - 0s 1ms/step - loss: 0.3547 - recall: 0.4316 - val_loss: 0.3092 - val_recall: 0.4696\n",
      "Epoch 50/200\n",
      "64/64 [==============================] - 0s 1ms/step - loss: 0.3544 - recall: 0.4219 - val_loss: 0.3097 - val_recall: 0.5249\n",
      "Epoch 51/200\n",
      "64/64 [==============================] - 0s 1ms/step - loss: 0.3535 - recall: 0.4310 - val_loss: 0.3072 - val_recall: 0.5083\n",
      "Epoch 52/200\n",
      "64/64 [==============================] - 0s 1ms/step - loss: 0.3536 - recall: 0.4195 - val_loss: 0.3131 - val_recall: 0.6022\n",
      "Epoch 53/200\n",
      "64/64 [==============================] - 0s 1ms/step - loss: 0.3533 - recall: 0.4334 - val_loss: 0.3072 - val_recall: 0.4641\n",
      "Epoch 54/200\n",
      "64/64 [==============================] - 0s 1ms/step - loss: 0.3539 - recall: 0.4219 - val_loss: 0.3071 - val_recall: 0.4696\n",
      "Epoch 55/200\n",
      "64/64 [==============================] - 0s 1ms/step - loss: 0.3524 - recall: 0.4322 - val_loss: 0.3066 - val_recall: 0.5193\n",
      "Epoch 56/200\n",
      "64/64 [==============================] - 0s 1ms/step - loss: 0.3519 - recall: 0.4431 - val_loss: 0.3073 - val_recall: 0.5414\n",
      "Epoch 57/200\n",
      "64/64 [==============================] - 0s 1ms/step - loss: 0.3515 - recall: 0.4274 - val_loss: 0.3076 - val_recall: 0.5414\n",
      "Epoch 58/200\n",
      "64/64 [==============================] - 0s 926us/step - loss: 0.3509 - recall: 0.4352 - val_loss: 0.3070 - val_recall: 0.5028\n",
      "Epoch 59/200\n",
      "64/64 [==============================] - 0s 1ms/step - loss: 0.3510 - recall: 0.4334 - val_loss: 0.3069 - val_recall: 0.5525\n",
      "Epoch 60/200\n",
      "64/64 [==============================] - 0s 1ms/step - loss: 0.3501 - recall: 0.4425 - val_loss: 0.3052 - val_recall: 0.5138\n",
      "Epoch 61/200\n",
      "64/64 [==============================] - 0s 1ms/step - loss: 0.3516 - recall: 0.4346 - val_loss: 0.3046 - val_recall: 0.5083\n",
      "Epoch 62/200\n",
      "64/64 [==============================] - 0s 989us/step - loss: 0.3497 - recall: 0.4389 - val_loss: 0.3109 - val_recall: 0.5856\n",
      "Epoch 63/200\n",
      "64/64 [==============================] - 0s 917us/step - loss: 0.3491 - recall: 0.4364 - val_loss: 0.3045 - val_recall: 0.5249\n",
      "Epoch 64/200\n",
      "64/64 [==============================] - 0s 1ms/step - loss: 0.3496 - recall: 0.4364 - val_loss: 0.3064 - val_recall: 0.5635\n",
      "Epoch 65/200\n",
      "64/64 [==============================] - 0s 1ms/step - loss: 0.3485 - recall: 0.4395 - val_loss: 0.3055 - val_recall: 0.4917\n",
      "Epoch 66/200\n",
      "64/64 [==============================] - 0s 1ms/step - loss: 0.3494 - recall: 0.4316 - val_loss: 0.3098 - val_recall: 0.5856\n",
      "Epoch 67/200\n",
      "64/64 [==============================] - 0s 1ms/step - loss: 0.3493 - recall: 0.4485 - val_loss: 0.3038 - val_recall: 0.4862\n",
      "Epoch 68/200\n",
      "64/64 [==============================] - 0s 989us/step - loss: 0.3483 - recall: 0.4425 - val_loss: 0.3039 - val_recall: 0.5525\n",
      "Epoch 69/200\n",
      "64/64 [==============================] - 0s 1ms/step - loss: 0.3486 - recall: 0.4401 - val_loss: 0.3059 - val_recall: 0.5691\n",
      "Epoch 70/200\n",
      "64/64 [==============================] - 0s 932us/step - loss: 0.3478 - recall: 0.4431 - val_loss: 0.3028 - val_recall: 0.5193\n",
      "Epoch 71/200\n",
      "64/64 [==============================] - 0s 1ms/step - loss: 0.3481 - recall: 0.4461 - val_loss: 0.3027 - val_recall: 0.4972\n",
      "Epoch 72/200\n",
      "64/64 [==============================] - 0s 910us/step - loss: 0.3481 - recall: 0.4383 - val_loss: 0.3024 - val_recall: 0.5138\n",
      "Epoch 73/200\n",
      "64/64 [==============================] - 0s 928us/step - loss: 0.3468 - recall: 0.4395 - val_loss: 0.3014 - val_recall: 0.5138\n",
      "Epoch 74/200\n",
      "64/64 [==============================] - 0s 980us/step - loss: 0.3467 - recall: 0.4449 - val_loss: 0.3041 - val_recall: 0.5470\n",
      "Epoch 75/200\n",
      "64/64 [==============================] - 0s 1ms/step - loss: 0.3468 - recall: 0.4425 - val_loss: 0.3028 - val_recall: 0.4862\n",
      "Epoch 76/200\n",
      "64/64 [==============================] - 0s 926us/step - loss: 0.3462 - recall: 0.4425 - val_loss: 0.3024 - val_recall: 0.5249\n",
      "Epoch 77/200\n",
      "64/64 [==============================] - 0s 1ms/step - loss: 0.3459 - recall: 0.4425 - val_loss: 0.3024 - val_recall: 0.5138\n",
      "Epoch 78/200\n",
      "64/64 [==============================] - 0s 1ms/step - loss: 0.3473 - recall: 0.4431 - val_loss: 0.3043 - val_recall: 0.5414\n",
      "Epoch 79/200\n",
      "64/64 [==============================] - 0s 1ms/step - loss: 0.3460 - recall: 0.4407 - val_loss: 0.3043 - val_recall: 0.5525\n",
      "Epoch 80/200\n",
      "64/64 [==============================] - 0s 1ms/step - loss: 0.3464 - recall: 0.4437 - val_loss: 0.3011 - val_recall: 0.5138\n",
      "Epoch 81/200\n",
      "64/64 [==============================] - 0s 1ms/step - loss: 0.3463 - recall: 0.4492 - val_loss: 0.3020 - val_recall: 0.5193\n",
      "Epoch 82/200\n",
      "64/64 [==============================] - 0s 1ms/step - loss: 0.3457 - recall: 0.4401 - val_loss: 0.3012 - val_recall: 0.4972\n",
      "Epoch 83/200\n",
      "64/64 [==============================] - 0s 1ms/step - loss: 0.3452 - recall: 0.4443 - val_loss: 0.3003 - val_recall: 0.5028\n",
      "Epoch 84/200\n",
      "64/64 [==============================] - 0s 1ms/step - loss: 0.3452 - recall: 0.4389 - val_loss: 0.3012 - val_recall: 0.5414\n",
      "Epoch 85/200\n",
      "64/64 [==============================] - 0s 1ms/step - loss: 0.3451 - recall: 0.4449 - val_loss: 0.2996 - val_recall: 0.5138\n",
      "Epoch 86/200\n",
      "64/64 [==============================] - 0s 1ms/step - loss: 0.3449 - recall: 0.4419 - val_loss: 0.2990 - val_recall: 0.5138\n",
      "Epoch 87/200\n",
      "64/64 [==============================] - 0s 1ms/step - loss: 0.3443 - recall: 0.4540 - val_loss: 0.3004 - val_recall: 0.4917\n",
      "Epoch 88/200\n",
      "64/64 [==============================] - 0s 1ms/step - loss: 0.3445 - recall: 0.4467 - val_loss: 0.2997 - val_recall: 0.5193\n",
      "Epoch 89/200\n",
      "64/64 [==============================] - 0s 1ms/step - loss: 0.3440 - recall: 0.4461 - val_loss: 0.3007 - val_recall: 0.5304\n",
      "Epoch 90/200\n",
      "64/64 [==============================] - 0s 1ms/step - loss: 0.3449 - recall: 0.4395 - val_loss: 0.3008 - val_recall: 0.5359\n",
      "Epoch 91/200\n",
      "64/64 [==============================] - 0s 1ms/step - loss: 0.3445 - recall: 0.4576 - val_loss: 0.3027 - val_recall: 0.5580\n",
      "Epoch 92/200\n",
      "64/64 [==============================] - 0s 1ms/step - loss: 0.3436 - recall: 0.4467 - val_loss: 0.3031 - val_recall: 0.5856\n",
      "Epoch 93/200\n",
      "64/64 [==============================] - 0s 1ms/step - loss: 0.3439 - recall: 0.4528 - val_loss: 0.2995 - val_recall: 0.5193\n",
      "Epoch 94/200\n",
      "64/64 [==============================] - 0s 1ms/step - loss: 0.3445 - recall: 0.4467 - val_loss: 0.3007 - val_recall: 0.5414\n",
      "Epoch 95/200\n",
      "64/64 [==============================] - 0s 3ms/step - loss: 0.3434 - recall: 0.4437 - val_loss: 0.3030 - val_recall: 0.5746\n",
      "Epoch 96/200\n",
      "64/64 [==============================] - 0s 2ms/step - loss: 0.3435 - recall: 0.4570 - val_loss: 0.3012 - val_recall: 0.4862\n",
      "Epoch 97/200\n",
      "64/64 [==============================] - 0s 2ms/step - loss: 0.3443 - recall: 0.4425 - val_loss: 0.3013 - val_recall: 0.5580\n",
      "Epoch 98/200\n",
      "64/64 [==============================] - 0s 2ms/step - loss: 0.3437 - recall: 0.4528 - val_loss: 0.2995 - val_recall: 0.5083\n",
      "Epoch 99/200\n",
      "64/64 [==============================] - 0s 2ms/step - loss: 0.3434 - recall: 0.4437 - val_loss: 0.3020 - val_recall: 0.6022\n",
      "Epoch 100/200\n",
      "64/64 [==============================] - 0s 2ms/step - loss: 0.3424 - recall: 0.4516 - val_loss: 0.2977 - val_recall: 0.5359\n",
      "Epoch 101/200\n",
      "64/64 [==============================] - 0s 2ms/step - loss: 0.3424 - recall: 0.4485 - val_loss: 0.2988 - val_recall: 0.5193\n",
      "Epoch 102/200\n",
      "64/64 [==============================] - 0s 2ms/step - loss: 0.3437 - recall: 0.4492 - val_loss: 0.2987 - val_recall: 0.5359\n",
      "Epoch 103/200\n",
      "64/64 [==============================] - 0s 2ms/step - loss: 0.3422 - recall: 0.4588 - val_loss: 0.3000 - val_recall: 0.5525\n",
      "Epoch 104/200\n",
      "64/64 [==============================] - 0s 2ms/step - loss: 0.3421 - recall: 0.4455 - val_loss: 0.3089 - val_recall: 0.6298\n",
      "Epoch 105/200\n",
      "64/64 [==============================] - 0s 2ms/step - loss: 0.3428 - recall: 0.4613 - val_loss: 0.2989 - val_recall: 0.5470\n",
      "Epoch 106/200\n",
      "64/64 [==============================] - 0s 2ms/step - loss: 0.3428 - recall: 0.4510 - val_loss: 0.2985 - val_recall: 0.5249\n",
      "Epoch 107/200\n",
      "64/64 [==============================] - 0s 2ms/step - loss: 0.3424 - recall: 0.4492 - val_loss: 0.3002 - val_recall: 0.5801\n",
      "Epoch 108/200\n",
      "64/64 [==============================] - 0s 2ms/step - loss: 0.3416 - recall: 0.4485 - val_loss: 0.2994 - val_recall: 0.5691\n",
      "Epoch 109/200\n",
      "64/64 [==============================] - 0s 2ms/step - loss: 0.3422 - recall: 0.4540 - val_loss: 0.3001 - val_recall: 0.5635\n",
      "Epoch 110/200\n",
      "64/64 [==============================] - 0s 2ms/step - loss: 0.3418 - recall: 0.4492 - val_loss: 0.2983 - val_recall: 0.5525\n",
      "Epoch 111/200\n",
      "64/64 [==============================] - 0s 2ms/step - loss: 0.3428 - recall: 0.4625 - val_loss: 0.3009 - val_recall: 0.5801\n",
      "Epoch 112/200\n",
      "64/64 [==============================] - 0s 2ms/step - loss: 0.3414 - recall: 0.4492 - val_loss: 0.3008 - val_recall: 0.5746\n",
      "Epoch 113/200\n",
      "64/64 [==============================] - 0s 2ms/step - loss: 0.3410 - recall: 0.4485 - val_loss: 0.2984 - val_recall: 0.5635\n",
      "Epoch 114/200\n",
      "64/64 [==============================] - 0s 2ms/step - loss: 0.3411 - recall: 0.4607 - val_loss: 0.2997 - val_recall: 0.5525\n",
      "Epoch 115/200\n",
      "64/64 [==============================] - 0s 2ms/step - loss: 0.3404 - recall: 0.4528 - val_loss: 0.2965 - val_recall: 0.5359\n",
      "Epoch 116/200\n",
      "64/64 [==============================] - 0s 2ms/step - loss: 0.3411 - recall: 0.4485 - val_loss: 0.2971 - val_recall: 0.5470\n",
      "Epoch 117/200\n",
      "64/64 [==============================] - 0s 3ms/step - loss: 0.3408 - recall: 0.4570 - val_loss: 0.2996 - val_recall: 0.5801\n",
      "Epoch 118/200\n",
      "64/64 [==============================] - 0s 2ms/step - loss: 0.3407 - recall: 0.4504 - val_loss: 0.2966 - val_recall: 0.5304\n",
      "Epoch 119/200\n"
     ]
    },
    {
     "name": "stdout",
     "output_type": "stream",
     "text": [
      "64/64 [==============================] - 0s 2ms/step - loss: 0.3409 - recall: 0.4455 - val_loss: 0.2977 - val_recall: 0.5470\n",
      "Epoch 120/200\n",
      "64/64 [==============================] - 0s 1ms/step - loss: 0.3406 - recall: 0.4504 - val_loss: 0.2969 - val_recall: 0.5359\n",
      "Epoch 121/200\n",
      "64/64 [==============================] - 0s 2ms/step - loss: 0.3408 - recall: 0.4570 - val_loss: 0.2968 - val_recall: 0.5414\n",
      "Epoch 122/200\n",
      "64/64 [==============================] - 0s 2ms/step - loss: 0.3410 - recall: 0.4619 - val_loss: 0.2963 - val_recall: 0.5193\n",
      "Epoch 123/200\n",
      "64/64 [==============================] - 0s 2ms/step - loss: 0.3411 - recall: 0.4504 - val_loss: 0.2992 - val_recall: 0.5635\n",
      "Epoch 124/200\n",
      "64/64 [==============================] - 0s 2ms/step - loss: 0.3402 - recall: 0.4479 - val_loss: 0.2964 - val_recall: 0.5249\n",
      "Epoch 125/200\n",
      "64/64 [==============================] - 0s 2ms/step - loss: 0.3406 - recall: 0.4558 - val_loss: 0.2964 - val_recall: 0.5470\n",
      "Epoch 126/200\n",
      "64/64 [==============================] - 0s 2ms/step - loss: 0.3403 - recall: 0.4492 - val_loss: 0.2968 - val_recall: 0.5525\n",
      "Epoch 127/200\n",
      "64/64 [==============================] - 0s 2ms/step - loss: 0.3401 - recall: 0.4546 - val_loss: 0.2977 - val_recall: 0.5691\n",
      "Epoch 128/200\n",
      "64/64 [==============================] - 0s 2ms/step - loss: 0.3399 - recall: 0.4582 - val_loss: 0.2969 - val_recall: 0.5304\n",
      "Epoch 129/200\n",
      "64/64 [==============================] - 0s 2ms/step - loss: 0.3398 - recall: 0.4534 - val_loss: 0.2967 - val_recall: 0.5359\n",
      "Epoch 130/200\n",
      "64/64 [==============================] - 0s 2ms/step - loss: 0.3403 - recall: 0.4522 - val_loss: 0.2962 - val_recall: 0.5359\n",
      "Epoch 131/200\n",
      "64/64 [==============================] - 0s 2ms/step - loss: 0.3399 - recall: 0.4516 - val_loss: 0.2972 - val_recall: 0.5635\n",
      "Epoch 132/200\n",
      "64/64 [==============================] - 0s 2ms/step - loss: 0.3400 - recall: 0.4637 - val_loss: 0.2962 - val_recall: 0.5359\n",
      "Epoch 133/200\n",
      "64/64 [==============================] - 0s 2ms/step - loss: 0.3395 - recall: 0.4607 - val_loss: 0.2955 - val_recall: 0.5249\n",
      "Epoch 134/200\n",
      "64/64 [==============================] - 0s 2ms/step - loss: 0.3403 - recall: 0.4582 - val_loss: 0.2954 - val_recall: 0.5193\n",
      "Epoch 135/200\n",
      "64/64 [==============================] - 0s 2ms/step - loss: 0.3389 - recall: 0.4473 - val_loss: 0.2989 - val_recall: 0.5912\n",
      "Epoch 136/200\n",
      "64/64 [==============================] - 0s 2ms/step - loss: 0.3401 - recall: 0.4582 - val_loss: 0.2962 - val_recall: 0.5138\n",
      "Epoch 137/200\n",
      "64/64 [==============================] - 0s 2ms/step - loss: 0.3397 - recall: 0.4564 - val_loss: 0.2965 - val_recall: 0.5414\n",
      "Epoch 138/200\n",
      "64/64 [==============================] - 0s 2ms/step - loss: 0.3388 - recall: 0.4691 - val_loss: 0.2970 - val_recall: 0.4972\n",
      "Epoch 139/200\n",
      "64/64 [==============================] - 0s 1ms/step - loss: 0.3393 - recall: 0.4607 - val_loss: 0.2964 - val_recall: 0.5635\n",
      "Epoch 140/200\n",
      "64/64 [==============================] - 0s 1ms/step - loss: 0.3397 - recall: 0.4522 - val_loss: 0.2967 - val_recall: 0.5470\n",
      "Epoch 141/200\n",
      "64/64 [==============================] - 0s 1ms/step - loss: 0.3384 - recall: 0.4613 - val_loss: 0.2980 - val_recall: 0.4917\n",
      "Epoch 142/200\n",
      "64/64 [==============================] - 0s 2ms/step - loss: 0.3391 - recall: 0.4607 - val_loss: 0.2950 - val_recall: 0.5359\n",
      "Epoch 143/200\n",
      "64/64 [==============================] - 0s 2ms/step - loss: 0.3386 - recall: 0.4582 - val_loss: 0.2958 - val_recall: 0.5304\n",
      "Epoch 144/200\n",
      "64/64 [==============================] - 0s 1ms/step - loss: 0.3396 - recall: 0.4534 - val_loss: 0.2967 - val_recall: 0.5580\n",
      "Epoch 145/200\n",
      "64/64 [==============================] - 0s 1ms/step - loss: 0.3390 - recall: 0.4661 - val_loss: 0.2957 - val_recall: 0.5525\n",
      "Epoch 146/200\n",
      "64/64 [==============================] - 0s 1ms/step - loss: 0.3390 - recall: 0.4613 - val_loss: 0.2947 - val_recall: 0.5138\n",
      "Epoch 147/200\n",
      "64/64 [==============================] - 0s 1ms/step - loss: 0.3384 - recall: 0.4570 - val_loss: 0.2950 - val_recall: 0.5193\n",
      "Epoch 148/200\n",
      "64/64 [==============================] - 0s 1ms/step - loss: 0.3387 - recall: 0.4594 - val_loss: 0.2950 - val_recall: 0.5525\n",
      "Epoch 149/200\n",
      "64/64 [==============================] - 0s 1ms/step - loss: 0.3397 - recall: 0.4588 - val_loss: 0.2945 - val_recall: 0.5304\n",
      "Epoch 150/200\n",
      "64/64 [==============================] - 0s 1ms/step - loss: 0.3401 - recall: 0.4673 - val_loss: 0.2944 - val_recall: 0.5304\n",
      "Epoch 151/200\n",
      "64/64 [==============================] - 0s 1ms/step - loss: 0.3382 - recall: 0.4570 - val_loss: 0.2974 - val_recall: 0.5801\n",
      "Epoch 152/200\n",
      "64/64 [==============================] - 0s 1ms/step - loss: 0.3380 - recall: 0.4570 - val_loss: 0.2963 - val_recall: 0.5525\n",
      "Epoch 153/200\n",
      "64/64 [==============================] - 0s 1ms/step - loss: 0.3381 - recall: 0.4558 - val_loss: 0.2958 - val_recall: 0.5359\n",
      "Epoch 154/200\n",
      "64/64 [==============================] - 0s 1ms/step - loss: 0.3377 - recall: 0.4558 - val_loss: 0.2958 - val_recall: 0.5580\n",
      "Epoch 155/200\n",
      "64/64 [==============================] - 0s 1ms/step - loss: 0.3390 - recall: 0.4685 - val_loss: 0.2952 - val_recall: 0.5304\n",
      "Epoch 156/200\n",
      "64/64 [==============================] - 0s 1ms/step - loss: 0.3381 - recall: 0.4552 - val_loss: 0.2942 - val_recall: 0.5249\n",
      "Epoch 157/200\n",
      "64/64 [==============================] - 0s 1ms/step - loss: 0.3380 - recall: 0.4619 - val_loss: 0.2950 - val_recall: 0.5304\n",
      "Epoch 158/200\n",
      "64/64 [==============================] - 0s 2ms/step - loss: 0.3374 - recall: 0.4594 - val_loss: 0.2953 - val_recall: 0.4972\n",
      "Epoch 159/200\n",
      "64/64 [==============================] - 0s 2ms/step - loss: 0.3380 - recall: 0.4510 - val_loss: 0.2937 - val_recall: 0.5414\n",
      "Epoch 160/200\n",
      "64/64 [==============================] - 0s 1ms/step - loss: 0.3377 - recall: 0.4607 - val_loss: 0.2948 - val_recall: 0.5249\n",
      "Epoch 161/200\n",
      "64/64 [==============================] - 0s 1ms/step - loss: 0.3376 - recall: 0.4691 - val_loss: 0.2948 - val_recall: 0.5359\n",
      "Epoch 162/200\n",
      "64/64 [==============================] - 0s 1ms/step - loss: 0.3370 - recall: 0.4576 - val_loss: 0.2974 - val_recall: 0.5525\n",
      "Epoch 163/200\n",
      "64/64 [==============================] - 0s 1ms/step - loss: 0.3373 - recall: 0.4607 - val_loss: 0.2939 - val_recall: 0.5138\n",
      "Epoch 164/200\n",
      "64/64 [==============================] - 0s 1ms/step - loss: 0.3370 - recall: 0.4558 - val_loss: 0.2969 - val_recall: 0.5801\n",
      "Epoch 165/200\n",
      "64/64 [==============================] - 0s 2ms/step - loss: 0.3373 - recall: 0.4564 - val_loss: 0.2992 - val_recall: 0.5912\n",
      "Epoch 166/200\n",
      "64/64 [==============================] - 0s 1ms/step - loss: 0.3374 - recall: 0.4679 - val_loss: 0.2955 - val_recall: 0.5359\n",
      "Epoch 167/200\n",
      "64/64 [==============================] - 0s 1ms/step - loss: 0.3376 - recall: 0.4607 - val_loss: 0.2955 - val_recall: 0.5359\n",
      "Epoch 168/200\n",
      "64/64 [==============================] - 0s 1ms/step - loss: 0.3372 - recall: 0.4600 - val_loss: 0.2940 - val_recall: 0.5304\n",
      "Epoch 169/200\n",
      "64/64 [==============================] - 0s 1ms/step - loss: 0.3371 - recall: 0.4637 - val_loss: 0.2952 - val_recall: 0.5470\n",
      "Epoch 170/200\n",
      "64/64 [==============================] - 0s 1ms/step - loss: 0.3374 - recall: 0.4613 - val_loss: 0.2940 - val_recall: 0.5359\n",
      "Epoch 171/200\n",
      "64/64 [==============================] - 0s 1ms/step - loss: 0.3390 - recall: 0.4679 - val_loss: 0.2948 - val_recall: 0.5304\n",
      "Epoch 172/200\n",
      "64/64 [==============================] - 0s 1ms/step - loss: 0.3368 - recall: 0.4594 - val_loss: 0.2945 - val_recall: 0.5249\n",
      "Epoch 173/200\n",
      "64/64 [==============================] - 0s 964us/step - loss: 0.3377 - recall: 0.4522 - val_loss: 0.2963 - val_recall: 0.5470\n",
      "Epoch 174/200\n",
      "64/64 [==============================] - 0s 1ms/step - loss: 0.3362 - recall: 0.4607 - val_loss: 0.2963 - val_recall: 0.4917\n",
      "Epoch 174: early stopping\n"
     ]
    },
    {
     "data": {
      "text/plain": [
       "<keras.callbacks.History at 0x1dc38c58be0>"
      ]
     },
     "execution_count": 24,
     "metadata": {},
     "output_type": "execute_result"
    }
   ],
   "source": [
    "model.fit(x=X_train,\n",
    "          y=y_train,\n",
    "          validation_split=.1,\n",
    "          batch_size=128,\n",
    "          epochs=200,\n",
    "          verbose=1,\n",
    "          callbacks=[early_stop])"
   ]
  },
  {
   "cell_type": "code",
   "execution_count": 25,
   "metadata": {
    "cell_style": "center",
    "hidden": true,
    "scrolled": false
   },
   "outputs": [
    {
     "name": "stdout",
     "output_type": "stream",
     "text": [
      "Model: \"sequential\"\n",
      "_________________________________________________________________\n",
      " Layer (type)                Output Shape              Param #   \n",
      "=================================================================\n",
      " dense (Dense)               (None, 16)                192       \n",
      "                                                                 \n",
      " dense_1 (Dense)             (None, 8)                 136       \n",
      "                                                                 \n",
      " dense_2 (Dense)             (None, 1)                 9         \n",
      "                                                                 \n",
      "=================================================================\n",
      "Total params: 337\n",
      "Trainable params: 337\n",
      "Non-trainable params: 0\n",
      "_________________________________________________________________\n"
     ]
    }
   ],
   "source": [
    "model.summary()"
   ]
  },
  {
   "cell_type": "code",
   "execution_count": 26,
   "metadata": {},
   "outputs": [
    {
     "data": {
      "text/html": [
       "<div>\n",
       "<style scoped>\n",
       "    .dataframe tbody tr th:only-of-type {\n",
       "        vertical-align: middle;\n",
       "    }\n",
       "\n",
       "    .dataframe tbody tr th {\n",
       "        vertical-align: top;\n",
       "    }\n",
       "\n",
       "    .dataframe thead th {\n",
       "        text-align: right;\n",
       "    }\n",
       "</style>\n",
       "<table border=\"1\" class=\"dataframe\">\n",
       "  <thead>\n",
       "    <tr style=\"text-align: right;\">\n",
       "      <th></th>\n",
       "      <th>loss</th>\n",
       "      <th>recall</th>\n",
       "      <th>val_loss</th>\n",
       "      <th>val_recall</th>\n",
       "    </tr>\n",
       "  </thead>\n",
       "  <tbody>\n",
       "    <tr>\n",
       "      <th>0</th>\n",
       "      <td>0.535</td>\n",
       "      <td>0.000</td>\n",
       "      <td>0.493</td>\n",
       "      <td>0.000</td>\n",
       "    </tr>\n",
       "    <tr>\n",
       "      <th>1</th>\n",
       "      <td>0.496</td>\n",
       "      <td>0.000</td>\n",
       "      <td>0.480</td>\n",
       "      <td>0.000</td>\n",
       "    </tr>\n",
       "    <tr>\n",
       "      <th>2</th>\n",
       "      <td>0.486</td>\n",
       "      <td>0.000</td>\n",
       "      <td>0.471</td>\n",
       "      <td>0.000</td>\n",
       "    </tr>\n",
       "    <tr>\n",
       "      <th>3</th>\n",
       "      <td>0.479</td>\n",
       "      <td>0.000</td>\n",
       "      <td>0.460</td>\n",
       "      <td>0.006</td>\n",
       "    </tr>\n",
       "    <tr>\n",
       "      <th>4</th>\n",
       "      <td>0.471</td>\n",
       "      <td>0.030</td>\n",
       "      <td>0.449</td>\n",
       "      <td>0.088</td>\n",
       "    </tr>\n",
       "  </tbody>\n",
       "</table>\n",
       "</div>"
      ],
      "text/plain": [
       "   loss  recall  val_loss  val_recall\n",
       "0 0.535   0.000     0.493       0.000\n",
       "1 0.496   0.000     0.480       0.000\n",
       "2 0.486   0.000     0.471       0.000\n",
       "3 0.479   0.000     0.460       0.006\n",
       "4 0.471   0.030     0.449       0.088"
      ]
     },
     "execution_count": 26,
     "metadata": {},
     "output_type": "execute_result"
    }
   ],
   "source": [
    "loss_df = pd.DataFrame(model.history.history)\n",
    "loss_df.head()"
   ]
  },
  {
   "cell_type": "code",
   "execution_count": 27,
   "metadata": {
    "cell_style": "split",
    "executionInfo": {
     "elapsed": 809,
     "status": "ok",
     "timestamp": 1610205470123,
     "user": {
      "displayName": "Richard C",
      "photoUrl": "",
      "userId": "08040814671867660929"
     },
     "user_tz": -180
    },
    "hidden": true,
    "id": "vQIbjGQduQpQ"
   },
   "outputs": [
    {
     "data": {
      "text/plain": [
       "<AxesSubplot:>"
      ]
     },
     "execution_count": 27,
     "metadata": {},
     "output_type": "execute_result"
    },
    {
     "data": {
      "image/png": "[encoded data removed]",
      "text/plain": [
       "<Figure size 864x432 with 1 Axes>"
      ]
     },
     "metadata": {},
     "output_type": "display_data"
    }
   ],
   "source": [
    "loss_df.plot()"
   ]
  },
  {
   "cell_type": "code",
   "execution_count": 29,
   "metadata": {
    "cell_style": "split",
    "hidden": true,
    "scrolled": true,
    "tags": []
   },
   "outputs": [
    {
     "name": "stdout",
     "output_type": "stream",
     "text": [
      "[[774  22]\n",
      " [121  83]]\n",
      "              precision    recall  f1-score   support\n",
      "\n",
      "           0       0.86      0.97      0.92       796\n",
      "           1       0.79      0.41      0.54       204\n",
      "\n",
      "    accuracy                           0.86      1000\n",
      "   macro avg       0.83      0.69      0.73      1000\n",
      "weighted avg       0.85      0.86      0.84      1000\n",
      "\n"
     ]
    }
   ],
   "source": [
    "y_pred = (model.predict(X_test) > 0.5).astype(\"int32\")\n",
    "print(confusion_matrix(y_test, y_pred))\n",
    "print(classification_report(y_test, y_pred))\n"
   ]
  },
  {
   "cell_type": "markdown",
   "metadata": {
    "heading_collapsed": true,
    "tags": []
   },
   "source": [
    "### ROC (Receiver Operating Curve) and AUC (Area Under Curve) for model"
   ]
  },
  {
   "cell_type": "code",
   "execution_count": 30,
   "metadata": {
    "cell_style": "split",
    "hidden": true
   },
   "outputs": [
    {
     "data": {
      "image/png": "[encoded data removed]",
      "text/plain": [
       "<Figure size 864x432 with 1 Axes>"
      ]
     },
     "metadata": {},
     "output_type": "display_data"
    }
   ],
   "source": [
    "y_pred_proba = model.predict(X_test)\n",
    "precisions, recalls, thresholds = precision_recall_curve(y_test, y_pred_proba)\n",
    "plt.plot(recalls, precisions, label='ANN')\n",
    "plt.xlabel('recalls')\n",
    "plt.ylabel('precisions')\n",
    "plt.title('Precision-Recall curve')\n",
    "plt.show()\n",
    "# roc curve, sınıflandırma performansını gösterir"
   ]
  },
  {
   "cell_type": "code",
   "execution_count": 31,
   "metadata": {
    "cell_style": "split",
    "hidden": true,
    "scrolled": true
   },
   "outputs": [
    {
     "data": {
      "text/plain": [
       "0.692983743350624"
      ]
     },
     "execution_count": 31,
     "metadata": {},
     "output_type": "execute_result"
    }
   ],
   "source": [
    "average_precision_score(y_test, y_pred_proba)"
   ]
  },
  {
   "cell_type": "markdown",
   "metadata": {},
   "source": [
    "### with class_weigth"
   ]
  },
  {
   "cell_type": "code",
   "execution_count": 32,
   "metadata": {
    "cell_style": "split"
   },
   "outputs": [],
   "source": [
    "model = Sequential()\n",
    "\n",
    "tf.random.set_seed(seed)\n",
    "\n",
    "model.add(Dense(16, activation=\"relu\"))\n",
    "model.add(Dense(8, activation=\"relu\"))\n",
    "model.add(Dense(1, activation=\"sigmoid\"))\n",
    "\n",
    "opt = Adam(lr=0.001)\n",
    "model.compile(optimizer=opt, \n",
    "              loss=\"binary_crossentropy\",\n",
    "              metrics=[\"Recall\"])"
   ]
  },
  {
   "cell_type": "code",
   "execution_count": 33,
   "metadata": {},
   "outputs": [
    {
     "data": {
      "text/plain": [
       "{0: 0.6278777731268314, 1: 2.454991816693944}"
      ]
     },
     "execution_count": 33,
     "metadata": {},
     "output_type": "execute_result"
    }
   ],
   "source": [
    "from sklearn.utils import class_weight\n",
    "\n",
    "class_weights = class_weight.compute_class_weight('balanced',\n",
    "                                                  classes=np.unique(y_train),\n",
    "                                                  y=y_train)\n",
    "\n",
    "class_weights = {0: class_weights[0], 1: class_weights[1]}\n",
    "class_weights"
   ]
  },
  {
   "cell_type": "code",
   "execution_count": 34,
   "metadata": {
    "scrolled": true
   },
   "outputs": [
    {
     "name": "stdout",
     "output_type": "stream",
     "text": [
      "Epoch 1/200\n",
      "64/64 [==============================] - 1s 4ms/step - loss: 0.6879 - recall: 0.2718 - val_loss: 0.6547 - val_recall: 0.4696\n",
      "Epoch 2/200\n",
      "64/64 [==============================] - 0s 2ms/step - loss: 0.6680 - recall: 0.5097 - val_loss: 0.6417 - val_recall: 0.5856\n",
      "Epoch 3/200\n",
      "64/64 [==============================] - 0s 2ms/step - loss: 0.6479 - recall: 0.6410 - val_loss: 0.6045 - val_recall: 0.6133\n",
      "Epoch 4/200\n",
      "64/64 [==============================] - 0s 1ms/step - loss: 0.6317 - recall: 0.6628 - val_loss: 0.5740 - val_recall: 0.6188\n",
      "Epoch 5/200\n",
      "64/64 [==============================] - 0s 1ms/step - loss: 0.6224 - recall: 0.6453 - val_loss: 0.6124 - val_recall: 0.7348\n",
      "Epoch 6/200\n",
      "64/64 [==============================] - 0s 1ms/step - loss: 0.6140 - recall: 0.6786 - val_loss: 0.5600 - val_recall: 0.6575\n",
      "Epoch 7/200\n",
      "64/64 [==============================] - 0s 2ms/step - loss: 0.6080 - recall: 0.6707 - val_loss: 0.5943 - val_recall: 0.7293\n",
      "Epoch 8/200\n",
      "64/64 [==============================] - 0s 2ms/step - loss: 0.6008 - recall: 0.6840 - val_loss: 0.5791 - val_recall: 0.7238\n",
      "Epoch 9/200\n",
      "64/64 [==============================] - 0s 2ms/step - loss: 0.5932 - recall: 0.7016 - val_loss: 0.5903 - val_recall: 0.7348\n",
      "Epoch 10/200\n",
      "64/64 [==============================] - 0s 1ms/step - loss: 0.5870 - recall: 0.7094 - val_loss: 0.5659 - val_recall: 0.7238\n",
      "Epoch 11/200\n",
      "64/64 [==============================] - 0s 1ms/step - loss: 0.5828 - recall: 0.6870 - val_loss: 0.5469 - val_recall: 0.7017\n",
      "Epoch 12/200\n",
      "64/64 [==============================] - 0s 1ms/step - loss: 0.5775 - recall: 0.7100 - val_loss: 0.5678 - val_recall: 0.7459\n",
      "Epoch 13/200\n",
      "64/64 [==============================] - 0s 1ms/step - loss: 0.5733 - recall: 0.6998 - val_loss: 0.6040 - val_recall: 0.7735\n",
      "Epoch 14/200\n",
      "64/64 [==============================] - 0s 1ms/step - loss: 0.5698 - recall: 0.7125 - val_loss: 0.5308 - val_recall: 0.7238\n",
      "Epoch 15/200\n",
      "64/64 [==============================] - 0s 1ms/step - loss: 0.5645 - recall: 0.7094 - val_loss: 0.5298 - val_recall: 0.7403\n",
      "Epoch 16/200\n",
      "64/64 [==============================] - 0s 1ms/step - loss: 0.5610 - recall: 0.7022 - val_loss: 0.5361 - val_recall: 0.7514\n",
      "Epoch 17/200\n",
      "64/64 [==============================] - 0s 1ms/step - loss: 0.5549 - recall: 0.7143 - val_loss: 0.5059 - val_recall: 0.7293\n",
      "Epoch 18/200\n",
      "64/64 [==============================] - 0s 1ms/step - loss: 0.5497 - recall: 0.7107 - val_loss: 0.5092 - val_recall: 0.7403\n",
      "Epoch 19/200\n",
      "64/64 [==============================] - 0s 1ms/step - loss: 0.5446 - recall: 0.7173 - val_loss: 0.5284 - val_recall: 0.7901\n",
      "Epoch 20/200\n",
      "64/64 [==============================] - 0s 1ms/step - loss: 0.5393 - recall: 0.7258 - val_loss: 0.5072 - val_recall: 0.7735\n",
      "Epoch 21/200\n",
      "64/64 [==============================] - 0s 1ms/step - loss: 0.5335 - recall: 0.7197 - val_loss: 0.5326 - val_recall: 0.8122\n",
      "Epoch 22/200\n",
      "64/64 [==============================] - 0s 1ms/step - loss: 0.5290 - recall: 0.7300 - val_loss: 0.4790 - val_recall: 0.7735\n",
      "Epoch 23/200\n",
      "64/64 [==============================] - 0s 1ms/step - loss: 0.5251 - recall: 0.7294 - val_loss: 0.5002 - val_recall: 0.7956\n",
      "Epoch 24/200\n",
      "64/64 [==============================] - 0s 2ms/step - loss: 0.5206 - recall: 0.7288 - val_loss: 0.4891 - val_recall: 0.7901\n",
      "Epoch 25/200\n",
      "64/64 [==============================] - 0s 1ms/step - loss: 0.5154 - recall: 0.7439 - val_loss: 0.5002 - val_recall: 0.7956\n",
      "Epoch 26/200\n",
      "64/64 [==============================] - 0s 2ms/step - loss: 0.5130 - recall: 0.7458 - val_loss: 0.4471 - val_recall: 0.7901\n",
      "Epoch 27/200\n",
      "64/64 [==============================] - 0s 2ms/step - loss: 0.5088 - recall: 0.7518 - val_loss: 0.4884 - val_recall: 0.8011\n",
      "Epoch 28/200\n",
      "64/64 [==============================] - 0s 1ms/step - loss: 0.5072 - recall: 0.7500 - val_loss: 0.4921 - val_recall: 0.8122\n",
      "Epoch 29/200\n",
      "64/64 [==============================] - 0s 1ms/step - loss: 0.5034 - recall: 0.7482 - val_loss: 0.4834 - val_recall: 0.8066\n",
      "Epoch 30/200\n",
      "64/64 [==============================] - 0s 2ms/step - loss: 0.5015 - recall: 0.7603 - val_loss: 0.5237 - val_recall: 0.8453\n",
      "Epoch 31/200\n",
      "64/64 [==============================] - 0s 2ms/step - loss: 0.5001 - recall: 0.7609 - val_loss: 0.4875 - val_recall: 0.8122\n",
      "Epoch 32/200\n",
      "64/64 [==============================] - 0s 1ms/step - loss: 0.4973 - recall: 0.7561 - val_loss: 0.4447 - val_recall: 0.7956\n",
      "Epoch 33/200\n",
      "64/64 [==============================] - 0s 1ms/step - loss: 0.4950 - recall: 0.7645 - val_loss: 0.4503 - val_recall: 0.7956\n",
      "Epoch 34/200\n",
      "64/64 [==============================] - 0s 1ms/step - loss: 0.4939 - recall: 0.7512 - val_loss: 0.4582 - val_recall: 0.8066\n",
      "Epoch 35/200\n",
      "64/64 [==============================] - 0s 1ms/step - loss: 0.4932 - recall: 0.7615 - val_loss: 0.4906 - val_recall: 0.8398\n",
      "Epoch 36/200\n",
      "64/64 [==============================] - 0s 1ms/step - loss: 0.4913 - recall: 0.7567 - val_loss: 0.4339 - val_recall: 0.8011\n",
      "Epoch 37/200\n",
      "64/64 [==============================] - 0s 1ms/step - loss: 0.4925 - recall: 0.7494 - val_loss: 0.4362 - val_recall: 0.8011\n",
      "Epoch 38/200\n",
      "64/64 [==============================] - 0s 2ms/step - loss: 0.4897 - recall: 0.7609 - val_loss: 0.4492 - val_recall: 0.8122\n",
      "Epoch 39/200\n",
      "64/64 [==============================] - 0s 1ms/step - loss: 0.4881 - recall: 0.7615 - val_loss: 0.4376 - val_recall: 0.8066\n",
      "Epoch 40/200\n",
      "64/64 [==============================] - 0s 1ms/step - loss: 0.4878 - recall: 0.7615 - val_loss: 0.4384 - val_recall: 0.8122\n",
      "Epoch 41/200\n",
      "64/64 [==============================] - 0s 1ms/step - loss: 0.4866 - recall: 0.7494 - val_loss: 0.4621 - val_recall: 0.8343\n",
      "Epoch 42/200\n",
      "64/64 [==============================] - 0s 1ms/step - loss: 0.4872 - recall: 0.7633 - val_loss: 0.4149 - val_recall: 0.8011\n",
      "Epoch 43/200\n",
      "64/64 [==============================] - 0s 1ms/step - loss: 0.4854 - recall: 0.7530 - val_loss: 0.4425 - val_recall: 0.8122\n",
      "Epoch 44/200\n",
      "64/64 [==============================] - 0s 1ms/step - loss: 0.4853 - recall: 0.7639 - val_loss: 0.4380 - val_recall: 0.8122\n",
      "Epoch 45/200\n",
      "64/64 [==============================] - 0s 2ms/step - loss: 0.4839 - recall: 0.7609 - val_loss: 0.4529 - val_recall: 0.8232\n",
      "Epoch 46/200\n",
      "64/64 [==============================] - 0s 1ms/step - loss: 0.4833 - recall: 0.7585 - val_loss: 0.4357 - val_recall: 0.8122\n",
      "Epoch 47/200\n",
      "64/64 [==============================] - 0s 1ms/step - loss: 0.4829 - recall: 0.7633 - val_loss: 0.4423 - val_recall: 0.8232\n",
      "Epoch 48/200\n",
      "64/64 [==============================] - 0s 1ms/step - loss: 0.4827 - recall: 0.7682 - val_loss: 0.4461 - val_recall: 0.8343\n",
      "Epoch 49/200\n",
      "64/64 [==============================] - 0s 1ms/step - loss: 0.4818 - recall: 0.7645 - val_loss: 0.4166 - val_recall: 0.8066\n",
      "Epoch 50/200\n",
      "64/64 [==============================] - 0s 1ms/step - loss: 0.4819 - recall: 0.7597 - val_loss: 0.4372 - val_recall: 0.8177\n",
      "Epoch 51/200\n",
      "64/64 [==============================] - 0s 2ms/step - loss: 0.4806 - recall: 0.7615 - val_loss: 0.4387 - val_recall: 0.8177\n",
      "Epoch 52/200\n",
      "64/64 [==============================] - 0s 1ms/step - loss: 0.4806 - recall: 0.7536 - val_loss: 0.4886 - val_recall: 0.8619\n",
      "Epoch 53/200\n",
      "64/64 [==============================] - 0s 1ms/step - loss: 0.4809 - recall: 0.7651 - val_loss: 0.4028 - val_recall: 0.7956\n",
      "Epoch 54/200\n",
      "64/64 [==============================] - 0s 1ms/step - loss: 0.4816 - recall: 0.7609 - val_loss: 0.4010 - val_recall: 0.7901\n",
      "Epoch 55/200\n",
      "64/64 [==============================] - 0s 1ms/step - loss: 0.4797 - recall: 0.7621 - val_loss: 0.4267 - val_recall: 0.8177\n",
      "Epoch 56/200\n",
      "64/64 [==============================] - 0s 1ms/step - loss: 0.4790 - recall: 0.7706 - val_loss: 0.4730 - val_recall: 0.8564\n",
      "Epoch 57/200\n",
      "64/64 [==============================] - 0s 1ms/step - loss: 0.4787 - recall: 0.7615 - val_loss: 0.4666 - val_recall: 0.8508\n",
      "Epoch 58/200\n",
      "64/64 [==============================] - 0s 1ms/step - loss: 0.4777 - recall: 0.7585 - val_loss: 0.4302 - val_recall: 0.8177\n",
      "Epoch 59/200\n",
      "64/64 [==============================] - 0s 1ms/step - loss: 0.4784 - recall: 0.7591 - val_loss: 0.4591 - val_recall: 0.8453\n",
      "Epoch 60/200\n",
      "64/64 [==============================] - 0s 2ms/step - loss: 0.4771 - recall: 0.7591 - val_loss: 0.4308 - val_recall: 0.8232\n",
      "Epoch 61/200\n",
      "64/64 [==============================] - 0s 1ms/step - loss: 0.4783 - recall: 0.7706 - val_loss: 0.4173 - val_recall: 0.8122\n",
      "Epoch 62/200\n",
      "64/64 [==============================] - 0s 1ms/step - loss: 0.4760 - recall: 0.7627 - val_loss: 0.4916 - val_recall: 0.8729\n",
      "Epoch 63/200\n",
      "64/64 [==============================] - 0s 1ms/step - loss: 0.4758 - recall: 0.7597 - val_loss: 0.4398 - val_recall: 0.8287\n",
      "Epoch 64/200\n",
      "64/64 [==============================] - 0s 1ms/step - loss: 0.4761 - recall: 0.7579 - val_loss: 0.4551 - val_recall: 0.8508\n",
      "Epoch 65/200\n",
      "64/64 [==============================] - 0s 1ms/step - loss: 0.4748 - recall: 0.7718 - val_loss: 0.4073 - val_recall: 0.8066\n",
      "Epoch 66/200\n",
      "64/64 [==============================] - 0s 1ms/step - loss: 0.4765 - recall: 0.7573 - val_loss: 0.4689 - val_recall: 0.8508\n",
      "Epoch 67/200\n",
      "64/64 [==============================] - 0s 1ms/step - loss: 0.4760 - recall: 0.7718 - val_loss: 0.4069 - val_recall: 0.8122\n",
      "Epoch 68/200\n",
      "64/64 [==============================] - 0s 1ms/step - loss: 0.4743 - recall: 0.7621 - val_loss: 0.4413 - val_recall: 0.8343\n",
      "Epoch 69/200\n",
      "64/64 [==============================] - 0s 1ms/step - loss: 0.4750 - recall: 0.7639 - val_loss: 0.4621 - val_recall: 0.8619\n",
      "Epoch 69: early stopping\n"
     ]
    },
    {
     "data": {
      "text/plain": [
       "<keras.callbacks.History at 0x1dc3693a5b0>"
      ]
     },
     "execution_count": 34,
     "metadata": {},
     "output_type": "execute_result"
    }
   ],
   "source": [
    "model.fit(x=X_train,\n",
    "          y=y_train,\n",
    "          validation_split=.1,\n",
    "          batch_size=128,\n",
    "          epochs=200,\n",
    "          verbose=1,\n",
    "          callbacks=[early_stop],\n",
    "          class_weight=class_weights)"
   ]
  },
  {
   "cell_type": "code",
   "execution_count": 35,
   "metadata": {
    "cell_style": "split",
    "executionInfo": {
     "elapsed": 809,
     "status": "ok",
     "timestamp": 1610205470123,
     "user": {
      "displayName": "Richard C",
      "photoUrl": "",
      "userId": "08040814671867660929"
     },
     "user_tz": -180
    },
    "id": "vQIbjGQduQpQ",
    "scrolled": false
   },
   "outputs": [
    {
     "data": {
      "text/plain": [
       "<AxesSubplot:>"
      ]
     },
     "execution_count": 35,
     "metadata": {},
     "output_type": "execute_result"
    },
    {
     "data": {
      "image/png": "[encoded data removed]",
      "text/plain": [
       "<Figure size 864x432 with 1 Axes>"
      ]
     },
     "metadata": {},
     "output_type": "display_data"
    }
   ],
   "source": [
    "loss_df = pd.DataFrame(model.history.history)\n",
    "loss_df.plot()"
   ]
  },
  {
   "cell_type": "code",
   "execution_count": 36,
   "metadata": {
    "cell_style": "split"
   },
   "outputs": [
    {
     "name": "stdout",
     "output_type": "stream",
     "text": [
      "[[581 215]\n",
      " [ 44 160]]\n",
      "              precision    recall  f1-score   support\n",
      "\n",
      "           0       0.93      0.73      0.82       796\n",
      "           1       0.43      0.78      0.55       204\n",
      "\n",
      "    accuracy                           0.74      1000\n",
      "   macro avg       0.68      0.76      0.69      1000\n",
      "weighted avg       0.83      0.74      0.76      1000\n",
      "\n"
     ]
    }
   ],
   "source": [
    "y_pred = (model.predict(X_test) > 0.5).astype(\"int32\")\n",
    "print(confusion_matrix(y_test, y_pred))\n",
    "print(classification_report(y_test, y_pred))\n",
    "\n",
    "\n",
    "#      precision    recall  f1-score   support\n",
    "\n",
    "#  0       0.86      0.97      0.92       796\n",
    "#  1       0.79      0.41      0.54       204\n"
   ]
  },
  {
   "cell_type": "markdown",
   "metadata": {},
   "source": [
    "### ROC (Receiver Operating Curve) and AUC (Area Under Curve) for model"
   ]
  },
  {
   "cell_type": "code",
   "execution_count": 37,
   "metadata": {
    "cell_style": "split",
    "scrolled": false
   },
   "outputs": [
    {
     "data": {
      "image/png": "[encoded data removed]",
      "text/plain": [
       "<Figure size 864x432 with 1 Axes>"
      ]
     },
     "metadata": {},
     "output_type": "display_data"
    }
   ],
   "source": [
    "y_pred_proba = model.predict(X_test)\n",
    "precisions, recalls, thresholds = precision_recall_curve(y_test, y_pred_proba)\n",
    "plt.plot(recalls, precisions, label='ANN')\n",
    "plt.xlabel('recalls')\n",
    "plt.ylabel('precisions')\n",
    "plt.title('Precision-Recall curve')\n",
    "plt.show()\n",
    "# roc curve, sınıflandırma performansını gösterir"
   ]
  },
  {
   "cell_type": "code",
   "execution_count": 38,
   "metadata": {
    "cell_style": "split"
   },
   "outputs": [
    {
     "data": {
      "text/plain": [
       "0.6698036467091615"
      ]
     },
     "execution_count": 38,
     "metadata": {},
     "output_type": "execute_result"
    }
   ],
   "source": [
    "average_precision_score(y_test, y_pred_proba)   #0.692983743350624"
   ]
  },
  {
   "cell_type": "markdown",
   "metadata": {},
   "source": [
    "## GridSearchCV"
   ]
  },
  {
   "cell_type": "code",
   "execution_count": 63,
   "metadata": {},
   "outputs": [],
   "source": [
    "from tensorflow.keras.wrappers.scikit_learn import KerasClassifier\n",
    "from tensorflow.keras.optimizers import Adadelta, RMSprop, Nadam, Adam, SGD"
   ]
  },
  {
   "cell_type": "code",
   "execution_count": 64,
   "metadata": {},
   "outputs": [],
   "source": [
    "def build_classifier(optimizer,learn_rate):\n",
    "    classifier = Sequential()\n",
    "    classifier.add(Dense(units=16, activation='relu'))\n",
    "    classifier.add(Dense(units=8, activation='relu'))\n",
    "    classifier.add(Dense(units=1, activation='sigmoid'))\n",
    "    classifier.compile(optimizer=optimizer(learn_rate),\n",
    "                       loss='binary_crossentropy',\n",
    "                       metrics=['Recall'])\n",
    "    return classifier"
   ]
  },
  {
   "cell_type": "code",
   "execution_count": 65,
   "metadata": {},
   "outputs": [
    {
     "data": {
      "text/plain": [
       "{0: 0.6278777731268314, 1: 2.454991816693944}"
      ]
     },
     "execution_count": 65,
     "metadata": {},
     "output_type": "execute_result"
    }
   ],
   "source": [
    "class_weights"
   ]
  },
  {
   "cell_type": "code",
   "execution_count": 66,
   "metadata": {
    "scrolled": true
   },
   "outputs": [
    {
     "name": "stdout",
     "output_type": "stream",
     "text": [
      "Epoch 1/200\n",
      "36/36 [==============================] - 1s 1ms/step - loss: 0.6787 - recall: 0.4441 \n",
      "Epoch 2/200\n",
      "36/36 [==============================] - 0s 797us/step - loss: 0.6434 - recall: 0.6077\n",
      "Epoch 3/200\n",
      "36/36 [==============================] - 0s 993us/step - loss: 0.6198 - recall: 0.6558\n",
      "Epoch 4/200\n",
      "36/36 [==============================] - 0s 853us/step - loss: 0.6054 - recall: 0.6781\n",
      "Epoch 5/200\n",
      "36/36 [==============================] - 0s 964us/step - loss: 0.5925 - recall: 0.7130\n",
      "Epoch 6/200\n",
      "36/36 [==============================] - 0s 996us/step - loss: 0.5813 - recall: 0.6934\n",
      "Epoch 7/200\n",
      "36/36 [==============================] - 0s 1ms/step - loss: 0.5740 - recall: 0.7081\n",
      "Epoch 8/200\n",
      "36/36 [==============================] - 0s 886us/step - loss: 0.5637 - recall: 0.7092\n",
      "Epoch 9/200\n",
      "36/36 [==============================] - 0s 914us/step - loss: 0.5552 - recall: 0.7109\n",
      "Epoch 10/200\n",
      "36/36 [==============================] - 0s 916us/step - loss: 0.5461 - recall: 0.7196\n",
      "Epoch 11/200\n",
      "36/36 [==============================] - 0s 1ms/step - loss: 0.5377 - recall: 0.7185\n",
      "Epoch 12/200\n",
      "36/36 [==============================] - 0s 724us/step - loss: 0.5299 - recall: 0.7283\n",
      "Epoch 13/200\n",
      "36/36 [==============================] - 0s 1ms/step - loss: 0.5206 - recall: 0.7425\n",
      "Epoch 14/200\n",
      "36/36 [==============================] - 0s 857us/step - loss: 0.5112 - recall: 0.7458\n",
      "Epoch 15/200\n",
      "36/36 [==============================] - 0s 1ms/step - loss: 0.5050 - recall: 0.7534\n",
      "Epoch 16/200\n",
      "36/36 [==============================] - 0s 916us/step - loss: 0.4991 - recall: 0.7507\n",
      "Epoch 17/200\n",
      "36/36 [==============================] - 0s 758us/step - loss: 0.4973 - recall: 0.7589\n",
      "Epoch 18/200\n",
      "36/36 [==============================] - 0s 601us/step - loss: 0.4906 - recall: 0.7540\n",
      "Epoch 19/200\n",
      "36/36 [==============================] - 0s 800us/step - loss: 0.4871 - recall: 0.7594\n",
      "Epoch 20/200\n",
      "36/36 [==============================] - 0s 1ms/step - loss: 0.4856 - recall: 0.7638\n",
      "Epoch 21/200\n",
      "36/36 [==============================] - 0s 660us/step - loss: 0.4826 - recall: 0.7687\n",
      "Epoch 22/200\n",
      "36/36 [==============================] - 0s 771us/step - loss: 0.4817 - recall: 0.7681\n",
      "Epoch 23/200\n",
      "36/36 [==============================] - 0s 1ms/step - loss: 0.4794 - recall: 0.7638\n",
      "Epoch 24/200\n",
      "36/36 [==============================] - 0s 1ms/step - loss: 0.4810 - recall: 0.7518\n",
      "Epoch 25/200\n",
      "36/36 [==============================] - 0s 971us/step - loss: 0.4776 - recall: 0.7605\n",
      "Epoch 26/200\n",
      "36/36 [==============================] - 0s 1ms/step - loss: 0.4757 - recall: 0.7610\n",
      "Epoch 27/200\n",
      "36/36 [==============================] - 0s 1ms/step - loss: 0.4778 - recall: 0.7621\n",
      "Epoch 28/200\n",
      "36/36 [==============================] - 0s 914us/step - loss: 0.4780 - recall: 0.7660\n",
      "Epoch 29/200\n",
      "36/36 [==============================] - 0s 915us/step - loss: 0.4755 - recall: 0.7550\n",
      "Epoch 30/200\n",
      "36/36 [==============================] - 0s 1ms/step - loss: 0.4736 - recall: 0.7660\n",
      "Epoch 31/200\n",
      "36/36 [==============================] - 0s 1ms/step - loss: 0.4738 - recall: 0.7714\n",
      "Epoch 32/200\n",
      "36/36 [==============================] - 0s 1ms/step - loss: 0.4743 - recall: 0.7730\n",
      "Epoch 33/200\n",
      "36/36 [==============================] - 0s 1ms/step - loss: 0.4765 - recall: 0.7594\n",
      "Epoch 34/200\n",
      "36/36 [==============================] - 0s 1ms/step - loss: 0.4742 - recall: 0.7681\n",
      "Epoch 35/200\n",
      "36/36 [==============================] - 0s 1ms/step - loss: 0.4694 - recall: 0.7660\n",
      "Epoch 36/200\n",
      "36/36 [==============================] - 0s 1ms/step - loss: 0.4715 - recall: 0.7654\n",
      "Epoch 37/200\n",
      "36/36 [==============================] - 0s 790us/step - loss: 0.4676 - recall: 0.7692\n",
      "Epoch 38/200\n",
      "36/36 [==============================] - 0s 1ms/step - loss: 0.4677 - recall: 0.7791\n",
      "Epoch 39/200\n",
      "36/36 [==============================] - 0s 1ms/step - loss: 0.4656 - recall: 0.7709\n",
      "Epoch 40/200\n",
      "36/36 [==============================] - 0s 846us/step - loss: 0.4687 - recall: 0.7545\n",
      "Epoch 41/200\n",
      "36/36 [==============================] - 0s 1ms/step - loss: 0.4644 - recall: 0.7714\n",
      "Epoch 42/200\n",
      "36/36 [==============================] - 0s 1ms/step - loss: 0.4636 - recall: 0.7709\n",
      "Epoch 43/200\n",
      "36/36 [==============================] - 0s 1ms/step - loss: 0.4647 - recall: 0.7649\n",
      "Epoch 44/200\n",
      "36/36 [==============================] - 0s 1ms/step - loss: 0.4646 - recall: 0.7703\n",
      "Epoch 45/200\n",
      "36/36 [==============================] - 0s 1ms/step - loss: 0.4635 - recall: 0.7670\n",
      "Epoch 46/200\n",
      "36/36 [==============================] - 0s 1ms/step - loss: 0.4672 - recall: 0.7769\n",
      "Epoch 47/200\n",
      "36/36 [==============================] - 0s 1ms/step - loss: 0.4639 - recall: 0.7730\n",
      "Epoch 48/200\n",
      "36/36 [==============================] - 0s 1ms/step - loss: 0.4641 - recall: 0.7665\n",
      "Epoch 49/200\n",
      "36/36 [==============================] - 0s 974us/step - loss: 0.4623 - recall: 0.7670\n",
      "Epoch 50/200\n",
      "36/36 [==============================] - 0s 964us/step - loss: 0.4598 - recall: 0.7670\n",
      "Epoch 51/200\n",
      "36/36 [==============================] - 0s 776us/step - loss: 0.4589 - recall: 0.7703\n",
      "Epoch 52/200\n",
      "36/36 [==============================] - 0s 1ms/step - loss: 0.4600 - recall: 0.7687\n",
      "Epoch 53/200\n",
      "36/36 [==============================] - 0s 1ms/step - loss: 0.4597 - recall: 0.7698\n",
      "Epoch 54/200\n",
      "36/36 [==============================] - 0s 1ms/step - loss: 0.4621 - recall: 0.7681\n",
      "Epoch 55/200\n",
      "36/36 [==============================] - 0s 1ms/step - loss: 0.4602 - recall: 0.7791\n",
      "Epoch 56/200\n",
      "36/36 [==============================] - 0s 1ms/step - loss: 0.4601 - recall: 0.7758\n",
      "Epoch 57/200\n",
      "36/36 [==============================] - 0s 717us/step - loss: 0.4589 - recall: 0.7720\n",
      "Epoch 58/200\n",
      "36/36 [==============================] - 0s 1ms/step - loss: 0.4584 - recall: 0.7670\n",
      "Epoch 59/200\n",
      "36/36 [==============================] - 0s 1ms/step - loss: 0.4597 - recall: 0.7692\n",
      "Epoch 60/200\n",
      "36/36 [==============================] - 0s 1ms/step - loss: 0.4644 - recall: 0.7714\n",
      "Epoch 61/200\n",
      "36/36 [==============================] - 0s 1ms/step - loss: 0.4618 - recall: 0.7752\n",
      "Epoch 62/200\n",
      "36/36 [==============================] - 0s 1ms/step - loss: 0.4572 - recall: 0.7703\n",
      "Epoch 63/200\n",
      "36/36 [==============================] - 0s 1ms/step - loss: 0.4575 - recall: 0.7730\n",
      "Epoch 64/200\n",
      "36/36 [==============================] - 0s 1ms/step - loss: 0.4566 - recall: 0.7730\n",
      "Epoch 65/200\n",
      "36/36 [==============================] - 0s 1ms/step - loss: 0.4574 - recall: 0.7709\n",
      "Epoch 66/200\n",
      "36/36 [==============================] - 0s 1ms/step - loss: 0.4598 - recall: 0.7730\n",
      "Epoch 67/200\n",
      "36/36 [==============================] - 0s 1ms/step - loss: 0.4542 - recall: 0.7660\n",
      "Epoch 68/200\n",
      "36/36 [==============================] - 0s 1ms/step - loss: 0.4578 - recall: 0.7714\n",
      "Epoch 69/200\n",
      "36/36 [==============================] - 0s 917us/step - loss: 0.4559 - recall: 0.7687\n",
      "Epoch 70/200\n",
      "36/36 [==============================] - 0s 1ms/step - loss: 0.4536 - recall: 0.7725\n",
      "Epoch 71/200\n",
      "36/36 [==============================] - 0s 1ms/step - loss: 0.4600 - recall: 0.7605\n",
      "Epoch 72/200\n",
      "36/36 [==============================] - 0s 1ms/step - loss: 0.4542 - recall: 0.7676\n",
      "Epoch 73/200\n",
      "36/36 [==============================] - 0s 1ms/step - loss: 0.4548 - recall: 0.7665\n",
      "Epoch 74/200\n",
      "36/36 [==============================] - 0s 963us/step - loss: 0.4561 - recall: 0.7752\n",
      "Epoch 75/200\n",
      "36/36 [==============================] - 0s 1ms/step - loss: 0.4550 - recall: 0.7632\n",
      "Epoch 76/200\n",
      "36/36 [==============================] - 0s 1ms/step - loss: 0.4593 - recall: 0.7632\n",
      "Epoch 77/200\n",
      "36/36 [==============================] - 0s 914us/step - loss: 0.4550 - recall: 0.7660\n",
      "Epoch 78/200\n",
      "36/36 [==============================] - 0s 1ms/step - loss: 0.4526 - recall: 0.7649\n",
      "Epoch 79/200\n",
      "36/36 [==============================] - 0s 1ms/step - loss: 0.4533 - recall: 0.7692\n",
      "Epoch 80/200\n",
      "36/36 [==============================] - 0s 1ms/step - loss: 0.4541 - recall: 0.7714\n",
      "Epoch 81/200\n",
      "36/36 [==============================] - 0s 1ms/step - loss: 0.4546 - recall: 0.7714\n",
      "Epoch 82/200\n",
      "36/36 [==============================] - 0s 1ms/step - loss: 0.4538 - recall: 0.7698\n",
      "Epoch 83/200\n",
      "36/36 [==============================] - 0s 1ms/step - loss: 0.4523 - recall: 0.7725\n",
      "Epoch 84/200\n"
     ]
    },
    {
     "name": "stdout",
     "output_type": "stream",
     "text": [
      "36/36 [==============================] - 0s 1ms/step - loss: 0.4537 - recall: 0.7720\n",
      "Epoch 85/200\n",
      "36/36 [==============================] - 0s 1ms/step - loss: 0.4549 - recall: 0.7681\n",
      "Epoch 86/200\n",
      "36/36 [==============================] - 0s 1ms/step - loss: 0.4529 - recall: 0.7840\n",
      "Epoch 87/200\n",
      "36/36 [==============================] - 0s 767us/step - loss: 0.4535 - recall: 0.7780\n",
      "Epoch 88/200\n",
      "36/36 [==============================] - 0s 774us/step - loss: 0.4567 - recall: 0.7589\n",
      "Epoch 89/200\n",
      "36/36 [==============================] - 0s 716us/step - loss: 0.4545 - recall: 0.7709\n",
      "Epoch 90/200\n",
      "36/36 [==============================] - 0s 943us/step - loss: 0.4564 - recall: 0.7681\n",
      "Epoch 91/200\n",
      "36/36 [==============================] - 0s 945us/step - loss: 0.4510 - recall: 0.7714\n",
      "Epoch 92/200\n",
      "36/36 [==============================] - 0s 1ms/step - loss: 0.4532 - recall: 0.7807\n",
      "Epoch 93/200\n",
      "36/36 [==============================] - 0s 914us/step - loss: 0.4548 - recall: 0.7698\n",
      "Epoch 94/200\n",
      "36/36 [==============================] - 0s 773us/step - loss: 0.4510 - recall: 0.7807\n",
      "Epoch 95/200\n",
      "36/36 [==============================] - 0s 725us/step - loss: 0.4530 - recall: 0.7796\n",
      "Epoch 96/200\n",
      "36/36 [==============================] - 0s 773us/step - loss: 0.4560 - recall: 0.7692\n",
      "Epoch 97/200\n",
      "36/36 [==============================] - 0s 828us/step - loss: 0.4510 - recall: 0.7703\n",
      "Epoch 98/200\n",
      "36/36 [==============================] - 0s 916us/step - loss: 0.4534 - recall: 0.7730\n",
      "Epoch 99/200\n",
      "36/36 [==============================] - 0s 1ms/step - loss: 0.4519 - recall: 0.7730\n",
      "Epoch 100/200\n",
      "36/36 [==============================] - 0s 831us/step - loss: 0.4511 - recall: 0.7774\n",
      "Epoch 101/200\n",
      "36/36 [==============================] - 0s 1ms/step - loss: 0.4535 - recall: 0.7741\n",
      "Epoch 102/200\n",
      "36/36 [==============================] - 0s 798us/step - loss: 0.4538 - recall: 0.7801\n",
      "Epoch 103/200\n",
      "36/36 [==============================] - 0s 1ms/step - loss: 0.4527 - recall: 0.7605\n",
      "Epoch 104/200\n",
      "36/36 [==============================] - 0s 933us/step - loss: 0.4514 - recall: 0.7818\n",
      "Epoch 105/200\n",
      "36/36 [==============================] - 0s 771us/step - loss: 0.4540 - recall: 0.7752\n",
      "Epoch 106/200\n",
      "36/36 [==============================] - 0s 1ms/step - loss: 0.4510 - recall: 0.7769\n",
      "Epoch 107/200\n",
      "36/36 [==============================] - 0s 719us/step - loss: 0.4505 - recall: 0.7720\n",
      "Epoch 108/200\n",
      "36/36 [==============================] - 0s 886us/step - loss: 0.4520 - recall: 0.7747\n",
      "Epoch 109/200\n",
      "36/36 [==============================] - 0s 850us/step - loss: 0.4509 - recall: 0.7769\n",
      "Epoch 110/200\n",
      "36/36 [==============================] - 0s 2ms/step - loss: 0.4533 - recall: 0.7714\n",
      "Epoch 111/200\n",
      "36/36 [==============================] - 0s 1ms/step - loss: 0.4511 - recall: 0.7687\n",
      "Epoch 112/200\n",
      "36/36 [==============================] - 0s 1ms/step - loss: 0.4496 - recall: 0.7807\n",
      "Epoch 113/200\n",
      "36/36 [==============================] - 0s 818us/step - loss: 0.4497 - recall: 0.7747\n",
      "Epoch 114/200\n",
      "36/36 [==============================] - 0s 1ms/step - loss: 0.4514 - recall: 0.7741\n",
      "Epoch 115/200\n",
      "36/36 [==============================] - 0s 791us/step - loss: 0.4504 - recall: 0.7698\n",
      "Epoch 116/200\n",
      "36/36 [==============================] - 0s 1ms/step - loss: 0.4514 - recall: 0.7720\n",
      "Epoch 117/200\n",
      "36/36 [==============================] - 0s 849us/step - loss: 0.4526 - recall: 0.7681\n",
      "Epoch 118/200\n",
      "36/36 [==============================] - 0s 1ms/step - loss: 0.4501 - recall: 0.7823\n",
      "Epoch 119/200\n",
      "36/36 [==============================] - 0s 889us/step - loss: 0.4512 - recall: 0.7687\n",
      "Epoch 120/200\n",
      "36/36 [==============================] - 0s 901us/step - loss: 0.4489 - recall: 0.7780\n",
      "Epoch 121/200\n",
      "36/36 [==============================] - 0s 908us/step - loss: 0.4500 - recall: 0.7763\n",
      "Epoch 122/200\n",
      "36/36 [==============================] - 0s 971us/step - loss: 0.4523 - recall: 0.7769\n",
      "Epoch 123/200\n",
      "36/36 [==============================] - 0s 961us/step - loss: 0.4509 - recall: 0.7785\n",
      "Epoch 124/200\n",
      "36/36 [==============================] - 0s 765us/step - loss: 0.4500 - recall: 0.7758\n",
      "Epoch 125/200\n",
      "36/36 [==============================] - 0s 767us/step - loss: 0.4493 - recall: 0.7829\n",
      "Epoch 126/200\n",
      "36/36 [==============================] - 0s 749us/step - loss: 0.4513 - recall: 0.7752\n",
      "Epoch 127/200\n",
      "36/36 [==============================] - 0s 945us/step - loss: 0.4514 - recall: 0.7763\n",
      "Epoch 128/200\n",
      "36/36 [==============================] - 0s 1ms/step - loss: 0.4491 - recall: 0.7692\n",
      "Epoch 129/200\n",
      "36/36 [==============================] - 0s 792us/step - loss: 0.4506 - recall: 0.7763\n",
      "Epoch 130/200\n",
      "36/36 [==============================] - 0s 1ms/step - loss: 0.4489 - recall: 0.7812\n",
      "Epoch 131/200\n",
      "36/36 [==============================] - 0s 866us/step - loss: 0.4495 - recall: 0.7730\n",
      "Epoch 132/200\n",
      "36/36 [==============================] - 0s 934us/step - loss: 0.4488 - recall: 0.7747\n",
      "Epoch 133/200\n",
      "36/36 [==============================] - 0s 779us/step - loss: 0.4498 - recall: 0.7796\n",
      "Epoch 134/200\n",
      "36/36 [==============================] - 0s 833us/step - loss: 0.4490 - recall: 0.7823\n",
      "Epoch 135/200\n",
      "36/36 [==============================] - 0s 1ms/step - loss: 0.4482 - recall: 0.7818\n",
      "Epoch 136/200\n",
      "36/36 [==============================] - 0s 1ms/step - loss: 0.4468 - recall: 0.7861\n",
      "Epoch 137/200\n",
      "36/36 [==============================] - 0s 1ms/step - loss: 0.4484 - recall: 0.7758\n",
      "Epoch 138/200\n",
      "36/36 [==============================] - 0s 945us/step - loss: 0.4472 - recall: 0.7851\n",
      "Epoch 139/200\n",
      "36/36 [==============================] - 0s 778us/step - loss: 0.4476 - recall: 0.7769\n",
      "Epoch 140/200\n",
      "36/36 [==============================] - 0s 857us/step - loss: 0.4495 - recall: 0.7791\n",
      "Epoch 141/200\n",
      "36/36 [==============================] - 0s 749us/step - loss: 0.4476 - recall: 0.7692\n",
      "Epoch 142/200\n",
      "36/36 [==============================] - 0s 1ms/step - loss: 0.4489 - recall: 0.7801\n",
      "Epoch 143/200\n",
      "36/36 [==============================] - 0s 1ms/step - loss: 0.4519 - recall: 0.7670\n",
      "Epoch 144/200\n",
      "36/36 [==============================] - 0s 822us/step - loss: 0.4512 - recall: 0.7736\n",
      "Epoch 145/200\n",
      "36/36 [==============================] - 0s 915us/step - loss: 0.4491 - recall: 0.7763\n",
      "Epoch 146/200\n",
      "36/36 [==============================] - 0s 802us/step - loss: 0.4483 - recall: 0.7829\n",
      "Epoch 147/200\n",
      "36/36 [==============================] - 0s 852us/step - loss: 0.4484 - recall: 0.7840\n",
      "Epoch 148/200\n",
      "36/36 [==============================] - 0s 988us/step - loss: 0.4482 - recall: 0.7714\n",
      "Epoch 149/200\n",
      "36/36 [==============================] - 0s 937us/step - loss: 0.4470 - recall: 0.7818\n",
      "Epoch 150/200\n",
      "36/36 [==============================] - 0s 943us/step - loss: 0.4466 - recall: 0.7780\n",
      "Epoch 151/200\n",
      "36/36 [==============================] - 0s 783us/step - loss: 0.4477 - recall: 0.7796\n",
      "Epoch 152/200\n",
      "36/36 [==============================] - 0s 862us/step - loss: 0.4489 - recall: 0.7752\n",
      "Epoch 153/200\n",
      "36/36 [==============================] - 0s 1ms/step - loss: 0.4490 - recall: 0.7730\n",
      "Epoch 154/200\n",
      "36/36 [==============================] - 0s 910us/step - loss: 0.4487 - recall: 0.7845\n",
      "Epoch 155/200\n",
      "36/36 [==============================] - 0s 854us/step - loss: 0.4460 - recall: 0.7823\n",
      "Epoch 156/200\n",
      "36/36 [==============================] - 0s 944us/step - loss: 0.4486 - recall: 0.7676\n",
      "Epoch 157/200\n",
      "36/36 [==============================] - 0s 957us/step - loss: 0.4491 - recall: 0.7807\n",
      "Epoch 158/200\n",
      "36/36 [==============================] - 0s 1ms/step - loss: 0.4464 - recall: 0.7796\n",
      "Epoch 159/200\n",
      "36/36 [==============================] - 0s 922us/step - loss: 0.4469 - recall: 0.7878\n",
      "Epoch 160/200\n",
      "36/36 [==============================] - 0s 1ms/step - loss: 0.4489 - recall: 0.7703\n",
      "Epoch 161/200\n",
      "36/36 [==============================] - 0s 973us/step - loss: 0.4452 - recall: 0.7780\n",
      "Epoch 162/200\n",
      "36/36 [==============================] - 0s 800us/step - loss: 0.4459 - recall: 0.7752\n",
      "Epoch 163/200\n",
      "36/36 [==============================] - 0s 1ms/step - loss: 0.4460 - recall: 0.7791\n",
      "Epoch 164/200\n",
      "36/36 [==============================] - 0s 1ms/step - loss: 0.4469 - recall: 0.7780\n",
      "Epoch 165/200\n",
      "36/36 [==============================] - 0s 643us/step - loss: 0.4464 - recall: 0.7643\n",
      "Epoch 166/200\n",
      "36/36 [==============================] - 0s 1ms/step - loss: 0.4485 - recall: 0.7840\n",
      "Epoch 167/200\n",
      "36/36 [==============================] - 0s 992us/step - loss: 0.4468 - recall: 0.7801\n",
      "Epoch 168/200\n",
      "36/36 [==============================] - 0s 769us/step - loss: 0.4446 - recall: 0.7681\n",
      "Epoch 169/200\n",
      "36/36 [==============================] - 0s 886us/step - loss: 0.4473 - recall: 0.7709\n",
      "Epoch 170/200\n",
      "36/36 [==============================] - 0s 593us/step - loss: 0.4455 - recall: 0.7736\n",
      "Epoch 171/200\n",
      "36/36 [==============================] - 0s 803us/step - loss: 0.4451 - recall: 0.7812\n",
      "Epoch 172/200\n",
      "36/36 [==============================] - 0s 888us/step - loss: 0.4475 - recall: 0.7752\n",
      "Epoch 173/200\n",
      "36/36 [==============================] - 0s 800us/step - loss: 0.4451 - recall: 0.7714\n",
      "Epoch 174/200\n",
      "36/36 [==============================] - 0s 1ms/step - loss: 0.4449 - recall: 0.7780\n",
      "Epoch 175/200\n",
      "36/36 [==============================] - 0s 800us/step - loss: 0.4458 - recall: 0.7791\n",
      "Epoch 176/200\n",
      "36/36 [==============================] - 0s 720us/step - loss: 0.4491 - recall: 0.7736\n",
      "Epoch 177/200\n",
      "36/36 [==============================] - 0s 857us/step - loss: 0.4456 - recall: 0.7736\n",
      "Epoch 178/200\n",
      "36/36 [==============================] - 0s 771us/step - loss: 0.4488 - recall: 0.7720\n",
      "Epoch 179/200\n",
      "36/36 [==============================] - 0s 1ms/step - loss: 0.4471 - recall: 0.7747\n",
      "Epoch 180/200\n",
      "36/36 [==============================] - 0s 801us/step - loss: 0.4448 - recall: 0.7829\n",
      "Epoch 181/200\n",
      "36/36 [==============================] - 0s 1000us/step - loss: 0.4420 - recall: 0.7747\n",
      "Epoch 182/200\n",
      "36/36 [==============================] - 0s 974us/step - loss: 0.4466 - recall: 0.7660\n",
      "Epoch 183/200\n",
      "36/36 [==============================] - 0s 1ms/step - loss: 0.4439 - recall: 0.7845\n",
      "Epoch 184/200\n",
      "36/36 [==============================] - 0s 831us/step - loss: 0.4442 - recall: 0.7769\n",
      "Epoch 185/200\n",
      "36/36 [==============================] - 0s 971us/step - loss: 0.4465 - recall: 0.7791\n",
      "Epoch 186/200\n",
      "36/36 [==============================] - 0s 831us/step - loss: 0.4448 - recall: 0.7861\n",
      "Epoch 187/200\n",
      "36/36 [==============================] - 0s 943us/step - loss: 0.4435 - recall: 0.7785\n",
      "Epoch 188/200\n",
      "36/36 [==============================] - 0s 831us/step - loss: 0.4468 - recall: 0.7632\n",
      "Epoch 189/200\n",
      "36/36 [==============================] - 0s 774us/step - loss: 0.4431 - recall: 0.7812\n",
      "Epoch 190/200\n",
      "36/36 [==============================] - 0s 1000us/step - loss: 0.4449 - recall: 0.7709\n",
      "Epoch 191/200\n",
      "36/36 [==============================] - 0s 830us/step - loss: 0.4442 - recall: 0.7752\n",
      "Epoch 192/200\n",
      "36/36 [==============================] - 0s 971us/step - loss: 0.4458 - recall: 0.7747\n",
      "Epoch 193/200\n",
      "36/36 [==============================] - 0s 831us/step - loss: 0.4430 - recall: 0.7736\n",
      "Epoch 194/200\n",
      "36/36 [==============================] - 0s 771us/step - loss: 0.4435 - recall: 0.7769\n",
      "Epoch 195/200\n",
      "36/36 [==============================] - 0s 1ms/step - loss: 0.4432 - recall: 0.7747\n",
      "Epoch 196/200\n",
      "36/36 [==============================] - 0s 955us/step - loss: 0.4452 - recall: 0.7801\n",
      "Epoch 197/200\n",
      "36/36 [==============================] - 0s 1ms/step - loss: 0.4455 - recall: 0.7791\n",
      "Epoch 198/200\n",
      "36/36 [==============================] - 0s 945us/step - loss: 0.4465 - recall: 0.7692\n",
      "Epoch 199/200\n",
      "36/36 [==============================] - 0s 888us/step - loss: 0.4443 - recall: 0.7681\n",
      "Epoch 200/200\n",
      "36/36 [==============================] - 0s 985us/step - loss: 0.4438 - recall: 0.7785\n"
     ]
    }
   ],
   "source": [
    "tf.random.set_seed(seed)\n",
    "\n",
    "classifier = KerasClassifier(build_fn=build_classifier, epochs=200)\n",
    "parameters = {\n",
    "    'batch_size': [128, 256],\n",
    "    'optimizer': [Adam, RMSprop, Nadam, Adadelta, SGD],\n",
    "    'learn_rate': [0.001, 0.003, 0.005]\n",
    "}\n",
    "grid_model = GridSearchCV(estimator=classifier,\n",
    "                          param_grid=parameters,\n",
    "                          scoring='recall',\n",
    "                          cv=5,\n",
    "                          n_jobs=-1,\n",
    "                          verbose=0).fit(X_train,\n",
    "                                         y_train,\n",
    "                                         class_weight=class_weights)"
   ]
  },
  {
   "cell_type": "code",
   "execution_count": 67,
   "metadata": {},
   "outputs": [
    {
     "data": {
      "text/plain": [
       "0.7624860821994371"
      ]
     },
     "execution_count": 67,
     "metadata": {},
     "output_type": "execute_result"
    }
   ],
   "source": [
    "grid_model.best_score_"
   ]
  },
  {
   "cell_type": "code",
   "execution_count": 68,
   "metadata": {},
   "outputs": [
    {
     "data": {
      "text/plain": [
       "{'batch_size': 256,\n",
       " 'learn_rate': 0.003,\n",
       " 'optimizer': keras.optimizer_v2.adam.Adam}"
      ]
     },
     "execution_count": 68,
     "metadata": {},
     "output_type": "execute_result"
    }
   ],
   "source": [
    "grid_model.best_params_"
   ]
  },
  {
   "cell_type": "code",
   "execution_count": 70,
   "metadata": {},
   "outputs": [
    {
     "name": "stdout",
     "output_type": "stream",
     "text": [
      "[[612 184]\n",
      " [ 40 164]]\n",
      "              precision    recall  f1-score   support\n",
      "\n",
      "           0       0.94      0.77      0.85       796\n",
      "           1       0.47      0.80      0.59       204\n",
      "\n",
      "    accuracy                           0.78      1000\n",
      "   macro avg       0.70      0.79      0.72      1000\n",
      "weighted avg       0.84      0.78      0.79      1000\n",
      "\n"
     ]
    }
   ],
   "source": [
    "y_pred = grid_model.predict(X_test)\n",
    "print(confusion_matrix(y_test, y_pred))\n",
    "print(classification_report(y_test, y_pred))\n",
    "\n",
    "#               precision    recall  f1-score   support\n",
    "\n",
    "#           0       0.93      0.73      0.82       796\n",
    "#           1       0.43      0.78      0.55       204"
   ]
  },
  {
   "cell_type": "markdown",
   "metadata": {},
   "source": [
    "### ROC (Receiver Operating Curve) and AUC (Area Under Curve) for grid_model"
   ]
  },
  {
   "cell_type": "code",
   "execution_count": 71,
   "metadata": {
    "cell_style": "split",
    "scrolled": false
   },
   "outputs": [
    {
     "data": {
      "image/png": "[encoded data removed]",
      "text/plain": [
       "<Figure size 864x432 with 1 Axes>"
      ]
     },
     "metadata": {},
     "output_type": "display_data"
    }
   ],
   "source": [
    "y_pred_proba = grid_model.predict(X_test)\n",
    "precisions, recalls, thresholds = precision_recall_curve(y_test, y_pred_proba)\n",
    "plt.plot(recalls, precisions, label='ANN')\n",
    "plt.xlabel('recalls')\n",
    "plt.ylabel('precisions')\n",
    "plt.title('Precision-Recall curve')\n",
    "plt.show()"
   ]
  },
  {
   "cell_type": "code",
   "execution_count": 72,
   "metadata": {
    "cell_style": "split",
    "scrolled": true
   },
   "outputs": [
    {
     "data": {
      "text/plain": [
       "0.41885958981293664"
      ]
     },
     "execution_count": 72,
     "metadata": {},
     "output_type": "execute_result"
    }
   ],
   "source": [
    "average_precision_score(y_test, y_pred_proba)"
   ]
  },
  {
   "cell_type": "markdown",
   "metadata": {},
   "source": [
    "## Final Model and Model Deployment"
   ]
  },
  {
   "cell_type": "code",
   "execution_count": 74,
   "metadata": {},
   "outputs": [],
   "source": [
    "import pickle\n",
    "\n",
    "pickle.dump(scaler, open(\"scaler_churn\", 'wb'))"
   ]
  },
  {
   "cell_type": "code",
   "execution_count": 75,
   "metadata": {},
   "outputs": [
    {
     "name": "stdout",
     "output_type": "stream",
     "text": [
      "Epoch 1/200\n",
      "36/36 [==============================] - 0s 4ms/step - loss: 0.6699 - recall: 0.5199 - val_loss: 0.6230 - val_recall: 0.5343\n",
      "Epoch 2/200\n",
      "36/36 [==============================] - 0s 1ms/step - loss: 0.6260 - recall: 0.6601 - val_loss: 0.6447 - val_recall: 0.6765\n",
      "Epoch 3/200\n",
      "36/36 [==============================] - 0s 1ms/step - loss: 0.6045 - recall: 0.6727 - val_loss: 0.6313 - val_recall: 0.6912\n",
      "Epoch 4/200\n",
      "36/36 [==============================] - 0s 1ms/step - loss: 0.5894 - recall: 0.6841 - val_loss: 0.5945 - val_recall: 0.6716\n",
      "Epoch 5/200\n",
      "36/36 [==============================] - 0s 1ms/step - loss: 0.5769 - recall: 0.7098 - val_loss: 0.5562 - val_recall: 0.6373\n",
      "Epoch 6/200\n",
      "36/36 [==============================] - 0s 1ms/step - loss: 0.5649 - recall: 0.7005 - val_loss: 0.6446 - val_recall: 0.7794\n",
      "Epoch 7/200\n",
      "36/36 [==============================] - 0s 848us/step - loss: 0.5547 - recall: 0.7038 - val_loss: 0.5408 - val_recall: 0.7010\n",
      "Epoch 8/200\n",
      "36/36 [==============================] - 0s 1ms/step - loss: 0.5373 - recall: 0.7218 - val_loss: 0.5569 - val_recall: 0.7451\n",
      "Epoch 9/200\n",
      "36/36 [==============================] - 0s 1ms/step - loss: 0.5245 - recall: 0.7480 - val_loss: 0.6166 - val_recall: 0.8137\n",
      "Epoch 10/200\n",
      "36/36 [==============================] - 0s 1ms/step - loss: 0.5182 - recall: 0.7436 - val_loss: 0.5482 - val_recall: 0.7794\n",
      "Epoch 11/200\n",
      "36/36 [==============================] - 0s 1ms/step - loss: 0.5086 - recall: 0.7512 - val_loss: 0.4727 - val_recall: 0.6814\n",
      "Epoch 12/200\n",
      "36/36 [==============================] - 0s 1ms/step - loss: 0.5018 - recall: 0.7550 - val_loss: 0.5353 - val_recall: 0.7843\n",
      "Epoch 13/200\n",
      "36/36 [==============================] - 0s 1ms/step - loss: 0.4920 - recall: 0.7534 - val_loss: 0.4898 - val_recall: 0.7402\n",
      "Epoch 14/200\n",
      "36/36 [==============================] - 0s 1ms/step - loss: 0.4872 - recall: 0.7578 - val_loss: 0.5281 - val_recall: 0.7598\n",
      "Epoch 15/200\n",
      "36/36 [==============================] - 0s 1ms/step - loss: 0.4882 - recall: 0.7654 - val_loss: 0.4569 - val_recall: 0.7108\n",
      "Epoch 16/200\n",
      "36/36 [==============================] - 0s 1ms/step - loss: 0.4868 - recall: 0.7529 - val_loss: 0.5141 - val_recall: 0.7745\n",
      "Epoch 17/200\n",
      "36/36 [==============================] - 0s 1ms/step - loss: 0.4845 - recall: 0.7627 - val_loss: 0.4195 - val_recall: 0.6520\n",
      "Epoch 18/200\n",
      "36/36 [==============================] - 0s 1ms/step - loss: 0.4834 - recall: 0.7621 - val_loss: 0.5303 - val_recall: 0.7941\n",
      "Epoch 19/200\n",
      "36/36 [==============================] - 0s 1ms/step - loss: 0.4784 - recall: 0.7616 - val_loss: 0.5181 - val_recall: 0.7892\n",
      "Epoch 20/200\n",
      "36/36 [==============================] - 0s 1ms/step - loss: 0.4779 - recall: 0.7621 - val_loss: 0.5126 - val_recall: 0.7647\n",
      "Epoch 21/200\n",
      "36/36 [==============================] - 0s 961us/step - loss: 0.4739 - recall: 0.7665 - val_loss: 0.4691 - val_recall: 0.7353\n",
      "Epoch 22/200\n",
      "36/36 [==============================] - 0s 842us/step - loss: 0.4747 - recall: 0.7583 - val_loss: 0.4842 - val_recall: 0.7451\n",
      "Epoch 23/200\n",
      "36/36 [==============================] - 0s 1ms/step - loss: 0.4713 - recall: 0.7720 - val_loss: 0.4244 - val_recall: 0.6520\n",
      "Epoch 24/200\n",
      "36/36 [==============================] - 0s 1ms/step - loss: 0.4752 - recall: 0.7572 - val_loss: 0.5082 - val_recall: 0.7794\n",
      "Epoch 25/200\n",
      "36/36 [==============================] - 0s 852us/step - loss: 0.4688 - recall: 0.7594 - val_loss: 0.4248 - val_recall: 0.6863\n",
      "Epoch 26/200\n",
      "36/36 [==============================] - 0s 1ms/step - loss: 0.4693 - recall: 0.7643 - val_loss: 0.4203 - val_recall: 0.6667\n",
      "Epoch 27/200\n",
      "36/36 [==============================] - 0s 1ms/step - loss: 0.4705 - recall: 0.7610 - val_loss: 0.5208 - val_recall: 0.7892\n",
      "Epoch 28/200\n",
      "36/36 [==============================] - 0s 1ms/step - loss: 0.4686 - recall: 0.7600 - val_loss: 0.4343 - val_recall: 0.6961\n",
      "Epoch 29/200\n",
      "36/36 [==============================] - 0s 1ms/step - loss: 0.4673 - recall: 0.7512 - val_loss: 0.4869 - val_recall: 0.7647\n",
      "Epoch 30/200\n",
      "36/36 [==============================] - 0s 943us/step - loss: 0.4644 - recall: 0.7594 - val_loss: 0.4574 - val_recall: 0.7500\n",
      "Epoch 31/200\n",
      "36/36 [==============================] - 0s 915us/step - loss: 0.4662 - recall: 0.7670 - val_loss: 0.4103 - val_recall: 0.6569\n",
      "Epoch 32/200\n",
      "36/36 [==============================] - 0s 1ms/step - loss: 0.4699 - recall: 0.7703 - val_loss: 0.4317 - val_recall: 0.7059\n",
      "Epoch 33/200\n",
      "36/36 [==============================] - 0s 832us/step - loss: 0.4683 - recall: 0.7616 - val_loss: 0.4403 - val_recall: 0.7304\n",
      "Epoch 34/200\n",
      "36/36 [==============================] - 0s 901us/step - loss: 0.4669 - recall: 0.7676 - val_loss: 0.5005 - val_recall: 0.7843\n",
      "Epoch 35/200\n",
      "36/36 [==============================] - 0s 1ms/step - loss: 0.4613 - recall: 0.7616 - val_loss: 0.5395 - val_recall: 0.8284\n",
      "Epoch 36/200\n",
      "36/36 [==============================] - 0s 844us/step - loss: 0.4629 - recall: 0.7692 - val_loss: 0.5105 - val_recall: 0.8088\n",
      "Epoch 37/200\n",
      "36/36 [==============================] - 0s 931us/step - loss: 0.4603 - recall: 0.7567 - val_loss: 0.4699 - val_recall: 0.7794\n",
      "Epoch 38/200\n",
      "36/36 [==============================] - 0s 1ms/step - loss: 0.4593 - recall: 0.7643 - val_loss: 0.4134 - val_recall: 0.6618\n",
      "Epoch 39/200\n",
      "36/36 [==============================] - 0s 1ms/step - loss: 0.4581 - recall: 0.7714 - val_loss: 0.4038 - val_recall: 0.6471\n",
      "Epoch 40/200\n",
      "36/36 [==============================] - 0s 1ms/step - loss: 0.4651 - recall: 0.7485 - val_loss: 0.5521 - val_recall: 0.8431\n",
      "Epoch 41/200\n",
      "36/36 [==============================] - 0s 1ms/step - loss: 0.4590 - recall: 0.7660 - val_loss: 0.5036 - val_recall: 0.8137\n",
      "Epoch 42/200\n",
      "36/36 [==============================] - 0s 886us/step - loss: 0.4584 - recall: 0.7692 - val_loss: 0.4684 - val_recall: 0.7794\n",
      "Epoch 43/200\n",
      "36/36 [==============================] - 0s 1ms/step - loss: 0.4573 - recall: 0.7616 - val_loss: 0.4864 - val_recall: 0.8088\n",
      "Epoch 44/200\n",
      "36/36 [==============================] - 0s 1ms/step - loss: 0.4584 - recall: 0.7687 - val_loss: 0.4453 - val_recall: 0.7451\n",
      "Epoch 45/200\n",
      "36/36 [==============================] - 0s 849us/step - loss: 0.4571 - recall: 0.7709 - val_loss: 0.5247 - val_recall: 0.8235\n",
      "Epoch 46/200\n",
      "36/36 [==============================] - 0s 944us/step - loss: 0.4594 - recall: 0.7665 - val_loss: 0.4500 - val_recall: 0.7745\n",
      "Epoch 47/200\n",
      "36/36 [==============================] - 0s 1ms/step - loss: 0.4565 - recall: 0.7676 - val_loss: 0.4746 - val_recall: 0.7745\n",
      "Epoch 48/200\n",
      "36/36 [==============================] - 0s 872us/step - loss: 0.4553 - recall: 0.7600 - val_loss: 0.4354 - val_recall: 0.7353\n",
      "Epoch 49/200\n",
      "36/36 [==============================] - 0s 947us/step - loss: 0.4560 - recall: 0.7605 - val_loss: 0.4260 - val_recall: 0.7304\n",
      "Epoch 50/200\n",
      "36/36 [==============================] - 0s 1ms/step - loss: 0.4542 - recall: 0.7698 - val_loss: 0.4619 - val_recall: 0.7745\n",
      "Epoch 51/200\n",
      "36/36 [==============================] - 0s 1ms/step - loss: 0.4548 - recall: 0.7621 - val_loss: 0.4733 - val_recall: 0.7794\n",
      "Epoch 52/200\n",
      "36/36 [==============================] - 0s 1ms/step - loss: 0.4555 - recall: 0.7583 - val_loss: 0.4716 - val_recall: 0.7794\n",
      "Epoch 53/200\n",
      "36/36 [==============================] - 0s 1ms/step - loss: 0.4531 - recall: 0.7676 - val_loss: 0.4504 - val_recall: 0.7598\n",
      "Epoch 54/200\n",
      "36/36 [==============================] - 0s 2ms/step - loss: 0.4548 - recall: 0.7720 - val_loss: 0.5522 - val_recall: 0.8333\n",
      "Epoch 54: early stopping\n"
     ]
    },
    {
     "data": {
      "text/plain": [
       "<keras.callbacks.History at 0x1dc383b3f10>"
      ]
     },
     "execution_count": 75,
     "metadata": {},
     "output_type": "execute_result"
    }
   ],
   "source": [
    "tf.random.set_seed(seed)\n",
    "\n",
    "model = Sequential()\n",
    "\n",
    "model.add(Dense(16, activation=\"relu\"))\n",
    "model.add(Dense(8, activation=\"relu\"))\n",
    "model.add(Dense(1, activation=\"sigmoid\"))\n",
    "\n",
    "opt = Adam(lr=0.003)\n",
    "\n",
    "model.compile(optimizer=opt,\n",
    "              loss=\"binary_crossentropy\",\n",
    "              metrics=[\"Recall\"])\n",
    "\n",
    "model.fit(x=X_train,\n",
    "          y=y_train,\n",
    "          validation_data=(X_test, y_test), \n",
    "          callbacks=[early_stop],\n",
    "          batch_size=256,\n",
    "          epochs=200,\n",
    "          verbose=1,\n",
    "          class_weight=class_weights)    \n",
    "# {'batch_size': 256,'learn_rate': 0.003,'optimizer': keras.optimizer_v2.adam.Adam}\n",
    "# pay attention!! validation data "
   ]
  },
  {
   "cell_type": "code",
   "execution_count": 76,
   "metadata": {
    "cell_style": "split",
    "executionInfo": {
     "elapsed": 809,
     "status": "ok",
     "timestamp": 1610205470123,
     "user": {
      "displayName": "Richard C",
      "photoUrl": "",
      "userId": "08040814671867660929"
     },
     "user_tz": -180
    },
    "id": "vQIbjGQduQpQ"
   },
   "outputs": [
    {
     "data": {
      "text/plain": [
       "<AxesSubplot:>"
      ]
     },
     "execution_count": 76,
     "metadata": {},
     "output_type": "execute_result"
    },
    {
     "data": {
      "image/png": "[encoded data removed]",
      "text/plain": [
       "<Figure size 864x432 with 1 Axes>"
      ]
     },
     "metadata": {},
     "output_type": "display_data"
    }
   ],
   "source": [
    "loss_df = pd.DataFrame(model.history.history)\n",
    "loss_df.plot()"
   ]
  },
  {
   "cell_type": "code",
   "execution_count": 77,
   "metadata": {},
   "outputs": [
    {
     "name": "stdout",
     "output_type": "stream",
     "text": [
      "loss :  0.5522099733352661\n",
      "recall :  0.8333333134651184\n"
     ]
    }
   ],
   "source": [
    "loss, recall = model.evaluate(X_test, y_test, verbose=0)\n",
    "print(\"loss : \", loss)\n",
    "print(\"recall : \", recall)"
   ]
  },
  {
   "cell_type": "code",
   "execution_count": 78,
   "metadata": {},
   "outputs": [
    {
     "name": "stdout",
     "output_type": "stream",
     "text": [
      "[[547 249]\n",
      " [ 34 170]]\n",
      "              precision    recall  f1-score   support\n",
      "\n",
      "           0       0.94      0.69      0.79       796\n",
      "           1       0.41      0.83      0.55       204\n",
      "\n",
      "    accuracy                           0.72      1000\n",
      "   macro avg       0.67      0.76      0.67      1000\n",
      "weighted avg       0.83      0.72      0.74      1000\n",
      "\n"
     ]
    }
   ],
   "source": [
    "y_pred = (model.predict(X_test) > 0.5).astype(\"int32\")\n",
    "print(confusion_matrix(y_test, y_pred))\n",
    "print(classification_report(y_test, y_pred))"
   ]
  },
  {
   "cell_type": "code",
   "execution_count": 79,
   "metadata": {},
   "outputs": [],
   "source": [
    "model.save('model_churn.h5')"
   ]
  },
  {
   "cell_type": "markdown",
   "metadata": {
    "id": "Cq10ovAX6daY"
   },
   "source": [
    "### Prediction"
   ]
  },
  {
   "cell_type": "code",
   "execution_count": 88,
   "metadata": {},
   "outputs": [
    {
     "data": {
      "text/plain": [
       "CreditScore            619.000\n",
       "Age                     42.000\n",
       "Tenure                   2.000\n",
       "Balance                  0.000\n",
       "NumOfProducts            1.000\n",
       "HasCrCard                1.000\n",
       "IsActiveMember           1.000\n",
       "EstimatedSalary     101348.880\n",
       "Geography_Germany        0.000\n",
       "Geography_Spain          0.000\n",
       "Gender_Male              0.000\n",
       "Name: 1, dtype: float64"
      ]
     },
     "execution_count": 88,
     "metadata": {},
     "output_type": "execute_result"
    }
   ],
   "source": [
    "single_customer = df.drop('Exited', axis=1).iloc[0]\n",
    "single_customer"
   ]
  },
  {
   "cell_type": "code",
   "execution_count": 89,
   "metadata": {},
   "outputs": [
    {
     "data": {
      "text/plain": [
       "array([[0.538     , 0.32432432, 0.2       , 0.        , 0.        ,\n",
       "        1.        , 1.        , 0.50673489, 0.        , 0.        ,\n",
       "        0.        ]])"
      ]
     },
     "execution_count": 89,
     "metadata": {},
     "output_type": "execute_result"
    }
   ],
   "source": [
    "single_customer = scaler.transform(single_customer.values.reshape(-1, 11))\n",
    "single_customer"
   ]
  },
  {
   "cell_type": "code",
   "execution_count": 90,
   "metadata": {},
   "outputs": [
    {
     "data": {
      "text/plain": [
       "array([[1]])"
      ]
     },
     "execution_count": 90,
     "metadata": {},
     "output_type": "execute_result"
    }
   ],
   "source": [
    "y_pred =(model.predict(single_customer) > 0.5).astype(\"int32\")\n",
    "y_pred"
   ]
  },
  {
   "cell_type": "code",
   "execution_count": 91,
   "metadata": {},
   "outputs": [
    {
     "data": {
      "text/plain": [
       "1"
      ]
     },
     "execution_count": 91,
     "metadata": {},
     "output_type": "execute_result"
    }
   ],
   "source": [
    "df[\"Exited\"].iloc[0]"
   ]
  },
  {
   "cell_type": "markdown",
   "metadata": {},
   "source": [
    "## Comparison with ML"
   ]
  },
  {
   "cell_type": "markdown",
   "metadata": {},
   "source": [
    "### Logistic Regression"
   ]
  },
  {
   "cell_type": "code",
   "execution_count": 92,
   "metadata": {},
   "outputs": [],
   "source": [
    "from sklearn.linear_model import LogisticRegression"
   ]
  },
  {
   "cell_type": "code",
   "execution_count": 93,
   "metadata": {},
   "outputs": [
    {
     "name": "stdout",
     "output_type": "stream",
     "text": [
      "[[558 238]\n",
      " [ 67 137]]\n",
      "              precision    recall  f1-score   support\n",
      "\n",
      "           0       0.89      0.70      0.79       796\n",
      "           1       0.37      0.67      0.47       204\n",
      "\n",
      "    accuracy                           0.69      1000\n",
      "   macro avg       0.63      0.69      0.63      1000\n",
      "weighted avg       0.79      0.69      0.72      1000\n",
      "\n"
     ]
    }
   ],
   "source": [
    "log_model=LogisticRegression(class_weight='balanced')\n",
    "log_model.fit(X_train, y_train)\n",
    "y_pred = log_model.predict(X_test)\n",
    "print(confusion_matrix(y_test, y_pred))\n",
    "print(classification_report(y_test, y_pred))"
   ]
  },
  {
   "cell_type": "markdown",
   "metadata": {},
   "source": [
    "### Random Forest"
   ]
  },
  {
   "cell_type": "code",
   "execution_count": 94,
   "metadata": {},
   "outputs": [],
   "source": [
    "from sklearn.ensemble import RandomForestClassifier\n"
   ]
  },
  {
   "cell_type": "code",
   "execution_count": 95,
   "metadata": {},
   "outputs": [
    {
     "name": "stdout",
     "output_type": "stream",
     "text": [
      "[[763  33]\n",
      " [122  82]]\n",
      "              precision    recall  f1-score   support\n",
      "\n",
      "           0       0.86      0.96      0.91       796\n",
      "           1       0.71      0.40      0.51       204\n",
      "\n",
      "    accuracy                           0.84      1000\n",
      "   macro avg       0.79      0.68      0.71      1000\n",
      "weighted avg       0.83      0.84      0.83      1000\n",
      "\n"
     ]
    }
   ],
   "source": [
    "rf_model = RandomForestClassifier(class_weight='balanced')\n",
    "rf_model.fit(X_train, y_train)\n",
    "y_pred = rf_model.predict(X_test)\n",
    "print(confusion_matrix(y_test, y_pred))\n",
    "print(classification_report(y_test, y_pred))"
   ]
  },
  {
   "cell_type": "markdown",
   "metadata": {},
   "source": [
    "<p style=\"text-align: center;\"><img src=\"https://docs.google.com/uc?id=1lY0Uj5R04yMY3-ZppPWxqCr5pvBLYPnV\" class=\"img-fluid\" alt=\"CLRSWY\"></p>\n",
    "\n",
    "___"
   ]
  }
 ],
 "metadata": {
  "colab": {
   "authorship_tag": "ABX9TyPKBWWuNpSuP7DHsa+Zpo3l",
   "collapsed_sections": [],
   "name": "Untitled0.ipynb",
   "provenance": []
  },
  "hide_input": false,
  "interpreter": {
   "hash": "e4e90950cb561445fc7289d5187c528b28750a487d008a70b474c773afaf79b7"
  },
  "kernelspec": {
   "display_name": "Python 3 (ipykernel)",
   "language": "python",
   "name": "python3"
  },
  "language_info": {
   "codemirror_mode": {
    "name": "ipython",
    "version": 3
   },
   "file_extension": ".py",
   "mimetype": "text/x-python",
   "name": "python",
   "nbconvert_exporter": "python",
   "pygments_lexer": "ipython3",
   "version": "3.9.7"
  },
  "varInspector": {
   "cols": {
    "lenName": 16,
    "lenType": 16,
    "lenVar": 40
   },
   "kernels_config": {
    "python": {
     "delete_cmd_postfix": "",
     "delete_cmd_prefix": "del ",
     "library": "var_list.py",
     "varRefreshCmd": "print(var_dic_list())"
    },
    "r": {
     "delete_cmd_postfix": ") ",
     "delete_cmd_prefix": "rm(",
     "library": "var_list.r",
     "varRefreshCmd": "cat(var_dic_list()) "
    }
   },
   "types_to_exclude": [
    "module",
    "function",
    "builtin_function_or_method",
    "instance",
    "_Feature"
   ],
   "window_display": false
  }
 },
 "nbformat": 4,
 "nbformat_minor": 4
}
